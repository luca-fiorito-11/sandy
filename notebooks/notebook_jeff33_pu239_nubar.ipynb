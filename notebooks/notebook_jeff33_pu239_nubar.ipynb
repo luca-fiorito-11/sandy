{
 "cells": [
  {
   "cell_type": "markdown",
   "metadata": {},
   "source": [
    "# Analyzing inconsistencies in the JEFF-4.0T0 plutonium-237 evaluation"
   ]
  },
  {
   "cell_type": "code",
   "execution_count": null,
   "metadata": {
    "execution": {
     "iopub.execute_input": "2023-08-09T15:08:04.904338Z",
     "iopub.status.busy": "2023-08-09T15:08:04.903346Z",
     "iopub.status.idle": "2023-08-09T15:08:06.934670Z",
     "shell.execute_reply": "2023-08-09T15:08:06.933678Z"
    }
   },
   "outputs": [],
   "source": [
    "import sandy"
   ]
  },
  {
   "cell_type": "code",
   "execution_count": null,
   "metadata": {
    "execution": {
     "iopub.execute_input": "2023-08-09T15:08:06.938701Z",
     "iopub.status.busy": "2023-08-09T15:08:06.937667Z",
     "iopub.status.idle": "2023-08-09T15:08:08.684280Z",
     "shell.execute_reply": "2023-08-09T15:08:08.684280Z"
    }
   },
   "outputs": [],
   "source": [
    "import pandas as pd\n",
    "import matplotlib.pyplot as plt\n",
    "import seaborn as sns\n",
    "\n",
    "sns.set_style(\"whitegrid\")"
   ]
  },
  {
   "cell_type": "markdown",
   "metadata": {},
   "source": [
    "The JEFF-4.0T0 evaluation for Pu-237 is taken from the OECD/NEA website."
   ]
  },
  {
   "cell_type": "code",
   "execution_count": null,
   "metadata": {
    "execution": {
     "iopub.execute_input": "2023-08-09T15:08:08.684280Z",
     "iopub.status.busy": "2023-08-09T15:08:08.684280Z",
     "iopub.status.idle": "2023-08-09T15:08:09.303847Z",
     "shell.execute_reply": "2023-08-09T15:08:09.303847Z"
    }
   },
   "outputs": [],
   "source": [
    "tape = sandy.get_endf6_file(\"jeff_33\", \"xs\", 942390)"
   ]
  },
  {
   "cell_type": "code",
   "execution_count": null,
   "metadata": {
    "execution": {
     "iopub.execute_input": "2023-08-09T15:08:09.303847Z",
     "iopub.status.busy": "2023-08-09T15:08:09.303847Z",
     "iopub.status.idle": "2023-08-09T15:08:09.371637Z",
     "shell.execute_reply": "2023-08-09T15:08:09.371637Z"
    }
   },
   "outputs": [],
   "source": [
    "mf5455 = tape.read_section(tape.mat[0], 5, 455)\n",
    "len(mf5455[\"PDISTR\"])"
   ]
  },
  {
   "cell_type": "code",
   "execution_count": null,
   "metadata": {
    "execution": {
     "iopub.execute_input": "2023-08-09T15:08:09.371637Z",
     "iopub.status.busy": "2023-08-09T15:08:09.371637Z",
     "iopub.status.idle": "2023-08-09T15:08:09.402892Z",
     "shell.execute_reply": "2023-08-09T15:08:09.402892Z"
    }
   },
   "outputs": [],
   "source": [
    "dfs = []\n",
    "ein = 30000000.0\n",
    "for group, v in mf5455[\"PDISTR\"].items():\n",
    "    x = v[\"EIN\"][ein]\n",
    "    series = pd.Series(x[\"EDISTR\"], index=x[\"EOUT\"], name=group + 1)\n",
    "    series.index.name = \"EOUT\"\n",
    "    dfs.append(series)\n",
    "data = pd.DataFrame(dfs).T\n",
    "data.columns.name = \"GROUP\"\n",
    "data = data.stack().rename(\"VAL\").reset_index()\n",
    "data[\"GROUP\"] = data[\"GROUP\"].astype(\"category\")"
   ]
  },
  {
   "cell_type": "code",
   "execution_count": null,
   "metadata": {
    "execution": {
     "iopub.execute_input": "2023-08-09T15:08:09.402892Z",
     "iopub.status.busy": "2023-08-09T15:08:09.402892Z",
     "iopub.status.idle": "2023-08-09T15:08:11.063403Z",
     "shell.execute_reply": "2023-08-09T15:08:11.063403Z"
    }
   },
   "outputs": [],
   "source": [
    "fig, ax = plt.subplots(figsize=(7, 3.5), dpi=100)\n",
    "\n",
    "sns.lineplot(data=data, x=\"EOUT\", y=\"VAL\", hue=\"GROUP\", ax=ax)\n",
    "\n",
    "ax.set_xscale(\"log\")\n",
    "ax.set_yscale(\"log\")\n",
    "ax.set_xlim([None, data.EOUT.max()])\n",
    "ax.set_ylim([1e-11, 1e-5])\n",
    "\n",
    "ax.legend(loc=3, title=\"precursor group\", ncol=3)\n",
    "\n",
    "fig.tight_layout();"
   ]
  },
  {
   "cell_type": "code",
   "execution_count": null,
   "metadata": {
    "execution": {
     "iopub.execute_input": "2023-08-09T15:08:11.063403Z",
     "iopub.status.busy": "2023-08-09T15:08:11.063403Z",
     "iopub.status.idle": "2023-08-09T15:08:11.298013Z",
     "shell.execute_reply": "2023-08-09T15:08:11.298013Z"
    }
   },
   "outputs": [],
   "source": [
    "mf518 = tape.read_section(tape.mat[0], 5, 18)"
   ]
  },
  {
   "cell_type": "code",
   "execution_count": null,
   "metadata": {
    "execution": {
     "iopub.execute_input": "2023-08-09T15:08:11.298013Z",
     "iopub.status.busy": "2023-08-09T15:08:11.298013Z",
     "iopub.status.idle": "2023-08-09T15:08:11.339052Z",
     "shell.execute_reply": "2023-08-09T15:08:11.339052Z"
    }
   },
   "outputs": [],
   "source": [
    "dfs = []\n",
    "for ein, x in mf518[\"PDISTR\"][0][\"EIN\"].items():\n",
    "    series = pd.Series(x[\"EDISTR\"], index=x[\"EOUT\"], name=ein)\n",
    "    series.index.name = \"EOUT\"\n",
    "    dfs.append(series)\n",
    "data = pd.DataFrame(dfs).T\n",
    "data.columns.name = \"EIN\"\n",
    "data = data.stack().rename(\"VAL\").reset_index()\n",
    "e = [1e3, 1e4, 1e5, 1e6, 2e6, 3e6, 8e6, 1e7]  # select only few energies\n",
    "data = data[data.EIN.isin(e)].reset_index(drop=True)\n",
    "data[\"EIN\"] = data[\"EIN\"].astype('category')"
   ]
  },
  {
   "cell_type": "code",
   "execution_count": null,
   "metadata": {
    "execution": {
     "iopub.execute_input": "2023-08-09T15:08:11.339052Z",
     "iopub.status.busy": "2023-08-09T15:08:11.339052Z",
     "iopub.status.idle": "2023-08-09T15:08:12.045576Z",
     "shell.execute_reply": "2023-08-09T15:08:12.045576Z"
    }
   },
   "outputs": [],
   "source": [
    "fig, ax = plt.subplots(figsize=(7, 3.5), dpi=100)\n",
    "\n",
    "sns.lineplot(data=data, x=\"EOUT\", y=\"VAL\", hue=\"EIN\", ax=ax)\n",
    "\n",
    "ax.set_xscale(\"log\")\n",
    "ax.set_xlim([data.EOUT.min(), data.EOUT.max()])\n",
    "ax.set_ylim([0, None])\n",
    "ax.set_xlabel(\"outgoing energy / $eV$\")\n",
    "ax.set_ylabel(\"spectrum\")\n",
    "ax.legend(title=\"incoming energy / $MeV$\", ncol=2)\n",
    "\n",
    "fig.tight_layout();"
   ]
  },
  {
   "cell_type": "code",
   "execution_count": null,
   "metadata": {
    "execution": {
     "iopub.execute_input": "2023-08-09T15:08:12.045576Z",
     "iopub.status.busy": "2023-08-09T15:08:12.045576Z",
     "iopub.status.idle": "2023-08-09T15:08:12.074494Z",
     "shell.execute_reply": "2023-08-09T15:08:12.074494Z"
    }
   },
   "outputs": [],
   "source": [
    "nuprompt = tape.read_section(tape.mat[0], 1, 456)\n",
    "nuprompt"
   ]
  },
  {
   "cell_type": "code",
   "execution_count": null,
   "metadata": {
    "execution": {
     "iopub.execute_input": "2023-08-09T15:08:12.074494Z",
     "iopub.status.busy": "2023-08-09T15:08:12.074494Z",
     "iopub.status.idle": "2023-08-09T15:08:12.124836Z",
     "shell.execute_reply": "2023-08-09T15:08:12.124836Z"
    }
   },
   "outputs": [],
   "source": [
    "nutot = tape.read_section(tape.mat[0], 1, 452)\n",
    "nuprompt = tape.read_section(tape.mat[0], 1, 456)\n",
    "nudel = tape.read_section(tape.mat[0], 1, 455)"
   ]
  },
  {
   "cell_type": "code",
   "execution_count": null,
   "metadata": {
    "execution": {
     "iopub.execute_input": "2023-08-09T15:08:12.124836Z",
     "iopub.status.busy": "2023-08-09T15:08:12.124836Z",
     "iopub.status.idle": "2023-08-09T15:08:12.866157Z",
     "shell.execute_reply": "2023-08-09T15:08:12.866157Z"
    }
   },
   "outputs": [],
   "source": [
    "fig, axs = plt.subplots(2, 1, figsize=(7, 3.5), dpi=100, sharex=True)\n",
    "\n",
    "ax = axs[0]\n",
    "pd.Series(nutot[\"NU\"], index=nutot[\"E\"]).plot(ax=ax, label=\"total\", color=\"black\")\n",
    "pd.Series(nuprompt[\"NU\"], index=nuprompt[\"E\"]).plot(ax=ax, label=\"prompt\", color=\"tomato\")\n",
    "ax.set_ylabel(\"nubar\")\n",
    "ax.legend()\n",
    "\n",
    "ax = axs[1]\n",
    "pd.Series(nudel[\"NU\"], index=nudel[\"E\"]).plot(ax=ax, label=\"delayed\", color=\"dodgerblue\")\n",
    "\n",
    "ax.set_xscale(\"log\")\n",
    "ax.set_xlim([1e-5, 3e7])\n",
    "ax.set_xlabel(\"neutron energy / $eV$\")\n",
    "ax.set_ylabel(\"nubar\")\n",
    "ax.legend()\n",
    "\n",
    "fig.tight_layout();"
   ]
  },
  {
   "cell_type": "code",
   "execution_count": null,
   "metadata": {
    "execution": {
     "iopub.execute_input": "2023-08-09T15:08:12.866157Z",
     "iopub.status.busy": "2023-08-09T15:08:12.866157Z",
     "iopub.status.idle": "2023-08-09T15:08:29.570310Z",
     "shell.execute_reply": "2023-08-09T15:08:29.569484Z"
    }
   },
   "outputs": [],
   "source": [
    "pendf = tape.get_pendf(err=0.1)\n",
    "xs = sandy.Xs.from_endf6(pendf)"
   ]
  },
  {
   "cell_type": "code",
   "execution_count": null,
   "metadata": {
    "execution": {
     "iopub.execute_input": "2023-08-09T15:08:29.574321Z",
     "iopub.status.busy": "2023-08-09T15:08:29.573322Z",
     "iopub.status.idle": "2023-08-09T15:08:30.480337Z",
     "shell.execute_reply": "2023-08-09T15:08:30.480337Z"
    }
   },
   "outputs": [],
   "source": [
    "fig, ax = plt.subplots(figsize=(7, 3.5), dpi=100)\n",
    "\n",
    "mat = pendf.mat[0]\n",
    "xs.data[[(mat, 2), (mat, 4), (mat, 18), (mat, 102)]].plot(ax=ax)\n",
    "\n",
    "ax.set_xscale(\"log\")\n",
    "ax.set_yscale(\"log\")\n",
    "ax.set_xlim([1e-5, 2e7])\n",
    "ax.set_ylim([1e-4, None])\n",
    "ax.set_xlabel(\"neutron energy / $eV$\")\n",
    "ax.set_ylabel(\"cross section / $b$\")\n",
    "\n",
    "fig.tight_layout();"
   ]
  }
 ],
 "metadata": {
  "kernelspec": {
   "display_name": "Python [conda env:sandy-v1.0] *",
   "language": "python",
   "name": "conda-env-sandy-v1.0-py"
  },
  "language_info": {
   "codemirror_mode": {
    "name": "ipython",
    "version": 3
   },
   "file_extension": ".py",
   "mimetype": "text/x-python",
   "name": "python",
   "nbconvert_exporter": "python",
   "pygments_lexer": "ipython3",
   "version": "3.11.3"
  }
 },
 "nbformat": 4,
 "nbformat_minor": 4
}
