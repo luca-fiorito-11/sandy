{
 "cells": [
  {
   "cell_type": "markdown",
   "id": "12bf291c",
   "metadata": {},
   "source": [
    "# MF32 TEST"
   ]
  },
  {
   "cell_type": "code",
   "execution_count": null,
   "id": "b59096da",
   "metadata": {},
   "outputs": [],
   "source": [
    "import sandy\n",
    "import matplotlib.pyplot as plt\n",
    "import pandas as pd \n",
    "import numpy as np\n",
    "import seaborn as sns\n",
    "import pdb "
   ]
  },
  {
   "cell_type": "code",
   "execution_count": null,
   "id": "c7740fe1",
   "metadata": {},
   "outputs": [],
   "source": [
    "def plot_corr(cov_obj, ax, **kwargs):\n",
    "    add = {\"cbar\": True, \"vmin\": -1, \"vmax\": 1, \"cmap\": \"RdBu\"}\n",
    "    for k, v in kwargs.items():\n",
    "        add[k] = v\n",
    "    ax = sns.heatmap(cov_obj.get_corr().data, ax=ax, **add)\n",
    "    return ax"
   ]
  },
  {
   "cell_type": "markdown",
   "id": "498b0137",
   "metadata": {},
   "source": [
    "due to a lack of mf32 files in nuclear data I couldn't find tests for all the situations. "
   ]
  },
  {
   "cell_type": "markdown",
   "id": "482a9fa3",
   "metadata": {},
   "source": [
    "### LCOMP = 0 "
   ]
  },
  {
   "cell_type": "code",
   "execution_count": null,
   "id": "8c1873df",
   "metadata": {},
   "outputs": [],
   "source": [
    "tape = sandy.get_endf6_file(\"jeff_33\", \"xs\", 952430) "
   ]
  },
  {
   "cell_type": "code",
   "execution_count": null,
   "id": "2a9db1a5",
   "metadata": {},
   "outputs": [],
   "source": [
    "dic = sandy.read_mf32(tape, 9549)"
   ]
  },
  {
   "cell_type": "markdown",
   "id": "a8ccc054",
   "metadata": {},
   "source": [
    "### LCOMP = 1 LRF = 2 "
   ]
  },
  {
   "cell_type": "code",
   "execution_count": null,
   "id": "75ea075d",
   "metadata": {},
   "outputs": [],
   "source": [
    "tape = sandy.get_endf6_file(\"jeff_33\", \"xs\", 952410) "
   ]
  },
  {
   "cell_type": "code",
   "execution_count": null,
   "id": "7c3f1bab",
   "metadata": {},
   "outputs": [],
   "source": [
    "dic = sandy.read_mf32(tape, 9543)"
   ]
  },
  {
   "cell_type": "code",
   "execution_count": null,
   "id": "3e68b50b",
   "metadata": {},
   "outputs": [],
   "source": [
    "fig, ax = plt.subplots(figsize=(8, 6))\n",
    "covmat = []\n",
    "for i in range(30):\n",
    "    covmat.append(dic[\"NIS\"][95241][\"NER\"][(1e-05, 150.0)]['COVAR_PAR'][i][:30])\n",
    "covmat = pd.DataFrame(covmat)\n",
    "sandy.triu_matrix(covmat, kind = 'upper')\n",
    "ax = plot_corr(sandy.CategoryCov(covmat), ax = ax)"
   ]
  },
  {
   "cell_type": "markdown",
   "id": "122fd98a",
   "metadata": {},
   "source": [
    "### LCOMP = 2 LRF = 2 "
   ]
  },
  {
   "cell_type": "code",
   "execution_count": null,
   "id": "2af8a9ea",
   "metadata": {},
   "outputs": [],
   "source": [
    "tape = sandy.get_endf6_file(\"jeff_33\", \"xs\", 551370)"
   ]
  },
  {
   "cell_type": "code",
   "execution_count": null,
   "id": "be9e4eee",
   "metadata": {},
   "outputs": [],
   "source": [
    "dic = sandy.read_mf32(tape, 5537)\n",
    "dic['NIS'][55137]['NER'][(1e-05, 56666.38)][\"INTG\"][0]"
   ]
  },
  {
   "cell_type": "code",
   "execution_count": null,
   "id": "8e29e95f",
   "metadata": {},
   "outputs": [],
   "source": [
    "NNN = dic['NIS'][55137]['NER'][(1e-05, 56666.38)][\"NNN\"]\n",
    "Z = np.zeros((30, 30))\n",
    "for i in range(30):\n",
    "    Z[i][i] = 1\n",
    "for k in range(dic['NIS'][55137]['NER'][(1e-05, 56666.38)][\"NM\"]): \n",
    "    for j in range (len(dic['NIS'][55137]['NER'][(1e-05, 56666.38)][\"INTG\"][k][\"KIJ\"])):\n",
    "        Z[dic['NIS'][55137]['NER'][(1e-05, 56666.38)][\"INTG\"][k][\"II\"]+j][dic['NIS'][55137]['NER'][(1e-05, 56666.38)][\"INTG\"][k][\"JJ\"]+j] = dic['NIS'][55137]['NER'][(1e-05, 56666.38)][\"INTG\"][k][\"KIJ\"][j]\n",
    "fig, ax = plt.subplots(figsize=(8, 6))\n",
    "sandy.triu_matrix(Z, kind='lower')\n",
    "covmat = pd.DataFrame(Z)\n",
    "ax = plot_corr(sandy.CategoryCov(Z), ax = ax)"
   ]
  }
 ],
 "metadata": {
  "kernelspec": {
   "display_name": "Python 3 (ipykernel)",
   "language": "python",
   "name": "python3"
  },
  "language_info": {
   "codemirror_mode": {
    "name": "ipython",
    "version": 3
   },
   "file_extension": ".py",
   "mimetype": "text/x-python",
   "name": "python",
   "nbconvert_exporter": "python",
   "pygments_lexer": "ipython3",
   "version": "3.7.12"
  }
 },
 "nbformat": 4,
 "nbformat_minor": 5
}
