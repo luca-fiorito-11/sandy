{
 "cells": [
  {
   "cell_type": "markdown",
   "id": "12bf291c",
   "metadata": {},
   "source": [
    "# MF32 TEST"
   ]
  },
  {
   "cell_type": "code",
   "execution_count": null,
   "id": "b59096da",
   "metadata": {},
   "outputs": [],
   "source": [
    "import sandy"
   ]
  },
  {
   "cell_type": "markdown",
   "id": "498b0137",
   "metadata": {},
   "source": [
    "due to a lack of mf32 files in nuclear data I couldn't find testing for all the situations. "
   ]
  },
  {
   "cell_type": "markdown",
   "id": "482a9fa3",
   "metadata": {},
   "source": [
    "### LCOMP = 0 "
   ]
  },
  {
   "cell_type": "code",
   "execution_count": null,
   "id": "8c1873df",
   "metadata": {},
   "outputs": [],
   "source": [
    "tape = sandy.get_endf6_file(\"jeff_33\", \"xs\", 952430)    #LCOMP 0 "
   ]
  },
  {
   "cell_type": "code",
   "execution_count": null,
   "id": "2a9db1a5",
   "metadata": {},
   "outputs": [],
   "source": [
    "dic = sandy.read_mf32(tape, 9549)"
   ]
  },
  {
   "cell_type": "code",
   "execution_count": null,
   "id": "8c38c664",
   "metadata": {},
   "outputs": [],
   "source": [
    "print(dic)"
   ]
  },
  {
   "cell_type": "markdown",
   "id": "a8ccc054",
   "metadata": {},
   "source": [
    "### LCOMP = 1 LRF = 2 "
   ]
  },
  {
   "cell_type": "code",
   "execution_count": null,
   "id": "75ea075d",
   "metadata": {},
   "outputs": [],
   "source": [
    "tape = sandy.get_endf6_file(\"jeff_33\", \"xs\", 952410) "
   ]
  },
  {
   "cell_type": "code",
   "execution_count": null,
   "id": "7c3f1bab",
   "metadata": {},
   "outputs": [],
   "source": [
    "dic = sandy.read_mf32(tape, 9543)"
   ]
  },
  {
   "cell_type": "code",
   "execution_count": null,
   "id": "109e79e4",
   "metadata": {},
   "outputs": [],
   "source": [
    "print(dic)"
   ]
  },
  {
   "cell_type": "markdown",
   "id": "122fd98a",
   "metadata": {},
   "source": [
    "### LCOMP = 2 LRF = 2 "
   ]
  },
  {
   "cell_type": "code",
   "execution_count": null,
   "id": "2af8a9ea",
   "metadata": {},
   "outputs": [],
   "source": [
    "tape = sandy.get_endf6_file(\"jeff_33\", \"xs\", 551370)"
   ]
  },
  {
   "cell_type": "code",
   "execution_count": null,
   "id": "be9e4eee",
   "metadata": {},
   "outputs": [],
   "source": [
    "dic = sandy.read_mf32(tape, 5537)"
   ]
  },
  {
   "cell_type": "code",
   "execution_count": null,
   "id": "8e29e95f",
   "metadata": {
    "scrolled": true
   },
   "outputs": [],
   "source": [
    "print(dic)"
   ]
  },
  {
   "cell_type": "markdown",
   "id": "e52e8a05",
   "metadata": {},
   "source": [
    "### LCOMP = 2 LRF = 3"
   ]
  },
  {
   "cell_type": "code",
   "execution_count": null,
   "id": "6e0487a8",
   "metadata": {},
   "outputs": [],
   "source": [
    "tape = sandy.get_endf6_file(\"jeff_33\", \"xs\", 902320)"
   ]
  },
  {
   "cell_type": "code",
   "execution_count": null,
   "id": "8214690a",
   "metadata": {},
   "outputs": [],
   "source": [
    "dic = sandy.read_mf32(tape, 9040)"
   ]
  },
  {
   "cell_type": "code",
   "execution_count": null,
   "id": "8ce0af0d",
   "metadata": {},
   "outputs": [],
   "source": [
    "print(dic)"
   ]
  }
 ],
 "metadata": {
  "kernelspec": {
   "display_name": "Python 3 (ipykernel)",
   "language": "python",
   "name": "python3"
  },
  "language_info": {
   "codemirror_mode": {
    "name": "ipython",
    "version": 3
   },
   "file_extension": ".py",
   "mimetype": "text/x-python",
   "name": "python",
   "nbconvert_exporter": "python",
   "pygments_lexer": "ipython3",
   "version": "3.7.12"
  }
 },
 "nbformat": 4,
 "nbformat_minor": 5
}
