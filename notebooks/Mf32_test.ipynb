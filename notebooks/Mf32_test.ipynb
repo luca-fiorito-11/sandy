{
 "cells": [
  {
   "cell_type": "markdown",
   "id": "12bf291c",
   "metadata": {},
   "source": [
    "# MF32 TEST"
   ]
  },
  {
   "cell_type": "code",
   "execution_count": 1,
   "id": "b59096da",
   "metadata": {},
   "outputs": [],
   "source": [
    "import sandy\n",
    "import matplotlib.pyplot as plt\n",
    "import pandas as pd \n",
    "import numpy as np\n",
    "import seaborn as sns\n",
    "import pdb "
   ]
  },
  {
   "cell_type": "code",
   "execution_count": 2,
   "id": "c7740fe1",
   "metadata": {},
   "outputs": [],
   "source": [
    "def plot_corr(cov_obj, ax, **kwargs):\n",
    "    add = {\"cbar\": True, \"vmin\": -1, \"vmax\": 1, \"cmap\": \"RdBu\"}\n",
    "    for k, v in kwargs.items():\n",
    "        add[k] = v\n",
    "    ax = sns.heatmap(cov_obj.get_corr().data, ax=ax, **add)\n",
    "    return ax"
   ]
  },
  {
   "cell_type": "markdown",
   "id": "498b0137",
   "metadata": {},
   "source": [
    "due to a lack of mf32 files in nuclear data I couldn't find tests for all the situations. "
   ]
  },
  {
   "cell_type": "markdown",
   "id": "482a9fa3",
   "metadata": {},
   "source": [
    "### LCOMP = 0 "
   ]
  },
  {
   "cell_type": "code",
   "execution_count": 70,
   "id": "8c1873df",
   "metadata": {},
   "outputs": [],
   "source": [
    "tape = sandy.get_endf6_file(\"jeff_33\", \"xs\", 952430) "
   ]
  },
  {
   "cell_type": "code",
   "execution_count": 71,
   "id": "2a9db1a5",
   "metadata": {},
   "outputs": [],
   "source": [
    "dic = sandy.read_mf32(tape, 9549)"
   ]
  },
  {
   "cell_type": "markdown",
   "id": "a8ccc054",
   "metadata": {},
   "source": [
    "### LCOMP = 1 LRF = 2 "
   ]
  },
  {
   "cell_type": "code",
   "execution_count": 12,
   "id": "75ea075d",
   "metadata": {},
   "outputs": [],
   "source": [
    "tape = sandy.get_endf6_file(\"jeff_33\", \"xs\", 952410) "
   ]
  },
  {
   "cell_type": "code",
   "execution_count": 13,
   "id": "7c3f1bab",
   "metadata": {},
   "outputs": [],
   "source": [
    "dic = sandy.read_mf32(tape, 9543)"
   ]
  },
  {
   "cell_type": "code",
   "execution_count": 14,
   "id": "8782575d",
   "metadata": {},
   "outputs": [
    {
     "data": {
      "text/plain": [
       "20"
      ]
     },
     "execution_count": 14,
     "metadata": {},
     "output_type": "execute_result"
    }
   ],
   "source": [
    "len(dic[\"NIS\"][95241][\"NER\"][(1e-05, 150.0)]['COVAR_PAR'][:20])"
   ]
  },
  {
   "cell_type": "code",
   "execution_count": 15,
   "id": "3e68b50b",
   "metadata": {},
   "outputs": [
    {
     "ename": "TypeError",
     "evalue": "Covariance matrix must be symmetric",
     "output_type": "error",
     "traceback": [
      "\u001b[1;31m---------------------------------------------------------------------------\u001b[0m",
      "\u001b[1;31mTypeError\u001b[0m                                 Traceback (most recent call last)",
      "\u001b[1;32m~\\AppData\\Local\\Temp\\ipykernel_19300\\3657616826.py\u001b[0m in \u001b[0;36m<module>\u001b[1;34m\u001b[0m\n\u001b[0;32m      5\u001b[0m \u001b[0msandy\u001b[0m\u001b[1;33m.\u001b[0m\u001b[0mtriu_matrix\u001b[0m\u001b[1;33m(\u001b[0m\u001b[0mcovmat\u001b[0m\u001b[1;33m,\u001b[0m \u001b[0mkind\u001b[0m \u001b[1;33m=\u001b[0m \u001b[1;34m'upper'\u001b[0m\u001b[1;33m)\u001b[0m\u001b[1;33m\u001b[0m\u001b[1;33m\u001b[0m\u001b[0m\n\u001b[0;32m      6\u001b[0m \u001b[0mcovmat\u001b[0m \u001b[1;33m=\u001b[0m \u001b[0mpd\u001b[0m\u001b[1;33m.\u001b[0m\u001b[0mDataFrame\u001b[0m\u001b[1;33m(\u001b[0m\u001b[0mcovmat\u001b[0m\u001b[1;33m)\u001b[0m\u001b[1;33m\u001b[0m\u001b[1;33m\u001b[0m\u001b[0m\n\u001b[1;32m----> 7\u001b[1;33m \u001b[0max\u001b[0m \u001b[1;33m=\u001b[0m \u001b[0mplot_corr\u001b[0m\u001b[1;33m(\u001b[0m\u001b[0msandy\u001b[0m\u001b[1;33m.\u001b[0m\u001b[0mCategoryCov\u001b[0m\u001b[1;33m(\u001b[0m\u001b[0mcovmat\u001b[0m\u001b[1;33m)\u001b[0m\u001b[1;33m,\u001b[0m \u001b[0max\u001b[0m \u001b[1;33m=\u001b[0m \u001b[0max\u001b[0m\u001b[1;33m)\u001b[0m\u001b[1;33m\u001b[0m\u001b[1;33m\u001b[0m\u001b[0m\n\u001b[0m\u001b[0;32m      8\u001b[0m \u001b[0mplt\u001b[0m\u001b[1;33m.\u001b[0m\u001b[0mtitle\u001b[0m \u001b[1;33m(\u001b[0m\u001b[1;34m'correlation matrix of Americium 241'\u001b[0m \u001b[1;33m)\u001b[0m\u001b[1;33m\u001b[0m\u001b[1;33m\u001b[0m\u001b[0m\n",
      "\u001b[1;32mc:\\users\\rhaddad\\sandy\\sandy\\core\\cov.py\u001b[0m in \u001b[0;36m__init__\u001b[1;34m(self, *args, **kwargs)\u001b[0m\n\u001b[0;32m    271\u001b[0m \u001b[1;33m\u001b[0m\u001b[0m\n\u001b[0;32m    272\u001b[0m     \u001b[1;32mdef\u001b[0m \u001b[0m__init__\u001b[0m\u001b[1;33m(\u001b[0m\u001b[0mself\u001b[0m\u001b[1;33m,\u001b[0m \u001b[1;33m*\u001b[0m\u001b[0margs\u001b[0m\u001b[1;33m,\u001b[0m \u001b[1;33m**\u001b[0m\u001b[0mkwargs\u001b[0m\u001b[1;33m)\u001b[0m\u001b[1;33m:\u001b[0m\u001b[1;33m\u001b[0m\u001b[1;33m\u001b[0m\u001b[0m\n\u001b[1;32m--> 273\u001b[1;33m         \u001b[0mself\u001b[0m\u001b[1;33m.\u001b[0m\u001b[0mdata\u001b[0m \u001b[1;33m=\u001b[0m \u001b[0mpd\u001b[0m\u001b[1;33m.\u001b[0m\u001b[0mDataFrame\u001b[0m\u001b[1;33m(\u001b[0m\u001b[1;33m*\u001b[0m\u001b[0margs\u001b[0m\u001b[1;33m,\u001b[0m \u001b[1;33m**\u001b[0m\u001b[0mkwargs\u001b[0m\u001b[1;33m)\u001b[0m\u001b[1;33m\u001b[0m\u001b[1;33m\u001b[0m\u001b[0m\n\u001b[0m\u001b[0;32m    274\u001b[0m \u001b[1;33m\u001b[0m\u001b[0m\n\u001b[0;32m    275\u001b[0m     \u001b[1;33m@\u001b[0m\u001b[0mproperty\u001b[0m\u001b[1;33m\u001b[0m\u001b[1;33m\u001b[0m\u001b[0m\n",
      "\u001b[1;32mc:\\users\\rhaddad\\sandy\\sandy\\core\\cov.py\u001b[0m in \u001b[0;36mdata\u001b[1;34m(self, data)\u001b[0m\n\u001b[0;32m    315\u001b[0m         \u001b[1;31m# Round to avoid numerical fluctuations\u001b[0m\u001b[1;33m\u001b[0m\u001b[1;33m\u001b[0m\u001b[1;33m\u001b[0m\u001b[0m\n\u001b[0;32m    316\u001b[0m         \u001b[1;32mif\u001b[0m \u001b[1;32mnot\u001b[0m \u001b[1;33m(\u001b[0m\u001b[0mdata\u001b[0m\u001b[1;33m.\u001b[0m\u001b[0mvalues\u001b[0m\u001b[1;33m.\u001b[0m\u001b[0mround\u001b[0m\u001b[1;33m(\u001b[0m\u001b[0msym_limit\u001b[0m\u001b[1;33m)\u001b[0m \u001b[1;33m==\u001b[0m \u001b[0mdata\u001b[0m\u001b[1;33m.\u001b[0m\u001b[0mvalues\u001b[0m\u001b[1;33m.\u001b[0m\u001b[0mT\u001b[0m\u001b[1;33m.\u001b[0m\u001b[0mround\u001b[0m\u001b[1;33m(\u001b[0m\u001b[0msym_limit\u001b[0m\u001b[1;33m)\u001b[0m\u001b[1;33m)\u001b[0m\u001b[1;33m.\u001b[0m\u001b[0mall\u001b[0m\u001b[1;33m(\u001b[0m\u001b[1;33m)\u001b[0m\u001b[1;33m:\u001b[0m\u001b[1;33m\u001b[0m\u001b[1;33m\u001b[0m\u001b[0m\n\u001b[1;32m--> 317\u001b[1;33m             \u001b[1;32mraise\u001b[0m \u001b[0mTypeError\u001b[0m\u001b[1;33m(\u001b[0m\u001b[1;34m\"Covariance matrix must be symmetric\"\u001b[0m\u001b[1;33m)\u001b[0m\u001b[1;33m\u001b[0m\u001b[1;33m\u001b[0m\u001b[0m\n\u001b[0m\u001b[0;32m    318\u001b[0m \u001b[1;33m\u001b[0m\u001b[0m\n\u001b[0;32m    319\u001b[0m     \u001b[1;33m@\u001b[0m\u001b[0mproperty\u001b[0m\u001b[1;33m\u001b[0m\u001b[1;33m\u001b[0m\u001b[0m\n",
      "\u001b[1;31mTypeError\u001b[0m: Covariance matrix must be symmetric"
     ]
    },
    {
     "data": {
      "image/png": "[encoded data removed]",
      "text/plain": [
       "<Figure size 576x432 with 1 Axes>"
      ]
     },
     "metadata": {
      "needs_background": "light"
     },
     "output_type": "display_data"
    }
   ],
   "source": [
    "fig, ax = plt.subplots(figsize=(8, 6))\n",
    "covmat = []\n",
    "for i in range (40):\n",
    " covmat.append(dic[\"NIS\"][95241][\"NER\"][(1e-05, 150.0)]['COVAR_PAR'][i][:40])\n",
    "sandy.triu_matrix(covmat, kind = 'upper')\n",
    "covmat = pd.DataFrame(covmat)\n",
    "ax = plot_corr(sandy.CategoryCov(covmat), ax = ax)\n",
    "plt.title ('correlation matrix of Americium 241' )"
   ]
  },
  {
   "cell_type": "markdown",
   "id": "122fd98a",
   "metadata": {},
   "source": [
    "### LCOMP = 2 LRF = 2 "
   ]
  },
  {
   "cell_type": "code",
   "execution_count": 16,
   "id": "2af8a9ea",
   "metadata": {},
   "outputs": [],
   "source": [
    "tape = sandy.get_endf6_file(\"jeff_33\", \"xs\", 551370)"
   ]
  },
  {
   "cell_type": "code",
   "execution_count": 17,
   "id": "be9e4eee",
   "metadata": {},
   "outputs": [
    {
     "data": {
      "text/plain": [
       "{'II': 3,\n",
       " 'JJ': 2,\n",
       " 'KIJ': array([-23,   0,   0,   0,   0,   0,   0,   0,   0,   0,   0,   0,   0,\n",
       "          0,   0,   0,   0,   0])}"
      ]
     },
     "execution_count": 17,
     "metadata": {},
     "output_type": "execute_result"
    }
   ],
   "source": [
    "dic = sandy.read_mf32(tape, 5537)\n",
    "dic['NIS'][55137]['NER'][(1e-05, 56666.38)][\"INTG\"][0]"
   ]
  },
  {
   "cell_type": "code",
   "execution_count": 18,
   "id": "8e29e95f",
   "metadata": {},
   "outputs": [
    {
     "data": {
      "image/png": "[encoded data removed]",
      "text/plain": [
       "<Figure size 576x432 with 2 Axes>"
      ]
     },
     "metadata": {
      "needs_background": "light"
     },
     "output_type": "display_data"
    }
   ],
   "source": [
    "NNN = dic['NIS'][55137]['NER'][(1e-05, 56666.38)][\"NNN\"]\n",
    "Z = np.zeros((30, 30))\n",
    "for i in range(30):\n",
    "    Z[i][i] = 1\n",
    "for k in range(dic['NIS'][55137]['NER'][(1e-05, 56666.38)][\"NM\"]): \n",
    "    for j in range (len(dic['NIS'][55137]['NER'][(1e-05, 56666.38)][\"INTG\"][k][\"KIJ\"])):\n",
    "        Z[dic['NIS'][55137]['NER'][(1e-05, 56666.38)][\"INTG\"][k][\"II\"]+j][dic['NIS'][55137]['NER'][(1e-05, 56666.38)][\"INTG\"][k][\"JJ\"]+j] = dic['NIS'][55137]['NER'][(1e-05, 56666.38)][\"INTG\"][k][\"KIJ\"][j]\n",
    "fig, ax = plt.subplots(figsize=(8, 6))\n",
    "sandy.triu_matrix(Z, kind='lower')\n",
    "covmat = pd.DataFrame(Z)\n",
    "ax = plot_corr(sandy.CategoryCov(Z), ax = ax)"
   ]
  },
  {
   "cell_type": "markdown",
   "id": "e52e8a05",
   "metadata": {},
   "source": [
    "### LCOMP = 2 LRF = 3"
   ]
  },
  {
   "cell_type": "code",
   "execution_count": 20,
   "id": "6e0487a8",
   "metadata": {},
   "outputs": [],
   "source": [
    "tape = sandy.get_endf6_file(\"jeff_33\", \"xs\", 902320)"
   ]
  },
  {
   "cell_type": "code",
   "execution_count": 88,
   "id": "8214690a",
   "metadata": {},
   "outputs": [],
   "source": [
    "dic = sandy.read_mf32(tape, 9040)"
   ]
  },
  {
   "cell_type": "code",
   "execution_count": null,
   "id": "713e67c4",
   "metadata": {},
   "outputs": [],
   "source": [
    "NNN = dic[\"NIS\"][90232][\"NER\"][(1e-05, 4000.0)][\"NNN\"]\n",
    "NM = dic[\"NIS\"][90232][\"NER\"][(1e-05, 4000.0)][\"NM\"]\n",
    "Z = np.zeros((NNN*4, NNN*4))\n",
    "for i in range(NNN):\n",
    "    Z[i][i] = 1\n",
    "for k in range(NM):\n",
    "    A = dic[\"NIS\"][90232][\"NER\"][(1e-05, 4000.0)][\"INTG\"][k][\"KIJ\"]\n",
    "    B = dic[\"NIS\"][90232][\"NER\"][(1e-05, 4000.0)][\"INTG\"][k][\"II\"]\n",
    "    C = dic[\"NIS\"][90232][\"NER\"][(1e-05, 4000.0)][\"INTG\"][k][\"JJ\"]\n",
    "    D = dic[\"NIS\"][90232][\"NER\"][(1e-05, 4000.0)][\"INTG\"][k][\"KIJ\"]\n",
    "    for j in range (len(A)):\n",
    "        Z[B][C] = D[j]\n",
    "fig, ax = plt.subplots(figsize=(8, 6))\n",
    "sandy.triu_matrix(Z, kind='upper')\n",
    "covmat = pd.DataFrame(Z)\n",
    "ax = plot_corr(sandy.CategoryCov(Z), ax = ax)"
   ]
  },
  {
   "cell_type": "code",
   "execution_count": 44,
   "id": "a74ddc81",
   "metadata": {},
   "outputs": [
    {
     "data": {
      "image/png": "[encoded data removed]",
      "text/plain": [
       "<Figure size 576x432 with 2 Axes>"
      ]
     },
     "metadata": {
      "needs_background": "light"
     },
     "output_type": "display_data"
    }
   ],
   "source": [
    "fig, ax = plt.subplots(figsize=(8, 6))\n",
    "sandy.triu_matrix(Z, kind='upper')\n",
    "covmat = pd.DataFrame(Z)\n",
    "ax = plot_corr(sandy.CategoryCov(Z), ax = ax)"
   ]
  },
  {
   "cell_type": "code",
   "execution_count": null,
   "id": "ea361df6",
   "metadata": {},
   "outputs": [],
   "source": []
  }
 ],
 "metadata": {
  "kernelspec": {
   "display_name": "Python 3 (ipykernel)",
   "language": "python",
   "name": "python3"
  },
  "language_info": {
   "codemirror_mode": {
    "name": "ipython",
    "version": 3
   },
   "file_extension": ".py",
   "mimetype": "text/x-python",
   "name": "python",
   "nbconvert_exporter": "python",
   "pygments_lexer": "ipython3",
   "version": "3.7.12"
  }
 },
 "nbformat": 4,
 "nbformat_minor": 5
}
