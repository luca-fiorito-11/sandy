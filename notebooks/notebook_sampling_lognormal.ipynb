{
 "cells": [
  {
   "cell_type": "markdown",
   "id": "81d34803",
   "metadata": {},
   "source": [
    "# Sampling from multivariate lognormal distribution"
   ]
  },
  {
   "cell_type": "code",
   "execution_count": null,
   "id": "67679dcf",
   "metadata": {},
   "outputs": [],
   "source": [
    "import sandy"
   ]
  },
  {
   "cell_type": "code",
   "execution_count": null,
   "id": "c894192e-f432-49e6-809a-0cca7427c780",
   "metadata": {},
   "outputs": [],
   "source": [
    "import pandas as pd\n",
    "import numpy as np\n",
    "import seaborn as sns\n",
    "import matplotlib.pyplot as plt\n",
    "from scipy.stats import lognorm\n",
    "\n",
    "sns.set_style(\"whitegrid\")"
   ]
  },
  {
   "cell_type": "markdown",
   "id": "abb2d548-c599-4d99-9fea-8b8483dbaeab",
   "metadata": {},
   "source": [
    "Small simple covariance matrix"
   ]
  },
  {
   "cell_type": "code",
   "execution_count": null,
   "id": "4c059e41-f8db-4897-aff9-4fa701cd4109",
   "metadata": {},
   "outputs": [],
   "source": [
    "# 3 parameters with similar mean values (but not identical!)\n",
    "parameters = ['A', 'B', 'C']\n",
    "x1 = 4\n",
    "x2 = 5\n",
    "x3 = 6\n",
    "mean = np.array([x1, x2, x3])\n",
    "\n",
    "# relative standard deviations\n",
    "s1 = 10 / 100\n",
    "s2 = 3 / 100    # small stdev\n",
    "s3 = 60 / 100   # large stdev\n",
    "\n",
    "# correlations between parameters\n",
    "c12 = 0.2\n",
    "c13 = -0.4\n",
    "c23 = 0.5\n",
    "\n",
    "# building covariance matrix\n",
    "cov = sandy.CategoryCov(\n",
    "    pd.DataFrame(\n",
    "        [\n",
    "            [s1 * x1 * s1 * x1,         s1 * x1 * s2 * x2 * c12,   s1 * x1 * s3 * x3 * c13],\n",
    "            [s2 * x2 * s1 * x1 * c12,   s2 * x2 * s2 * x2,         s2 * x2 * s3 * x3 * c23],\n",
    "            [s3 * x3 * s1 * x1 * c13,   s3 * x3 * s2 * x2 * c23,   s3 * x3 * s3 * x3],\n",
    "        ], index=parameters, columns=parameters,\n",
    "    )\n",
    ")"
   ]
  },
  {
   "cell_type": "code",
   "execution_count": null,
   "id": "7e771b73",
   "metadata": {},
   "outputs": [],
   "source": [
    "fig, ax = plt.subplots(figsize=(3.5, 3.5), dpi=100)\n",
    "ax.set_aspect(\"equal\")\n",
    "sns.heatmap(data=cov.get_corr().data, cmap='bwr', vmin=-1, vmax=1, ax=ax)\n",
    "fig.tight_layout();"
   ]
  },
  {
   "cell_type": "markdown",
   "id": "46f30af3",
   "metadata": {},
   "source": [
    "Let's convert mean vector and convariance matrix to relative terms."
   ]
  },
  {
   "cell_type": "code",
   "execution_count": null,
   "id": "a9861232",
   "metadata": {},
   "outputs": [],
   "source": [
    "cov_r = cov.corr2cov(1/mean)\n",
    "cov_r.get_std()"
   ]
  },
  {
   "cell_type": "code",
   "execution_count": null,
   "id": "8d117988",
   "metadata": {},
   "outputs": [],
   "source": [
    "mean_r = mean / mean\n",
    "mean_r"
   ]
  },
  {
   "cell_type": "markdown",
   "id": "9a9526af",
   "metadata": {},
   "source": [
    "For parameters with medium/large standard deviations the left tail with a Normal distribution spans in the negative range.\n",
    "For many nuclear data types, negative values do not have a physical meaning."
   ]
  },
  {
   "cell_type": "code",
   "execution_count": null,
   "id": "11c49533",
   "metadata": {},
   "outputs": [],
   "source": [
    "data = cov_r.sampling(5000).data.T\n",
    "data.index.name = \"PARAM\"\n",
    "data.columns.name = \"SMP\"\n",
    "data = data.stack().rename(\"VAL\").reset_index()"
   ]
  },
  {
   "cell_type": "code",
   "execution_count": null,
   "id": "5a6b2ebe",
   "metadata": {},
   "outputs": [],
   "source": [
    "g = sns.displot(data=data, x=\"VAL\", col=\"PARAM\")\n",
    "plt.xlim(-1, 3);"
   ]
  },
  {
   "cell_type": "markdown",
   "id": "666e616d",
   "metadata": {},
   "source": [
    "This behavior can be avoided when sampling from a lognormal distribution. "
   ]
  },
  {
   "cell_type": "markdown",
   "id": "ea5712ed",
   "metadata": {},
   "source": [
    "## Retrieve mean and covariance matrix of underlying normal distribution"
   ]
  },
  {
   "cell_type": "markdown",
   "id": "a67fcf0f",
   "metadata": {},
   "source": [
    "Two-step approach to sample log-normally distributed variables with mean vector $\\mathbf{\\mu}$ and covariance matrix $\\mathbf{\\Sigma}$:\n",
    "\n",
    "- draw normally-distributed samples with underlying mean vector $\\mathbf{\\mu_N}$ and covariance matrix $\\mathbf{\\Sigma}_N$;\n",
    "- apply an exponential operator to the normally-distributed samples."
   ]
  },
  {
   "cell_type": "markdown",
   "id": "dc772241",
   "metadata": {},
   "source": [
    "$$\n",
    "log\\mathcal{N} \\left( \\mathbf{\\mu}, \\mathbf{\\Sigma} \\right) = exp \\left( \\mathcal{N} \\left( \\mathbf{\\mu}_N, \\mathbf{\\Sigma}_N \\right) \\right)\n",
    "$$"
   ]
  },
  {
   "cell_type": "markdown",
   "id": "0499076a",
   "metadata": {},
   "source": [
    "The underlying mean vector $\\mathbf{\\mu}_N$ and covariance matrix $\\mathbf{\\Sigma}_N$ can be defined starting from $\\mathbf{\\mu}$ and $\\mathbf{\\Sigma}$ as defined in https://doi.org/10.1016/j.nima.2013.06.025"
   ]
  },
  {
   "cell_type": "markdown",
   "id": "ba89caaa",
   "metadata": {},
   "source": [
    "$$\n",
    "\\mu_{N_i} = ln \\left(\\mu_i\\right) - \\frac{\\sigma_i^2}{2}\n",
    "$$\n",
    "\n",
    "$$\n",
    "\\sigma_{N_i} = \\sqrt{ln\\left( 1 + \\frac{\\sigma_i^2}{\\mu_i^2}\\right)}\n",
    "$$\n",
    "\n",
    "$$\n",
    "\\Sigma_{N_{i,j}} = ln\\left( 1 + \\frac{\\Sigma_{i,j}^2}{\\mu_i\\mu_j}\\right)\n",
    "$$"
   ]
  },
  {
   "cell_type": "markdown",
   "id": "6b2ac296",
   "metadata": {},
   "source": [
    "If the mean vector is $\\mathbf{\\mu}=\\mathbf{1}$, the equations above simplify to"
   ]
  },
  {
   "cell_type": "markdown",
   "id": "2ab090ae",
   "metadata": {},
   "source": [
    "$$\n",
    "\\mu_{N_i} =  - \\frac{\\sigma_i^2}{2}\n",
    "$$\n",
    "\n",
    "$$\n",
    "\\sigma_{N_i} = \\sqrt{ln\\left( 1 + \\sigma_i^2 \\right)}\n",
    "$$\n",
    "\n",
    "$$\n",
    "\\Sigma_{N_{i,j}} = ln\\left( 1 + \\Sigma_{i,j}\\right)\n",
    "$$"
   ]
  },
  {
   "cell_type": "code",
   "execution_count": null,
   "id": "8a6c8970",
   "metadata": {},
   "outputs": [],
   "source": [
    "mean_N = - np.diag(cov_r.data) / 2\n",
    "cov_N = np.log(cov_r.data + 1)"
   ]
  },
  {
   "cell_type": "markdown",
   "id": "b72a6cde",
   "metadata": {},
   "source": [
    "## Sampling from normal distribution"
   ]
  },
  {
   "cell_type": "code",
   "execution_count": null,
   "id": "04014c31",
   "metadata": {},
   "outputs": [],
   "source": [
    "nsmp = 10000\n",
    "y = np.random.randn(3, nsmp)\n",
    "L = np.linalg.cholesky(cov_N)\n",
    "smp_N = L.dot(y) + mean_N.reshape(-1, 1)"
   ]
  },
  {
   "cell_type": "code",
   "execution_count": null,
   "id": "f159d810",
   "metadata": {},
   "outputs": [],
   "source": [
    "smp_LogN = np.exp(smp_N)"
   ]
  },
  {
   "cell_type": "markdown",
   "id": "56d4bf19",
   "metadata": {},
   "source": [
    "### Sample analysis"
   ]
  },
  {
   "cell_type": "code",
   "execution_count": null,
   "id": "244a903f",
   "metadata": {},
   "outputs": [],
   "source": [
    "data = pd.DataFrame(smp_LogN, index=parameters)\n",
    "data.index.name = \"PARAM\"\n",
    "data.columns.name = \"SMP\"\n",
    "data = data.stack().rename(\"VAL\").reset_index()"
   ]
  },
  {
   "cell_type": "code",
   "execution_count": null,
   "id": "4f6b0f17",
   "metadata": {},
   "outputs": [],
   "source": [
    "g = sns.displot(data=data, x=\"VAL\", col=\"PARAM\")\n",
    "plt.xlim(0, 3);"
   ]
  },
  {
   "cell_type": "code",
   "execution_count": null,
   "id": "c5438060",
   "metadata": {},
   "outputs": [],
   "source": [
    "data.groupby(\"PARAM\").VAL.describe()"
   ]
  },
  {
   "cell_type": "markdown",
   "id": "cb5c08c6",
   "metadata": {},
   "source": [
    "The shape, mean and standard deviations of the lognormal samples look correct!"
   ]
  },
  {
   "cell_type": "code",
   "execution_count": null,
   "id": "83020e15",
   "metadata": {},
   "outputs": [],
   "source": [
    "data.pivot_table(index=\"SMP\", columns=\"PARAM\", values=\"VAL\").corr()"
   ]
  },
  {
   "cell_type": "markdown",
   "id": "9574fc52",
   "metadata": {},
   "source": [
    "Also correlations converge to what was is expected."
   ]
  },
  {
   "cell_type": "code",
   "execution_count": null,
   "id": "e6789650",
   "metadata": {},
   "outputs": [],
   "source": [
    "(data.VAL < 0).any()"
   ]
  },
  {
   "cell_type": "markdown",
   "id": "26b5c891",
   "metadata": {},
   "source": [
    "...and all values the lognormal distribution are obviously positive!"
   ]
  },
  {
   "cell_type": "markdown",
   "id": "efd24441",
   "metadata": {},
   "source": [
    "If we multiply the relative samples by the original mean we go back to absolute values."
   ]
  },
  {
   "cell_type": "code",
   "execution_count": null,
   "id": "a0ae16c7",
   "metadata": {},
   "outputs": [],
   "source": [
    "foo = lambda row: row.VAL * mean[0] if row.PARAM == \"A\" else row.VAL * mean[1] if row.PARAM == \"B\" else row.VAL * mean[2]\n",
    "data[\"VAL_ABS\"]  = data.apply(foo, axis=1)"
   ]
  },
  {
   "cell_type": "code",
   "execution_count": null,
   "id": "c90b735b",
   "metadata": {},
   "outputs": [],
   "source": [
    "g = sns.displot(data=data, x=\"VAL_ABS\", col=\"PARAM\")\n",
    "plt.xlim(0, 15);"
   ]
  },
  {
   "cell_type": "code",
   "execution_count": null,
   "id": "4d8940f7",
   "metadata": {},
   "outputs": [],
   "source": [
    "data.groupby(\"PARAM\").VAL_ABS.describe()"
   ]
  },
  {
   "cell_type": "markdown",
   "id": "bc9791c9",
   "metadata": {},
   "source": [
    "Relative standard deviation."
   ]
  },
  {
   "cell_type": "code",
   "execution_count": null,
   "id": "ffb065f6",
   "metadata": {},
   "outputs": [],
   "source": [
    "data.pivot_table(index=\"SMP\", columns=\"PARAM\", values=\"VAL_ABS\").std() / data.pivot_table(index=\"SMP\", columns=\"PARAM\", values=\"VAL_ABS\").mean()"
   ]
  },
  {
   "cell_type": "markdown",
   "id": "7e15fa1f",
   "metadata": {},
   "source": [
    "Correlations."
   ]
  },
  {
   "cell_type": "code",
   "execution_count": null,
   "id": "7cdadc14",
   "metadata": {},
   "outputs": [],
   "source": [
    "data.pivot_table(index=\"SMP\", columns=\"PARAM\", values=\"VAL_ABS\").corr()"
   ]
  },
  {
   "cell_type": "markdown",
   "id": "d4ae8e79",
   "metadata": {},
   "source": [
    "## Plot sample convergence"
   ]
  },
  {
   "cell_type": "markdown",
   "id": "8d467a14",
   "metadata": {},
   "source": [
    "For these plots we use the functions and methods already implemented in `sandy`."
   ]
  },
  {
   "cell_type": "code",
   "execution_count": null,
   "id": "5dcbf027",
   "metadata": {},
   "outputs": [],
   "source": [
    "nsmp = list(range(10, 1000, 10)) + list(range(1000, 5001, 100))"
   ]
  },
  {
   "cell_type": "code",
   "execution_count": null,
   "id": "02a29190",
   "metadata": {},
   "outputs": [],
   "source": [
    "lognorm = {n: cov_r.sampling(n, pdf=\"lognormal\").data.std() for n in nsmp}\n",
    "norm = {n: cov_r.sampling(n, pdf=\"normal\").data.std() for n in nsmp}"
   ]
  },
  {
   "cell_type": "code",
   "execution_count": null,
   "id": "d3f83e0f",
   "metadata": {},
   "outputs": [],
   "source": [
    "df = pd.DataFrame(norm).T\n",
    "df.index.name = \"NSMP\"\n",
    "df.columns.name = \"PARAM\"\n",
    "dfnorm = df.stack().rename(\"STD\").reset_index().assign(PDF=\"normal\")\n",
    "\n",
    "df = pd.DataFrame(lognorm).T\n",
    "df.index.name = \"NSMP\"\n",
    "df.columns.name = \"PARAM\"\n",
    "dflognorm = df.stack().rename(\"STD\").reset_index().assign(PDF=\"lognormal\")"
   ]
  },
  {
   "cell_type": "code",
   "execution_count": null,
   "id": "4e1bb008",
   "metadata": {},
   "outputs": [],
   "source": [
    "df = pd.concat([dflognorm, dfnorm], ignore_index=True)\n",
    "\n",
    "g = sns.relplot(\n",
    "    data=df, x=\"NSMP\", y=\"STD\", row=\"PARAM\",\n",
    "    hue=\"PDF\", kind=\"line\", palette=[\"b\", \"r\"],\n",
    "    height=2.5, aspect=4,\n",
    ")\n",
    "g.figure.set_dpi(100)\n",
    "plt.xlim(0, 5000)\n",
    "plt.ylim(0, 0.8);"
   ]
  },
  {
   "cell_type": "markdown",
   "id": "06ee9d9e",
   "metadata": {},
   "source": [
    "## Plot mean convergence"
   ]
  },
  {
   "cell_type": "code",
   "execution_count": null,
   "id": "a514862f",
   "metadata": {},
   "outputs": [],
   "source": [
    "lognorm = {n: cov_r.sampling(n, pdf=\"lognormal\").data.mean() for n in nsmp}\n",
    "norm = {n: cov_r.sampling(n, pdf=\"normal\").data.mean() for n in nsmp}"
   ]
  },
  {
   "cell_type": "code",
   "execution_count": null,
   "id": "2bfc3399",
   "metadata": {},
   "outputs": [],
   "source": [
    "df = pd.DataFrame(norm).T\n",
    "df.index.name = \"NSMP\"\n",
    "df.columns.name = \"PARAM\"\n",
    "dfnorm = df.stack().rename(\"MEAN\").reset_index().assign(PDF=\"normal\")\n",
    "\n",
    "df = pd.DataFrame(lognorm).T\n",
    "df.index.name = \"NSMP\"\n",
    "df.columns.name = \"PARAM\"\n",
    "dflognorm = df.stack().rename(\"MEAN\").reset_index().assign(PDF=\"lognormal\")"
   ]
  },
  {
   "cell_type": "code",
   "execution_count": null,
   "id": "33556e4c",
   "metadata": {},
   "outputs": [],
   "source": [
    "df = pd.concat([dflognorm, dfnorm], ignore_index=True)\n",
    "\n",
    "g = sns.relplot(\n",
    "    data=df, x=\"NSMP\", y=\"MEAN\", row=\"PARAM\",\n",
    "    hue=\"PDF\", kind=\"line\", palette=[\"b\", \"r\"],\n",
    "    height=2.5, aspect=4,\n",
    ")\n",
    "g.figure.set_dpi(100)\n",
    "plt.xlim(0, 5000)\n",
    "plt.ylim(0.8, 1.2);"
   ]
  },
  {
   "cell_type": "markdown",
   "id": "274e073e",
   "metadata": {},
   "source": [
    "## Plot correlation convergence"
   ]
  },
  {
   "cell_type": "code",
   "execution_count": null,
   "id": "e297ce85",
   "metadata": {},
   "outputs": [],
   "source": [
    "lognorm = {n: cov_r.sampling(n, pdf=\"lognormal\").data.corr().stack().loc[[(\"A\", \"B\"), (\"A\", \"C\"), (\"B\", \"C\")]] for n in nsmp}\n",
    "norm = {n: cov_r.sampling(n, pdf=\"normal\").data.corr().stack().loc[[(\"A\", \"B\"), (\"A\", \"C\"), (\"B\", \"C\")]] for n in nsmp}"
   ]
  },
  {
   "cell_type": "code",
   "execution_count": null,
   "id": "a0697771",
   "metadata": {},
   "outputs": [],
   "source": [
    "df = pd.DataFrame(norm).T\n",
    "df.index.name = \"NSMP\"\n",
    "df.columns.names = (\"PARAM_1\", \"PARAM_2\")\n",
    "dfnorm = df.unstack().rename(\"CORR\").reset_index().assign(PDF=\"normal\")\n",
    "\n",
    "df = pd.DataFrame(lognorm).T\n",
    "df.index.name = \"NSMP\"\n",
    "df.columns.names = (\"PARAM_1\", \"PARAM_2\")\n",
    "dflognorm = df.unstack().rename(\"CORR\").reset_index().assign(PDF=\"lognormal\")"
   ]
  },
  {
   "cell_type": "code",
   "execution_count": null,
   "id": "92881f39",
   "metadata": {},
   "outputs": [],
   "source": [
    "df = pd.concat([dflognorm, dfnorm], ignore_index=True)\n",
    "df[\"PARAMS\"] = df.apply(lambda row: (row.PARAM_1, row.PARAM_2), axis=1)\n",
    "\n",
    "g = sns.relplot(\n",
    "    data=df, x=\"NSMP\", y=\"CORR\", row=\"PARAMS\",\n",
    "    hue=\"PDF\", kind=\"line\", palette=[\"b\", \"r\"],\n",
    "    height=2.5, aspect=4,\n",
    ")\n",
    "g.figure.set_dpi(100)\n",
    "plt.xlim(0, 2000);"
   ]
  }
 ],
 "metadata": {
  "kernelspec": {
   "display_name": "Python3 (sandy-devel)",
   "language": "python",
   "name": "sandy-devel"
  },
  "language_info": {
   "codemirror_mode": {
    "name": "ipython",
    "version": 3
   },
   "file_extension": ".py",
   "mimetype": "text/x-python",
   "name": "python",
   "nbconvert_exporter": "python",
   "pygments_lexer": "ipython3",
   "version": "3.7.12"
  }
 },
 "nbformat": 4,
 "nbformat_minor": 5
}
