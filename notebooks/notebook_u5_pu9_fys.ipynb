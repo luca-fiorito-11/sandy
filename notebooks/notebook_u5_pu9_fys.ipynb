{
 "cells": [
  {
   "cell_type": "markdown",
   "id": "9161a136",
   "metadata": {},
   "source": [
    "# Retrieve CFYs for Cs, Sr and Nd"
   ]
  },
  {
   "cell_type": "code",
   "execution_count": null,
   "id": "95f62408",
   "metadata": {
    "execution": {
     "iopub.execute_input": "2023-08-09T15:34:15.334063Z",
     "iopub.status.busy": "2023-08-09T15:34:15.334063Z",
     "iopub.status.idle": "2023-08-09T15:34:17.416482Z",
     "shell.execute_reply": "2023-08-09T15:34:17.416482Z"
    }
   },
   "outputs": [],
   "source": [
    "import sandy"
   ]
  },
  {
   "cell_type": "code",
   "execution_count": null,
   "id": "30b25131",
   "metadata": {
    "execution": {
     "iopub.execute_input": "2023-08-09T15:34:17.416482Z",
     "iopub.status.busy": "2023-08-09T15:34:17.416482Z",
     "iopub.status.idle": "2023-08-09T15:34:17.425290Z",
     "shell.execute_reply": "2023-08-09T15:34:17.425290Z"
    }
   },
   "outputs": [],
   "source": [
    "import pandas as pd\n",
    "import numpy as np"
   ]
  },
  {
   "cell_type": "code",
   "execution_count": null,
   "id": "05506bc8",
   "metadata": {
    "execution": {
     "iopub.execute_input": "2023-08-09T15:34:17.425290Z",
     "iopub.status.busy": "2023-08-09T15:34:17.425290Z",
     "iopub.status.idle": "2023-08-09T15:34:18.528141Z",
     "shell.execute_reply": "2023-08-09T15:34:18.528141Z"
    }
   },
   "outputs": [],
   "source": [
    "import matplotlib.pyplot as plt\n",
    "import seaborn as sns\n",
    "sns.set_style(\"whitegrid\")"
   ]
  },
  {
   "cell_type": "markdown",
   "id": "1017f3cf",
   "metadata": {},
   "source": [
    "# Data acquisition"
   ]
  },
  {
   "cell_type": "code",
   "execution_count": null,
   "id": "84983c78",
   "metadata": {
    "execution": {
     "iopub.execute_input": "2023-08-09T15:34:18.528141Z",
     "iopub.status.busy": "2023-08-09T15:34:18.528141Z",
     "iopub.status.idle": "2023-08-09T15:34:18.535670Z",
     "shell.execute_reply": "2023-08-09T15:34:18.535670Z"
    }
   },
   "outputs": [],
   "source": [
    "nuclides = [551330, 551370, 380900, 601430, 601440, 601450, 601460, 601470, 601480, 601500]"
   ]
  },
  {
   "cell_type": "code",
   "execution_count": null,
   "id": "6c6126c0",
   "metadata": {
    "execution": {
     "iopub.execute_input": "2023-08-09T15:34:18.535670Z",
     "iopub.status.busy": "2023-08-09T15:34:18.535670Z",
     "iopub.status.idle": "2023-08-09T15:34:18.996488Z",
     "shell.execute_reply": "2023-08-09T15:34:18.996488Z"
    }
   },
   "outputs": [],
   "source": [
    "fy = sandy.get_endf6_file(\"jeff_33\", \"nfpy\", [922350, 942390])\n",
    "d = sandy.Fy.from_endf6(fy).data.query(\"MT==459 & E==2.53e-2\")\n",
    "d_33 = d[d.ZAP.isin(nuclides)].assign(LIB=\"JEFF-3.3\")"
   ]
  },
  {
   "cell_type": "code",
   "execution_count": null,
   "id": "cab0cef5",
   "metadata": {
    "execution": {
     "iopub.execute_input": "2023-08-09T15:34:18.996488Z",
     "iopub.status.busy": "2023-08-09T15:34:18.996488Z",
     "iopub.status.idle": "2023-08-09T15:34:19.409769Z",
     "shell.execute_reply": "2023-08-09T15:34:19.409769Z"
    }
   },
   "outputs": [],
   "source": [
    "fy = sandy.get_endf6_file(\"jeff_311\", \"nfpy\", [922350, 942390])\n",
    "d = sandy.Fy.from_endf6(fy).data.query(\"MT==459 & E==2.53e-2\")\n",
    "d_311 = d[d.ZAP.isin(nuclides)].assign(LIB=\"JEFF-3.1.1\")"
   ]
  },
  {
   "cell_type": "code",
   "execution_count": null,
   "id": "6728bc63",
   "metadata": {
    "execution": {
     "iopub.execute_input": "2023-08-09T15:34:19.409769Z",
     "iopub.status.busy": "2023-08-09T15:34:19.409769Z",
     "iopub.status.idle": "2023-08-09T15:34:19.993864Z",
     "shell.execute_reply": "2023-08-09T15:34:19.993864Z"
    }
   },
   "outputs": [],
   "source": [
    "fy = sandy.get_endf6_file(\"endfb_71\", \"nfpy\", [922350, 942390])\n",
    "d = sandy.Fy.from_endf6(fy).data.query(\"MT==459 & E==2.53e-2\")\n",
    "d_71 = d[d.ZAP.isin(nuclides)].assign(LIB=\"ENDF/B-VII.1\")"
   ]
  },
  {
   "cell_type": "code",
   "execution_count": null,
   "id": "687db9d4",
   "metadata": {
    "execution": {
     "iopub.execute_input": "2023-08-09T15:34:19.993864Z",
     "iopub.status.busy": "2023-08-09T15:34:19.993864Z",
     "iopub.status.idle": "2023-08-09T15:34:20.608957Z",
     "shell.execute_reply": "2023-08-09T15:34:20.608957Z"
    }
   },
   "outputs": [],
   "source": [
    "fy = sandy.get_endf6_file(\"endfb_80\", \"nfpy\", [922350, 942390])\n",
    "d = sandy.Fy.from_endf6(fy).data.query(\"MT==459 & E==2.53e-2\")\n",
    "d_80 = d[d.ZAP.isin(nuclides)].assign(LIB=\"ENDF/B-VIII.0\")"
   ]
  },
  {
   "cell_type": "code",
   "execution_count": null,
   "id": "db897fe3",
   "metadata": {
    "execution": {
     "iopub.execute_input": "2023-08-09T15:34:20.608957Z",
     "iopub.status.busy": "2023-08-09T15:34:20.608957Z",
     "iopub.status.idle": "2023-08-09T15:34:21.116007Z",
     "shell.execute_reply": "2023-08-09T15:34:21.116007Z"
    }
   },
   "outputs": [],
   "source": [
    "fy = sandy.get_endf6_file(\"jendl_40u\", \"nfpy\", [922350, 942390])\n",
    "d = sandy.Fy.from_endf6(fy).data.query(\"MT==459 & E==2.53e-2\")\n",
    "d_40u = d[d.ZAP.isin(nuclides)].assign(LIB=\"JENDL-4.0u\")"
   ]
  },
  {
   "cell_type": "code",
   "execution_count": null,
   "id": "585529b1",
   "metadata": {
    "execution": {
     "iopub.execute_input": "2023-08-09T15:34:21.116007Z",
     "iopub.status.busy": "2023-08-09T15:34:21.116007Z",
     "iopub.status.idle": "2023-08-09T15:34:21.124208Z",
     "shell.execute_reply": "2023-08-09T15:34:21.124208Z"
    }
   },
   "outputs": [],
   "source": [
    "data = pd.concat([\n",
    "    d_311,\n",
    "    d_33,\n",
    "    d_71,\n",
    "    d_80,\n",
    "    d_40u,\n",
    "], ignore_index=True)"
   ]
  },
  {
   "cell_type": "markdown",
   "id": "98f20eb0",
   "metadata": {},
   "source": [
    "## U-235 data"
   ]
  },
  {
   "cell_type": "markdown",
   "id": "5bb99192",
   "metadata": {},
   "source": [
    "### Cumulative yield"
   ]
  },
  {
   "cell_type": "code",
   "execution_count": null,
   "id": "1e9d13cb",
   "metadata": {
    "execution": {
     "iopub.execute_input": "2023-08-09T15:34:21.124208Z",
     "iopub.status.busy": "2023-08-09T15:34:21.124208Z",
     "iopub.status.idle": "2023-08-09T15:34:21.151218Z",
     "shell.execute_reply": "2023-08-09T15:34:21.151218Z"
    }
   },
   "outputs": [],
   "source": [
    "vals = data.query(\"ZAM==922350\").pivot_table(index=\"LIB\", columns=\"ZAP\", values=\"FY\")\n",
    "vals.columns = pd.Index(map(sandy.zam.zam2latex, vals.columns), name=\"ZAP\")\n",
    "vals"
   ]
  },
  {
   "cell_type": "markdown",
   "id": "b18c29c0",
   "metadata": {},
   "source": [
    "### Absolute error"
   ]
  },
  {
   "cell_type": "code",
   "execution_count": null,
   "id": "c6c8888d",
   "metadata": {
    "execution": {
     "iopub.execute_input": "2023-08-09T15:34:21.151218Z",
     "iopub.status.busy": "2023-08-09T15:34:21.151218Z",
     "iopub.status.idle": "2023-08-09T15:34:21.174010Z",
     "shell.execute_reply": "2023-08-09T15:34:21.174010Z"
    }
   },
   "outputs": [],
   "source": [
    "err = data.query(\"ZAM==922350\").pivot_table(index=\"LIB\", columns=\"ZAP\", values=\"DFY\")\n",
    "err.columns = pd.Index(map(sandy.zam.zam2latex, err.columns), name=\"ZAP\")\n",
    "err"
   ]
  },
  {
   "cell_type": "code",
   "execution_count": null,
   "id": "ed51723b",
   "metadata": {
    "execution": {
     "iopub.execute_input": "2023-08-09T15:34:21.174010Z",
     "iopub.status.busy": "2023-08-09T15:34:21.174010Z",
     "iopub.status.idle": "2023-08-09T15:34:22.057533Z",
     "shell.execute_reply": "2023-08-09T15:34:22.057533Z"
    }
   },
   "outputs": [],
   "source": [
    "%%capture --no-display\n",
    "fig, ax = plt.subplots(figsize=(7, 3.5), dpi=100)\n",
    "\n",
    "step = 1 / (vals.T.columns.size + 1)\n",
    "for i, LIB in enumerate(vals.T.columns):\n",
    "    x = np.arange(vals.T[LIB].shape[0])\n",
    "    ax.bar(data=vals.T[LIB].reset_index(), x=x+i*step, height=LIB, yerr=err.T[LIB], capsize=2, width=step)\n",
    "ax.legend(labels=vals.T.columns)\n",
    "ticks = ax.get_xticks()\n",
    "ax.set_xticklabels(vals.columns.values)\n",
    "ax.set_xticks(np.arange(9) + step)\n",
    "ax.set(\n",
    "    ylabel=\"cumulative fission yield $\\\\pm 1\\\\sigma$\",\n",
    ")\n",
    "fig.tight_layout();"
   ]
  },
  {
   "cell_type": "markdown",
   "id": "ccf85624",
   "metadata": {},
   "source": [
    "### Relative error (%)"
   ]
  },
  {
   "cell_type": "code",
   "execution_count": null,
   "id": "c8bde610",
   "metadata": {
    "execution": {
     "iopub.execute_input": "2023-08-09T15:34:22.057533Z",
     "iopub.status.busy": "2023-08-09T15:34:22.057533Z",
     "iopub.status.idle": "2023-08-09T15:34:22.070682Z",
     "shell.execute_reply": "2023-08-09T15:34:22.070682Z"
    }
   },
   "outputs": [],
   "source": [
    "err / vals * 100"
   ]
  },
  {
   "cell_type": "markdown",
   "id": "a24e6af5",
   "metadata": {},
   "source": [
    "## Pu-239 data"
   ]
  },
  {
   "cell_type": "markdown",
   "id": "615a038c",
   "metadata": {},
   "source": [
    "### Cumulative yield"
   ]
  },
  {
   "cell_type": "code",
   "execution_count": null,
   "id": "a7f783ee",
   "metadata": {
    "execution": {
     "iopub.execute_input": "2023-08-09T15:34:22.072692Z",
     "iopub.status.busy": "2023-08-09T15:34:22.072692Z",
     "iopub.status.idle": "2023-08-09T15:34:22.094505Z",
     "shell.execute_reply": "2023-08-09T15:34:22.094505Z"
    }
   },
   "outputs": [],
   "source": [
    "vals = data.query(\"ZAM==942390\").pivot_table(index=\"LIB\", columns=\"ZAP\", values=\"FY\")\n",
    "vals.columns = pd.Index(map(sandy.zam.zam2latex, vals.columns), name=\"ZAP\")\n",
    "vals"
   ]
  },
  {
   "cell_type": "markdown",
   "id": "86ae7743",
   "metadata": {},
   "source": [
    "### Absolute error"
   ]
  },
  {
   "cell_type": "code",
   "execution_count": null,
   "id": "16b533d6",
   "metadata": {
    "execution": {
     "iopub.execute_input": "2023-08-09T15:34:22.094505Z",
     "iopub.status.busy": "2023-08-09T15:34:22.094505Z",
     "iopub.status.idle": "2023-08-09T15:34:22.113842Z",
     "shell.execute_reply": "2023-08-09T15:34:22.113842Z"
    }
   },
   "outputs": [],
   "source": [
    "err = data.query(\"ZAM==942390\").pivot_table(index=\"LIB\", columns=\"ZAP\", values=\"DFY\")\n",
    "err.columns = pd.Index(map(sandy.zam.zam2latex, err.columns), name=\"ZAP\")\n",
    "err"
   ]
  },
  {
   "cell_type": "code",
   "execution_count": null,
   "id": "2dd53b1c",
   "metadata": {
    "execution": {
     "iopub.execute_input": "2023-08-09T15:34:22.113842Z",
     "iopub.status.busy": "2023-08-09T15:34:22.113842Z",
     "iopub.status.idle": "2023-08-09T15:34:22.780130Z",
     "shell.execute_reply": "2023-08-09T15:34:22.780130Z"
    }
   },
   "outputs": [],
   "source": [
    "%%capture --no-display\n",
    "fig, ax = plt.subplots(figsize=(7, 3.5), dpi=100)\n",
    "\n",
    "step = 1 / (vals.T.columns.size + 1)\n",
    "for i, LIB in enumerate(vals.T.columns):\n",
    "    x = np.arange(vals.T[LIB].shape[0])\n",
    "    ax.bar(data=vals.T[LIB].reset_index(), x=x+i*step, height=LIB, yerr=err.T[LIB], capsize=2, width=step)\n",
    "ax.legend(labels=vals.T.columns)\n",
    "ticks = ax.get_xticks()\n",
    "ax.set_xticklabels(vals.columns.values)\n",
    "ax.set_xticks(np.arange(9) + step)\n",
    "ax.set(\n",
    "    ylabel=\"cumulative fission yield $\\\\pm 1\\\\sigma$\",\n",
    ")\n",
    "fig.tight_layout();"
   ]
  },
  {
   "cell_type": "markdown",
   "id": "311709f5",
   "metadata": {},
   "source": [
    "### Relative error (%)"
   ]
  },
  {
   "cell_type": "code",
   "execution_count": null,
   "id": "081f29ba",
   "metadata": {
    "execution": {
     "iopub.execute_input": "2023-08-09T15:34:22.780130Z",
     "iopub.status.busy": "2023-08-09T15:34:22.780130Z",
     "iopub.status.idle": "2023-08-09T15:34:22.792614Z",
     "shell.execute_reply": "2023-08-09T15:34:22.792614Z"
    }
   },
   "outputs": [],
   "source": [
    "err / vals * 100"
   ]
  }
 ],
 "metadata": {
  "kernelspec": {
   "display_name": "Python [conda env:sandy-v1.0] *",
   "language": "python",
   "name": "conda-env-sandy-v1.0-py"
  },
  "language_info": {
   "codemirror_mode": {
    "name": "ipython",
    "version": 3
   },
   "file_extension": ".py",
   "mimetype": "text/x-python",
   "name": "python",
   "nbconvert_exporter": "python",
   "pygments_lexer": "ipython3",
   "version": "3.11.3"
  }
 },
 "nbformat": 4,
 "nbformat_minor": 5
}
