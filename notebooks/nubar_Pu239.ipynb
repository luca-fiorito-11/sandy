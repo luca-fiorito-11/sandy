{
 "cells": [
  {
   "attachments": {},
   "cell_type": "markdown",
   "metadata": {},
   "source": [
    "## ***Nubar Plot***"
   ]
  },
  {
   "cell_type": "markdown",
   "metadata": {},
   "source": []
  },
  {
   "attachments": {},
   "cell_type": "markdown",
   "metadata": {},
   "source": [
    "Let's import all the useful modules\n"
   ]
  },
  {
   "cell_type": "code",
   "execution_count": null,
   "metadata": {},
   "outputs": [],
   "source": [
    "import sandy \n",
    "import matplotlib.pyplot as plt\n",
    "import os\n",
    "os.environ[\"PATH\"] += os.pathsep + 'C:\\\\cygwin64\\\\bin'\n",
    "\n"
   ]
  },
  {
   "attachments": {},
   "cell_type": "markdown",
   "metadata": {},
   "source": [
    "Let's read and save the prompt,delayed and total nubar of the Pu239"
   ]
  },
  {
   "cell_type": "code",
   "execution_count": null,
   "metadata": {},
   "outputs": [],
   "source": [
    "# first, the zam of the Plutonium 239\n",
    "zam = sandy.zam.nuclide2zam(\"Pu239\")\n",
    "# Then the ENDF-6 file\n",
    "tape = sandy.get_endf6_file(\"jeff_33\",\"xs\",zam)\n",
    "\n",
    "# Then, convert it into Xs object and then into dataframe\n",
    "Xs = sandy.Xs.from_endf6(tape).data"
   ]
  },
  {
   "cell_type": "code",
   "execution_count": null,
   "metadata": {},
   "outputs": [],
   "source": [
    "nubar_total = Xs[(9437, 452)]\n",
    "nubar_delayed = Xs[(9437, 455)]\n",
    "nubar_prompt = Xs[(9437, 456)]\n",
    "\n"
   ]
  },
  {
   "attachments": {},
   "cell_type": "markdown",
   "metadata": {},
   "source": [
    "Finally, the plots of all of them "
   ]
  },
  {
   "cell_type": "code",
   "execution_count": null,
   "metadata": {},
   "outputs": [],
   "source": [
    "plt.style.use(\"ggplot\")\n",
    "#plt.rcParams[\"font.size\"] = 20\n",
    "\n",
    "\n",
    "fig1, ax1 = plt.subplots()\n",
    "fig2, ax2 = plt.subplots()\n",
    "fig3, ax3 = plt.subplots()\n",
    "fig4, ax4 = plt.subplots()\n",
    "# The total nubar as function of energy \n",
    "nubar_total.plot(ax = ax1)\n",
    "ax1.set_xscale(\"log\")\n",
    "ax1.set_yscale(\"log\")\n",
    "ax1.set_xlabel(\"Energy [eV]\")\n",
    "ax1.set_ylabel(\"Total nubar [-]\")\n",
    "ax1.set_title(\"$^{239}$Pu\")\n",
    "ax1.xaxis.label.set_size(13)\n",
    "ax1.yaxis.label.set_size(13)\n",
    "## The delayed nubar as function of energy\n",
    "nubar_delayed.plot(ax = ax2)\n",
    "ax2.set_xscale(\"log\")\n",
    "ax2.set_yscale(\"log\")\n",
    "ax2.set_xlabel(\"Energy [eV]\")\n",
    "ax2.set_ylabel(\"Delayed nubar [-]\")\n",
    "ax2.set_title(\"$^{239}$Pu\")\n",
    "ax2.xaxis.label.set_size(13)\n",
    "ax2.yaxis.label.set_size(13)\n",
    "# The prompt nubar as function of energy\n",
    "nubar_prompt.plot(ax = ax3)\n",
    "ax3.set_xscale(\"log\")\n",
    "ax3.set_yscale(\"log\")\n",
    "ax3.set_xlabel(\"Energy [eV]\")\t\n",
    "ax3.set_ylabel(\"Prompt nubar [-]\")\n",
    "ax3.set_title(\"$^{239}$Pu\")\n",
    "ax3.xaxis.label.set_size(13)\n",
    "ax3.yaxis.label.set_size(13)\n",
    "# Comparison\n",
    "nubar_total.plot(ax = ax4, label = \"Total\")\n",
    "nubar_delayed.plot(ax = ax4, label = \"Delayed\")\n",
    "nubar_prompt.plot(ax = ax4, linestyle = \"dashed\", label = \"Prompt\")\n",
    "ax4.set_xscale(\"log\")\n",
    "ax4.set_yscale(\"log\")\n",
    "ax4.set_xlabel(\"Energy [eV]\")\n",
    "ax4.set_ylabel(\"Nubar [-]\")\n",
    "ax4.set_title(\"Comparison between total, delayed and prompt nubar of $^{239}$Pu\")\n",
    "ax4.xaxis.label.set_size(13)\n",
    "ax4.yaxis.label.set_size(13)\n",
    "plt.legend()\n",
    "plt.show()\n"
   ]
  },
  {
   "attachments": {},
   "cell_type": "markdown",
   "metadata": {},
   "source": [
    "The delayed nubar gives a small contribution to the total one, beign three order of magnitude smaller\n"
   ]
  }
 ],
 "metadata": {
  "kernelspec": {
   "display_name": "sandy-devel",
   "language": "python",
   "name": "python3"
  },
  "language_info": {
   "codemirror_mode": {
    "name": "ipython",
    "version": 3
   },
   "file_extension": ".py",
   "mimetype": "text/x-python",
   "name": "python",
   "nbconvert_exporter": "python",
   "pygments_lexer": "ipython3",
   "version": "3.10.9"
  },
  "orig_nbformat": 4
 },
 "nbformat": 4,
 "nbformat_minor": 2
}
