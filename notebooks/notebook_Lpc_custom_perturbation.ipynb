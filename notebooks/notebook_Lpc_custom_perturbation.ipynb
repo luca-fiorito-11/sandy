{
 "cells": [
  {
   "cell_type": "code",
   "execution_count": null,
   "metadata": {},
   "outputs": [],
   "source": [
    "import sandy"
   ]
  },
  {
   "cell_type": "code",
   "execution_count": null,
   "metadata": {},
   "outputs": [],
   "source": [
    "import pandas as pd\n",
    "import numpy as np\n",
    "import matplotlib.pyplot as plt"
   ]
  },
  {
   "cell_type": "code",
   "execution_count": null,
   "metadata": {},
   "outputs": [],
   "source": [
    "col = pd.MultiIndex.from_arrays([[2], [9237], [1]], names=('MT', 'MAT', 'P'))\n",
    "pert = pd.DataFrame([1.3, 1.5, 1.2, 1.1, 1, 0.7, 1.6, 0.5, 1.8, 1.5, 0.6, 1.5, 0.8], \n",
    "                    index=sandy.energy_grids.CASMO12,\n",
    "                    columns=col)\n",
    "pert = sandy.Pert(pert)\n",
    "pert"
   ]
  },
  {
   "cell_type": "markdown",
   "metadata": {},
   "source": [
    "Custom perturbation of U-238:"
   ]
  },
  {
   "cell_type": "code",
   "execution_count": null,
   "metadata": {},
   "outputs": [],
   "source": [
    "extra_points = np.logspace(-5, 7, 49)"
   ]
  },
  {
   "cell_type": "code",
   "execution_count": null,
   "metadata": {},
   "outputs": [],
   "source": [
    "lpc = sandy.Lpc.from_endf6(sandy.get_endf6_file(\"jeff_33\", \"xs\", 922380)).reshape(extra_points)"
   ]
  },
  {
   "cell_type": "code",
   "execution_count": null,
   "metadata": {},
   "outputs": [],
   "source": [
    "lpc_pert = lpc.custom_perturbation(pert)"
   ]
  },
  {
   "cell_type": "code",
   "execution_count": null,
   "metadata": {},
   "outputs": [],
   "source": [
    "fig, ax = plt.subplots(figsize=(7, 3.5), dpi=100)\n",
    "lpc.data.loc[(9237, 2), (1)].plot(logx=True, logy=True, alpha=0.8, linewidth=0.9, ax=ax)\n",
    "lpc_pert.data.loc[(9237, 2), (1)].plot(logx=True, logy=True, alpha=0.8, linewidth=0.9, ax=ax)\n",
    "ax.set_ylabel(\"Legendre polynomial coefficients for P=1\")\n",
    "ax.set_xlabel(\"energy / eV\")\n",
    "fig.tight_layout()"
   ]
  }
 ],
 "metadata": {
  "interpreter": {
   "hash": "d167b81dab4cfdd7e83bd7f0413ce20e956b35802f4873808516fc813094dcfb"
  },
  "kernelspec": {
   "display_name": "Python 3.7.10 ('sandy-devel')",
   "language": "python",
   "name": "python3"
  },
  "language_info": {
   "codemirror_mode": {
    "name": "ipython",
    "version": 3
   },
   "file_extension": ".py",
   "mimetype": "text/x-python",
   "name": "python",
   "nbconvert_exporter": "python",
   "pygments_lexer": "ipython3",
   "version": "3.7.10"
  },
  "orig_nbformat": 4
 },
 "nbformat": 4,
 "nbformat_minor": 2
}
