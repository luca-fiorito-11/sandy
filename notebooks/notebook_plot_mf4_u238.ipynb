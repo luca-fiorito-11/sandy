{
 "cells": [
  {
   "cell_type": "markdown",
   "id": "97d19801",
   "metadata": {},
   "source": [
    "# Plotting angular distributions for U-238"
   ]
  },
  {
   "cell_type": "code",
   "execution_count": null,
   "id": "4bce2181",
   "metadata": {
    "execution": {
     "iopub.execute_input": "2023-08-09T15:17:31.065178Z",
     "iopub.status.busy": "2023-08-09T15:17:31.065178Z",
     "iopub.status.idle": "2023-08-09T15:17:32.990785Z",
     "shell.execute_reply": "2023-08-09T15:17:32.990785Z"
    }
   },
   "outputs": [],
   "source": [
    "import sandy"
   ]
  },
  {
   "cell_type": "code",
   "execution_count": null,
   "id": "f65c85a2",
   "metadata": {
    "execution": {
     "iopub.execute_input": "2023-08-09T15:17:32.990785Z",
     "iopub.status.busy": "2023-08-09T15:17:32.990785Z",
     "iopub.status.idle": "2023-08-09T15:17:32.998611Z",
     "shell.execute_reply": "2023-08-09T15:17:32.998611Z"
    }
   },
   "outputs": [],
   "source": [
    "import numpy as np"
   ]
  },
  {
   "cell_type": "code",
   "execution_count": null,
   "id": "c6f4086f",
   "metadata": {
    "execution": {
     "iopub.execute_input": "2023-08-09T15:17:32.998611Z",
     "iopub.status.busy": "2023-08-09T15:17:32.998611Z",
     "iopub.status.idle": "2023-08-09T15:17:34.157987Z",
     "shell.execute_reply": "2023-08-09T15:17:34.156977Z"
    }
   },
   "outputs": [],
   "source": [
    "import matplotlib.pyplot as plt\n",
    "import seaborn as sns\n",
    "sns.set_style(\"whitegrid\")"
   ]
  },
  {
   "cell_type": "code",
   "execution_count": null,
   "id": "f743774c",
   "metadata": {
    "execution": {
     "iopub.execute_input": "2023-08-09T15:17:34.160985Z",
     "iopub.status.busy": "2023-08-09T15:17:34.159988Z",
     "iopub.status.idle": "2023-08-09T15:17:34.673145Z",
     "shell.execute_reply": "2023-08-09T15:17:34.673145Z"
    }
   },
   "outputs": [],
   "source": [
    "tape = sandy.get_endf6_file(\"jeff_33\", \"xs\", 922380)"
   ]
  },
  {
   "cell_type": "code",
   "execution_count": null,
   "id": "d9864c27",
   "metadata": {
    "execution": {
     "iopub.execute_input": "2023-08-09T15:17:34.673145Z",
     "iopub.status.busy": "2023-08-09T15:17:34.673145Z",
     "iopub.status.idle": "2023-08-09T15:17:35.655458Z",
     "shell.execute_reply": "2023-08-09T15:17:35.655458Z"
    }
   },
   "outputs": [],
   "source": [
    "lpc = sandy.Lpc.from_endf6(tape)  # legendre polynomial coefficients"
   ]
  },
  {
   "cell_type": "markdown",
   "id": "2b3c47c9",
   "metadata": {},
   "source": [
    "Available MT numbers"
   ]
  },
  {
   "cell_type": "code",
   "execution_count": null,
   "id": "21cf995f",
   "metadata": {
    "execution": {
     "iopub.execute_input": "2023-08-09T15:17:35.655458Z",
     "iopub.status.busy": "2023-08-09T15:17:35.655458Z",
     "iopub.status.idle": "2023-08-09T15:17:35.672524Z",
     "shell.execute_reply": "2023-08-09T15:17:35.672524Z"
    }
   },
   "outputs": [],
   "source": [
    "lpc.data.index.get_level_values(\"MT\").unique()"
   ]
  },
  {
   "cell_type": "markdown",
   "id": "003719ee",
   "metadata": {},
   "source": [
    "Tabulated energies (linear interpolation is assumed)"
   ]
  },
  {
   "cell_type": "code",
   "execution_count": null,
   "id": "659890bc",
   "metadata": {
    "execution": {
     "iopub.execute_input": "2023-08-09T15:17:35.672524Z",
     "iopub.status.busy": "2023-08-09T15:17:35.672524Z",
     "iopub.status.idle": "2023-08-09T15:17:35.686690Z",
     "shell.execute_reply": "2023-08-09T15:17:35.686690Z"
    }
   },
   "outputs": [],
   "source": [
    "lpc.data.index.get_level_values(\"E\").unique()"
   ]
  },
  {
   "cell_type": "markdown",
   "id": "bf19ae09",
   "metadata": {},
   "source": [
    "## Plot for MT=2"
   ]
  },
  {
   "cell_type": "code",
   "execution_count": null,
   "id": "6b0d332a",
   "metadata": {
    "execution": {
     "iopub.execute_input": "2023-08-09T15:17:35.686690Z",
     "iopub.status.busy": "2023-08-09T15:17:35.686690Z",
     "iopub.status.idle": "2023-08-09T15:17:37.467300Z",
     "shell.execute_reply": "2023-08-09T15:17:37.467300Z"
    }
   },
   "outputs": [],
   "source": [
    "# keep only coefficients for first 6 polynomials\n",
    "data = lpc.data.stack().rename(\"VAL\").reset_index().query(\"MT==2 & P<=6\")\n",
    "data[\"P\"] = data[\"P\"].astype(\"category\")\n",
    "\n",
    "fig, ax = plt.subplots(figsize=(7, 4), dpi=100)\n",
    "sns.lineplot(ax=ax, data=data, x=\"E\", y=\"VAL\", hue=\"P\")\n",
    "ax.set_xlim([1e1, 2e7])\n",
    "ax.set_xlabel(\"neutron energy / $MeV$\")\n",
    "ax.set_ylabel(\"polynomial coefficient\")\n",
    "ax.set_xscale(\"log\")\n",
    "fig.tight_layout()"
   ]
  },
  {
   "cell_type": "markdown",
   "id": "cb626bc9",
   "metadata": {},
   "source": [
    "Convert polynomial coefficients to tabulated angular distribution"
   ]
  },
  {
   "cell_type": "code",
   "execution_count": null,
   "id": "a1496759",
   "metadata": {
    "execution": {
     "iopub.execute_input": "2023-08-09T15:17:37.467300Z",
     "iopub.status.busy": "2023-08-09T15:17:37.467300Z",
     "iopub.status.idle": "2023-08-09T15:17:37.501367Z",
     "shell.execute_reply": "2023-08-09T15:17:37.500352Z"
    }
   },
   "outputs": [],
   "source": [
    "cosines = np.linspace(-1, 1, 101)\n",
    "tpd = lpc.filter_by(\"MT\", 2).to_tpd(cosines=cosines)"
   ]
  },
  {
   "cell_type": "code",
   "execution_count": null,
   "id": "13d2ece1",
   "metadata": {
    "execution": {
     "iopub.execute_input": "2023-08-09T15:17:37.503564Z",
     "iopub.status.busy": "2023-08-09T15:17:37.503564Z",
     "iopub.status.idle": "2023-08-09T15:17:38.922306Z",
     "shell.execute_reply": "2023-08-09T15:17:38.922306Z"
    }
   },
   "outputs": [],
   "source": [
    "data = tpd.data.stack().rename(\"VAL\").reset_index()\n",
    "\n",
    "fig, ax = plt.subplots(figsize=(7, 4), dpi=100)\n",
    "sns.lineplot(ax=ax, data=data, x=\"COSINE\", y=\"VAL\", hue=\"E\")\n",
    "ax.legend(title=\"neutron energy / $MeV$\", ncol=2)\n",
    "ax.set_xlim([-1, 1])\n",
    "ax.set_xlabel(\"scattering cosine\")\n",
    "ax.set_ylabel(\"tabulated angular distribution\")\n",
    "ax.set_yscale(\"log\")\n",
    "fig.tight_layout()"
   ]
  },
  {
   "cell_type": "markdown",
   "id": "dcb9b4ea",
   "metadata": {},
   "source": [
    "## Plot for MT=51"
   ]
  },
  {
   "cell_type": "code",
   "execution_count": null,
   "id": "0f37882c",
   "metadata": {
    "execution": {
     "iopub.execute_input": "2023-08-09T15:17:38.922306Z",
     "iopub.status.busy": "2023-08-09T15:17:38.922306Z",
     "iopub.status.idle": "2023-08-09T15:17:38.954270Z",
     "shell.execute_reply": "2023-08-09T15:17:38.954270Z"
    }
   },
   "outputs": [],
   "source": [
    "cosines = np.linspace(-1, 1, 101)\n",
    "tpd = lpc.filter_by(\"MT\", 51).to_tpd(cosines=cosines)"
   ]
  },
  {
   "cell_type": "code",
   "execution_count": null,
   "id": "ad7bd348",
   "metadata": {
    "execution": {
     "iopub.execute_input": "2023-08-09T15:17:38.954270Z",
     "iopub.status.busy": "2023-08-09T15:17:38.954270Z",
     "iopub.status.idle": "2023-08-09T15:17:39.843187Z",
     "shell.execute_reply": "2023-08-09T15:17:39.843187Z"
    }
   },
   "outputs": [],
   "source": [
    "data = tpd.data.stack().rename(\"VAL\").reset_index()\n",
    "\n",
    "fig, ax = plt.subplots(figsize=(7, 4), dpi=100)\n",
    "sns.lineplot(ax=ax, data=data, x=\"COSINE\", y=\"VAL\", hue=\"E\")\n",
    "ax.legend(title=\"neutron energy / $MeV$\", ncol=2)\n",
    "ax.set_xlim([-1, 1])\n",
    "ax.set_xlabel(\"scattering cosine\")\n",
    "ax.set_ylabel(\"tabulated angular distribution\")\n",
    "ax.set_yscale(\"log\")\n",
    "fig.tight_layout()"
   ]
  },
  {
   "cell_type": "markdown",
   "id": "bb9ebf31",
   "metadata": {},
   "source": [
    "## Plot for MT=90"
   ]
  },
  {
   "cell_type": "code",
   "execution_count": null,
   "id": "3afe3041",
   "metadata": {
    "execution": {
     "iopub.execute_input": "2023-08-09T15:17:39.843187Z",
     "iopub.status.busy": "2023-08-09T15:17:39.843187Z",
     "iopub.status.idle": "2023-08-09T15:17:39.875880Z",
     "shell.execute_reply": "2023-08-09T15:17:39.875880Z"
    }
   },
   "outputs": [],
   "source": [
    "cosines = np.linspace(-1, 1, 101)\n",
    "tpd = lpc.filter_by(\"MT\", 90).to_tpd(cosines=cosines)"
   ]
  },
  {
   "cell_type": "code",
   "execution_count": null,
   "id": "e78e629d",
   "metadata": {
    "execution": {
     "iopub.execute_input": "2023-08-09T15:17:39.875880Z",
     "iopub.status.busy": "2023-08-09T15:17:39.875880Z",
     "iopub.status.idle": "2023-08-09T15:17:41.008122Z",
     "shell.execute_reply": "2023-08-09T15:17:41.008122Z"
    }
   },
   "outputs": [],
   "source": [
    "data = tpd.data.stack().rename(\"VAL\").reset_index()\n",
    "\n",
    "fig, ax = plt.subplots(figsize=(7, 4), dpi=100)\n",
    "sns.lineplot(ax=ax, data=data, x=\"COSINE\", y=\"VAL\", hue=\"E\")\n",
    "ax.legend(title=\"neutron energy / $MeV$\", ncol=2)\n",
    "ax.set_xlim([-1, 1])\n",
    "ax.set_xlabel(\"scattering cosine\")\n",
    "ax.set_ylabel(\"tabulated angular distribution\")\n",
    "ax.set_yscale(\"log\")\n",
    "fig.tight_layout()"
   ]
  }
 ],
 "metadata": {
  "kernelspec": {
   "display_name": "Python [conda env:sandy-v1.0] *",
   "language": "python",
   "name": "conda-env-sandy-v1.0-py"
  },
  "language_info": {
   "codemirror_mode": {
    "name": "ipython",
    "version": 3
   },
   "file_extension": ".py",
   "mimetype": "text/x-python",
   "name": "python",
   "nbconvert_exporter": "python",
   "pygments_lexer": "ipython3",
   "version": "3.11.3"
  }
 },
 "nbformat": 4,
 "nbformat_minor": 5
}
