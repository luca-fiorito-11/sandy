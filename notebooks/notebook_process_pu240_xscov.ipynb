{
 "cells": [
  {
   "cell_type": "markdown",
   "id": "84e50fd1",
   "metadata": {},
   "source": [
    "# Process and plot Pu-240 xs covariance matrix with cross terms"
   ]
  },
  {
   "cell_type": "code",
   "execution_count": null,
   "id": "e21a2902",
   "metadata": {},
   "outputs": [],
   "source": [
    "import sandy"
   ]
  },
  {
   "cell_type": "code",
   "execution_count": null,
   "id": "d441373c",
   "metadata": {},
   "outputs": [],
   "source": [
    "import matplotlib.pyplot as plt\n",
    "import seaborn as sns\n",
    "sns.set_style(\"whitegrid\")"
   ]
  },
  {
   "cell_type": "code",
   "execution_count": null,
   "id": "c62afe2c",
   "metadata": {},
   "outputs": [],
   "source": [
    "# ERRORR parameters\n",
    "ek_errorr = sandy.energy_grids.ECCO33  # 33 group energy structure\n",
    "err = 0.1  # RECONR recostruction tolerance, low for fast calculations\n",
    "mt = [18, 102]  # select only fission and capture"
   ]
  },
  {
   "cell_type": "markdown",
   "id": "e07c1cd4",
   "metadata": {},
   "source": [
    "## JEFF-3.3"
   ]
  },
  {
   "cell_type": "code",
   "execution_count": null,
   "id": "00ebf168",
   "metadata": {},
   "outputs": [],
   "source": [
    "errorr = sandy.get_endf6_file(\"jeff_33\", \"xs\", 942400).get_errorr(err=err, ek_errorr=ek_errorr, mt=mt, verbose=True)\n",
    "cov = errorr.get_cov()"
   ]
  },
  {
   "cell_type": "code",
   "execution_count": null,
   "id": "470f840b",
   "metadata": {},
   "outputs": [],
   "source": [
    "fig, ax = plt.subplots(figsize=(8, 8), dpi=100)\n",
    "ax.set_aspect(\"equal\")\n",
    "sns.heatmap(cov.get_corr().data, cmap=\"bwr\", vmin=-1, vmax=1)\n",
    "ax.axhline(33, color='k')\n",
    "ax.axvline(33, color='k')\n",
    "fig.tight_layout()"
   ]
  },
  {
   "cell_type": "markdown",
   "id": "6ff14088",
   "metadata": {},
   "source": [
    "## ENDF/B-VIII.0"
   ]
  },
  {
   "cell_type": "code",
   "execution_count": null,
   "id": "3bed5247",
   "metadata": {},
   "outputs": [],
   "source": [
    "errorr = sandy.get_endf6_file(\"endfb_80\", \"xs\", 942400).get_errorr(\n",
    "    err=err,\n",
    "    ek_errorr=ek_errorr,\n",
    "    mt=mt,\n",
    "    irespr=0,  # faster handling of resonance parameters\n",
    "    nubar=False,  # skip nubar\n",
    "    chi=False,  # skip chi\n",
    "    verbose=True,\n",
    ")\n",
    "cov = errorr.get_cov()"
   ]
  },
  {
   "cell_type": "code",
   "execution_count": null,
   "id": "2f84cbca",
   "metadata": {},
   "outputs": [],
   "source": [
    "fig, ax = plt.subplots(figsize=(6, 6), dpi=100)\n",
    "ax.set_aspect(\"equal\")\n",
    "sns.heatmap(cov.get_corr().data, cmap=\"bwr\", vmin=-1, vmax=1)\n",
    "ax.axhline(33, color='k')\n",
    "ax.axvline(33, color='k')\n",
    "fig.tight_layout()"
   ]
  }
 ],
 "metadata": {
  "kernelspec": {
   "display_name": "Python3 (sandy-devel)",
   "language": "python",
   "name": "sandy-devel"
  },
  "language_info": {
   "codemirror_mode": {
    "name": "ipython",
    "version": 3
   },
   "file_extension": ".py",
   "mimetype": "text/x-python",
   "name": "python",
   "nbconvert_exporter": "python",
   "pygments_lexer": "ipython3",
   "version": "3.7.10"
  }
 },
 "nbformat": 4,
 "nbformat_minor": 5
}
