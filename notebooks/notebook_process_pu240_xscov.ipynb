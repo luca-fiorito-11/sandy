{
 "cells": [
  {
   "cell_type": "markdown",
   "id": "84e50fd1",
   "metadata": {},
   "source": [
    "# Process and plot Pu-240 xs covariance matrix with cross terms"
   ]
  },
  {
   "cell_type": "code",
   "execution_count": null,
   "id": "e21a2902",
   "metadata": {},
   "outputs": [],
   "source": [
    "import sandy"
   ]
  },
  {
   "cell_type": "code",
   "execution_count": null,
   "id": "d441373c",
   "metadata": {},
   "outputs": [],
   "source": [
    "import matplotlib.pyplot as plt\n",
    "import seaborn as sns\n",
    "sns.set_style(\"whitegrid\")"
   ]
  },
  {
   "cell_type": "code",
   "execution_count": null,
   "id": "c62afe2c",
   "metadata": {},
   "outputs": [],
   "source": [
    "# ERRORR parameters\n",
    "ek = sandy.energy_grids.ECCO33  # 33 group energy structure\n",
    "err = 0.1  # RECONR recostruction tolerance, low for fast calculations\n",
    "mt = [18, 102]  # select only fission and capture"
   ]
  },
  {
   "cell_type": "markdown",
   "id": "e07c1cd4",
   "metadata": {},
   "source": [
    "## JEFF-3.3"
   ]
  },
  {
   "cell_type": "code",
   "execution_count": null,
   "id": "00ebf168",
   "metadata": {},
   "outputs": [],
   "source": [
    "errorr = sandy.get_endf6_file(\"jeff_33\", \"xs\", 942400).get_errorr(err=err, errorr33_kws=dict(mt=mt, ek=ek), verbose=True)\n",
    "cov = errorr[\"errorr33\"].get_cov()"
   ]
  },
  {
   "cell_type": "code",
   "execution_count": null,
   "id": "470f840b",
   "metadata": {},
   "outputs": [],
   "source": [
    "fig, ax = plt.subplots(figsize=(8, 8), dpi=100)\n",
    "ax.set_aspect(\"equal\")\n",
    "sns.heatmap(cov.get_corr().data, cmap=\"bwr\", vmin=-1, vmax=1)\n",
    "ax.axhline(33, color='k')\n",
    "ax.axvline(33, color='k')\n",
    "fig.tight_layout()"
   ]
  },
  {
   "cell_type": "markdown",
   "id": "6ff14088",
   "metadata": {},
   "source": [
    "## ENDF/B-VIII.0"
   ]
  },
  {
   "cell_type": "code",
   "execution_count": null,
   "id": "3bed5247",
   "metadata": {},
   "outputs": [],
   "source": [
    "errorr = sandy.get_endf6_file(\"endfb_80\", \"xs\", 942400).get_errorr(\n",
    "    err=err,\n",
    "    errorr33_kws=dict(\n",
    "        ek=ek,\n",
    "        mt=mt,\n",
    "        irespr=0,  # faster handling of resonance parameters\n",
    "    ),\n",
    "    nubar=False,  # skip nubar\n",
    "    chi=False,  # skip chi\n",
    "    verbose=True,\n",
    ")\n",
    "cov = errorr[\"errorr33\"].get_cov()"
   ]
  },
  {
   "cell_type": "code",
   "execution_count": null,
   "id": "2f84cbca",
   "metadata": {},
   "outputs": [],
   "source": [
    "fig, ax = plt.subplots(figsize=(8, 8), dpi=100)\n",
    "ax.set_aspect(\"equal\")\n",
    "sns.heatmap(cov.get_corr().data, cmap=\"bwr\", vmin=-1, vmax=1)\n",
    "ax.axhline(33, color='k')\n",
    "ax.axvline(33, color='k')\n",
    "fig.tight_layout()"
   ]
  }
 ],
 "metadata": {
  "kernelspec": {
   "display_name": "Python [conda env:sandy-v1.0] *",
   "language": "python",
   "name": "conda-env-sandy-v1.0-py"
  },
  "language_info": {
   "codemirror_mode": {
    "name": "ipython",
    "version": 3
   },
   "file_extension": ".py",
   "mimetype": "text/x-python",
   "name": "python",
   "nbconvert_exporter": "python",
   "pygments_lexer": "ipython3",
   "version": "3.11.3"
  }
 },
 "nbformat": 4,
 "nbformat_minor": 5
}
