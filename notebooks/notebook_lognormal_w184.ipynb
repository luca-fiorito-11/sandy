{
 "cells": [
  {
   "cell_type": "markdown",
   "id": "ed95aad2",
   "metadata": {},
   "source": [
    "# Lognormal sampling for JEFF-3.3 W-184"
   ]
  },
  {
   "cell_type": "code",
   "execution_count": null,
   "id": "87998bf1",
   "metadata": {},
   "outputs": [],
   "source": [
    "import sandy"
   ]
  },
  {
   "cell_type": "code",
   "execution_count": null,
   "id": "91bbb756",
   "metadata": {},
   "outputs": [],
   "source": [
    "import pandas as pd"
   ]
  },
  {
   "cell_type": "code",
   "execution_count": null,
   "id": "a9223a63",
   "metadata": {},
   "outputs": [],
   "source": [
    "import numpy as np\n",
    "import seaborn as sns\n",
    "import matplotlib.pyplot as plt"
   ]
  },
  {
   "cell_type": "code",
   "execution_count": null,
   "id": "6f0705bd",
   "metadata": {},
   "outputs": [],
   "source": [
    "endf6 = sandy.get_endf6_file(\"jeff_33\", \"xs\", 741840)"
   ]
  },
  {
   "cell_type": "code",
   "execution_count": null,
   "id": "249570fb",
   "metadata": {},
   "outputs": [],
   "source": [
    "mts = [4] + list(range(51, 69)) + [91]\n",
    "cov = endf6.get_errorr(err=1, chi=False, errorr33_kws=dict(ign=13), mubar=False, verbose=True)[\"errorr33\"].get_cov()"
   ]
  },
  {
   "cell_type": "code",
   "execution_count": null,
   "id": "1671d26e",
   "metadata": {},
   "outputs": [],
   "source": [
    "s = cov.get_std().reset_index().query(\"MT in @mts\")\n",
    "s[\"ERIGHT\"] = [x.right for x in s.E]\n",
    "s[\"MT\"] = s[\"MT\"].astype(\"category\")\n",
    "s[\"STD\"] *= 100\n",
    "\n",
    "fig, ax = plt.subplots(figsize=(8, 4), dpi=100)\n",
    "sns.lineplot(data=s, x=\"ERIGHT\", y=\"STD\", ax=ax, hue=\"MT\", drawstyle=\"steps-pre\", palette=\"tab20\")\n",
    "ax.set(xlim=(1e5, 2e7), xscale=\"log\", ylim=[0, 200], ylabel=\"standard deviation / $\\%$\", xlabel=\"energy / $eV$\")\n",
    "ax.legend(ncol=2)\n",
    "fig.tight_layout()"
   ]
  },
  {
   "cell_type": "code",
   "execution_count": null,
   "id": "6b72bf61",
   "metadata": {},
   "outputs": [],
   "source": [
    "nsmp = 1000\n",
    "s_lognorm = cov.sampling(nsmp, pdf=\"lognormal\")\n",
    "s_norm = cov.sampling(nsmp, pdf=\"normal\")"
   ]
  },
  {
   "cell_type": "code",
   "execution_count": null,
   "id": "2625550e",
   "metadata": {},
   "outputs": [],
   "source": [
    "fig, ax = plt.subplots(figsize=(8, 4), dpi=100)\n",
    "\n",
    "s = s_lognorm.get_rstd().reset_index().query(\"MT in [4, 91]\")\n",
    "s[\"ERIGHT\"] = [x.right for x in s.E]\n",
    "s[\"MT\"] = s[\"MT\"].astype(\"category\")\n",
    "s[\"RSTD\"] *= 100\n",
    "s = s.assign(what=\"lognormal\")\n",
    "sln = s\n",
    "\n",
    "s = s_norm.get_rstd().reset_index().query(\"MT in [4, 91]\")\n",
    "s[\"ERIGHT\"] = [x.right for x in s.E]\n",
    "s[\"MT\"] = s[\"MT\"].astype(\"category\")\n",
    "s[\"RSTD\"] *= 100\n",
    "s = s.assign(what=\"normal\")\n",
    "sn = s\n",
    "\n",
    "s = cov.get_std().reset_index().query(\"MT in [4, 91]\")\n",
    "s[\"ERIGHT\"] = [x.right for x in s.E]\n",
    "s[\"MT\"] = s[\"MT\"].astype(\"category\")\n",
    "s[\"RSTD\"] = s[\"STD\"] * 100\n",
    "s = s.assign(what=\"reference\")\n",
    "\n",
    "s = pd.concat([sn, sln, s], ignore_index=True)\n",
    "\n",
    "sns.lineplot(data=s, x=\"ERIGHT\", y=\"RSTD\", ax=ax, hue=\"MT\", drawstyle=\"steps-pre\", palette=\"tab20\", ls=\"-\", style=\"what\")\n",
    "ax.set(xlim=(1e5, 2e7), xscale=\"log\", ylim=[0, 200], ylabel=\"standard deviation / $\\%$\", xlabel=\"energy / $eV$\")\n",
    "ax.legend(ncol=2)\n",
    "fig.tight_layout()"
   ]
  }
 ],
 "metadata": {
  "kernelspec": {
   "display_name": "Python [conda env:sandy-v1.0] *",
   "language": "python",
   "name": "conda-env-sandy-v1.0-py"
  },
  "language_info": {
   "codemirror_mode": {
    "name": "ipython",
    "version": 3
   },
   "file_extension": ".py",
   "mimetype": "text/x-python",
   "name": "python",
   "nbconvert_exporter": "python",
   "pygments_lexer": "ipython3",
   "version": "3.11.3"
  }
 },
 "nbformat": 4,
 "nbformat_minor": 5
}
