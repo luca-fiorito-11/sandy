{
 "cells": [
  {
   "cell_type": "markdown",
   "id": "c2129ca2",
   "metadata": {},
   "source": [
    "# Scatterplot for multivariate distribution "
   ]
  },
  {
   "cell_type": "code",
   "execution_count": null,
   "id": "885145e3",
   "metadata": {
    "execution": {
     "iopub.execute_input": "2023-08-09T15:10:28.865405Z",
     "iopub.status.busy": "2023-08-09T15:10:28.865405Z",
     "iopub.status.idle": "2023-08-09T15:10:31.470289Z",
     "shell.execute_reply": "2023-08-09T15:10:31.470289Z"
    }
   },
   "outputs": [],
   "source": [
    "import sandy"
   ]
  },
  {
   "cell_type": "code",
   "execution_count": null,
   "id": "17dba239",
   "metadata": {
    "execution": {
     "iopub.execute_input": "2023-08-09T15:10:31.470289Z",
     "iopub.status.busy": "2023-08-09T15:10:31.470289Z",
     "iopub.status.idle": "2023-08-09T15:10:31.477391Z",
     "shell.execute_reply": "2023-08-09T15:10:31.477391Z"
    }
   },
   "outputs": [],
   "source": [
    "import numpy as np\n",
    "import pandas as pd"
   ]
  },
  {
   "cell_type": "code",
   "execution_count": null,
   "id": "afae8cb4",
   "metadata": {
    "execution": {
     "iopub.execute_input": "2023-08-09T15:10:31.480401Z",
     "iopub.status.busy": "2023-08-09T15:10:31.480401Z",
     "iopub.status.idle": "2023-08-09T15:10:32.738766Z",
     "shell.execute_reply": "2023-08-09T15:10:32.738766Z"
    }
   },
   "outputs": [],
   "source": [
    "from scipy.stats import multivariate_normal\n",
    "from mpl_toolkits.mplot3d import Axes3D"
   ]
  },
  {
   "cell_type": "code",
   "execution_count": null,
   "id": "6b416da6",
   "metadata": {
    "execution": {
     "iopub.execute_input": "2023-08-09T15:10:32.738766Z",
     "iopub.status.busy": "2023-08-09T15:10:32.738766Z",
     "iopub.status.idle": "2023-08-09T15:10:33.056177Z",
     "shell.execute_reply": "2023-08-09T15:10:33.056177Z"
    }
   },
   "outputs": [],
   "source": [
    "import matplotlib.pyplot as plt\n",
    "import seaborn as sns\n",
    "sns.set_style(\"whitegrid\")"
   ]
  },
  {
   "cell_type": "markdown",
   "id": "bc1c8cc3",
   "metadata": {},
   "source": [
    "## $z=f(x,y)$"
   ]
  },
  {
   "cell_type": "code",
   "execution_count": null,
   "id": "f588a129",
   "metadata": {
    "execution": {
     "iopub.execute_input": "2023-08-09T15:10:33.056177Z",
     "iopub.status.busy": "2023-08-09T15:10:33.056177Z",
     "iopub.status.idle": "2023-08-09T15:10:33.064628Z",
     "shell.execute_reply": "2023-08-09T15:10:33.064628Z"
    }
   },
   "outputs": [],
   "source": [
    "x = np.linspace(0, 20, 1000)\n",
    "y = np.linspace(0, 20, 1000)\n",
    "def f(x, y): return x + 2 * y\n",
    "z = f(x, y)"
   ]
  },
  {
   "cell_type": "code",
   "execution_count": null,
   "id": "7ef29d44",
   "metadata": {
    "execution": {
     "iopub.execute_input": "2023-08-09T15:10:33.064628Z",
     "iopub.status.busy": "2023-08-09T15:10:33.064628Z",
     "iopub.status.idle": "2023-08-09T15:10:34.070166Z",
     "shell.execute_reply": "2023-08-09T15:10:34.070166Z"
    }
   },
   "outputs": [],
   "source": [
    "mean = 10\n",
    "std = mean * 1 / 100\n",
    "x = np.random.normal(loc=mean, scale=std, size=1000)\n",
    "z = f(x, 10)\n",
    "\n",
    "df = pd.DataFrame(dict(x=x, z=z))\n",
    "g = sns.jointplot(data=df, x=\"x\", y=\"z\", kind=\"reg\",\n",
    "                  color=\"tomato\", height=4)\n",
    "g.figure.set_dpi(150)"
   ]
  },
  {
   "cell_type": "markdown",
   "id": "103ec19f",
   "metadata": {},
   "source": [
    "## No correlation"
   ]
  },
  {
   "cell_type": "code",
   "execution_count": null,
   "id": "ae1def0e",
   "metadata": {
    "execution": {
     "iopub.execute_input": "2023-08-09T15:10:34.070166Z",
     "iopub.status.busy": "2023-08-09T15:10:34.070166Z",
     "iopub.status.idle": "2023-08-09T15:10:34.080048Z",
     "shell.execute_reply": "2023-08-09T15:10:34.080048Z"
    }
   },
   "outputs": [],
   "source": [
    "mean = [10, 10]\n",
    "cov = [(1, .0), (.0, 1)]\n",
    "rng = np.random.RandomState(0)\n",
    "x, y = rng.multivariate_normal(mean, cov, 10000).T\n",
    "z = f(x, y)"
   ]
  },
  {
   "cell_type": "code",
   "execution_count": null,
   "id": "f32b2aa4",
   "metadata": {
    "execution": {
     "iopub.execute_input": "2023-08-09T15:10:34.080048Z",
     "iopub.status.busy": "2023-08-09T15:10:34.080048Z",
     "iopub.status.idle": "2023-08-09T15:10:42.156251Z",
     "shell.execute_reply": "2023-08-09T15:10:42.156251Z"
    }
   },
   "outputs": [],
   "source": [
    "fig, ax = plt.subplots(figsize=(4, 4), dpi=150)\n",
    "sns.scatterplot(x=x, y=y, s=5, color=\".15\")\n",
    "sns.histplot(x=x, y=y, bins=50, pthresh=.1, cmap=\"mako\")\n",
    "sns.kdeplot(x=x, y=y, levels=5, color=\"w\", linewidths=1)\n",
    "ax.set_xlabel(\"x\")\n",
    "ax.set_ylabel(\"y\")\n",
    "fig.tight_layout()"
   ]
  },
  {
   "cell_type": "code",
   "execution_count": null,
   "id": "6e5d79eb",
   "metadata": {
    "execution": {
     "iopub.execute_input": "2023-08-09T15:10:42.156251Z",
     "iopub.status.busy": "2023-08-09T15:10:42.156251Z",
     "iopub.status.idle": "2023-08-09T15:10:43.717770Z",
     "shell.execute_reply": "2023-08-09T15:10:43.717770Z"
    }
   },
   "outputs": [],
   "source": [
    "df = pd.DataFrame(dict(x=x, y=y))\n",
    "g = sns.jointplot(data=df, x=\"x\", y=\"y\", kind=\"reg\",\n",
    "                  color=\"tomato\", height=4)\n",
    "g.figure.set_dpi(150)"
   ]
  },
  {
   "cell_type": "code",
   "execution_count": null,
   "id": "8c4bc05b",
   "metadata": {
    "execution": {
     "iopub.execute_input": "2023-08-09T15:10:43.717770Z",
     "iopub.status.busy": "2023-08-09T15:10:43.717770Z",
     "iopub.status.idle": "2023-08-09T15:10:44.356225Z",
     "shell.execute_reply": "2023-08-09T15:10:44.356225Z"
    }
   },
   "outputs": [],
   "source": [
    "xls = np.linspace(7, 13, 500)\n",
    "yls = np.linspace(7, 13, 500)\n",
    "X, Y = np.meshgrid(xls, yls)\n",
    "pos = np.empty(X.shape + (2,))\n",
    "pos[:, :, 0] = X; pos[:, :, 1] = Y\n",
    "rv = multivariate_normal(mean, cov)\n",
    "\n",
    "fig = plt.figure(figsize=(4, 4), dpi=150)\n",
    "ax = fig.add_subplot(projection='3d')\n",
    "ax.plot_surface(X, Y, rv.pdf(pos), cmap='turbo', linewidth=0)\n",
    "ax.set_xlabel('X axis')\n",
    "ax.set_ylabel('Y axis')\n",
    "fig.tight_layout()"
   ]
  },
  {
   "cell_type": "markdown",
   "id": "437e7c43",
   "metadata": {},
   "source": [
    "## With correlations, $\\rho=0.8$"
   ]
  },
  {
   "cell_type": "code",
   "execution_count": null,
   "id": "1aff5199",
   "metadata": {
    "execution": {
     "iopub.execute_input": "2023-08-09T15:10:44.356225Z",
     "iopub.status.busy": "2023-08-09T15:10:44.356225Z",
     "iopub.status.idle": "2023-08-09T15:10:44.365792Z",
     "shell.execute_reply": "2023-08-09T15:10:44.365792Z"
    }
   },
   "outputs": [],
   "source": [
    "mean = [10, 10]\n",
    "cov = [(1, .8), (.8, 1)]\n",
    "rng = np.random.RandomState(0)\n",
    "x, y = rng.multivariate_normal(mean, cov, 10000).T\n",
    "z = f(x, y)"
   ]
  },
  {
   "cell_type": "code",
   "execution_count": null,
   "id": "28a1f886",
   "metadata": {
    "execution": {
     "iopub.execute_input": "2023-08-09T15:10:44.365792Z",
     "iopub.status.busy": "2023-08-09T15:10:44.365792Z",
     "iopub.status.idle": "2023-08-09T15:10:56.472272Z",
     "shell.execute_reply": "2023-08-09T15:10:56.472272Z"
    }
   },
   "outputs": [],
   "source": [
    "fig, ax = plt.subplots(figsize=(4, 4), dpi=150)\n",
    "sns.scatterplot(x=x, y=y, s=5, color=\".15\")\n",
    "sns.histplot(x=x, y=y, bins=50, pthresh=.1, cmap=\"mako\")\n",
    "sns.kdeplot(x=x, y=y, levels=5, color=\"w\", linewidths=1)\n",
    "ax.set_xlabel(\"x\")\n",
    "ax.set_ylabel(\"y\")\n",
    "fig.tight_layout()"
   ]
  },
  {
   "cell_type": "code",
   "execution_count": null,
   "id": "449e324d",
   "metadata": {
    "execution": {
     "iopub.execute_input": "2023-08-09T15:10:56.472272Z",
     "iopub.status.busy": "2023-08-09T15:10:56.472272Z",
     "iopub.status.idle": "2023-08-09T15:10:58.149401Z",
     "shell.execute_reply": "2023-08-09T15:10:58.149401Z"
    }
   },
   "outputs": [],
   "source": [
    "df = pd.DataFrame(dict(x=x, y=y))\n",
    "g = sns.jointplot(data=df, x=\"x\", y=\"y\", kind=\"reg\",\n",
    "                  color=\"tomato\", height=4)\n",
    "g.figure.set_dpi(150)"
   ]
  },
  {
   "cell_type": "code",
   "execution_count": null,
   "id": "ee866e71",
   "metadata": {
    "execution": {
     "iopub.execute_input": "2023-08-09T15:10:58.149401Z",
     "iopub.status.busy": "2023-08-09T15:10:58.149401Z",
     "iopub.status.idle": "2023-08-09T15:10:58.964319Z",
     "shell.execute_reply": "2023-08-09T15:10:58.964319Z"
    }
   },
   "outputs": [],
   "source": [
    "xls = np.linspace(7, 13, 500)\n",
    "yls = np.linspace(7, 13, 500)\n",
    "X, Y = np.meshgrid(xls, yls)\n",
    "pos = np.empty(X.shape + (2,))\n",
    "pos[:, :, 0] = X; pos[:, :, 1] = Y\n",
    "rv = multivariate_normal(mean, cov)\n",
    "\n",
    "fig = plt.figure(figsize=(4, 4), dpi=150)\n",
    "ax = fig.add_subplot(projection='3d')\n",
    "ax.plot_surface(X, Y, rv.pdf(pos), cmap='turbo', linewidth=0)\n",
    "ax.set_xlabel('X axis')\n",
    "ax.set_ylabel('Y axis')\n",
    "fig.tight_layout()"
   ]
  },
  {
   "cell_type": "markdown",
   "id": "c08fda19",
   "metadata": {},
   "source": [
    "## With correlations, $\\rho=-0.8$"
   ]
  },
  {
   "cell_type": "code",
   "execution_count": null,
   "id": "dd383c1f",
   "metadata": {
    "execution": {
     "iopub.execute_input": "2023-08-09T15:10:58.964319Z",
     "iopub.status.busy": "2023-08-09T15:10:58.964319Z",
     "iopub.status.idle": "2023-08-09T15:10:58.978374Z",
     "shell.execute_reply": "2023-08-09T15:10:58.978374Z"
    }
   },
   "outputs": [],
   "source": [
    "mean = [10, 10]\n",
    "cov = [(1, -.8), (-.8, 1)]\n",
    "rng = np.random.RandomState(0)\n",
    "x, y = rng.multivariate_normal(mean, cov, 10000).T\n",
    "z = f(x, y)"
   ]
  },
  {
   "cell_type": "code",
   "execution_count": null,
   "id": "92a55209",
   "metadata": {
    "execution": {
     "iopub.execute_input": "2023-08-09T15:10:58.978374Z",
     "iopub.status.busy": "2023-08-09T15:10:58.978374Z",
     "iopub.status.idle": "2023-08-09T15:11:11.621316Z",
     "shell.execute_reply": "2023-08-09T15:11:11.621316Z"
    }
   },
   "outputs": [],
   "source": [
    "fig, ax = plt.subplots(figsize=(4, 4), dpi=150)\n",
    "sns.scatterplot(x=x, y=y, s=5, color=\".15\")\n",
    "sns.histplot(x=x, y=y, bins=50, pthresh=.1, cmap=\"mako\")\n",
    "sns.kdeplot(x=x, y=y, levels=5, color=\"w\", linewidths=1)\n",
    "ax.set_xlabel(\"x\")\n",
    "ax.set_ylabel(\"y\")\n",
    "fig.tight_layout()"
   ]
  },
  {
   "cell_type": "code",
   "execution_count": null,
   "id": "e1922a0e",
   "metadata": {
    "execution": {
     "iopub.execute_input": "2023-08-09T15:11:11.621316Z",
     "iopub.status.busy": "2023-08-09T15:11:11.621316Z",
     "iopub.status.idle": "2023-08-09T15:11:13.225757Z",
     "shell.execute_reply": "2023-08-09T15:11:13.225757Z"
    }
   },
   "outputs": [],
   "source": [
    "df = pd.DataFrame(dict(x=x, y=y))\n",
    "g = sns.jointplot(data=df, x=\"x\", y=\"y\", kind=\"reg\",\n",
    "                  color=\"tomato\", height=4)\n",
    "g.figure.set_dpi(150)"
   ]
  },
  {
   "cell_type": "code",
   "execution_count": null,
   "id": "12db0d0a",
   "metadata": {
    "execution": {
     "iopub.execute_input": "2023-08-09T15:11:13.225757Z",
     "iopub.status.busy": "2023-08-09T15:11:13.225757Z",
     "iopub.status.idle": "2023-08-09T15:11:13.887509Z",
     "shell.execute_reply": "2023-08-09T15:11:13.887509Z"
    }
   },
   "outputs": [],
   "source": [
    "xls = np.linspace(7, 13, 500)\n",
    "yls = np.linspace(7, 13, 500)\n",
    "X, Y = np.meshgrid(xls, yls)\n",
    "pos = np.empty(X.shape + (2,))\n",
    "pos[:, :, 0] = X; pos[:, :, 1] = Y\n",
    "rv = multivariate_normal(mean, cov)\n",
    "\n",
    "fig = plt.figure(figsize=(4, 4), dpi=150)\n",
    "ax = fig.add_subplot(projection='3d')\n",
    "ax.plot_surface(X, Y, rv.pdf(pos), cmap='turbo', linewidth=0)\n",
    "ax.set_xlabel('X axis')\n",
    "ax.set_ylabel('Y axis')\n",
    "fig.tight_layout()"
   ]
  }
 ],
 "metadata": {
  "kernelspec": {
   "display_name": "Python [conda env:sandy-v1.0] *",
   "language": "python",
   "name": "conda-env-sandy-v1.0-py"
  },
  "language_info": {
   "codemirror_mode": {
    "name": "ipython",
    "version": 3
   },
   "file_extension": ".py",
   "mimetype": "text/x-python",
   "name": "python",
   "nbconvert_exporter": "python",
   "pygments_lexer": "ipython3",
   "version": "3.11.3"
  }
 },
 "nbformat": 4,
 "nbformat_minor": 5
}
