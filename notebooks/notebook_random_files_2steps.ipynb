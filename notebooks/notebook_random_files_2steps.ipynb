{
 "cells": [
  {
   "cell_type": "markdown",
   "id": "831ffca2",
   "metadata": {},
   "source": [
    "# Produce random files in two steps"
   ]
  },
  {
   "cell_type": "markdown",
   "id": "402a595c",
   "metadata": {},
   "source": [
    "Thos notebook shows how the random sampling process can be interrupted after the generation of the perturbation coefficients and then resumed in a later stage.\n",
    "\n",
    "This is done by storing the perturbation coefficients into excel files.\n",
    "The writing process and the creation of the excel files is done automatically by `sandy`.\n",
    "Still we can completely stop the pipeline using the command line argument `--only_perturbations` (not active by default).\n",
    "\n",
    "The advantages of doing so are multiple:\n",
    "- we can generate an extremely large number of perturbation coefficients (thousands) in a relatively short time and without the need for parallelization;\n",
    "- since the random files are not created, not only we save computer time, but also disk space (the excel files are very small);\n",
    "- the perturbation coefficients can be used to ensure reproducibility in the random files;\n",
    "- also, the perturbation coefficients do not need to be used in their entirety, but can be split into blocks that are more manageable in terms of computer resources - e.g., random files can be created sequentially in chunks of 100;\n",
    "- having available perturbation coefficients opens up possibilities in terms of sensitivity analysis."
   ]
  },
  {
   "cell_type": "code",
   "execution_count": null,
   "id": "bdb63027",
   "metadata": {},
   "outputs": [],
   "source": [
    "import sandy"
   ]
  },
  {
   "cell_type": "markdown",
   "id": "16e626c5",
   "metadata": {},
   "source": [
    "This examples uses the JEFF-3.3 Pu-241 data that contain covariance matrices for both cross sections and fission neutron multiplicities.  "
   ]
  },
  {
   "cell_type": "code",
   "execution_count": null,
   "id": "8243ff58",
   "metadata": {},
   "outputs": [],
   "source": [
    "file = \"942410.jeff33\"\n",
    "sandy.get_endf6_file(\"jeff_33\", \"xs\", 942410).to_file(file)"
   ]
  },
  {
   "cell_type": "markdown",
   "id": "0206fdc2",
   "metadata": {},
   "source": [
    "This is the standard pipeline to produce random files (in this case 2)."
   ]
  },
  {
   "cell_type": "code",
   "execution_count": null,
   "id": "95b729dc",
   "metadata": {},
   "outputs": [],
   "source": [
    "cl = \"942410.jeff33 --samples 2 --seed33 1 --seed31 1 --mt33 2\"\n",
    "sandy.sampling.run(cl.split())"
   ]
  },
  {
   "cell_type": "markdown",
   "id": "52c4072d",
   "metadata": {},
   "source": [
    "Now, let's interrupt the process after that the perturbations are created (reproducible with fixed seed).\n",
    "This is done by adding the keyword `--only_perturbations`.\n",
    "The pipeline stops after writing the perturbation coefficients to excel file."
   ]
  },
  {
   "cell_type": "code",
   "execution_count": null,
   "id": "0ecdb55d",
   "metadata": {},
   "outputs": [],
   "source": [
    "cl = \"942410.jeff33 --samples 2 --seed33 1 --seed31 1 --mt33 2 --only_perturbations\"\n",
    "smps = sandy.sampling.run(cl.split())"
   ]
  },
  {
   "cell_type": "markdown",
   "id": "d2ac83be",
   "metadata": {},
   "source": [
    "Using the perturbation coefficients from the excel files we can generate the same random files of the standard pipeline.\n",
    "This is done with keyword `--from_perturbations ./ 1 1\"`, where:\n",
    "- `./` is the directory where the perturbation files are lcoated;\n",
    "- `1 1` are the limits of the sample range to consider, e.g., in this case take only the sample number 1 (this number is reported in the random file name). `0 1` would have taken all sets of perturbation coefficients created in this sequence (in this case 2). If we had 100 sets of perturbation coefficients we could get them all with `0 99`, only the first batch of 50 with `0 49`, or the second batch of 50 with `50 99`."
   ]
  },
  {
   "cell_type": "code",
   "execution_count": null,
   "id": "985e6006",
   "metadata": {},
   "outputs": [],
   "source": [
    "cl = \"942410.jeff33 --from_perturbations ./ 1 1\"\n",
    "sandy.sampling.run(cl.split())"
   ]
  }
 ],
 "metadata": {
  "kernelspec": {
   "display_name": "Python [conda env:sandy-v1.0] *",
   "language": "python",
   "name": "conda-env-sandy-v1.0-py"
  },
  "language_info": {
   "codemirror_mode": {
    "name": "ipython",
    "version": 3
   },
   "file_extension": ".py",
   "mimetype": "text/x-python",
   "name": "python",
   "nbconvert_exporter": "python",
   "pygments_lexer": "ipython3",
   "version": "3.11.3"
  }
 },
 "nbformat": 4,
 "nbformat_minor": 5
}
