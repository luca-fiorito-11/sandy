{
 "cells": [
  {
   "cell_type": "markdown",
   "id": "5bbb13c0",
   "metadata": {},
   "source": [
    "# Singular value decomposition of the covariance matrix"
   ]
  },
  {
   "cell_type": "code",
   "execution_count": null,
   "id": "c474d44b",
   "metadata": {},
   "outputs": [],
   "source": [
    "import sandy"
   ]
  },
  {
   "cell_type": "code",
   "execution_count": null,
   "id": "f2b186af",
   "metadata": {},
   "outputs": [],
   "source": [
    "import pandas as pd\n",
    "import numpy as np"
   ]
  },
  {
   "cell_type": "code",
   "execution_count": null,
   "id": "9460414b",
   "metadata": {},
   "outputs": [],
   "source": [
    "import matplotlib.pyplot as plt\n",
    "import seaborn as sns"
   ]
  },
  {
   "cell_type": "code",
   "execution_count": null,
   "id": "6880d364",
   "metadata": {},
   "outputs": [],
   "source": [
    "from scipy.linalg import svd\n",
    "from scipy.sparse.linalg import svds"
   ]
  },
  {
   "cell_type": "markdown",
   "id": "74349004",
   "metadata": {},
   "source": [
    "## Read covariance data from JEFF-3.3"
   ]
  },
  {
   "cell_type": "code",
   "execution_count": null,
   "id": "ab169a1e",
   "metadata": {},
   "outputs": [],
   "source": [
    "cov = sandy.get_endf6_file(\"jeff_33\", \"xs\", 922380).get_errorr(err=1, chi=False, nubar=False, mubar=False)[\"errorr33\"].get_cov()"
   ]
  },
  {
   "cell_type": "code",
   "execution_count": null,
   "id": "94fdb34b",
   "metadata": {},
   "outputs": [],
   "source": [
    "u, s, vh = svd(cov.data.values, check_finite=False)"
   ]
  },
  {
   "cell_type": "code",
   "execution_count": null,
   "id": "b72cf39f",
   "metadata": {},
   "outputs": [],
   "source": [
    "print(f\"number of parameters: {s.size}\")"
   ]
  },
  {
   "cell_type": "code",
   "execution_count": null,
   "id": "1fa5512e",
   "metadata": {},
   "outputs": [],
   "source": [
    "exp_var = (s / np.sum(s)) * 100\n",
    "cum_exp_var = np.cumsum(exp_var)\n",
    "\n",
    "fig, ax = plt.subplots(figsize=(8, 4), dpi=100)\n",
    "ax.bar(range(1, s.size+1), exp_var, align='center', label='Individual explained variance')\n",
    "ax.step(range(1, s.size+1), cum_exp_var, where='mid', label='Cumulative explained variance', color='red')\n",
    "\n",
    "ax.set(\n",
    "    xlim=(0, 20),\n",
    "    ylim=(0, 100),\n",
    "    ylabel='Explained variance percentage',\n",
    "    xlabel='Principal component index',\n",
    ")\n",
    "ax.set_xticks(ticks=list(range(1, 21)))\n",
    "ax.legend(loc=5)\n",
    "fig.tight_layout()"
   ]
  },
  {
   "cell_type": "markdown",
   "id": "f141e8a2",
   "metadata": {},
   "source": [
    "# Keep 99.9 % of the variance information"
   ]
  },
  {
   "cell_type": "code",
   "execution_count": null,
   "id": "3da5524e",
   "metadata": {},
   "outputs": [],
   "source": [
    "s_ = s[np.cumsum(s / np.sum(s)) * 100 < 99.9]\n",
    "cov_ = u[:, :s_.size] @ np.diag(s_) @ u[:, :s_.size].T\n",
    "cov_ = sandy.CategoryCov(cov_, index=cov.data.index, columns=cov.data.columns)\n",
    "print(f\"number of parameters reduced to: {s_.size}\")"
   ]
  },
  {
   "cell_type": "code",
   "execution_count": null,
   "id": "743053a0",
   "metadata": {},
   "outputs": [],
   "source": [
    "fig, ax = plt.subplots(figsize=(5, 5), dpi=100)\n",
    "sns.heatmap(u, cmap=\"bwr\", center=0, vmin=-1, vmax=1, ax=ax)\n",
    "ax.axvline(s_.size)\n",
    "fig.tight_layout()"
   ]
  },
  {
   "cell_type": "markdown",
   "id": "80148fa5",
   "metadata": {},
   "source": [
    "## Original vs truncated covariance"
   ]
  },
  {
   "cell_type": "code",
   "execution_count": null,
   "id": "15d17f39",
   "metadata": {},
   "outputs": [],
   "source": [
    "std = cov.get_std().reset_index()\n",
    "std[\"E\"] = std[\"E\"].apply(lambda x: x.left)\n",
    "std[\"MT\"] = std[\"MT\"].astype('category')\n",
    "\n",
    "std_ = cov_.get_std().reset_index()\n",
    "std_[\"E\"] = std_[\"E\"].apply(lambda x: x.left)\n",
    "std_[\"MT\"] = std_[\"MT\"].astype('category')\n",
    "\n",
    "data = std.merge(std_, on=[\"MAT\", \"MT\", \"E\"], suffixes=(\"_orig\", \"_cut\"))\n",
    "data[\"STD_rel_diff\"] = (data.STD_cut / data.STD_orig - 1) * 100\n",
    "data[\"STD_abs_diff\"] = data.STD_cut - data.STD_orig"
   ]
  },
  {
   "cell_type": "code",
   "execution_count": null,
   "id": "578e0edc",
   "metadata": {},
   "outputs": [],
   "source": [
    "fig, axs = plt.subplots(3, 1, figsize=(8, 8), dpi=100, sharex=True)\n",
    "\n",
    "ax = axs[0]\n",
    "sns.lineplot(data=data, x=\"E\", y=\"STD_orig\", hue=\"MT\", ax=ax, drawstyle=\"steps-post\")\n",
    "ax.set(\n",
    "    xlim=(1e-5, 2e7),\n",
    "    ylim=(0, 0.20),\n",
    "    xscale=\"log\",\n",
    "    ylabel=\"standard deviation\",\n",
    ")\n",
    "ax.legend(ncol=2)\n",
    "\n",
    "ax = axs[1]\n",
    "sns.lineplot(data=data, x=\"E\", y=\"STD_rel_diff\", hue=\"MT\", ax=ax, drawstyle=\"steps-post\")\n",
    "ax.set(\n",
    "    xlim=(1e-5, 2e7),\n",
    "    ylim=(-20, 20),\n",
    "    xscale=\"log\",\n",
    "    ylabel=\"relative difference / %\",\n",
    ")\n",
    "ax.axhline(0, color='k', ls='--', lw=.7)\n",
    "ax.legend(ncol=2)\n",
    "\n",
    "ax = axs[2]\n",
    "sns.lineplot(data=data, x=\"E\", y=\"STD_abs_diff\", hue=\"MT\", ax=ax, drawstyle=\"steps-post\")\n",
    "ax.set(\n",
    "    xlim=(1e-5, 2e7),\n",
    "    ylim=(-0.05, 0.05),\n",
    "    xscale=\"log\",\n",
    "    ylabel=\"absolute difference\",\n",
    "    xlabel=\"energy / $eV$\",\n",
    ")\n",
    "ax.axhline(0, color='k', ls='--', lw=.7)\n",
    "ax.legend(ncol=2)\n",
    "\n",
    "fig.tight_layout()"
   ]
  },
  {
   "cell_type": "code",
   "execution_count": null,
   "id": "d8b54695",
   "metadata": {},
   "outputs": [],
   "source": [
    "fig, axs = plt.subplots(2, 1, figsize=(8, 10), dpi=100, sharex=True, sharey=True)\n",
    "\n",
    "ax = axs[0]\n",
    "sns.heatmap(cov.get_corr().data, cmap=\"bwr\", center=0, ax=ax)\n",
    "ax.set_title(\"original correlation matrix\")\n",
    "\n",
    "ax = axs[1]\n",
    "sns.heatmap(cov_.get_corr().data, cmap=\"bwr\", center=0, ax=ax)\n",
    "ax.set_title(\"truncated correlation matrix\")\n",
    "\n",
    "fig.tight_layout()"
   ]
  },
  {
   "cell_type": "markdown",
   "id": "eaed1077",
   "metadata": {},
   "source": [
    "## Original vs sample covariance"
   ]
  },
  {
   "cell_type": "code",
   "execution_count": null,
   "id": "949d2a5c",
   "metadata": {},
   "outputs": [],
   "source": [
    "nsmp = 1000\n",
    "y = np.random.randn(s_.size, nsmp)\n",
    "smp = u[:, :s_.size] @ np.diag(np.sqrt(s_)) @ y"
   ]
  },
  {
   "cell_type": "code",
   "execution_count": null,
   "id": "b643d1b3",
   "metadata": {},
   "outputs": [],
   "source": [
    "cov__ = sandy.CategoryCov(np.cov(smp), index=cov.data.index, columns=cov.data.columns)"
   ]
  },
  {
   "cell_type": "code",
   "execution_count": null,
   "id": "4f04a402",
   "metadata": {},
   "outputs": [],
   "source": [
    "std = cov.get_std().reset_index()\n",
    "std[\"E\"] = std[\"E\"].apply(lambda x: x.left)\n",
    "std[\"MT\"] = std[\"MT\"].astype('category')\n",
    "\n",
    "std_ = cov__.get_std().reset_index()\n",
    "std_[\"E\"] = std_[\"E\"].apply(lambda x: x.left)\n",
    "std_[\"MT\"] = std_[\"MT\"].astype('category')\n",
    "\n",
    "data = std.merge(std_, on=[\"MAT\", \"MT\", \"E\"], suffixes=(\"_orig\", \"_cut\"))\n",
    "data[\"STD_rel_diff\"] = (data.STD_cut / data.STD_orig - 1) * 100\n",
    "data[\"STD_abs_diff\"] = data.STD_cut - data.STD_orig"
   ]
  },
  {
   "cell_type": "code",
   "execution_count": null,
   "id": "5a68e57a",
   "metadata": {},
   "outputs": [],
   "source": [
    "fig, axs = plt.subplots(3, 1, figsize=(8, 8), dpi=100, sharex=True)\n",
    "\n",
    "ax = axs[0]\n",
    "sns.lineplot(data=data, x=\"E\", y=\"STD_orig\", hue=\"MT\", ax=ax, drawstyle=\"steps-post\")\n",
    "ax.set(\n",
    "    xlim=(1e-5, 2e7),\n",
    "    ylim=(0, 0.20),\n",
    "    xscale=\"log\",\n",
    "    ylabel=\"standard deviation\",\n",
    ")\n",
    "\n",
    "ax = axs[1]\n",
    "sns.lineplot(data=data, x=\"E\", y=\"STD_rel_diff\", hue=\"MT\", ax=ax, drawstyle=\"steps-post\")\n",
    "ax.set(\n",
    "    xlim=(1e-5, 2e7),\n",
    "    ylim=(-20, 20),\n",
    "    xscale=\"log\",\n",
    "    ylabel=\"relative difference / %\",\n",
    ")\n",
    "ax.axhline(0, color='k', ls='--', lw=.7)\n",
    "\n",
    "ax = axs[2]\n",
    "sns.lineplot(data=data, x=\"E\", y=\"STD_abs_diff\", hue=\"MT\", ax=ax, drawstyle=\"steps-post\")\n",
    "ax.set(\n",
    "    xlim=(1e-5, 2e7),\n",
    "    ylim=(-0.05, 0.05),\n",
    "    xscale=\"log\",\n",
    "    ylabel=\"absolute difference\",\n",
    ")\n",
    "ax.axhline(0, color='k', ls='--', lw=.7)\n",
    "\n",
    "fig.tight_layout()"
   ]
  },
  {
   "cell_type": "code",
   "execution_count": null,
   "id": "8e9c9feb",
   "metadata": {},
   "outputs": [],
   "source": [
    "fig, axs = plt.subplots(2, 1, figsize=(8, 10), dpi=100, sharex=True, sharey=True)\n",
    "\n",
    "ax = axs[0]\n",
    "sns.heatmap(cov.get_corr().data, cmap=\"bwr\", center=0, ax=ax)\n",
    "ax.set_title(\"original correlation matrix\")\n",
    "\n",
    "ax = axs[1]\n",
    "sns.heatmap(cov_.get_corr().data, cmap=\"bwr\", center=0, ax=ax)\n",
    "ax.set_title(\"truncated correlation matrix\")\n",
    "\n",
    "fig.tight_layout()"
   ]
  }
 ],
 "metadata": {
  "kernelspec": {
   "display_name": "Python [conda env:sandy-v1.0] *",
   "language": "python",
   "name": "conda-env-sandy-v1.0-py"
  },
  "language_info": {
   "codemirror_mode": {
    "name": "ipython",
    "version": 3
   },
   "file_extension": ".py",
   "mimetype": "text/x-python",
   "name": "python",
   "nbconvert_exporter": "python",
   "pygments_lexer": "ipython3",
   "version": "3.11.3"
  }
 },
 "nbformat": 4,
 "nbformat_minor": 5
}
