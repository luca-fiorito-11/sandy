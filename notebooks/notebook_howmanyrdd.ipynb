{
 "cells": [
  {
   "cell_type": "markdown",
   "id": "0bc344cf",
   "metadata": {},
   "source": [
    "# How many nuclides in the decay data libraries?"
   ]
  },
  {
   "cell_type": "code",
   "execution_count": null,
   "id": "6123dc04",
   "metadata": {},
   "outputs": [],
   "source": [
    "import sandy"
   ]
  },
  {
   "cell_type": "code",
   "execution_count": null,
   "id": "988d6ad5",
   "metadata": {},
   "outputs": [],
   "source": [
    "import pandas as pd"
   ]
  },
  {
   "cell_type": "code",
   "execution_count": null,
   "id": "26e45db5",
   "metadata": {},
   "outputs": [],
   "source": [
    "libraries = [\"jeff_33\", \"jeff_311\", \"endfb_80\", \"endfb_71\", \"jendl_40u\"]"
   ]
  },
  {
   "cell_type": "code",
   "execution_count": null,
   "id": "e3bf76d5",
   "metadata": {},
   "outputs": [],
   "source": [
    "data = {}\n",
    "for library in libraries:\n",
    "    print(f\"reading library '{library.upper()}'...\")\n",
    "    tape = sandy.get_endf6_file(library, \"decay\", \"all\")\n",
    "    size = len(tape.data)\n",
    "    data[library.upper()] = size"
   ]
  },
  {
   "cell_type": "code",
   "execution_count": null,
   "id": "50414a3b",
   "metadata": {},
   "outputs": [],
   "source": [
    "print(pd.Series(data, name=\"# nuclides\").rename_axis(\"library\").reset_index())"
   ]
  }
 ],
 "metadata": {
  "kernelspec": {
   "display_name": "Python [conda env:sandy-v1.0] *",
   "language": "python",
   "name": "conda-env-sandy-v1.0-py"
  },
  "language_info": {
   "codemirror_mode": {
    "name": "ipython",
    "version": 3
   },
   "file_extension": ".py",
   "mimetype": "text/x-python",
   "name": "python",
   "nbconvert_exporter": "python",
   "pygments_lexer": "ipython3",
   "version": "3.11.3"
  }
 },
 "nbformat": 4,
 "nbformat_minor": 5
}
