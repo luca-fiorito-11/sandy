{
 "cells": [
  {
   "cell_type": "markdown",
   "id": "cfc7bba9",
   "metadata": {},
   "source": [
    "# Shapiro-Wilk test for normal and lognormal distributions"
   ]
  },
  {
   "cell_type": "code",
   "execution_count": 1,
   "id": "8e456eaf",
   "metadata": {
    "execution": {
     "iopub.execute_input": "2023-08-09T15:30:50.192774Z",
     "iopub.status.busy": "2023-08-09T15:30:50.192774Z",
     "iopub.status.idle": "2023-08-09T15:30:52.360779Z",
     "shell.execute_reply": "2023-08-09T15:30:52.360779Z"
    }
   },
   "outputs": [],
   "source": [
    "import sandy"
   ]
  },
  {
   "cell_type": "code",
   "execution_count": 2,
   "id": "35fae75e",
   "metadata": {
    "execution": {
     "iopub.execute_input": "2023-08-09T15:30:52.363813Z",
     "iopub.status.busy": "2023-08-09T15:30:52.363813Z",
     "iopub.status.idle": "2023-08-09T15:30:52.368710Z",
     "shell.execute_reply": "2023-08-09T15:30:52.367674Z"
    }
   },
   "outputs": [],
   "source": [
    "import logging\n",
    "import pandas as pd\n",
    "import numpy as np"
   ]
  },
  {
   "cell_type": "code",
   "execution_count": 3,
   "id": "8e08433c",
   "metadata": {
    "execution": {
     "iopub.execute_input": "2023-08-09T15:30:52.374748Z",
     "iopub.status.busy": "2023-08-09T15:30:52.374748Z",
     "iopub.status.idle": "2023-08-09T15:30:53.585761Z",
     "shell.execute_reply": "2023-08-09T15:30:53.585761Z"
    }
   },
   "outputs": [],
   "source": [
    "import matplotlib.pyplot as plt\n",
    "import seaborn as sns"
   ]
  },
  {
   "cell_type": "code",
   "execution_count": 4,
   "id": "c57f6407",
   "metadata": {
    "execution": {
     "iopub.execute_input": "2023-08-09T15:30:53.585761Z",
     "iopub.status.busy": "2023-08-09T15:30:53.585761Z",
     "iopub.status.idle": "2023-08-09T15:30:53.594047Z",
     "shell.execute_reply": "2023-08-09T15:30:53.594047Z"
    }
   },
   "outputs": [],
   "source": [
    "logging.getLogger().setLevel(logging.WARN)"
   ]
  },
  {
   "cell_type": "markdown",
   "id": "8d1ddd57",
   "metadata": {},
   "source": [
    "Generate 5000 xs samples normally and log-normally distributed"
   ]
  },
  {
   "cell_type": "code",
   "execution_count": 5,
   "id": "fa73bbbc",
   "metadata": {
    "execution": {
     "iopub.execute_input": "2023-08-09T15:30:53.594047Z",
     "iopub.status.busy": "2023-08-09T15:30:53.594047Z",
     "iopub.status.idle": "2023-08-09T15:30:59.470759Z",
     "shell.execute_reply": "2023-08-09T15:30:59.470759Z"
    }
   },
   "outputs": [],
   "source": [
    "tape = sandy.get_endf6_file(\"jeff_33\", \"xs\", 10010)\n",
    "njoy_kws = dict(err=1, errorr33_kws=dict(mt=102))\n",
    "nsmp = 5000\n",
    "seed = 5\n",
    "\n",
    "smp_norm = tape.get_perturbations(nsmp, njoy_kws=njoy_kws, smp_kws=dict(seed33=seed, pdf=\"normal\"))[33]\n",
    "smp_lognorm = tape.get_perturbations(nsmp, njoy_kws=njoy_kws, smp_kws=dict(seed33=seed, pdf=\"lognormal\"))[33]\n",
    "smp_uniform = tape.get_perturbations(nsmp, njoy_kws=njoy_kws, smp_kws=dict(seed33=seed, pdf=\"uniform\"))[33]"
   ]
  },
  {
   "cell_type": "markdown",
   "id": "08f12802",
   "metadata": {},
   "source": [
    "##  Shapiro-Wilk test normal samples and normal distribution"
   ]
  },
  {
   "cell_type": "code",
   "execution_count": 6,
   "id": "4cf664f6",
   "metadata": {
    "execution": {
     "iopub.execute_input": "2023-08-09T15:30:59.470759Z",
     "iopub.status.busy": "2023-08-09T15:30:59.470759Z",
     "iopub.status.idle": "2023-08-09T15:31:00.827974Z",
     "shell.execute_reply": "2023-08-09T15:31:00.827974Z"
    }
   },
   "outputs": [
    {
     "name": "stderr",
     "output_type": "stream",
     "text": [
      "C:\\Users\\lfiorito\\Anaconda3\\envs\\sandy-v1.0\\Lib\\site-packages\\pandas\\core\\internals\\blocks.py:329: RuntimeWarning: divide by zero encountered in log\n",
      "  result = func(self.values, **kwargs)\n",
      "C:\\Users\\lfiorito\\Anaconda3\\envs\\sandy-v1.0\\Lib\\site-packages\\pandas\\core\\internals\\blocks.py:329: RuntimeWarning: divide by zero encountered in log\n",
      "  result = func(self.values, **kwargs)\n",
      "C:\\Users\\lfiorito\\Anaconda3\\envs\\sandy-v1.0\\Lib\\site-packages\\pandas\\core\\internals\\blocks.py:329: RuntimeWarning: divide by zero encountered in log\n",
      "  result = func(self.values, **kwargs)\n",
      "C:\\Users\\lfiorito\\Anaconda3\\envs\\sandy-v1.0\\Lib\\site-packages\\pandas\\core\\internals\\blocks.py:329: RuntimeWarning: divide by zero encountered in log\n",
      "  result = func(self.values, **kwargs)\n",
      "C:\\Users\\lfiorito\\Anaconda3\\envs\\sandy-v1.0\\Lib\\site-packages\\pandas\\core\\internals\\blocks.py:329: RuntimeWarning: divide by zero encountered in log\n",
      "  result = func(self.values, **kwargs)\n",
      "C:\\Users\\lfiorito\\Anaconda3\\envs\\sandy-v1.0\\Lib\\site-packages\\pandas\\core\\internals\\blocks.py:329: RuntimeWarning: divide by zero encountered in log\n",
      "  result = func(self.values, **kwargs)\n"
     ]
    },
    {
     "data": {
      "text/html": [
       "<div>\n",
       "<style scoped>\n",
       "    .dataframe tbody tr th:only-of-type {\n",
       "        vertical-align: middle;\n",
       "    }\n",
       "\n",
       "    .dataframe tbody tr th {\n",
       "        vertical-align: top;\n",
       "    }\n",
       "\n",
       "    .dataframe thead th {\n",
       "        text-align: right;\n",
       "    }\n",
       "</style>\n",
       "<table border=\"1\" class=\"dataframe\">\n",
       "  <thead>\n",
       "    <tr style=\"text-align: right;\">\n",
       "      <th></th>\n",
       "      <th>statistic_norm</th>\n",
       "      <th>pvalue_norm</th>\n",
       "      <th>statistic_lognorm</th>\n",
       "      <th>pvalue_lognorm</th>\n",
       "    </tr>\n",
       "    <tr>\n",
       "      <th># SMP</th>\n",
       "      <th></th>\n",
       "      <th></th>\n",
       "      <th></th>\n",
       "      <th></th>\n",
       "    </tr>\n",
       "  </thead>\n",
       "  <tbody>\n",
       "    <tr>\n",
       "      <th>10</th>\n",
       "      <td>8.63977e-01</td>\n",
       "      <td>8.49913e-02</td>\n",
       "      <td>9.63005e-01</td>\n",
       "      <td>5.99292e-34</td>\n",
       "    </tr>\n",
       "    <tr>\n",
       "      <th>50</th>\n",
       "      <td>9.61464e-01</td>\n",
       "      <td>1.02387e-01</td>\n",
       "      <td>9.63005e-01</td>\n",
       "      <td>5.99292e-34</td>\n",
       "    </tr>\n",
       "    <tr>\n",
       "      <th>100</th>\n",
       "      <td>9.82641e-01</td>\n",
       "      <td>2.12293e-01</td>\n",
       "      <td>9.63005e-01</td>\n",
       "      <td>5.99292e-34</td>\n",
       "    </tr>\n",
       "    <tr>\n",
       "      <th>500</th>\n",
       "      <td>9.90343e-01</td>\n",
       "      <td>2.31122e-03</td>\n",
       "      <td>9.63005e-01</td>\n",
       "      <td>5.99292e-34</td>\n",
       "    </tr>\n",
       "    <tr>\n",
       "      <th>1000</th>\n",
       "      <td>9.91175e-01</td>\n",
       "      <td>1.06276e-05</td>\n",
       "      <td>9.63005e-01</td>\n",
       "      <td>5.99292e-34</td>\n",
       "    </tr>\n",
       "    <tr>\n",
       "      <th>5000</th>\n",
       "      <td>9.91214e-01</td>\n",
       "      <td>4.49356e-17</td>\n",
       "      <td>9.63005e-01</td>\n",
       "      <td>5.99292e-34</td>\n",
       "    </tr>\n",
       "  </tbody>\n",
       "</table>\n",
       "</div>"
      ],
      "text/plain": [
       "       statistic_norm  pvalue_norm  statistic_lognorm  pvalue_lognorm\n",
       "# SMP                                                                \n",
       "10        8.63977e-01  8.49913e-02        9.63005e-01     5.99292e-34\n",
       "50        9.61464e-01  1.02387e-01        9.63005e-01     5.99292e-34\n",
       "100       9.82641e-01  2.12293e-01        9.63005e-01     5.99292e-34\n",
       "500       9.90343e-01  2.31122e-03        9.63005e-01     5.99292e-34\n",
       "1000      9.91175e-01  1.06276e-05        9.63005e-01     5.99292e-34\n",
       "5000      9.91214e-01  4.49356e-17        9.63005e-01     5.99292e-34"
      ]
     },
     "execution_count": 6,
     "metadata": {},
     "output_type": "execute_result"
    }
   ],
   "source": [
    "stat_norm = []\n",
    "stat_lognorm = []\n",
    "for n in [10, 50, 100, 500, 1000, 5000]:\n",
    "    df = smp_norm.test_shapiro(pdf=\"normal\", size=n)\n",
    "    idx = df.statistic.idxmin()\n",
    "    stat_norm.append(df.loc[idx].rename(n))\n",
    "\n",
    "    df = smp_norm.test_shapiro(pdf=\"lognormal\", size=n)\n",
    "    idx = df.statistic.idxmin()\n",
    "    stat_lognorm.append(df.loc[idx].rename(n))\n",
    "\n",
    "opts = dict(left_index=True, right_index=True, suffixes=(\"_norm\", \"_lognorm\"))\n",
    "pd.DataFrame(stat_norm).merge(pd.DataFrame(stat_lognorm), **opts).rename_axis(\"# SMP\")"
   ]
  },
  {
   "cell_type": "markdown",
   "id": "0559afc0",
   "metadata": {},
   "source": [
    "### Plot the distribution of the parameter with closest and farthest resemblance to a normal PDF"
   ]
  },
  {
   "cell_type": "code",
   "execution_count": 7,
   "id": "449bdf7d",
   "metadata": {
    "execution": {
     "iopub.execute_input": "2023-08-09T15:31:00.827974Z",
     "iopub.status.busy": "2023-08-09T15:31:00.827974Z",
     "iopub.status.idle": "2023-08-09T15:31:01.540217Z",
     "shell.execute_reply": "2023-08-09T15:31:01.540217Z"
    }
   },
   "outputs": [
    {
     "data": {
      "image/png": "[encoded data removed]",
      "text/plain": [
       "<Figure size 700x400 with 1 Axes>"
      ]
     },
     "metadata": {},
     "output_type": "display_data"
    }
   ],
   "source": [
    "test = smp_norm.test_shapiro(pdf=\"normal\", size=5000)\n",
    "\n",
    "fig, ax = plt.subplots(figsize=(7, 4), dpi=100)\n",
    "\n",
    "idx = test.statistic.idxmin()\n",
    "w = test.loc[idx]\n",
    "sns.histplot(data=smp_norm.data.loc[idx], label=f\"W:stat={w.statistic:.2e}, p-value={w.pvalue:.2e}\", color=\"dodgerblue\")\n",
    "\n",
    "idx = test.statistic.idxmax()\n",
    "w = test.loc[idx]\n",
    "sns.histplot(data=smp_norm.data.loc[idx], label=f\"W:stat={w.statistic:.2e}, p-value={w.pvalue:.2e}\", color=\"tomato\")\n",
    "\n",
    "ax.set(xlabel=\"W\")\n",
    "ax.legend()\n",
    "fig.tight_layout()"
   ]
  },
  {
   "cell_type": "markdown",
   "id": "78c3e97d",
   "metadata": {},
   "source": [
    "## Shapiro-Wilk test for lognormal samples and lognormal distribution"
   ]
  },
  {
   "cell_type": "code",
   "execution_count": 8,
   "id": "be16d4f1",
   "metadata": {
    "execution": {
     "iopub.execute_input": "2023-08-09T15:31:01.543222Z",
     "iopub.status.busy": "2023-08-09T15:31:01.543222Z",
     "iopub.status.idle": "2023-08-09T15:31:02.841373Z",
     "shell.execute_reply": "2023-08-09T15:31:02.841373Z"
    }
   },
   "outputs": [
    {
     "data": {
      "text/html": [
       "<div>\n",
       "<style scoped>\n",
       "    .dataframe tbody tr th:only-of-type {\n",
       "        vertical-align: middle;\n",
       "    }\n",
       "\n",
       "    .dataframe tbody tr th {\n",
       "        vertical-align: top;\n",
       "    }\n",
       "\n",
       "    .dataframe thead th {\n",
       "        text-align: right;\n",
       "    }\n",
       "</style>\n",
       "<table border=\"1\" class=\"dataframe\">\n",
       "  <thead>\n",
       "    <tr style=\"text-align: right;\">\n",
       "      <th></th>\n",
       "      <th>statistic_norm</th>\n",
       "      <th>pvalue_norm</th>\n",
       "      <th>statistic_lognorm</th>\n",
       "      <th>pvalue_lognorm</th>\n",
       "    </tr>\n",
       "    <tr>\n",
       "      <th># SMP</th>\n",
       "      <th></th>\n",
       "      <th></th>\n",
       "      <th></th>\n",
       "      <th></th>\n",
       "    </tr>\n",
       "  </thead>\n",
       "  <tbody>\n",
       "    <tr>\n",
       "      <th>10</th>\n",
       "      <td>8.57166e-01</td>\n",
       "      <td>7.06498e-02</td>\n",
       "      <td>9.99667e-01</td>\n",
       "      <td>6.05936e-01</td>\n",
       "    </tr>\n",
       "    <tr>\n",
       "      <th>50</th>\n",
       "      <td>9.41139e-01</td>\n",
       "      <td>1.49490e-02</td>\n",
       "      <td>9.99667e-01</td>\n",
       "      <td>6.05936e-01</td>\n",
       "    </tr>\n",
       "    <tr>\n",
       "      <th>100</th>\n",
       "      <td>9.51981e-01</td>\n",
       "      <td>1.12302e-03</td>\n",
       "      <td>9.99667e-01</td>\n",
       "      <td>6.05936e-01</td>\n",
       "    </tr>\n",
       "    <tr>\n",
       "      <th>500</th>\n",
       "      <td>9.04729e-01</td>\n",
       "      <td>3.88394e-17</td>\n",
       "      <td>9.99667e-01</td>\n",
       "      <td>6.05936e-01</td>\n",
       "    </tr>\n",
       "    <tr>\n",
       "      <th>1000</th>\n",
       "      <td>8.97193e-01</td>\n",
       "      <td>2.54045e-25</td>\n",
       "      <td>9.99667e-01</td>\n",
       "      <td>6.05936e-01</td>\n",
       "    </tr>\n",
       "    <tr>\n",
       "      <th>5000</th>\n",
       "      <td>8.97651e-01</td>\n",
       "      <td>0.00000e+00</td>\n",
       "      <td>9.99667e-01</td>\n",
       "      <td>6.05936e-01</td>\n",
       "    </tr>\n",
       "  </tbody>\n",
       "</table>\n",
       "</div>"
      ],
      "text/plain": [
       "       statistic_norm  pvalue_norm  statistic_lognorm  pvalue_lognorm\n",
       "# SMP                                                                \n",
       "10        8.57166e-01  7.06498e-02        9.99667e-01     6.05936e-01\n",
       "50        9.41139e-01  1.49490e-02        9.99667e-01     6.05936e-01\n",
       "100       9.51981e-01  1.12302e-03        9.99667e-01     6.05936e-01\n",
       "500       9.04729e-01  3.88394e-17        9.99667e-01     6.05936e-01\n",
       "1000      8.97193e-01  2.54045e-25        9.99667e-01     6.05936e-01\n",
       "5000      8.97651e-01  0.00000e+00        9.99667e-01     6.05936e-01"
      ]
     },
     "execution_count": 8,
     "metadata": {},
     "output_type": "execute_result"
    }
   ],
   "source": [
    "stat_norm = []\n",
    "stat_lognorm = []\n",
    "for n in [10, 50, 100, 500, 1000, 5000]:\n",
    "    df = smp_lognorm.test_shapiro(pdf=\"normal\", size=n)\n",
    "    idx = df.statistic.idxmin()\n",
    "    stat_norm.append(df.loc[idx].rename(n))\n",
    "\n",
    "    df = smp_lognorm.test_shapiro(pdf=\"lognormal\", size=n)\n",
    "    idx = df.statistic.idxmin()\n",
    "    stat_lognorm.append(df.loc[idx].rename(n))\n",
    "\n",
    "opts = dict(left_index=True, right_index=True, suffixes=(\"_norm\", \"_lognorm\"))\n",
    "pd.DataFrame(stat_norm).merge(pd.DataFrame(stat_lognorm), **opts).rename_axis(\"# SMP\")"
   ]
  },
  {
   "cell_type": "markdown",
   "id": "b40e1b23",
   "metadata": {},
   "source": [
    "### Plot the distribution of the parameter with closest and farthest resemblance to a lognormal PDF"
   ]
  },
  {
   "cell_type": "code",
   "execution_count": 9,
   "id": "8fa36199",
   "metadata": {
    "execution": {
     "iopub.execute_input": "2023-08-09T15:31:02.841373Z",
     "iopub.status.busy": "2023-08-09T15:31:02.841373Z",
     "iopub.status.idle": "2023-08-09T15:31:03.502698Z",
     "shell.execute_reply": "2023-08-09T15:31:03.502698Z"
    }
   },
   "outputs": [
    {
     "data": {
      "image/png": "[encoded data removed]",
      "text/plain": [
       "<Figure size 700x400 with 1 Axes>"
      ]
     },
     "metadata": {},
     "output_type": "display_data"
    }
   ],
   "source": [
    "test = smp_lognorm.test_shapiro(pdf=\"lognormal\", size=5000)\n",
    "\n",
    "fig, ax = plt.subplots(figsize=(7, 4), dpi=100)\n",
    "\n",
    "idx = test.statistic.idxmax()\n",
    "w = test.loc[idx]\n",
    "sns.histplot(data=smp_lognorm.data.loc[idx], label=f\"W:stat={w.statistic:.2e}, p-value={w.pvalue:.2e}\", color=\"tomato\")\n",
    "\n",
    "idx = test.statistic.idxmin()\n",
    "w = test.loc[idx]\n",
    "sns.histplot(data=smp_lognorm.data.loc[idx], label=f\"W:stat={w.statistic:.2e}, p-value={w.pvalue:.2e}\", color=\"dodgerblue\")\n",
    "\n",
    "ax.set(xlabel=\"W\")\n",
    "ax.legend()\n",
    "fig.tight_layout()"
   ]
  },
  {
   "cell_type": "markdown",
   "id": "975dbaa1",
   "metadata": {},
   "source": [
    "## Shapiro-Wilk test for uniform samples and normal distribution"
   ]
  },
  {
   "cell_type": "code",
   "execution_count": 10,
   "id": "bded2114",
   "metadata": {
    "execution": {
     "iopub.execute_input": "2023-08-09T15:31:03.502698Z",
     "iopub.status.busy": "2023-08-09T15:31:03.502698Z",
     "iopub.status.idle": "2023-08-09T15:31:04.772925Z",
     "shell.execute_reply": "2023-08-09T15:31:04.772925Z"
    }
   },
   "outputs": [
    {
     "data": {
      "text/html": [
       "<div>\n",
       "<style scoped>\n",
       "    .dataframe tbody tr th:only-of-type {\n",
       "        vertical-align: middle;\n",
       "    }\n",
       "\n",
       "    .dataframe tbody tr th {\n",
       "        vertical-align: top;\n",
       "    }\n",
       "\n",
       "    .dataframe thead th {\n",
       "        text-align: right;\n",
       "    }\n",
       "</style>\n",
       "<table border=\"1\" class=\"dataframe\">\n",
       "  <thead>\n",
       "    <tr style=\"text-align: right;\">\n",
       "      <th></th>\n",
       "      <th>statistic_norm</th>\n",
       "      <th>pvalue_norm</th>\n",
       "      <th>statistic_lognorm</th>\n",
       "      <th>pvalue_lognorm</th>\n",
       "    </tr>\n",
       "    <tr>\n",
       "      <th># SMP</th>\n",
       "      <th></th>\n",
       "      <th></th>\n",
       "      <th></th>\n",
       "      <th></th>\n",
       "    </tr>\n",
       "  </thead>\n",
       "  <tbody>\n",
       "    <tr>\n",
       "      <th>10</th>\n",
       "      <td>7.01850e-01</td>\n",
       "      <td>9.27593e-04</td>\n",
       "      <td>9.08091e-01</td>\n",
       "      <td>0.00000e+00</td>\n",
       "    </tr>\n",
       "    <tr>\n",
       "      <th>50</th>\n",
       "      <td>8.92741e-01</td>\n",
       "      <td>2.79088e-04</td>\n",
       "      <td>9.08091e-01</td>\n",
       "      <td>0.00000e+00</td>\n",
       "    </tr>\n",
       "    <tr>\n",
       "      <th>100</th>\n",
       "      <td>9.08595e-01</td>\n",
       "      <td>3.66984e-06</td>\n",
       "      <td>9.08091e-01</td>\n",
       "      <td>0.00000e+00</td>\n",
       "    </tr>\n",
       "    <tr>\n",
       "      <th>500</th>\n",
       "      <td>9.39673e-01</td>\n",
       "      <td>2.30583e-13</td>\n",
       "      <td>9.08091e-01</td>\n",
       "      <td>0.00000e+00</td>\n",
       "    </tr>\n",
       "    <tr>\n",
       "      <th>1000</th>\n",
       "      <td>9.42486e-01</td>\n",
       "      <td>2.97285e-19</td>\n",
       "      <td>9.08091e-01</td>\n",
       "      <td>0.00000e+00</td>\n",
       "    </tr>\n",
       "    <tr>\n",
       "      <th>5000</th>\n",
       "      <td>9.50787e-01</td>\n",
       "      <td>4.99444e-38</td>\n",
       "      <td>9.08091e-01</td>\n",
       "      <td>0.00000e+00</td>\n",
       "    </tr>\n",
       "  </tbody>\n",
       "</table>\n",
       "</div>"
      ],
      "text/plain": [
       "       statistic_norm  pvalue_norm  statistic_lognorm  pvalue_lognorm\n",
       "# SMP                                                                \n",
       "10        7.01850e-01  9.27593e-04        9.08091e-01     0.00000e+00\n",
       "50        8.92741e-01  2.79088e-04        9.08091e-01     0.00000e+00\n",
       "100       9.08595e-01  3.66984e-06        9.08091e-01     0.00000e+00\n",
       "500       9.39673e-01  2.30583e-13        9.08091e-01     0.00000e+00\n",
       "1000      9.42486e-01  2.97285e-19        9.08091e-01     0.00000e+00\n",
       "5000      9.50787e-01  4.99444e-38        9.08091e-01     0.00000e+00"
      ]
     },
     "execution_count": 10,
     "metadata": {},
     "output_type": "execute_result"
    }
   ],
   "source": [
    "stat_norm = []\n",
    "stat_lognorm = []\n",
    "for n in [10, 50, 100, 500, 1000, 5000]:\n",
    "    df = smp_uniform.test_shapiro(pdf=\"normal\", size=n)\n",
    "    idx = df.statistic.idxmin()\n",
    "    stat_norm.append(df.loc[idx].rename(n))\n",
    "\n",
    "    df = smp_uniform.test_shapiro(pdf=\"lognormal\", size=n)\n",
    "    idx = df.statistic.idxmin()\n",
    "    stat_lognorm.append(df.loc[idx].rename(n))\n",
    "\n",
    "opts = dict(left_index=True, right_index=True, suffixes=(\"_norm\", \"_lognorm\"))\n",
    "pd.DataFrame(stat_norm).merge(pd.DataFrame(stat_lognorm), **opts).rename_axis(\"# SMP\")"
   ]
  },
  {
   "cell_type": "markdown",
   "id": "fe638556",
   "metadata": {},
   "source": [
    "### Plot the distribution of the parameter with closest and farthest resemblance to a uniform PDF"
   ]
  },
  {
   "cell_type": "code",
   "execution_count": 11,
   "id": "b6e1d4ee",
   "metadata": {
    "execution": {
     "iopub.execute_input": "2023-08-09T15:31:04.772925Z",
     "iopub.status.busy": "2023-08-09T15:31:04.772925Z",
     "iopub.status.idle": "2023-08-09T15:31:05.306732Z",
     "shell.execute_reply": "2023-08-09T15:31:05.306732Z"
    }
   },
   "outputs": [
    {
     "data": {
      "image/png": "[encoded data removed]",
      "text/plain": [
       "<Figure size 700x400 with 1 Axes>"
      ]
     },
     "metadata": {},
     "output_type": "display_data"
    }
   ],
   "source": [
    "test = smp_uniform.test_shapiro(pdf=\"uniform\", size=5000)\n",
    "\n",
    "fig, ax = plt.subplots(figsize=(7, 4), dpi=100)\n",
    "\n",
    "idx = test.statistic.idxmax()\n",
    "w = test.loc[idx]\n",
    "sns.histplot(data=smp_uniform.data.loc[idx], label=f\"W:stat={w.statistic:.2e}, p-value={w.pvalue:.2e}\", color=\"tomato\")\n",
    "\n",
    "idx = test.statistic.idxmin()\n",
    "w = test.loc[idx]\n",
    "sns.histplot(data=smp_uniform.data.loc[idx], label=f\"W:stat={w.statistic:.2e}, p-value={w.pvalue:.2e}\", color=\"dodgerblue\")\n",
    "\n",
    "ax.set(xlabel=\"W\")\n",
    "ax.legend()\n",
    "fig.tight_layout()"
   ]
  }
 ],
 "metadata": {
  "kernelspec": {
   "display_name": "Python [conda env:sandy-v1.0] *",
   "language": "python",
   "name": "conda-env-sandy-v1.0-py"
  },
  "language_info": {
   "codemirror_mode": {
    "name": "ipython",
    "version": 3
   },
   "file_extension": ".py",
   "mimetype": "text/x-python",
   "name": "python",
   "nbconvert_exporter": "python",
   "pygments_lexer": "ipython3",
   "version": "3.11.3"
  }
 },
 "nbformat": 4,
 "nbformat_minor": 5
}
