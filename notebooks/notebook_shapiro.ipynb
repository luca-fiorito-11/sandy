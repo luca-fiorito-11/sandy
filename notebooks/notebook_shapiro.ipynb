{
 "cells": [
  {
   "cell_type": "markdown",
   "id": "cfc7bba9",
   "metadata": {},
   "source": [
    "# Shapiro-Wilk test for normal and lognormal distributions"
   ]
  },
  {
   "cell_type": "code",
   "execution_count": null,
   "id": "8e456eaf",
   "metadata": {
    "execution": {
     "iopub.execute_input": "2023-08-09T15:30:50.192774Z",
     "iopub.status.busy": "2023-08-09T15:30:50.192774Z",
     "iopub.status.idle": "2023-08-09T15:30:52.360779Z",
     "shell.execute_reply": "2023-08-09T15:30:52.360779Z"
    }
   },
   "outputs": [],
   "source": [
    "import sandy"
   ]
  },
  {
   "cell_type": "code",
   "execution_count": null,
   "id": "35fae75e",
   "metadata": {
    "execution": {
     "iopub.execute_input": "2023-08-09T15:30:52.363813Z",
     "iopub.status.busy": "2023-08-09T15:30:52.363813Z",
     "iopub.status.idle": "2023-08-09T15:30:52.368710Z",
     "shell.execute_reply": "2023-08-09T15:30:52.367674Z"
    }
   },
   "outputs": [],
   "source": [
    "import logging\n",
    "import pandas as pd\n",
    "import numpy as np"
   ]
  },
  {
   "cell_type": "code",
   "execution_count": null,
   "id": "8e08433c",
   "metadata": {
    "execution": {
     "iopub.execute_input": "2023-08-09T15:30:52.374748Z",
     "iopub.status.busy": "2023-08-09T15:30:52.374748Z",
     "iopub.status.idle": "2023-08-09T15:30:53.585761Z",
     "shell.execute_reply": "2023-08-09T15:30:53.585761Z"
    }
   },
   "outputs": [],
   "source": [
    "import matplotlib.pyplot as plt\n",
    "import seaborn as sns"
   ]
  },
  {
   "cell_type": "code",
   "execution_count": null,
   "id": "c57f6407",
   "metadata": {
    "execution": {
     "iopub.execute_input": "2023-08-09T15:30:53.585761Z",
     "iopub.status.busy": "2023-08-09T15:30:53.585761Z",
     "iopub.status.idle": "2023-08-09T15:30:53.594047Z",
     "shell.execute_reply": "2023-08-09T15:30:53.594047Z"
    }
   },
   "outputs": [],
   "source": [
    "logging.getLogger().setLevel(logging.WARN)"
   ]
  },
  {
   "cell_type": "markdown",
   "id": "8d1ddd57",
   "metadata": {},
   "source": [
    "Generate 5000 xs samples normally and log-normally distributed"
   ]
  },
  {
   "cell_type": "code",
   "execution_count": null,
   "id": "fa73bbbc",
   "metadata": {
    "execution": {
     "iopub.execute_input": "2023-08-09T15:30:53.594047Z",
     "iopub.status.busy": "2023-08-09T15:30:53.594047Z",
     "iopub.status.idle": "2023-08-09T15:30:59.470759Z",
     "shell.execute_reply": "2023-08-09T15:30:59.470759Z"
    }
   },
   "outputs": [],
   "source": [
    "tape = sandy.get_endf6_file(\"jeff_33\", \"xs\", 10010)\n",
    "njoy_kws = dict(err=1, errorr33_kws=dict(mt=102))\n",
    "nsmp = 5000\n",
    "seed = 5\n",
    "\n",
    "smp_norm = tape.get_perturbations(nsmp, njoy_kws=njoy_kws, smp_kws=dict(seed33=seed, pdf=\"normal\"))[33]\n",
    "smp_lognorm = tape.get_perturbations(nsmp, njoy_kws=njoy_kws, smp_kws=dict(seed33=seed, pdf=\"lognormal\"))[33]\n",
    "smp_uniform = tape.get_perturbations(nsmp, njoy_kws=njoy_kws, smp_kws=dict(seed33=seed, pdf=\"uniform\"))[33]"
   ]
  },
  {
   "cell_type": "markdown",
   "id": "08f12802",
   "metadata": {},
   "source": [
    "##  Shapiro-Wilk test normal samples and normal distribution"
   ]
  },
  {
   "cell_type": "code",
   "execution_count": null,
   "id": "4cf664f6",
   "metadata": {
    "execution": {
     "iopub.execute_input": "2023-08-09T15:30:59.470759Z",
     "iopub.status.busy": "2023-08-09T15:30:59.470759Z",
     "iopub.status.idle": "2023-08-09T15:31:00.827974Z",
     "shell.execute_reply": "2023-08-09T15:31:00.827974Z"
    }
   },
   "outputs": [],
   "source": [
    "stat_norm = []\n",
    "stat_lognorm = []\n",
    "for n in [10, 50, 100, 500, 1000, 5000]:\n",
    "    df = smp_norm.test_shapiro(pdf=\"normal\", size=n)\n",
    "    idx = df.statistic.idxmin()\n",
    "    stat_norm.append(df.loc[idx].rename(n))\n",
    "\n",
    "    df = smp_norm.test_shapiro(pdf=\"lognormal\", size=n)\n",
    "    idx = df.statistic.idxmin()\n",
    "    stat_lognorm.append(df.loc[idx].rename(n))\n",
    "\n",
    "opts = dict(left_index=True, right_index=True, suffixes=(\"_norm\", \"_lognorm\"))\n",
    "pd.DataFrame(stat_norm).merge(pd.DataFrame(stat_lognorm), **opts).rename_axis(\"# SMP\")"
   ]
  },
  {
   "cell_type": "markdown",
   "id": "0559afc0",
   "metadata": {},
   "source": [
    "### Plot the distribution of the parameter with closest and farthest resemblance to a normal PDF"
   ]
  },
  {
   "cell_type": "code",
   "execution_count": null,
   "id": "449bdf7d",
   "metadata": {
    "execution": {
     "iopub.execute_input": "2023-08-09T15:31:00.827974Z",
     "iopub.status.busy": "2023-08-09T15:31:00.827974Z",
     "iopub.status.idle": "2023-08-09T15:31:01.540217Z",
     "shell.execute_reply": "2023-08-09T15:31:01.540217Z"
    }
   },
   "outputs": [],
   "source": [
    "test = smp_norm.test_shapiro(pdf=\"normal\", size=5000)\n",
    "\n",
    "fig, ax = plt.subplots(figsize=(7, 4), dpi=100)\n",
    "\n",
    "idx = test.statistic.idxmin()\n",
    "w = test.loc[idx]\n",
    "sns.histplot(data=smp_norm.data.loc[idx], label=f\"W:stat={w.statistic:.2e}, p-value={w.pvalue:.2e}\", color=\"dodgerblue\")\n",
    "\n",
    "idx = test.statistic.idxmax()\n",
    "w = test.loc[idx]\n",
    "sns.histplot(data=smp_norm.data.loc[idx], label=f\"W:stat={w.statistic:.2e}, p-value={w.pvalue:.2e}\", color=\"tomato\")\n",
    "\n",
    "ax.set(xlabel=\"W\")\n",
    "ax.legend()\n",
    "fig.tight_layout()"
   ]
  },
  {
   "cell_type": "markdown",
   "id": "78c3e97d",
   "metadata": {},
   "source": [
    "## Shapiro-Wilk test for lognormal samples and lognormal distribution"
   ]
  },
  {
   "cell_type": "code",
   "execution_count": null,
   "id": "be16d4f1",
   "metadata": {
    "execution": {
     "iopub.execute_input": "2023-08-09T15:31:01.543222Z",
     "iopub.status.busy": "2023-08-09T15:31:01.543222Z",
     "iopub.status.idle": "2023-08-09T15:31:02.841373Z",
     "shell.execute_reply": "2023-08-09T15:31:02.841373Z"
    }
   },
   "outputs": [],
   "source": [
    "stat_norm = []\n",
    "stat_lognorm = []\n",
    "for n in [10, 50, 100, 500, 1000, 5000]:\n",
    "    df = smp_lognorm.test_shapiro(pdf=\"normal\", size=n)\n",
    "    idx = df.statistic.idxmin()\n",
    "    stat_norm.append(df.loc[idx].rename(n))\n",
    "\n",
    "    df = smp_lognorm.test_shapiro(pdf=\"lognormal\", size=n)\n",
    "    idx = df.statistic.idxmin()\n",
    "    stat_lognorm.append(df.loc[idx].rename(n))\n",
    "\n",
    "opts = dict(left_index=True, right_index=True, suffixes=(\"_norm\", \"_lognorm\"))\n",
    "pd.DataFrame(stat_norm).merge(pd.DataFrame(stat_lognorm), **opts).rename_axis(\"# SMP\")"
   ]
  },
  {
   "cell_type": "markdown",
   "id": "b40e1b23",
   "metadata": {},
   "source": [
    "### Plot the distribution of the parameter with closest and farthest resemblance to a lognormal PDF"
   ]
  },
  {
   "cell_type": "code",
   "execution_count": null,
   "id": "8fa36199",
   "metadata": {
    "execution": {
     "iopub.execute_input": "2023-08-09T15:31:02.841373Z",
     "iopub.status.busy": "2023-08-09T15:31:02.841373Z",
     "iopub.status.idle": "2023-08-09T15:31:03.502698Z",
     "shell.execute_reply": "2023-08-09T15:31:03.502698Z"
    }
   },
   "outputs": [],
   "source": [
    "test = smp_lognorm.test_shapiro(pdf=\"lognormal\", size=5000)\n",
    "\n",
    "fig, ax = plt.subplots(figsize=(7, 4), dpi=100)\n",
    "\n",
    "idx = test.statistic.idxmax()\n",
    "w = test.loc[idx]\n",
    "sns.histplot(data=smp_lognorm.data.loc[idx], label=f\"W:stat={w.statistic:.2e}, p-value={w.pvalue:.2e}\", color=\"tomato\")\n",
    "\n",
    "idx = test.statistic.idxmin()\n",
    "w = test.loc[idx]\n",
    "sns.histplot(data=smp_lognorm.data.loc[idx], label=f\"W:stat={w.statistic:.2e}, p-value={w.pvalue:.2e}\", color=\"dodgerblue\")\n",
    "\n",
    "ax.set(xlabel=\"W\")\n",
    "ax.legend()\n",
    "fig.tight_layout()"
   ]
  },
  {
   "cell_type": "markdown",
   "id": "975dbaa1",
   "metadata": {},
   "source": [
    "## Shapiro-Wilk test for uniform samples and normal distribution"
   ]
  },
  {
   "cell_type": "code",
   "execution_count": null,
   "id": "bded2114",
   "metadata": {
    "execution": {
     "iopub.execute_input": "2023-08-09T15:31:03.502698Z",
     "iopub.status.busy": "2023-08-09T15:31:03.502698Z",
     "iopub.status.idle": "2023-08-09T15:31:04.772925Z",
     "shell.execute_reply": "2023-08-09T15:31:04.772925Z"
    }
   },
   "outputs": [],
   "source": [
    "stat_norm = []\n",
    "stat_lognorm = []\n",
    "for n in [10, 50, 100, 500, 1000, 5000]:\n",
    "    df = smp_uniform.test_shapiro(pdf=\"normal\", size=n)\n",
    "    idx = df.statistic.idxmin()\n",
    "    stat_norm.append(df.loc[idx].rename(n))\n",
    "\n",
    "    df = smp_uniform.test_shapiro(pdf=\"lognormal\", size=n)\n",
    "    idx = df.statistic.idxmin()\n",
    "    stat_lognorm.append(df.loc[idx].rename(n))\n",
    "\n",
    "opts = dict(left_index=True, right_index=True, suffixes=(\"_norm\", \"_lognorm\"))\n",
    "pd.DataFrame(stat_norm).merge(pd.DataFrame(stat_lognorm), **opts).rename_axis(\"# SMP\")"
   ]
  },
  {
   "cell_type": "markdown",
   "id": "fe638556",
   "metadata": {},
   "source": [
    "### Plot the distribution of the parameter with closest and farthest resemblance to a uniform PDF"
   ]
  },
  {
   "cell_type": "code",
   "execution_count": null,
   "id": "b6e1d4ee",
   "metadata": {
    "execution": {
     "iopub.execute_input": "2023-08-09T15:31:04.772925Z",
     "iopub.status.busy": "2023-08-09T15:31:04.772925Z",
     "iopub.status.idle": "2023-08-09T15:31:05.306732Z",
     "shell.execute_reply": "2023-08-09T15:31:05.306732Z"
    }
   },
   "outputs": [],
   "source": [
    "test = smp_uniform.test_shapiro(pdf=\"uniform\", size=5000)\n",
    "\n",
    "fig, ax = plt.subplots(figsize=(7, 4), dpi=100)\n",
    "\n",
    "idx = test.statistic.idxmax()\n",
    "w = test.loc[idx]\n",
    "sns.histplot(data=smp_uniform.data.loc[idx], label=f\"W:stat={w.statistic:.2e}, p-value={w.pvalue:.2e}\", color=\"tomato\")\n",
    "\n",
    "idx = test.statistic.idxmin()\n",
    "w = test.loc[idx]\n",
    "sns.histplot(data=smp_uniform.data.loc[idx], label=f\"W:stat={w.statistic:.2e}, p-value={w.pvalue:.2e}\", color=\"dodgerblue\")\n",
    "\n",
    "ax.set(xlabel=\"W\")\n",
    "ax.legend()\n",
    "fig.tight_layout()"
   ]
  }
 ],
 "metadata": {
  "kernelspec": {
   "display_name": "Python [conda env:sandy-v1.0] *",
   "language": "python",
   "name": "conda-env-sandy-v1.0-py"
  },
  "language_info": {
   "codemirror_mode": {
    "name": "ipython",
    "version": 3
   },
   "file_extension": ".py",
   "mimetype": "text/x-python",
   "name": "python",
   "nbconvert_exporter": "python",
   "pygments_lexer": "ipython3",
   "version": "3.11.3"
  }
 },
 "nbformat": 4,
 "nbformat_minor": 5
}
