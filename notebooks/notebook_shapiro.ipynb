{
 "cells": [
  {
   "cell_type": "markdown",
   "id": "cfc7bba9",
   "metadata": {},
   "source": [
    "# Shapiro-Wilk test for normal and lognormal distributions"
   ]
  },
  {
   "cell_type": "code",
   "execution_count": 1,
   "id": "8e456eaf",
   "metadata": {},
   "outputs": [],
   "source": [
    "import sandy"
   ]
  },
  {
   "cell_type": "code",
   "execution_count": 2,
   "id": "35fae75e",
   "metadata": {},
   "outputs": [],
   "source": [
    "import logging\n",
    "import pandas as pd\n",
    "import numpy as np"
   ]
  },
  {
   "cell_type": "code",
   "execution_count": 3,
   "id": "8e08433c",
   "metadata": {},
   "outputs": [],
   "source": [
    "import matplotlib.pyplot as plt\n",
    "import seaborn as sns"
   ]
  },
  {
   "cell_type": "code",
   "execution_count": 4,
   "id": "c57f6407",
   "metadata": {},
   "outputs": [],
   "source": [
    "logging.getLogger().setLevel(logging.WARN)"
   ]
  },
  {
   "cell_type": "markdown",
   "id": "8d1ddd57",
   "metadata": {},
   "source": [
    "Generate 5000 xs samples normally and log-normally distributed"
   ]
  },
  {
   "cell_type": "code",
   "execution_count": 5,
   "id": "fa73bbbc",
   "metadata": {},
   "outputs": [],
   "source": [
    "tape = sandy.get_endf6_file(\"jeff_33\", \"xs\", 10010)\n",
    "njoy_kws = dict(err=1, errorr33_kws=dict(mt=102))\n",
    "nsmp = 5000\n",
    "seed = 5\n",
    "\n",
    "smp_norm = tape.get_perturbations(nsmp, njoy_kws=njoy_kws, smp_kws=dict(seed33=seed, pdf=\"normal\"))[33]\n",
    "smp_lognorm = tape.get_perturbations(nsmp, njoy_kws=njoy_kws, smp_kws=dict(seed33=seed, pdf=\"lognormal\"))[33]\n",
    "smp_uniform = tape.get_perturbations(nsmp, njoy_kws=njoy_kws, smp_kws=dict(seed33=seed, pdf=\"uniform\"))[33]"
   ]
  },
  {
   "cell_type": "markdown",
   "id": "08f12802",
   "metadata": {},
   "source": [
    "##  Shapiro-Wilk test normal samples and normal distribution"
   ]
  },
  {
   "cell_type": "code",
   "execution_count": 6,
   "id": "4cf664f6",
   "metadata": {},
   "outputs": [
    {
     "name": "stderr",
     "output_type": "stream",
     "text": [
      "C:\\Users\\lfiorito\\Anaconda3\\envs\\sandy-v1.0\\Lib\\site-packages\\pandas\\core\\internals\\blocks.py:329: RuntimeWarning: divide by zero encountered in log\n",
      "  result = func(self.values, **kwargs)\n",
      "C:\\Users\\lfiorito\\Anaconda3\\envs\\sandy-v1.0\\Lib\\site-packages\\pandas\\core\\internals\\blocks.py:329: RuntimeWarning: divide by zero encountered in log\n",
      "  result = func(self.values, **kwargs)\n",
      "C:\\Users\\lfiorito\\Anaconda3\\envs\\sandy-v1.0\\Lib\\site-packages\\pandas\\core\\internals\\blocks.py:329: RuntimeWarning: divide by zero encountered in log\n",
      "  result = func(self.values, **kwargs)\n",
      "C:\\Users\\lfiorito\\Anaconda3\\envs\\sandy-v1.0\\Lib\\site-packages\\pandas\\core\\internals\\blocks.py:329: RuntimeWarning: divide by zero encountered in log\n",
      "  result = func(self.values, **kwargs)\n",
      "C:\\Users\\lfiorito\\Anaconda3\\envs\\sandy-v1.0\\Lib\\site-packages\\pandas\\core\\internals\\blocks.py:329: RuntimeWarning: divide by zero encountered in log\n",
      "  result = func(self.values, **kwargs)\n",
      "C:\\Users\\lfiorito\\Anaconda3\\envs\\sandy-v1.0\\Lib\\site-packages\\pandas\\core\\internals\\blocks.py:329: RuntimeWarning: divide by zero encountered in log\n",
      "  result = func(self.values, **kwargs)\n"
     ]
    },
    {
     "data": {
      "text/html": [
       "<div>\n",
       "<style scoped>\n",
       "    .dataframe tbody tr th:only-of-type {\n",
       "        vertical-align: middle;\n",
       "    }\n",
       "\n",
       "    .dataframe tbody tr th {\n",
       "        vertical-align: top;\n",
       "    }\n",
       "\n",
       "    .dataframe thead th {\n",
       "        text-align: right;\n",
       "    }\n",
       "</style>\n",
       "<table border=\"1\" class=\"dataframe\">\n",
       "  <thead>\n",
       "    <tr style=\"text-align: right;\">\n",
       "      <th></th>\n",
       "      <th>statistic_norm</th>\n",
       "      <th>pvalue_norm</th>\n",
       "      <th>statistic_lognorm</th>\n",
       "      <th>pvalue_lognorm</th>\n",
       "    </tr>\n",
       "    <tr>\n",
       "      <th># SMP</th>\n",
       "      <th></th>\n",
       "      <th></th>\n",
       "      <th></th>\n",
       "      <th></th>\n",
       "    </tr>\n",
       "  </thead>\n",
       "  <tbody>\n",
       "    <tr>\n",
       "      <th>10</th>\n",
       "      <td>8.63977e-01</td>\n",
       "      <td>8.49909e-02</td>\n",
       "      <td>9.55022e-01</td>\n",
       "      <td>1.02568e-36</td>\n",
       "    </tr>\n",
       "    <tr>\n",
       "      <th>50</th>\n",
       "      <td>9.67515e-01</td>\n",
       "      <td>1.83054e-01</td>\n",
       "      <td>9.55022e-01</td>\n",
       "      <td>1.02568e-36</td>\n",
       "    </tr>\n",
       "    <tr>\n",
       "      <th>100</th>\n",
       "      <td>9.87374e-01</td>\n",
       "      <td>4.63279e-01</td>\n",
       "      <td>9.55022e-01</td>\n",
       "      <td>1.02568e-36</td>\n",
       "    </tr>\n",
       "    <tr>\n",
       "      <th>500</th>\n",
       "      <td>9.88540e-01</td>\n",
       "      <td>5.89998e-04</td>\n",
       "      <td>9.55022e-01</td>\n",
       "      <td>1.02568e-36</td>\n",
       "    </tr>\n",
       "    <tr>\n",
       "      <th>1000</th>\n",
       "      <td>9.87425e-01</td>\n",
       "      <td>1.46392e-07</td>\n",
       "      <td>9.55022e-01</td>\n",
       "      <td>1.02568e-36</td>\n",
       "    </tr>\n",
       "    <tr>\n",
       "      <th>5000</th>\n",
       "      <td>9.89648e-01</td>\n",
       "      <td>1.08698e-18</td>\n",
       "      <td>9.55022e-01</td>\n",
       "      <td>1.02568e-36</td>\n",
       "    </tr>\n",
       "  </tbody>\n",
       "</table>\n",
       "</div>"
      ],
      "text/plain": [
       "       statistic_norm  pvalue_norm  statistic_lognorm  pvalue_lognorm\n",
       "# SMP                                                                \n",
       "10        8.63977e-01  8.49909e-02        9.55022e-01     1.02568e-36\n",
       "50        9.67515e-01  1.83054e-01        9.55022e-01     1.02568e-36\n",
       "100       9.87374e-01  4.63279e-01        9.55022e-01     1.02568e-36\n",
       "500       9.88540e-01  5.89998e-04        9.55022e-01     1.02568e-36\n",
       "1000      9.87425e-01  1.46392e-07        9.55022e-01     1.02568e-36\n",
       "5000      9.89648e-01  1.08698e-18        9.55022e-01     1.02568e-36"
      ]
     },
     "execution_count": 6,
     "metadata": {},
     "output_type": "execute_result"
    }
   ],
   "source": [
    "stat_norm = []\n",
    "stat_lognorm = []\n",
    "for n in [10, 50, 100, 500, 1000, 5000]:\n",
    "    df = smp_norm.test_shapiro(pdf=\"normal\", size=n)\n",
    "    idx = df.statistic.idxmin()\n",
    "    stat_norm.append(df.loc[idx].rename(n))\n",
    "\n",
    "    df = smp_norm.test_shapiro(pdf=\"lognormal\", size=n)\n",
    "    idx = df.statistic.idxmin()\n",
    "    stat_lognorm.append(df.loc[idx].rename(n))\n",
    "\n",
    "opts = dict(left_index=True, right_index=True, suffixes=(\"_norm\", \"_lognorm\"))\n",
    "pd.DataFrame(stat_norm).merge(pd.DataFrame(stat_lognorm), **opts).rename_axis(\"# SMP\")"
   ]
  },
  {
   "cell_type": "markdown",
   "id": "0559afc0",
   "metadata": {},
   "source": [
    "### Plot the distribution of the parameter with closest and farthest resemblance to a normal PDF"
   ]
  },
  {
   "cell_type": "code",
   "execution_count": 7,
   "id": "449bdf7d",
   "metadata": {},
   "outputs": [
    {
     "data": {
      "image/png": "[encoded data removed]",
      "text/plain": [
       "<Figure size 700x400 with 1 Axes>"
      ]
     },
     "metadata": {},
     "output_type": "display_data"
    }
   ],
   "source": [
    "test = smp_norm.test_shapiro(pdf=\"normal\", size=5000)\n",
    "\n",
    "fig, ax = plt.subplots(figsize=(7, 4), dpi=100)\n",
    "\n",
    "idx = test.statistic.idxmin()\n",
    "w = test.loc[idx]\n",
    "sns.histplot(data=smp_norm.data.loc[idx], label=f\"W:stat={w.statistic:.2e}, p-value={w.pvalue:.2e}\", color=\"dodgerblue\")\n",
    "\n",
    "idx = test.statistic.idxmax()\n",
    "w = test.loc[idx]\n",
    "sns.histplot(data=smp_norm.data.loc[idx], label=f\"W:stat={w.statistic:.2e}, p-value={w.pvalue:.2e}\", color=\"tomato\")\n",
    "\n",
    "ax.set(xlabel=\"W\")\n",
    "ax.legend()\n",
    "fig.tight_layout()"
   ]
  },
  {
   "cell_type": "markdown",
   "id": "78c3e97d",
   "metadata": {},
   "source": [
    "## Shapiro-Wilk test for lognormal samples and lognormal distribution"
   ]
  },
  {
   "cell_type": "code",
   "execution_count": 8,
   "id": "be16d4f1",
   "metadata": {},
   "outputs": [
    {
     "data": {
      "text/html": [
       "<div>\n",
       "<style scoped>\n",
       "    .dataframe tbody tr th:only-of-type {\n",
       "        vertical-align: middle;\n",
       "    }\n",
       "\n",
       "    .dataframe tbody tr th {\n",
       "        vertical-align: top;\n",
       "    }\n",
       "\n",
       "    .dataframe thead th {\n",
       "        text-align: right;\n",
       "    }\n",
       "</style>\n",
       "<table border=\"1\" class=\"dataframe\">\n",
       "  <thead>\n",
       "    <tr style=\"text-align: right;\">\n",
       "      <th></th>\n",
       "      <th>statistic_norm</th>\n",
       "      <th>pvalue_norm</th>\n",
       "      <th>statistic_lognorm</th>\n",
       "      <th>pvalue_lognorm</th>\n",
       "    </tr>\n",
       "    <tr>\n",
       "      <th># SMP</th>\n",
       "      <th></th>\n",
       "      <th></th>\n",
       "      <th></th>\n",
       "      <th></th>\n",
       "    </tr>\n",
       "  </thead>\n",
       "  <tbody>\n",
       "    <tr>\n",
       "      <th>10</th>\n",
       "      <td>8.57166e-01</td>\n",
       "      <td>7.06498e-02</td>\n",
       "      <td>9.99667e-01</td>\n",
       "      <td>6.05936e-01</td>\n",
       "    </tr>\n",
       "    <tr>\n",
       "      <th>50</th>\n",
       "      <td>9.45812e-01</td>\n",
       "      <td>2.30204e-02</td>\n",
       "      <td>9.99667e-01</td>\n",
       "      <td>6.05936e-01</td>\n",
       "    </tr>\n",
       "    <tr>\n",
       "      <th>100</th>\n",
       "      <td>9.48893e-01</td>\n",
       "      <td>7.01911e-04</td>\n",
       "      <td>9.99667e-01</td>\n",
       "      <td>6.05936e-01</td>\n",
       "    </tr>\n",
       "    <tr>\n",
       "      <th>500</th>\n",
       "      <td>9.19646e-01</td>\n",
       "      <td>1.13718e-15</td>\n",
       "      <td>9.99667e-01</td>\n",
       "      <td>6.05936e-01</td>\n",
       "    </tr>\n",
       "    <tr>\n",
       "      <th>1000</th>\n",
       "      <td>9.05312e-01</td>\n",
       "      <td>2.08192e-24</td>\n",
       "      <td>9.99667e-01</td>\n",
       "      <td>6.05936e-01</td>\n",
       "    </tr>\n",
       "    <tr>\n",
       "      <th>5000</th>\n",
       "      <td>9.04999e-01</td>\n",
       "      <td>0.00000e+00</td>\n",
       "      <td>9.99667e-01</td>\n",
       "      <td>6.05936e-01</td>\n",
       "    </tr>\n",
       "  </tbody>\n",
       "</table>\n",
       "</div>"
      ],
      "text/plain": [
       "       statistic_norm  pvalue_norm  statistic_lognorm  pvalue_lognorm\n",
       "# SMP                                                                \n",
       "10        8.57166e-01  7.06498e-02        9.99667e-01     6.05936e-01\n",
       "50        9.45812e-01  2.30204e-02        9.99667e-01     6.05936e-01\n",
       "100       9.48893e-01  7.01911e-04        9.99667e-01     6.05936e-01\n",
       "500       9.19646e-01  1.13718e-15        9.99667e-01     6.05936e-01\n",
       "1000      9.05312e-01  2.08192e-24        9.99667e-01     6.05936e-01\n",
       "5000      9.04999e-01  0.00000e+00        9.99667e-01     6.05936e-01"
      ]
     },
     "execution_count": 8,
     "metadata": {},
     "output_type": "execute_result"
    }
   ],
   "source": [
    "stat_norm = []\n",
    "stat_lognorm = []\n",
    "for n in [10, 50, 100, 500, 1000, 5000]:\n",
    "    df = smp_lognorm.test_shapiro(pdf=\"normal\", size=n)\n",
    "    idx = df.statistic.idxmin()\n",
    "    stat_norm.append(df.loc[idx].rename(n))\n",
    "\n",
    "    df = smp_lognorm.test_shapiro(pdf=\"lognormal\", size=n)\n",
    "    idx = df.statistic.idxmin()\n",
    "    stat_lognorm.append(df.loc[idx].rename(n))\n",
    "\n",
    "opts = dict(left_index=True, right_index=True, suffixes=(\"_norm\", \"_lognorm\"))\n",
    "pd.DataFrame(stat_norm).merge(pd.DataFrame(stat_lognorm), **opts).rename_axis(\"# SMP\")"
   ]
  },
  {
   "cell_type": "markdown",
   "id": "b40e1b23",
   "metadata": {},
   "source": [
    "### Plot the distribution of the parameter with closest and farthest resemblance to a lognormal PDF"
   ]
  },
  {
   "cell_type": "code",
   "execution_count": 9,
   "id": "8fa36199",
   "metadata": {},
   "outputs": [
    {
     "data": {
      "image/png": "[encoded data removed]",
      "text/plain": [
       "<Figure size 700x400 with 1 Axes>"
      ]
     },
     "metadata": {},
     "output_type": "display_data"
    }
   ],
   "source": [
    "test = smp_lognorm.test_shapiro(pdf=\"lognormal\", size=5000)\n",
    "\n",
    "fig, ax = plt.subplots(figsize=(7, 4), dpi=100)\n",
    "\n",
    "idx = test.statistic.idxmax()\n",
    "w = test.loc[idx]\n",
    "sns.histplot(data=smp_lognorm.data.loc[idx], label=f\"W:stat={w.statistic:.2e}, p-value={w.pvalue:.2e}\", color=\"tomato\")\n",
    "\n",
    "idx = test.statistic.idxmin()\n",
    "w = test.loc[idx]\n",
    "sns.histplot(data=smp_lognorm.data.loc[idx], label=f\"W:stat={w.statistic:.2e}, p-value={w.pvalue:.2e}\", color=\"dodgerblue\")\n",
    "\n",
    "ax.set(xlabel=\"W\")\n",
    "ax.legend()\n",
    "fig.tight_layout()"
   ]
  },
  {
   "cell_type": "markdown",
   "id": "975dbaa1",
   "metadata": {},
   "source": [
    "## Shapiro-Wilk test for uniform samples and normal distribution"
   ]
  },
  {
   "cell_type": "code",
   "execution_count": 10,
   "id": "bded2114",
   "metadata": {},
   "outputs": [
    {
     "data": {
      "text/html": [
       "<div>\n",
       "<style scoped>\n",
       "    .dataframe tbody tr th:only-of-type {\n",
       "        vertical-align: middle;\n",
       "    }\n",
       "\n",
       "    .dataframe tbody tr th {\n",
       "        vertical-align: top;\n",
       "    }\n",
       "\n",
       "    .dataframe thead th {\n",
       "        text-align: right;\n",
       "    }\n",
       "</style>\n",
       "<table border=\"1\" class=\"dataframe\">\n",
       "  <thead>\n",
       "    <tr style=\"text-align: right;\">\n",
       "      <th></th>\n",
       "      <th>statistic_norm</th>\n",
       "      <th>pvalue_norm</th>\n",
       "      <th>statistic_lognorm</th>\n",
       "      <th>pvalue_lognorm</th>\n",
       "    </tr>\n",
       "    <tr>\n",
       "      <th># SMP</th>\n",
       "      <th></th>\n",
       "      <th></th>\n",
       "      <th></th>\n",
       "      <th></th>\n",
       "    </tr>\n",
       "  </thead>\n",
       "  <tbody>\n",
       "    <tr>\n",
       "      <th>10</th>\n",
       "      <td>7.01850e-01</td>\n",
       "      <td>9.27593e-04</td>\n",
       "      <td>9.08091e-01</td>\n",
       "      <td>0.00000e+00</td>\n",
       "    </tr>\n",
       "    <tr>\n",
       "      <th>50</th>\n",
       "      <td>8.92741e-01</td>\n",
       "      <td>2.79088e-04</td>\n",
       "      <td>9.08091e-01</td>\n",
       "      <td>0.00000e+00</td>\n",
       "    </tr>\n",
       "    <tr>\n",
       "      <th>100</th>\n",
       "      <td>9.08595e-01</td>\n",
       "      <td>3.66984e-06</td>\n",
       "      <td>9.08091e-01</td>\n",
       "      <td>0.00000e+00</td>\n",
       "    </tr>\n",
       "    <tr>\n",
       "      <th>500</th>\n",
       "      <td>9.39673e-01</td>\n",
       "      <td>2.30583e-13</td>\n",
       "      <td>9.08091e-01</td>\n",
       "      <td>0.00000e+00</td>\n",
       "    </tr>\n",
       "    <tr>\n",
       "      <th>1000</th>\n",
       "      <td>9.42486e-01</td>\n",
       "      <td>2.97285e-19</td>\n",
       "      <td>9.08091e-01</td>\n",
       "      <td>0.00000e+00</td>\n",
       "    </tr>\n",
       "    <tr>\n",
       "      <th>5000</th>\n",
       "      <td>9.50787e-01</td>\n",
       "      <td>4.99444e-38</td>\n",
       "      <td>9.08091e-01</td>\n",
       "      <td>0.00000e+00</td>\n",
       "    </tr>\n",
       "  </tbody>\n",
       "</table>\n",
       "</div>"
      ],
      "text/plain": [
       "       statistic_norm  pvalue_norm  statistic_lognorm  pvalue_lognorm\n",
       "# SMP                                                                \n",
       "10        7.01850e-01  9.27593e-04        9.08091e-01     0.00000e+00\n",
       "50        8.92741e-01  2.79088e-04        9.08091e-01     0.00000e+00\n",
       "100       9.08595e-01  3.66984e-06        9.08091e-01     0.00000e+00\n",
       "500       9.39673e-01  2.30583e-13        9.08091e-01     0.00000e+00\n",
       "1000      9.42486e-01  2.97285e-19        9.08091e-01     0.00000e+00\n",
       "5000      9.50787e-01  4.99444e-38        9.08091e-01     0.00000e+00"
      ]
     },
     "execution_count": 10,
     "metadata": {},
     "output_type": "execute_result"
    }
   ],
   "source": [
    "stat_norm = []\n",
    "stat_lognorm = []\n",
    "for n in [10, 50, 100, 500, 1000, 5000]:\n",
    "    df = smp_uniform.test_shapiro(pdf=\"normal\", size=n)\n",
    "    idx = df.statistic.idxmin()\n",
    "    stat_norm.append(df.loc[idx].rename(n))\n",
    "\n",
    "    df = smp_uniform.test_shapiro(pdf=\"lognormal\", size=n)\n",
    "    idx = df.statistic.idxmin()\n",
    "    stat_lognorm.append(df.loc[idx].rename(n))\n",
    "\n",
    "opts = dict(left_index=True, right_index=True, suffixes=(\"_norm\", \"_lognorm\"))\n",
    "pd.DataFrame(stat_norm).merge(pd.DataFrame(stat_lognorm), **opts).rename_axis(\"# SMP\")"
   ]
  },
  {
   "cell_type": "markdown",
   "id": "fe638556",
   "metadata": {},
   "source": [
    "### Plot the distribution of the parameter with closest and farthest resemblance to a uniform PDF"
   ]
  },
  {
   "cell_type": "code",
   "execution_count": 11,
   "id": "b6e1d4ee",
   "metadata": {},
   "outputs": [
    {
     "data": {
      "image/png": "[encoded data removed]",
      "text/plain": [
       "<Figure size 700x400 with 1 Axes>"
      ]
     },
     "metadata": {},
     "output_type": "display_data"
    }
   ],
   "source": [
    "test = smp_uniform.test_shapiro(pdf=\"uniform\", size=5000)\n",
    "\n",
    "fig, ax = plt.subplots(figsize=(7, 4), dpi=100)\n",
    "\n",
    "idx = test.statistic.idxmax()\n",
    "w = test.loc[idx]\n",
    "sns.histplot(data=smp_uniform.data.loc[idx], label=f\"W:stat={w.statistic:.2e}, p-value={w.pvalue:.2e}\", color=\"tomato\")\n",
    "\n",
    "idx = test.statistic.idxmin()\n",
    "w = test.loc[idx]\n",
    "sns.histplot(data=smp_uniform.data.loc[idx], label=f\"W:stat={w.statistic:.2e}, p-value={w.pvalue:.2e}\", color=\"dodgerblue\")\n",
    "\n",
    "ax.set(xlabel=\"W\")\n",
    "ax.legend()\n",
    "fig.tight_layout()"
   ]
  }
 ],
 "metadata": {
  "kernelspec": {
   "display_name": "Python [conda env:sandy-v1.0] *",
   "language": "python",
   "name": "conda-env-sandy-v1.0-py"
  },
  "language_info": {
   "codemirror_mode": {
    "name": "ipython",
    "version": 3
   },
   "file_extension": ".py",
   "mimetype": "text/x-python",
   "name": "python",
   "nbconvert_exporter": "python",
   "pygments_lexer": "ipython3",
   "version": "3.11.3"
  }
 },
 "nbformat": 4,
 "nbformat_minor": 5
}
