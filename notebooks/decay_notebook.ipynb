{
 "cells": [
  {
   "cell_type": "markdown",
   "metadata": {},
   "source": [
    "# Interact with decay data in ENDF-6 format (MF=8, MT=457)"
   ]
  },
  {
   "cell_type": "markdown",
   "metadata": {},
   "source": [
    "First import `sandy` and other packages importing for formatting and postprocessing that are used in this notebook."
   ]
  },
  {
   "cell_type": "code",
   "execution_count": 1,
   "metadata": {},
   "outputs": [],
   "source": [
    "import sandy\n",
    "import yaml\n",
    "\n",
    "from IPython.core.interactiveshell import InteractiveShell\n",
    "InteractiveShell.ast_node_interactivity = \"all\""
   ]
  },
  {
   "cell_type": "markdown",
   "metadata": {},
   "source": [
    "## Read decay data in ENDF-6 format"
   ]
  },
  {
   "cell_type": "markdown",
   "metadata": {},
   "source": [
    "As always, any nuclear data evaluation can be imported into a `Endf6` instance"
   ]
  },
  {
   "cell_type": "code",
   "execution_count": 2,
   "metadata": {},
   "outputs": [],
   "source": [
    "tape = sandy.read_formatted_file(\"dec-027_Co_060.endf\")"
   ]
  },
  {
   "cell_type": "markdown",
   "metadata": {},
   "source": [
    "The radioactive decay data text (in ENDF-6 format) for all sections and isotopes in `tape` can be \n",
    "parsed and extracted in a hierarchical format (nested `dict`) into a `DecayData` instance, say, variable `rdd`."
   ]
  },
  {
   "cell_type": "code",
   "execution_count": 3,
   "metadata": {},
   "outputs": [
    {
     "data": {
      "text/plain": [
       "{270600: {'half_life': 166344200.0,\n",
       "  'decay_constant': 4.166945289105032e-09,\n",
       "  'decay_modes': {'10': {'decay_products': {280600: 1.0},\n",
       "    'branching_ratio': 1.0}},\n",
       "  'stable': False,\n",
       "  'spin': 5.0,\n",
       "  'parity': 1.0,\n",
       "  'decay_energy': {'beta': 96769.1,\n",
       "   'gamma': 2503844.0,\n",
       "   'alpha': 0.0,\n",
       "   'total': 2600613.1},\n",
       "  'decay_energy_uncertainties': {'beta': 241.9428,\n",
       "   'gamma': 352.1859,\n",
       "   'alpha': 0.0}},\n",
       " 270601: {'half_life': 628.02,\n",
       "  'decay_constant': 0.0011037023989044065,\n",
       "  'decay_modes': {'10': {'decay_products': {280600: 1.0},\n",
       "    'branching_ratio': 0.0024},\n",
       "   '30': {'decay_products': {270600: 1.0}, 'branching_ratio': 0.9976}},\n",
       "  'stable': False,\n",
       "  'spin': 2.0,\n",
       "  'parity': 1.0,\n",
       "  'decay_energy': {'beta': 56430.24,\n",
       "   'gamma': 6614.704,\n",
       "   'alpha': 0.0,\n",
       "   'total': 63044.943999999996},\n",
       "  'decay_energy_uncertainties': {'beta': 8461.567,\n",
       "   'gamma': 425.0476,\n",
       "   'alpha': 0.0}}}"
      ]
     },
     "execution_count": 3,
     "metadata": {},
     "output_type": "execute_result"
    }
   ],
   "source": [
    "rdd = sandy.DecayData.from_endf6(tape)\n",
    "rdd.data"
   ]
  },
  {
   "cell_type": "markdown",
   "metadata": {},
   "source": [
    "A better rendering of the `rdd` data content can be obtained with the `yaml` python package."
   ]
  },
  {
   "cell_type": "code",
   "execution_count": 4,
   "metadata": {},
   "outputs": [
    {
     "name": "stdout",
     "output_type": "stream",
     "text": [
      "270600:\n",
      "  decay_constant: 4.166945289105032e-09\n",
      "  decay_energy:\n",
      "    alpha: 0.0\n",
      "    beta: 96769.1\n",
      "    gamma: 2503844.0\n",
      "    total: 2600613.1\n",
      "  decay_energy_uncertainties:\n",
      "    alpha: 0.0\n",
      "    beta: 241.9428\n",
      "    gamma: 352.1859\n",
      "  decay_modes:\n",
      "    '10':\n",
      "      branching_ratio: 1.0\n",
      "      decay_products:\n",
      "        280600: 1.0\n",
      "  half_life: 166344200.0\n",
      "  parity: 1.0\n",
      "  spin: 5.0\n",
      "  stable: false\n",
      "270601:\n",
      "  decay_constant: 0.0011037023989044065\n",
      "  decay_energy:\n",
      "    alpha: 0.0\n",
      "    beta: 56430.24\n",
      "    gamma: 6614.704\n",
      "    total: 63044.943999999996\n",
      "  decay_energy_uncertainties:\n",
      "    alpha: 0.0\n",
      "    beta: 8461.567\n",
      "    gamma: 425.0476\n",
      "  decay_modes:\n",
      "    '10':\n",
      "      branching_ratio: 0.0024\n",
      "      decay_products:\n",
      "        280600: 1.0\n",
      "    '30':\n",
      "      branching_ratio: 0.9976\n",
      "      decay_products:\n",
      "        270600: 1.0\n",
      "  half_life: 628.02\n",
      "  parity: 1.0\n",
      "  spin: 2.0\n",
      "  stable: false\n",
      "\n"
     ]
    }
   ],
   "source": [
    "print(yaml.dump(rdd.data))"
   ]
  },
  {
   "cell_type": "markdown",
   "metadata": {},
   "source": [
    "The description of the `rdd.data` structure is explained below, where `zam` and `zap` are \n",
    "equal to `Z * 10000 + A * 10 + M` for the parent and daughter isotopes, respectively, with \n",
    "`Z`, `A`, and `M` being the charge, nucleons and metastate numbers."
   ]
  },
  {
   "cell_type": "markdown",
   "metadata": {},
   "source": [
    "```yaml\n",
    "    zam :\n",
    "        half_life : value in s\n",
    "        decay_constant : value in 1/s\n",
    "        stable : True/False\n",
    "        decay_energy :\n",
    "            alpha: value in eV\n",
    "            beta: value in eV\n",
    "            gamma: value in eV\n",
    "            total: value in eV\n",
    "        decay_energy_uncertainty :\n",
    "            alpha: value in eV\n",
    "            beta: value in eV\n",
    "            gamma: value in eV\n",
    "            total: value in eV\n",
    "        decay_modes :\n",
    "            rtyp : \n",
    "                decay_products : \n",
    "                    zap : yield\n",
    "                    zap_2 : yield_2\n",
    "                    ...\n",
    "                branching_ratio : value\n",
    "            rtyp_2 : ...\n",
    "    zam_2 : ...\n",
    "```"
   ]
  },
  {
   "cell_type": "markdown",
   "metadata": {},
   "source": [
    "`rtyp` is a string storing a sequence of integers, each of which defining the \n",
    "several decay events covered by a given decay mode.\n",
    "The list of individual decay events is accessible via variable `sandy.decay_modes`."
   ]
  },
  {
   "cell_type": "code",
   "execution_count": 5,
   "metadata": {},
   "outputs": [
    {
     "name": "stdout",
     "output_type": "stream",
     "text": [
      "0: gamma\n",
      "1: beta\n",
      "2: e.c.\n",
      "3: i.t.\n",
      "4: alpha\n",
      "5: n\n",
      "6: s.f.\n",
      "7: p\n",
      "\n"
     ]
    }
   ],
   "source": [
    "print(yaml.dump(sandy.decay_modes))"
   ]
  },
  {
   "cell_type": "markdown",
   "metadata": {},
   "source": [
    "## Extract structured information into dataframes"
   ]
  },
  {
   "cell_type": "markdown",
   "metadata": {},
   "source": [
    "We can extract the decay chains information (decay constant, branching ratio, yield, ...) into a `pandas.DataFrame`."
   ]
  },
  {
   "cell_type": "code",
   "execution_count": 6,
   "metadata": {},
   "outputs": [
    {
     "data": {
      "text/html": [
       "<div>\n",
       "<style scoped>\n",
       "    .dataframe tbody tr th:only-of-type {\n",
       "        vertical-align: middle;\n",
       "    }\n",
       "\n",
       "    .dataframe tbody tr th {\n",
       "        vertical-align: top;\n",
       "    }\n",
       "\n",
       "    .dataframe thead th {\n",
       "        text-align: right;\n",
       "    }\n",
       "</style>\n",
       "<table border=\"1\" class=\"dataframe\">\n",
       "  <thead>\n",
       "    <tr style=\"text-align: right;\">\n",
       "      <th></th>\n",
       "      <th>PARENT</th>\n",
       "      <th>DAUGHTER</th>\n",
       "      <th>YIELD</th>\n",
       "      <th>BR</th>\n",
       "      <th>LAMBDA</th>\n",
       "    </tr>\n",
       "  </thead>\n",
       "  <tbody>\n",
       "    <tr>\n",
       "      <th>0</th>\n",
       "      <td>270600</td>\n",
       "      <td>270600</td>\n",
       "      <td>-1.0</td>\n",
       "      <td>1.0000</td>\n",
       "      <td>4.166945e-09</td>\n",
       "    </tr>\n",
       "    <tr>\n",
       "      <th>1</th>\n",
       "      <td>270600</td>\n",
       "      <td>280600</td>\n",
       "      <td>1.0</td>\n",
       "      <td>1.0000</td>\n",
       "      <td>4.166945e-09</td>\n",
       "    </tr>\n",
       "    <tr>\n",
       "      <th>4</th>\n",
       "      <td>270601</td>\n",
       "      <td>270600</td>\n",
       "      <td>1.0</td>\n",
       "      <td>0.9976</td>\n",
       "      <td>1.103702e-03</td>\n",
       "    </tr>\n",
       "    <tr>\n",
       "      <th>2</th>\n",
       "      <td>270601</td>\n",
       "      <td>270601</td>\n",
       "      <td>-1.0</td>\n",
       "      <td>1.0000</td>\n",
       "      <td>1.103702e-03</td>\n",
       "    </tr>\n",
       "    <tr>\n",
       "      <th>3</th>\n",
       "      <td>270601</td>\n",
       "      <td>280600</td>\n",
       "      <td>1.0</td>\n",
       "      <td>0.0024</td>\n",
       "      <td>1.103702e-03</td>\n",
       "    </tr>\n",
       "  </tbody>\n",
       "</table>\n",
       "</div>"
      ],
      "text/plain": [
       "   PARENT  DAUGHTER  YIELD      BR        LAMBDA\n",
       "0  270600    270600   -1.0  1.0000  4.166945e-09\n",
       "1  270600    280600    1.0  1.0000  4.166945e-09\n",
       "4  270601    270600    1.0  0.9976  1.103702e-03\n",
       "2  270601    270601   -1.0  1.0000  1.103702e-03\n",
       "3  270601    280600    1.0  0.0024  1.103702e-03"
      ]
     },
     "execution_count": 6,
     "metadata": {},
     "output_type": "execute_result"
    }
   ],
   "source": [
    "chains = rdd.get_decay_chains()\n",
    "chains"
   ]
  },
  {
   "cell_type": "markdown",
   "metadata": {},
   "source": [
    "Or get the B-matrix, the matrix of branching ratios used to produce..."
   ]
  },
  {
   "cell_type": "code",
   "execution_count": 12,
   "metadata": {},
   "outputs": [
    {
     "data": {
      "text/html": [
       "<div>\n",
       "<style scoped>\n",
       "    .dataframe tbody tr th:only-of-type {\n",
       "        vertical-align: middle;\n",
       "    }\n",
       "\n",
       "    .dataframe tbody tr th {\n",
       "        vertical-align: top;\n",
       "    }\n",
       "\n",
       "    .dataframe thead th {\n",
       "        text-align: right;\n",
       "    }\n",
       "</style>\n",
       "<table border=\"1\" class=\"dataframe\">\n",
       "  <thead>\n",
       "    <tr style=\"text-align: right;\">\n",
       "      <th>PARENT</th>\n",
       "      <th>270600</th>\n",
       "      <th>270601</th>\n",
       "    </tr>\n",
       "    <tr>\n",
       "      <th>DAUGHTER</th>\n",
       "      <th></th>\n",
       "      <th></th>\n",
       "    </tr>\n",
       "  </thead>\n",
       "  <tbody>\n",
       "    <tr>\n",
       "      <th>270600</th>\n",
       "      <td>0.0</td>\n",
       "      <td>1.0</td>\n",
       "    </tr>\n",
       "    <tr>\n",
       "      <th>270601</th>\n",
       "      <td>0.0</td>\n",
       "      <td>0.0</td>\n",
       "    </tr>\n",
       "  </tbody>\n",
       "</table>\n",
       "</div>"
      ],
      "text/plain": [
       "PARENT    270600  270601\n",
       "DAUGHTER                \n",
       "270600       0.0     1.0\n",
       "270601       0.0     0.0"
      ]
     },
     "execution_count": 12,
     "metadata": {},
     "output_type": "execute_result"
    }
   ],
   "source": [
    "bm = rdd.get_bmatrix()\n",
    "bm"
   ]
  },
  {
   "cell_type": "markdown",
   "metadata": {},
   "source": [
    "...the Q-matrix, to get cumulative yields `Y` from independent yields `C`, according to `Y = Q C`. "
   ]
  },
  {
   "cell_type": "code",
   "execution_count": 8,
   "metadata": {},
   "outputs": [
    {
     "data": {
      "text/html": [
       "<div>\n",
       "<style scoped>\n",
       "    .dataframe tbody tr th:only-of-type {\n",
       "        vertical-align: middle;\n",
       "    }\n",
       "\n",
       "    .dataframe tbody tr th {\n",
       "        vertical-align: top;\n",
       "    }\n",
       "\n",
       "    .dataframe thead th {\n",
       "        text-align: right;\n",
       "    }\n",
       "</style>\n",
       "<table border=\"1\" class=\"dataframe\">\n",
       "  <thead>\n",
       "    <tr style=\"text-align: right;\">\n",
       "      <th>PARENT</th>\n",
       "      <th>270600</th>\n",
       "      <th>270601</th>\n",
       "    </tr>\n",
       "    <tr>\n",
       "      <th>DAUGHTER</th>\n",
       "      <th></th>\n",
       "      <th></th>\n",
       "    </tr>\n",
       "  </thead>\n",
       "  <tbody>\n",
       "    <tr>\n",
       "      <th>270600</th>\n",
       "      <td>1.000000e+00</td>\n",
       "      <td>1.0</td>\n",
       "    </tr>\n",
       "    <tr>\n",
       "      <th>270601</th>\n",
       "      <td>1.110223e-16</td>\n",
       "      <td>1.0</td>\n",
       "    </tr>\n",
       "  </tbody>\n",
       "</table>\n",
       "</div>"
      ],
      "text/plain": [
       "PARENT          270600  270601\n",
       "DAUGHTER                      \n",
       "270600    1.000000e+00     1.0\n",
       "270601    1.110223e-16     1.0"
      ]
     },
     "execution_count": 8,
     "metadata": {},
     "output_type": "execute_result"
    }
   ],
   "source": [
    "qm = rdd.get_qmatrix()\n",
    "qm"
   ]
  },
  {
   "cell_type": "markdown",
   "metadata": {},
   "source": [
    "Another thing you can get is the transition matrix `T` used to solve the depletion equation \n",
    "for radioactive decay `dN\\N = T N `."
   ]
  },
  {
   "cell_type": "code",
   "execution_count": 9,
   "metadata": {},
   "outputs": [
    {
     "data": {
      "text/html": [
       "<div>\n",
       "<style scoped>\n",
       "    .dataframe tbody tr th:only-of-type {\n",
       "        vertical-align: middle;\n",
       "    }\n",
       "\n",
       "    .dataframe tbody tr th {\n",
       "        vertical-align: top;\n",
       "    }\n",
       "\n",
       "    .dataframe thead th {\n",
       "        text-align: right;\n",
       "    }\n",
       "</style>\n",
       "<table border=\"1\" class=\"dataframe\">\n",
       "  <thead>\n",
       "    <tr style=\"text-align: right;\">\n",
       "      <th>PARENT</th>\n",
       "      <th>270600</th>\n",
       "      <th>270601</th>\n",
       "    </tr>\n",
       "    <tr>\n",
       "      <th>DAUGHTER</th>\n",
       "      <th></th>\n",
       "      <th></th>\n",
       "    </tr>\n",
       "  </thead>\n",
       "  <tbody>\n",
       "    <tr>\n",
       "      <th>270600</th>\n",
       "      <td>-4.166945e-09</td>\n",
       "      <td>0.001101</td>\n",
       "    </tr>\n",
       "    <tr>\n",
       "      <th>270601</th>\n",
       "      <td>0.000000e+00</td>\n",
       "      <td>-0.001104</td>\n",
       "    </tr>\n",
       "  </tbody>\n",
       "</table>\n",
       "</div>"
      ],
      "text/plain": [
       "PARENT          270600    270601\n",
       "DAUGHTER                        \n",
       "270600   -4.166945e-09  0.001101\n",
       "270601    0.000000e+00 -0.001104"
      ]
     },
     "execution_count": 9,
     "metadata": {},
     "output_type": "execute_result"
    }
   ],
   "source": [
    "tm = rdd.get_transition_matrix()\n",
    "tm"
   ]
  },
  {
   "cell_type": "markdown",
   "metadata": {},
   "source": [
    "## Convert decay data into HDF5 format"
   ]
  },
  {
   "cell_type": "markdown",
   "metadata": {},
   "source": [
    "We can write the content of `rdd` into a hdf5 file, say `\"decay.hdf5\"`, \n",
    "under a group namespace to identify the library, e.g. `\"endfb_71\"`."
   ]
  },
  {
   "cell_type": "code",
   "execution_count": 10,
   "metadata": {},
   "outputs": [],
   "source": [
    "h5filename = \"decay.hdf5\"\n",
    "libname = \"endfb_71\"\n",
    "rdd.to_hdf5(\"decay.hdf5\", \"endfb_71\")"
   ]
  },
  {
   "cell_type": "code",
   "execution_count": 11,
   "metadata": {},
   "outputs": [],
   "source": [
    "rdd2 = sandy.DecayData.from_hdf5(h5filename, libname)\n",
    "assert rdd2.get_decay_chains().equals(chains)"
   ]
  }
 ],
 "metadata": {
  "kernelspec": {
   "display_name": "Python 3",
   "language": "python",
   "name": "python3"
  },
  "language_info": {
   "codemirror_mode": {
    "name": "ipython",
    "version": 3
   },
   "file_extension": ".py",
   "mimetype": "text/x-python",
   "name": "python",
   "nbconvert_exporter": "python",
   "pygments_lexer": "ipython3",
   "version": "3.7.3"
  }
 },
 "nbformat": 4,
 "nbformat_minor": 2
}
