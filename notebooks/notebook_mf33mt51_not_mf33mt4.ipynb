{
 "cells": [
  {
   "cell_type": "markdown",
   "id": "8ada14c2",
   "metadata": {},
   "source": [
    "# Produce covariances from xs reconstruction rule"
   ]
  },
  {
   "cell_type": "code",
   "execution_count": null,
   "id": "21dbfc23",
   "metadata": {},
   "outputs": [],
   "source": [
    "import sandy"
   ]
  },
  {
   "cell_type": "code",
   "execution_count": null,
   "id": "acd80dd5",
   "metadata": {},
   "outputs": [],
   "source": [
    "import numpy as np\n",
    "import pandas as pd"
   ]
  },
  {
   "cell_type": "code",
   "execution_count": null,
   "id": "6ed15c00",
   "metadata": {},
   "outputs": [],
   "source": [
    "import matplotlib.pyplot as plt\n",
    "import seaborn as sns\n",
    "sns.set_style(\"whitegrid\")"
   ]
  },
  {
   "cell_type": "markdown",
   "id": "c0a29fcd",
   "metadata": {},
   "source": [
    "Cr-50 from JEFF-3.3 was identified as having covariance matrices (MF33) for the partial components of neutron inelastic scattering - i.e., MT=51-70 - but not for the MT=4."
   ]
  },
  {
   "cell_type": "markdown",
   "id": "de2b533b",
   "metadata": {},
   "source": [
    "## Plotting covariance matrices available in ENDF-6 file"
   ]
  },
  {
   "cell_type": "code",
   "execution_count": null,
   "id": "8b0c9713",
   "metadata": {},
   "outputs": [],
   "source": [
    "mts = range(51, 56)  # only 5 reactions are selected"
   ]
  },
  {
   "cell_type": "code",
   "execution_count": null,
   "id": "b6bae6e4",
   "metadata": {},
   "outputs": [],
   "source": [
    "errorr = sandy.get_endf6_file(\"jeff_33\", \"xs\", 240500).get_errorr(\n",
    "    err=0.1,\n",
    "    mt=mts,\n",
    "    irespr=0,  # faster\n",
    "    ek_errorr=[1e6, 2e6, 5e6, 1e7, 2e7],  # only above threshold\n",
    ")\n",
    "cov = errorr.get_cov()"
   ]
  },
  {
   "cell_type": "code",
   "execution_count": null,
   "id": "071cc13e",
   "metadata": {},
   "outputs": [],
   "source": [
    "fig, ax = plt.subplots(figsize=(6, 6), dpi=100)\n",
    "ax.set_aspect(\"equal\")\n",
    "sns.heatmap(data=cov.get_corr().data, ax=ax, cmap=\"bwr\", vmin=-1, vmax=1)\n",
    "fig.tight_layout()"
   ]
  },
  {
   "cell_type": "markdown",
   "id": "131ae0b5",
   "metadata": {},
   "source": [
    "## Trasnfering covariance info to random xs samples"
   ]
  },
  {
   "cell_type": "code",
   "execution_count": null,
   "id": "562c2704",
   "metadata": {},
   "outputs": [],
   "source": [
    "tape = sandy.get_endf6_file(\"jeff_33\", \"xs\", 240500).get_pendf(err=0.1)\n",
    "xs = sandy.Xs.from_endf6(tape)"
   ]
  },
  {
   "cell_type": "markdown",
   "id": "92078ecf",
   "metadata": {},
   "source": [
    "### Sampling cross sections **WITHOUT** reconstructing redundant cross section."
   ]
  },
  {
   "cell_type": "code",
   "execution_count": null,
   "id": "88c143d2",
   "metadata": {},
   "outputs": [],
   "source": [
    "perts = cov.sampling(50).data.T\n",
    "\n",
    "data = []\n",
    "for smp, pert in perts.iteritems():\n",
    "    pert = pert.rename(\"PERT\").reset_index().pivot_table(index=\"E\", columns=(\"MAT\", \"MT\"), values=\"PERT\")\n",
    "    eindex = [pert.index.left.to_list()[0]] + pert.index.right.to_list()\n",
    "    dim = pert.shape[1]\n",
    "    values = [[1] * dim] + pert.values.tolist()\n",
    "    df = pd.DataFrame(values, index=eindex, columns=pert.columns)\n",
    "    xsnew = sandy.Xs(xs.data)\n",
    "    for (mat, mt), p in df.iteritems():\n",
    "        p = sandy.Pert(p)\n",
    "        mat, mt = p.data.name\n",
    "        xsnew = xsnew.custom_perturbation(mat, mt, p)\n",
    "    data.append(xsnew.data.unstack().rename(\"XS\").reset_index().assign(SMP=smp))\n",
    "data = pd.concat(data, ignore_index=True)\n",
    "\n",
    "filtered_data = data[data.MT.isin([4, 51, 52, 53])].query(\"E>7.9E5 & E<2e7\")"
   ]
  },
  {
   "cell_type": "code",
   "execution_count": null,
   "id": "eac9c292",
   "metadata": {},
   "outputs": [],
   "source": [
    "g = sns.relplot(\n",
    "    data=filtered_data,\n",
    "    x=\"E\",\n",
    "    y=\"XS\",\n",
    "    col=\"MT\",\n",
    "    kind=\"line\",\n",
    "    height=3, aspect=.7,\n",
    "    ci=\"sd\",\n",
    ")\n",
    "g.set(yscale=\"log\", xlim=(7.9e5, 2e7), ylim=(1e-2, 2))\n",
    "g.figure.set_dpi(100);"
   ]
  },
  {
   "cell_type": "code",
   "execution_count": null,
   "id": "1bb1476d",
   "metadata": {},
   "outputs": [],
   "source": [
    "corr = filtered_data.pivot_table(index=\"SMP\", columns=(\"MT\", \"E\"), values=\"XS\").corr()\n",
    "\n",
    "fig, ax = plt.subplots(figsize=(6, 6), dpi=100)\n",
    "sns.heatmap(corr, cmap='bwr', vmin=-1, vmax=1, cbar_kws={'label': 'correlation'})\n",
    "ax.axhline(98 * 1, color='k')\n",
    "ax.axvline(98 * 1, color='k')\n",
    "ax.axhline(98 * 2, color='k')\n",
    "ax.axvline(98 * 2, color='k')\n",
    "ax.axhline(98 * 3, color='k')\n",
    "ax.axvline(98 * 3, color='k')\n",
    "\n",
    "fig.tight_layout()"
   ]
  },
  {
   "cell_type": "markdown",
   "id": "59dca193",
   "metadata": {},
   "source": [
    "### Sampling cross sections **AND** reconstructing redundant cross section."
   ]
  },
  {
   "cell_type": "code",
   "execution_count": null,
   "id": "37ab8a35",
   "metadata": {},
   "outputs": [],
   "source": [
    "perts = cov.sampling(50).data.T\n",
    "\n",
    "data = []\n",
    "for smp, pert in perts.iteritems():\n",
    "    pert = pert.rename(\"PERT\").reset_index().pivot_table(index=\"E\", columns=(\"MAT\", \"MT\"), values=\"PERT\")\n",
    "    eindex = [pert.index.left.to_list()[0]] + pert.index.right.to_list()\n",
    "    dim = pert.shape[1]\n",
    "    values = [[1] * dim] + pert.values.tolist()\n",
    "    df = pd.DataFrame(values, index=eindex, columns=pert.columns)\n",
    "    xsnew = sandy.Xs(xs.data)\n",
    "    for (mat, mt), p in df.iteritems():\n",
    "        p = sandy.Pert(p)\n",
    "        mat, mt = p.data.name\n",
    "        xsnew = xsnew.custom_perturbation(mat, mt, p)\n",
    "    data.append(xsnew._reconstruct_sums().data.unstack().rename(\"XS\").reset_index().assign(SMP=smp))\n",
    "data = pd.concat(data, ignore_index=True)\n",
    "\n",
    "filtered_data2 = data[data.MT.isin([4, 51, 52, 53])].query(\"E>7.9E5 & E<2e7\")"
   ]
  },
  {
   "cell_type": "code",
   "execution_count": null,
   "id": "b84e4712",
   "metadata": {},
   "outputs": [],
   "source": [
    "g = sns.relplot(\n",
    "    data=filtered_data2,\n",
    "    x=\"E\",\n",
    "    y=\"XS\",\n",
    "    col=\"MT\",\n",
    "    kind=\"line\",\n",
    "    height=3, aspect=.7,\n",
    "    ci=\"sd\",\n",
    ")\n",
    "g.set(yscale=\"log\", xlim=(7.9e5, 2e7), ylim=(1e-2, 2))\n",
    "g.figure.set_dpi(100);"
   ]
  },
  {
   "cell_type": "code",
   "execution_count": null,
   "id": "8a216969",
   "metadata": {},
   "outputs": [],
   "source": [
    "corr = filtered_data2.pivot_table(index=\"SMP\", columns=(\"MT\", \"E\"), values=\"XS\").corr()\n",
    "\n",
    "fig, ax = plt.subplots(figsize=(6, 6), dpi=100)\n",
    "sns.heatmap(corr, cmap='bwr', vmin=-1, vmax=1, cbar_kws={'label': 'correlation'})\n",
    "ax.axhline(98 * 1, color='k')\n",
    "ax.axvline(98 * 1, color='k')\n",
    "ax.axhline(98 * 2, color='k')\n",
    "ax.axvline(98 * 2, color='k')\n",
    "ax.axhline(98 * 3, color='k')\n",
    "ax.axvline(98 * 3, color='k')\n",
    "\n",
    "fig.tight_layout()"
   ]
  }
 ],
 "metadata": {
  "kernelspec": {
   "display_name": "Python3 (sandy-devel)",
   "language": "python",
   "name": "sandy-devel"
  },
  "language_info": {
   "codemirror_mode": {
    "name": "ipython",
    "version": 3
   },
   "file_extension": ".py",
   "mimetype": "text/x-python",
   "name": "python",
   "nbconvert_exporter": "python",
   "pygments_lexer": "ipython3",
   "version": "3.7.10"
  }
 },
 "nbformat": 4,
 "nbformat_minor": 5
}
