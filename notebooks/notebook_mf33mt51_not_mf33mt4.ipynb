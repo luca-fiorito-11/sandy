{
 "cells": [
  {
   "cell_type": "markdown",
   "id": "8ada14c2",
   "metadata": {},
   "source": [
    "# Produce covariances from xs reconstruction rule"
   ]
  },
  {
   "cell_type": "code",
   "execution_count": null,
   "id": "21dbfc23",
   "metadata": {
    "execution": {
     "iopub.execute_input": "2023-08-09T15:09:42.561017Z",
     "iopub.status.busy": "2023-08-09T15:09:42.561017Z",
     "iopub.status.idle": "2023-08-09T15:09:44.683976Z",
     "shell.execute_reply": "2023-08-09T15:09:44.683976Z"
    }
   },
   "outputs": [],
   "source": [
    "import sandy"
   ]
  },
  {
   "cell_type": "code",
   "execution_count": null,
   "id": "acd80dd5",
   "metadata": {
    "execution": {
     "iopub.execute_input": "2023-08-09T15:09:44.683976Z",
     "iopub.status.busy": "2023-08-09T15:09:44.683976Z",
     "iopub.status.idle": "2023-08-09T15:09:44.690334Z",
     "shell.execute_reply": "2023-08-09T15:09:44.690334Z"
    }
   },
   "outputs": [],
   "source": [
    "import numpy as np\n",
    "import pandas as pd"
   ]
  },
  {
   "cell_type": "code",
   "execution_count": null,
   "id": "6ed15c00",
   "metadata": {
    "execution": {
     "iopub.execute_input": "2023-08-09T15:09:44.690334Z",
     "iopub.status.busy": "2023-08-09T15:09:44.690334Z",
     "iopub.status.idle": "2023-08-09T15:09:46.002659Z",
     "shell.execute_reply": "2023-08-09T15:09:46.001649Z"
    }
   },
   "outputs": [],
   "source": [
    "import matplotlib.pyplot as plt\n",
    "import seaborn as sns\n",
    "sns.set_style(\"whitegrid\")"
   ]
  },
  {
   "cell_type": "markdown",
   "id": "c0a29fcd",
   "metadata": {},
   "source": [
    "Cr-50 from JEFF-3.3 was identified as having covariance matrices (MF33) for the partial components of neutron inelastic scattering - i.e., MT=51-70 - but not for the MT=4."
   ]
  },
  {
   "cell_type": "markdown",
   "id": "de2b533b",
   "metadata": {},
   "source": [
    "## Plotting covariance matrices available in ENDF-6 file"
   ]
  },
  {
   "cell_type": "code",
   "execution_count": null,
   "id": "8b0c9713",
   "metadata": {
    "execution": {
     "iopub.execute_input": "2023-08-09T15:09:46.007660Z",
     "iopub.status.busy": "2023-08-09T15:09:46.006661Z",
     "iopub.status.idle": "2023-08-09T15:09:46.011700Z",
     "shell.execute_reply": "2023-08-09T15:09:46.011700Z"
    }
   },
   "outputs": [],
   "source": [
    "mts = range(51, 56)  # only 5 reactions are selected"
   ]
  },
  {
   "cell_type": "code",
   "execution_count": null,
   "id": "b6bae6e4",
   "metadata": {
    "execution": {
     "iopub.execute_input": "2023-08-09T15:09:46.016715Z",
     "iopub.status.busy": "2023-08-09T15:09:46.015710Z",
     "iopub.status.idle": "2023-08-09T15:09:53.814923Z",
     "shell.execute_reply": "2023-08-09T15:09:53.814923Z"
    }
   },
   "outputs": [],
   "source": [
    "errorr = sandy.get_endf6_file(\"jeff_33\", \"xs\", 240500).get_errorr(\n",
    "    err=0.1,\n",
    "    errorr33_kws=dict(\n",
    "        mt=mts,\n",
    "        irespr=0,  # faster\n",
    "        ek=[1e6, 2e6, 5e6, 1e7, 2e7],  # only above threshold\n",
    "    ),\n",
    "    verbose=True,\n",
    ")\n",
    "cov = errorr['errorr33'].get_cov()"
   ]
  },
  {
   "cell_type": "code",
   "execution_count": null,
   "id": "071cc13e",
   "metadata": {
    "execution": {
     "iopub.execute_input": "2023-08-09T15:09:53.814923Z",
     "iopub.status.busy": "2023-08-09T15:09:53.814923Z",
     "iopub.status.idle": "2023-08-09T15:09:56.508883Z",
     "shell.execute_reply": "2023-08-09T15:09:56.508883Z"
    }
   },
   "outputs": [],
   "source": [
    "fig, ax = plt.subplots(figsize=(6, 6), dpi=100)\n",
    "ax.set_aspect(\"equal\")\n",
    "sns.heatmap(data=cov.get_corr().data, ax=ax, cmap=\"bwr\", vmin=-1, vmax=1)\n",
    "fig.tight_layout()"
   ]
  },
  {
   "cell_type": "markdown",
   "id": "131ae0b5",
   "metadata": {},
   "source": [
    "## Transfering covariance info to random xs samples"
   ]
  },
  {
   "cell_type": "code",
   "execution_count": null,
   "id": "562c2704",
   "metadata": {
    "execution": {
     "iopub.execute_input": "2023-08-09T15:09:56.508883Z",
     "iopub.status.busy": "2023-08-09T15:09:56.508883Z",
     "iopub.status.idle": "2023-08-09T15:10:05.348632Z",
     "shell.execute_reply": "2023-08-09T15:10:05.348632Z"
    }
   },
   "outputs": [],
   "source": [
    "tape = sandy.get_endf6_file(\"jeff_33\", \"xs\", 240500).get_pendf(err=0.1)\n",
    "xs = sandy.Xs.from_endf6(tape)"
   ]
  },
  {
   "cell_type": "markdown",
   "id": "92078ecf",
   "metadata": {},
   "source": [
    "### Sampling cross sections **WITHOUT** reconstructing redundant cross section."
   ]
  },
  {
   "cell_type": "code",
   "execution_count": null,
   "id": "862cdd61",
   "metadata": {
    "execution": {
     "iopub.execute_input": "2023-08-09T15:10:05.348632Z",
     "iopub.status.busy": "2023-08-09T15:10:05.348632Z",
     "iopub.status.idle": "2023-08-09T15:10:08.817320Z",
     "shell.execute_reply": "2023-08-09T15:10:08.817320Z"
    }
   },
   "outputs": [],
   "source": [
    "n = 50\n",
    "smp = cov.sampling(n)\n",
    "xs = sandy.Xs.from_endf6(tape)\n",
    "\n",
    "xs_pert = []\n",
    "for k, p in smp.iterate_xs_samples():\n",
    "    x = sandy.core.xs.xs_perturb_worker(xs, n, p).data.unstack().rename(\"XS\").reset_index().assign(SMP=k)\n",
    "    xs_pert.append(x)\n",
    "data = pd.concat(xs_pert, ignore_index=True)\n",
    "\n",
    "filtered_data = data[data.MT.isin([4, 51, 52, 53])].query(\"E>7.9E5 & E<2e7\")"
   ]
  },
  {
   "cell_type": "code",
   "execution_count": null,
   "id": "eac9c292",
   "metadata": {
    "execution": {
     "iopub.execute_input": "2023-08-09T15:10:08.817320Z",
     "iopub.status.busy": "2023-08-09T15:10:08.817320Z",
     "iopub.status.idle": "2023-08-09T15:10:12.409814Z",
     "shell.execute_reply": "2023-08-09T15:10:12.409814Z"
    }
   },
   "outputs": [],
   "source": [
    "g = sns.relplot(\n",
    "    data=filtered_data,\n",
    "    x=\"E\",\n",
    "    y=\"XS\",\n",
    "    col=\"MT\",\n",
    "    kind=\"line\",\n",
    "    height=3, aspect=.7,\n",
    "    errorbar=\"sd\",\n",
    ")\n",
    "g.set(yscale=\"log\", xlim=(7.9e5, 2e7), ylim=(1e-2, 2))\n",
    "g.figure.set_dpi(100);"
   ]
  },
  {
   "cell_type": "code",
   "execution_count": null,
   "id": "1bb1476d",
   "metadata": {
    "execution": {
     "iopub.execute_input": "2023-08-09T15:10:12.409814Z",
     "iopub.status.busy": "2023-08-09T15:10:12.409814Z",
     "iopub.status.idle": "2023-08-09T15:10:14.004072Z",
     "shell.execute_reply": "2023-08-09T15:10:14.004072Z"
    }
   },
   "outputs": [],
   "source": [
    "corr = filtered_data.pivot_table(index=\"SMP\", columns=(\"MT\", \"E\"), values=\"XS\").corr()\n",
    "\n",
    "fig, ax = plt.subplots(figsize=(6, 6), dpi=100)\n",
    "sns.heatmap(corr, cmap='bwr', vmin=-1, vmax=1, cbar_kws={'label': 'correlation'})\n",
    "ax.axhline(98 * 1, color='k')\n",
    "ax.axvline(98 * 1, color='k')\n",
    "ax.axhline(98 * 2, color='k')\n",
    "ax.axvline(98 * 2, color='k')\n",
    "ax.axhline(98 * 3, color='k')\n",
    "ax.axvline(98 * 3, color='k')\n",
    "\n",
    "fig.tight_layout()"
   ]
  },
  {
   "cell_type": "markdown",
   "id": "59dca193",
   "metadata": {},
   "source": [
    "### Sampling cross sections **AND** reconstructing redundant cross section."
   ]
  },
  {
   "cell_type": "code",
   "execution_count": null,
   "id": "37ab8a35",
   "metadata": {
    "execution": {
     "iopub.execute_input": "2023-08-09T15:10:14.004072Z",
     "iopub.status.busy": "2023-08-09T15:10:14.004072Z",
     "iopub.status.idle": "2023-08-09T15:10:18.538925Z",
     "shell.execute_reply": "2023-08-09T15:10:18.538925Z"
    }
   },
   "outputs": [],
   "source": [
    "n = 50\n",
    "smp = cov.sampling(n)\n",
    "xs = sandy.Xs.from_endf6(tape)\n",
    "\n",
    "xs_pert = []\n",
    "for k, p in smp.iterate_xs_samples():\n",
    "    x = sandy.core.xs.xs_perturb_worker(xs, n, p).reconstruct_sums(drop=True).data.unstack().rename(\"XS\").reset_index().assign(SMP=k)\n",
    "    xs_pert.append(x)\n",
    "data = pd.concat(xs_pert, ignore_index=True)\n",
    "\n",
    "filtered_data = data[data.MT.isin([4, 51, 52, 53])].query(\"E>7.9E5 & E<2e7\")"
   ]
  },
  {
   "cell_type": "code",
   "execution_count": null,
   "id": "b84e4712",
   "metadata": {
    "execution": {
     "iopub.execute_input": "2023-08-09T15:10:18.538925Z",
     "iopub.status.busy": "2023-08-09T15:10:18.538925Z",
     "iopub.status.idle": "2023-08-09T15:10:21.033367Z",
     "shell.execute_reply": "2023-08-09T15:10:21.032355Z"
    }
   },
   "outputs": [],
   "source": [
    "g = sns.relplot(\n",
    "    data=filtered_data,\n",
    "    x=\"E\",\n",
    "    y=\"XS\",\n",
    "    col=\"MT\",\n",
    "    kind=\"line\",\n",
    "    height=3, aspect=.7,\n",
    "    errorbar=\"sd\",\n",
    ")\n",
    "g.set(yscale=\"log\", xlim=(7.9e5, 2e7), ylim=(1e-2, 2))\n",
    "g.figure.set_dpi(100);"
   ]
  },
  {
   "cell_type": "code",
   "execution_count": null,
   "id": "8a216969",
   "metadata": {
    "execution": {
     "iopub.execute_input": "2023-08-09T15:10:21.036364Z",
     "iopub.status.busy": "2023-08-09T15:10:21.036364Z",
     "iopub.status.idle": "2023-08-09T15:10:22.725217Z",
     "shell.execute_reply": "2023-08-09T15:10:22.725217Z"
    }
   },
   "outputs": [],
   "source": [
    "corr = filtered_data.pivot_table(index=\"SMP\", columns=(\"MT\", \"E\"), values=\"XS\").corr()\n",
    "\n",
    "fig, ax = plt.subplots(figsize=(6, 6), dpi=100)\n",
    "sns.heatmap(corr, cmap='bwr', vmin=-1, vmax=1, cbar_kws={'label': 'correlation'})\n",
    "ax.axhline(98 * 1, color='k')\n",
    "ax.axvline(98 * 1, color='k')\n",
    "ax.axhline(98 * 2, color='k')\n",
    "ax.axvline(98 * 2, color='k')\n",
    "ax.axhline(98 * 3, color='k')\n",
    "ax.axvline(98 * 3, color='k')\n",
    "\n",
    "fig.tight_layout()"
   ]
  }
 ],
 "metadata": {
  "kernelspec": {
   "display_name": "Python [conda env:sandy-v1.0] *",
   "language": "python",
   "name": "conda-env-sandy-v1.0-py"
  },
  "language_info": {
   "codemirror_mode": {
    "name": "ipython",
    "version": 3
   },
   "file_extension": ".py",
   "mimetype": "text/x-python",
   "name": "python",
   "nbconvert_exporter": "python",
   "pygments_lexer": "ipython3",
   "version": "3.11.3"
  }
 },
 "nbformat": 4,
 "nbformat_minor": 5
}
