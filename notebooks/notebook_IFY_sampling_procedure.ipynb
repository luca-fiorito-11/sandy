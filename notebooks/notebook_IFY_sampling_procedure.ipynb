{
 "cells": [
  {
   "cell_type": "markdown",
   "id": "aafd73e1-9979-49b4-931b-79cbd5651309",
   "metadata": {},
   "source": [
    "# Independent fission yield sample production"
   ]
  },
  {
   "cell_type": "code",
   "execution_count": 20,
   "id": "b41a5d2f-f5ee-4554-aa72-026e42f8491c",
   "metadata": {},
   "outputs": [],
   "source": [
    "import numpy as np\n",
    "import pandas as pd"
   ]
  },
  {
   "cell_type": "code",
   "execution_count": 21,
   "id": "599d4afd-b588-40af-abae-a1dbc524dfee",
   "metadata": {},
   "outputs": [],
   "source": [
    "import sandy"
   ]
  },
  {
   "cell_type": "markdown",
   "id": "727f5a1e-12d8-46aa-9d1e-a5ad8c9fd6f5",
   "metadata": {},
   "source": [
    "### Retrieve nuclear data information"
   ]
  },
  {
   "cell_type": "code",
   "execution_count": 22,
   "id": "7583330d-4101-4bbd-95fb-6b73fddbb829",
   "metadata": {},
   "outputs": [],
   "source": [
    "e = 0.0253\n",
    "zam = 922350\n",
    "tape = sandy.get_endf6_file('jeff_33','nfpy', zam)"
   ]
  },
  {
   "cell_type": "code",
   "execution_count": 16,
   "id": "5b265875-dd60-4793-8308-baf14ce06522",
   "metadata": {},
   "outputs": [],
   "source": [
    "tape_rdd = sandy.get_endf6_file(\"jeff_33\", \"decay\", \"all\")\n",
    "decay_data = sandy.DecayData.from_endf6(tape_rdd)"
   ]
  },
  {
   "cell_type": "code",
   "execution_count": null,
   "id": "c6fc4a46-2161-436e-926a-f334c35bb34e",
   "metadata": {},
   "outputs": [],
   "source": [
    "tape_fy_all = sandy.get_endf6_file(\"jeff_33\", \"nfpy\", \"all\")"
   ]
  },
  {
   "cell_type": "code",
   "execution_count": 23,
   "id": "49495680-a2b0-4f2c-b0dc-d41e15b2de7b",
   "metadata": {},
   "outputs": [
    {
     "data": {
      "text/html": [
       "<div>\n",
       "<style scoped>\n",
       "    .dataframe tbody tr th:only-of-type {\n",
       "        vertical-align: middle;\n",
       "    }\n",
       "\n",
       "    .dataframe tbody tr th {\n",
       "        vertical-align: top;\n",
       "    }\n",
       "\n",
       "    .dataframe thead th {\n",
       "        text-align: right;\n",
       "    }\n",
       "</style>\n",
       "<table border=\"1\" class=\"dataframe\">\n",
       "  <thead>\n",
       "    <tr style=\"text-align: right;\">\n",
       "      <th></th>\n",
       "      <th></th>\n",
       "      <th></th>\n",
       "      <th></th>\n",
       "      <th>E</th>\n",
       "      <th>FY</th>\n",
       "      <th>DFY</th>\n",
       "    </tr>\n",
       "    <tr>\n",
       "      <th>MAT</th>\n",
       "      <th>MT</th>\n",
       "      <th>ZAM</th>\n",
       "      <th>ZAP</th>\n",
       "      <th></th>\n",
       "      <th></th>\n",
       "      <th></th>\n",
       "    </tr>\n",
       "  </thead>\n",
       "  <tbody>\n",
       "    <tr>\n",
       "      <th rowspan=\"5\" valign=\"top\">9228</th>\n",
       "      <th rowspan=\"5\" valign=\"top\">454</th>\n",
       "      <th rowspan=\"5\" valign=\"top\">922350</th>\n",
       "      <th>10010</th>\n",
       "      <td>2.53000e-02</td>\n",
       "      <td>1.71100e-05</td>\n",
       "      <td>2.94830e-06</td>\n",
       "    </tr>\n",
       "    <tr>\n",
       "      <th>10020</th>\n",
       "      <td>2.53000e-02</td>\n",
       "      <td>8.40000e-06</td>\n",
       "      <td>2.43890e-06</td>\n",
       "    </tr>\n",
       "    <tr>\n",
       "      <th>10030</th>\n",
       "      <td>2.53000e-02</td>\n",
       "      <td>1.08000e-04</td>\n",
       "      <td>5.86350e-06</td>\n",
       "    </tr>\n",
       "    <tr>\n",
       "      <th>20030</th>\n",
       "      <td>2.53000e-02</td>\n",
       "      <td>0.00000e+00</td>\n",
       "      <td>0.00000e+00</td>\n",
       "    </tr>\n",
       "    <tr>\n",
       "      <th>20040</th>\n",
       "      <td>2.53000e-02</td>\n",
       "      <td>1.70000e-03</td>\n",
       "      <td>8.13470e-05</td>\n",
       "    </tr>\n",
       "  </tbody>\n",
       "</table>\n",
       "</div>"
      ],
      "text/plain": [
       "                                E          FY         DFY\n",
       "MAT  MT  ZAM    ZAP                                      \n",
       "9228 454 922350 10010 2.53000e-02 1.71100e-05 2.94830e-06\n",
       "                10020 2.53000e-02 8.40000e-06 2.43890e-06\n",
       "                10030 2.53000e-02 1.08000e-04 5.86350e-06\n",
       "                20030 2.53000e-02 0.00000e+00 0.00000e+00\n",
       "                20040 2.53000e-02 1.70000e-03 8.13470e-05"
      ]
     },
     "execution_count": 23,
     "metadata": {},
     "output_type": "execute_result"
    }
   ],
   "source": [
    "nfpy = sandy.Fy.from_endf6(tape)\n",
    "nfpy.data.set_index([\"MAT\", \"MT\", \"ZAM\", \"ZAP\"]).head()"
   ]
  },
  {
   "cell_type": "markdown",
   "id": "078163ac-f523-4e28-89f8-001d6903a4a9",
   "metadata": {},
   "source": [
    "### Obtain covariance matrix"
   ]
  },
  {
   "cell_type": "markdown",
   "id": "ade9d2b7-8c76-4937-b6a3-c320d5c1f87e",
   "metadata": {},
   "source": [
    "Assuming the uncertaities equal to the standard deviations, it is possible to build the diagonal covariance matrix as follows:"
   ]
  },
  {
   "cell_type": "code",
   "execution_count": 24,
   "id": "1eff2f66-7f87-4b38-adf5-e370a36959f4",
   "metadata": {},
   "outputs": [
    {
     "data": {
      "text/html": [
       "<div>\n",
       "<style scoped>\n",
       "    .dataframe tbody tr th:only-of-type {\n",
       "        vertical-align: middle;\n",
       "    }\n",
       "\n",
       "    .dataframe tbody tr th {\n",
       "        vertical-align: top;\n",
       "    }\n",
       "\n",
       "    .dataframe thead th {\n",
       "        text-align: right;\n",
       "    }\n",
       "</style>\n",
       "<table border=\"1\" class=\"dataframe\">\n",
       "  <thead>\n",
       "    <tr style=\"text-align: right;\">\n",
       "      <th>ZAP</th>\n",
       "      <th>10010</th>\n",
       "      <th>10020</th>\n",
       "      <th>10030</th>\n",
       "      <th>20030</th>\n",
       "      <th>20040</th>\n",
       "    </tr>\n",
       "    <tr>\n",
       "      <th>ZAP</th>\n",
       "      <th></th>\n",
       "      <th></th>\n",
       "      <th></th>\n",
       "      <th></th>\n",
       "      <th></th>\n",
       "    </tr>\n",
       "  </thead>\n",
       "  <tbody>\n",
       "    <tr>\n",
       "      <th>10010</th>\n",
       "      <td>8.69247e-12</td>\n",
       "      <td>0.00000e+00</td>\n",
       "      <td>0.00000e+00</td>\n",
       "      <td>0.00000e+00</td>\n",
       "      <td>0.00000e+00</td>\n",
       "    </tr>\n",
       "    <tr>\n",
       "      <th>10020</th>\n",
       "      <td>0.00000e+00</td>\n",
       "      <td>5.94823e-12</td>\n",
       "      <td>0.00000e+00</td>\n",
       "      <td>0.00000e+00</td>\n",
       "      <td>0.00000e+00</td>\n",
       "    </tr>\n",
       "    <tr>\n",
       "      <th>10030</th>\n",
       "      <td>0.00000e+00</td>\n",
       "      <td>0.00000e+00</td>\n",
       "      <td>3.43806e-11</td>\n",
       "      <td>0.00000e+00</td>\n",
       "      <td>0.00000e+00</td>\n",
       "    </tr>\n",
       "    <tr>\n",
       "      <th>20030</th>\n",
       "      <td>0.00000e+00</td>\n",
       "      <td>0.00000e+00</td>\n",
       "      <td>0.00000e+00</td>\n",
       "      <td>0.00000e+00</td>\n",
       "      <td>0.00000e+00</td>\n",
       "    </tr>\n",
       "    <tr>\n",
       "      <th>20040</th>\n",
       "      <td>0.00000e+00</td>\n",
       "      <td>0.00000e+00</td>\n",
       "      <td>0.00000e+00</td>\n",
       "      <td>0.00000e+00</td>\n",
       "      <td>6.61733e-09</td>\n",
       "    </tr>\n",
       "  </tbody>\n",
       "</table>\n",
       "</div>"
      ],
      "text/plain": [
       "ZAP         10010       10020       10030       20030       20040\n",
       "ZAP                                                              \n",
       "10010 8.69247e-12 0.00000e+00 0.00000e+00 0.00000e+00 0.00000e+00\n",
       "10020 0.00000e+00 5.94823e-12 0.00000e+00 0.00000e+00 0.00000e+00\n",
       "10030 0.00000e+00 0.00000e+00 3.43806e-11 0.00000e+00 0.00000e+00\n",
       "20030 0.00000e+00 0.00000e+00 0.00000e+00 0.00000e+00 0.00000e+00\n",
       "20040 0.00000e+00 0.00000e+00 0.00000e+00 0.00000e+00 6.61733e-09"
      ]
     },
     "execution_count": 24,
     "metadata": {},
     "output_type": "execute_result"
    }
   ],
   "source": [
    "fy_stdev = nfpy.data.query(f\"ZAM=={zam} & E=={e} & MT==454\").set_index('ZAP').DFY\n",
    "cov = sandy.CategoryCov.from_stdev(fy_stdev)\n",
    "cov.data.head().T.head()"
   ]
  },
  {
   "cell_type": "markdown",
   "id": "c8d52618-335d-4dd0-8af2-2096db956a7c",
   "metadata": {},
   "source": [
    "This procedure handles relative covariance matrices. SANDY can work with relative or absolute covariance matrices thanks to the `relative` kwarg option inserted in `sandy.CategoryCov.sampling()` method. To relativize the covariance matrix it is possible to use the so called \"sandwich rule\" (implemented in `sandy.CategoryCov.sandwich()`), where the diagonal sensitivity matrix $S$ will be equal to the collection of the best estimates of the independent fission yields."
   ]
  },
  {
   "cell_type": "code",
   "execution_count": 25,
   "id": "cd9f4acc-aa1b-4536-b1ed-8ff472909a94",
   "metadata": {},
   "outputs": [],
   "source": [
    "S = np.diag(1 / nfpy.data.query(f\"ZAM=={zam} & E=={e} & MT==454\").set_index(\"ZAP\").FY)\n",
    "S[S == np.inf] = 0"
   ]
  },
  {
   "cell_type": "code",
   "execution_count": 26,
   "id": "532531bb-16d6-4103-9aec-57e24084cf11",
   "metadata": {},
   "outputs": [
    {
     "data": {
      "text/html": [
       "<div>\n",
       "<style scoped>\n",
       "    .dataframe tbody tr th:only-of-type {\n",
       "        vertical-align: middle;\n",
       "    }\n",
       "\n",
       "    .dataframe tbody tr th {\n",
       "        vertical-align: top;\n",
       "    }\n",
       "\n",
       "    .dataframe thead th {\n",
       "        text-align: right;\n",
       "    }\n",
       "</style>\n",
       "<table border=\"1\" class=\"dataframe\">\n",
       "  <thead>\n",
       "    <tr style=\"text-align: right;\">\n",
       "      <th>ZAP</th>\n",
       "      <th>10010</th>\n",
       "      <th>10020</th>\n",
       "      <th>10030</th>\n",
       "      <th>20030</th>\n",
       "      <th>20040</th>\n",
       "    </tr>\n",
       "    <tr>\n",
       "      <th>ZAP</th>\n",
       "      <th></th>\n",
       "      <th></th>\n",
       "      <th></th>\n",
       "      <th></th>\n",
       "      <th></th>\n",
       "    </tr>\n",
       "  </thead>\n",
       "  <tbody>\n",
       "    <tr>\n",
       "      <th>10010</th>\n",
       "      <td>2.96923e-02</td>\n",
       "      <td>0.00000e+00</td>\n",
       "      <td>0.00000e+00</td>\n",
       "      <td>0.00000e+00</td>\n",
       "      <td>0.00000e+00</td>\n",
       "    </tr>\n",
       "    <tr>\n",
       "      <th>10020</th>\n",
       "      <td>0.00000e+00</td>\n",
       "      <td>8.43004e-02</td>\n",
       "      <td>0.00000e+00</td>\n",
       "      <td>0.00000e+00</td>\n",
       "      <td>0.00000e+00</td>\n",
       "    </tr>\n",
       "    <tr>\n",
       "      <th>10030</th>\n",
       "      <td>0.00000e+00</td>\n",
       "      <td>0.00000e+00</td>\n",
       "      <td>2.94759e-03</td>\n",
       "      <td>0.00000e+00</td>\n",
       "      <td>0.00000e+00</td>\n",
       "    </tr>\n",
       "    <tr>\n",
       "      <th>20030</th>\n",
       "      <td>0.00000e+00</td>\n",
       "      <td>0.00000e+00</td>\n",
       "      <td>0.00000e+00</td>\n",
       "      <td>0.00000e+00</td>\n",
       "      <td>0.00000e+00</td>\n",
       "    </tr>\n",
       "    <tr>\n",
       "      <th>20040</th>\n",
       "      <td>0.00000e+00</td>\n",
       "      <td>0.00000e+00</td>\n",
       "      <td>0.00000e+00</td>\n",
       "      <td>0.00000e+00</td>\n",
       "      <td>2.28974e-03</td>\n",
       "    </tr>\n",
       "  </tbody>\n",
       "</table>\n",
       "</div>"
      ],
      "text/plain": [
       "ZAP         10010       10020       10030       20030       20040\n",
       "ZAP                                                              \n",
       "10010 2.96923e-02 0.00000e+00 0.00000e+00 0.00000e+00 0.00000e+00\n",
       "10020 0.00000e+00 8.43004e-02 0.00000e+00 0.00000e+00 0.00000e+00\n",
       "10030 0.00000e+00 0.00000e+00 2.94759e-03 0.00000e+00 0.00000e+00\n",
       "20030 0.00000e+00 0.00000e+00 0.00000e+00 0.00000e+00 0.00000e+00\n",
       "20040 0.00000e+00 0.00000e+00 0.00000e+00 0.00000e+00 2.28974e-03"
      ]
     },
     "execution_count": 26,
     "metadata": {},
     "output_type": "execute_result"
    }
   ],
   "source": [
    "idx = cov.data.index\n",
    "cov_relative = sandy.CategoryCov(pd.DataFrame(cov.sandwich(S).data.values, index=idx, columns=idx))\n",
    "cov_relative.data.head().T.head()"
   ]
  },
  {
   "cell_type": "markdown",
   "id": "8556bb9b-d25c-4bcd-9fa2-1550132d4b1c",
   "metadata": {},
   "source": [
    "### Obtain perturbation coefficients"
   ]
  },
  {
   "cell_type": "code",
   "execution_count": 27,
   "id": "2ea15135-7893-4cad-b095-110f40519fd9",
   "metadata": {},
   "outputs": [],
   "source": [
    "nsmp = 500\n",
    "coeff = cov_relative.sampling(nsmp, pdf=\"normal\", relative=True, tolerance=0)"
   ]
  },
  {
   "cell_type": "markdown",
   "id": "ee39d8ef-94ed-43e8-92e0-5f23bd5693ac",
   "metadata": {},
   "source": [
    "### Apply first set of perturbation coefficients to independent fission yields"
   ]
  },
  {
   "cell_type": "markdown",
   "id": "b5ca9703-606d-4a6b-b9e1-70b88bd7e208",
   "metadata": {},
   "source": [
    "This step will be iteratively repeated for each perturbation coefficient to obtain $nsmp$ perturbed fission yields. The perturbation coefficients are given as ratio values, e.g., 1.05 for a perturbation of +5%."
   ]
  },
  {
   "cell_type": "code",
   "execution_count": 28,
   "id": "e4b05c44-7a08-4748-abb4-5f8f520a5af7",
   "metadata": {},
   "outputs": [],
   "source": [
    "nfpy_new = nfpy.custom_perturbation(pert=coeff.data.iloc[0,:], zam=zam, zap=list(coeff.data.iloc[0,:].index), e=e, mt=454)"
   ]
  },
  {
   "cell_type": "markdown",
   "id": "82f8e124-e72a-4d5a-bf26-64dcc881d46f",
   "metadata": {},
   "source": [
    "Once independent fission yields have been changed, cumulative fission yields should accordingly be adapted. This can be done exploiting the $Q matrix$ (implemented in `sandy.Fy.apply_qmatrix()`) as follows:"
   ]
  },
  {
   "cell_type": "code",
   "execution_count": 17,
   "id": "5e4241d7-2f63-4000-97a2-ba7088439207",
   "metadata": {},
   "outputs": [],
   "source": [
    "nfpy_new = nfpy_new.apply_qmatrix(zam, e, decay_data, cut_hl=True, keep_fy_index=True)"
   ]
  },
  {
   "cell_type": "markdown",
   "id": "eef28629-3776-4cae-927b-991fdcc88f8b",
   "metadata": {},
   "source": [
    "### Create an ENDF6 file with the perturbed nuclear data"
   ]
  },
  {
   "cell_type": "code",
   "execution_count": 14,
   "id": "f0c82737-f91e-4bdc-a374-aeadacb55e67",
   "metadata": {},
   "outputs": [],
   "source": [
    "tape_new = nfpy_new.to_endf6(tape)\n",
    "file = tape_new.to_file(\"Perturbed_IFY\")"
   ]
  }
 ],
 "metadata": {
  "kernelspec": {
   "display_name": "Python3 (sandy-devel)",
   "language": "python",
   "name": "sandy-devel"
  },
  "language_info": {
   "codemirror_mode": {
    "name": "ipython",
    "version": 3
   },
   "file_extension": ".py",
   "mimetype": "text/x-python",
   "name": "python",
   "nbconvert_exporter": "python",
   "pygments_lexer": "ipython3",
   "version": "3.7.12"
  }
 },
 "nbformat": 4,
 "nbformat_minor": 5
}
