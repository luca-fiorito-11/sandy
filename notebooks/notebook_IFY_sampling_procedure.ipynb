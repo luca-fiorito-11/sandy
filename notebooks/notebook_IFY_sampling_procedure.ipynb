{
 "cells": [
  {
   "cell_type": "markdown",
   "id": "aafd73e1-9979-49b4-931b-79cbd5651309",
   "metadata": {},
   "source": [
    "# Independent fission yield sample production"
   ]
  },
  {
   "cell_type": "code",
   "execution_count": null,
   "id": "b41a5d2f-f5ee-4554-aa72-026e42f8491c",
   "metadata": {},
   "outputs": [],
   "source": [
    "import numpy as np\n",
    "import pandas as pd"
   ]
  },
  {
   "cell_type": "code",
   "execution_count": null,
   "id": "599d4afd-b588-40af-abae-a1dbc524dfee",
   "metadata": {},
   "outputs": [],
   "source": [
    "import sandy"
   ]
  },
  {
   "cell_type": "markdown",
   "id": "727f5a1e-12d8-46aa-9d1e-a5ad8c9fd6f5",
   "metadata": {},
   "source": [
    "### Retrieve nuclear data information"
   ]
  },
  {
   "cell_type": "code",
   "execution_count": null,
   "id": "7583330d-4101-4bbd-95fb-6b73fddbb829",
   "metadata": {},
   "outputs": [],
   "source": [
    "e = 0.0253\n",
    "zam = 922350\n",
    "tape = sandy.get_endf6_file('jeff_33','nfpy', zam)"
   ]
  },
  {
   "cell_type": "code",
   "execution_count": null,
   "id": "5b265875-dd60-4793-8308-baf14ce06522",
   "metadata": {},
   "outputs": [],
   "source": [
    "tape_rdd = sandy.get_endf6_file(\"jeff_33\", \"decay\", \"all\")\n",
    "decay_data = sandy.DecayData.from_endf6(tape_rdd)"
   ]
  },
  {
   "cell_type": "code",
   "execution_count": null,
   "id": "c6fc4a46-2161-436e-926a-f334c35bb34e",
   "metadata": {},
   "outputs": [],
   "source": [
    "tape_fy_all = sandy.get_endf6_file(\"jeff_33\", \"nfpy\", \"all\")"
   ]
  },
  {
   "cell_type": "code",
   "execution_count": null,
   "id": "49495680-a2b0-4f2c-b0dc-d41e15b2de7b",
   "metadata": {},
   "outputs": [],
   "source": [
    "nfpy = sandy.Fy.from_endf6(tape)\n",
    "nfpy.data.set_index([\"MAT\", \"MT\", \"ZAM\", \"ZAP\"]).head()"
   ]
  },
  {
   "cell_type": "markdown",
   "id": "078163ac-f523-4e28-89f8-001d6903a4a9",
   "metadata": {},
   "source": [
    "### Obtain covariance matrix"
   ]
  },
  {
   "cell_type": "markdown",
   "id": "ade9d2b7-8c76-4937-b6a3-c320d5c1f87e",
   "metadata": {},
   "source": [
    "Assuming the uncertaities equal to the standard deviations, it is possible to build the diagonal covariance matrix as follows:"
   ]
  },
  {
   "cell_type": "code",
   "execution_count": null,
   "id": "1eff2f66-7f87-4b38-adf5-e370a36959f4",
   "metadata": {},
   "outputs": [],
   "source": [
    "fy_stdev = nfpy.data.query(f\"ZAM=={zam} & E=={e} & MT==454\").set_index('ZAP').DFY\n",
    "cov = sandy.CategoryCov.from_stdev(fy_stdev)\n",
    "cov.data.head().T.head()"
   ]
  },
  {
   "cell_type": "markdown",
   "id": "c8d52618-335d-4dd0-8af2-2096db956a7c",
   "metadata": {},
   "source": [
    "This procedure handles relative covariance matrices. SANDY can work with relative or absolute covariance matrices thanks to the `relative` kwarg option inserted in `sandy.CategoryCov.sampling()` method. To relativize the covariance matrix it is possible to use the so called \"sandwich rule\" (implemented in `sandy.CategoryCov.sandwich()`), where the diagonal sensitivity matrix $S$ will be equal to the collection of the best estimates of the independent fission yields."
   ]
  },
  {
   "cell_type": "code",
   "execution_count": null,
   "id": "cd9f4acc-aa1b-4536-b1ed-8ff472909a94",
   "metadata": {},
   "outputs": [],
   "source": [
    "S = np.diag(1 / nfpy.data.query(f\"ZAM=={zam} & E=={e} & MT==454\").set_index(\"ZAP\").FY)\n",
    "S[S == np.inf] = 0"
   ]
  },
  {
   "cell_type": "code",
   "execution_count": null,
   "id": "532531bb-16d6-4103-9aec-57e24084cf11",
   "metadata": {},
   "outputs": [],
   "source": [
    "idx = cov.data.index\n",
    "cov_relative = sandy.CategoryCov(pd.DataFrame(cov.sandwich(S).data.values, index=idx, columns=idx))\n",
    "cov_relative.data.head().T.head()"
   ]
  },
  {
   "cell_type": "markdown",
   "id": "8556bb9b-d25c-4bcd-9fa2-1550132d4b1c",
   "metadata": {},
   "source": [
    "### Obtain perturbation coefficients"
   ]
  },
  {
   "cell_type": "code",
   "execution_count": null,
   "id": "2ea15135-7893-4cad-b095-110f40519fd9",
   "metadata": {},
   "outputs": [],
   "source": [
    "nsmp = 500\n",
    "coeff = cov_relative.sampling(nsmp, pdf=\"normal\", relative=True, tolerance=0)"
   ]
  },
  {
   "cell_type": "markdown",
   "id": "ee39d8ef-94ed-43e8-92e0-5f23bd5693ac",
   "metadata": {},
   "source": [
    "### Apply first set of perturbation coefficients to independent fission yields"
   ]
  },
  {
   "cell_type": "markdown",
   "id": "b5ca9703-606d-4a6b-b9e1-70b88bd7e208",
   "metadata": {},
   "source": [
    "This step will be iteratively repeated for each perturbation coefficient to obtain $nsmp$ perturbed fission yields. The perturbation coefficients are given as ratio values, e.g., 1.05 for a perturbation of +5%."
   ]
  },
  {
   "cell_type": "code",
   "execution_count": null,
   "id": "e4b05c44-7a08-4748-abb4-5f8f520a5af7",
   "metadata": {},
   "outputs": [],
   "source": [
    "nfpy_new = nfpy.custom_perturbation(pert=coeff.data.iloc[0,:], zam=zam, zap=list(coeff.data.iloc[0,:].index), e=e, mt=454)"
   ]
  },
  {
   "cell_type": "markdown",
   "id": "82f8e124-e72a-4d5a-bf26-64dcc881d46f",
   "metadata": {},
   "source": [
    "Once independent fission yields have been changed, cumulative fission yields should accordingly be adapted. This can be done exploiting the $Q matrix$ (implemented in `sandy.Fy.apply_qmatrix()`) as follows:"
   ]
  },
  {
   "cell_type": "code",
   "execution_count": null,
   "id": "5e4241d7-2f63-4000-97a2-ba7088439207",
   "metadata": {},
   "outputs": [],
   "source": [
    "nfpy_new = nfpy_new.apply_qmatrix(zam, e, decay_data, cut_hl=True, keep_fy_index=True)"
   ]
  },
  {
   "cell_type": "markdown",
   "id": "eef28629-3776-4cae-927b-991fdcc88f8b",
   "metadata": {},
   "source": [
    "### Create an ENDF6 file with the perturbed nuclear data"
   ]
  },
  {
   "cell_type": "code",
   "execution_count": null,
   "id": "f0c82737-f91e-4bdc-a374-aeadacb55e67",
   "metadata": {},
   "outputs": [],
   "source": [
    "tape_new = nfpy_new.to_endf6(tape)\n",
    "file = tape_new.to_file(\"Perturbed_IFY\")"
   ]
  }
 ],
 "metadata": {
  "kernelspec": {
   "display_name": "Python3 (sandy-devel)",
   "language": "python",
   "name": "sandy-devel"
  },
  "language_info": {
   "codemirror_mode": {
    "name": "ipython",
    "version": 3
   },
   "file_extension": ".py",
   "mimetype": "text/x-python",
   "name": "python",
   "nbconvert_exporter": "python",
   "pygments_lexer": "ipython3",
   "version": "3.7.12"
  }
 },
 "nbformat": 4,
 "nbformat_minor": 5
}
