{
 "cells": [
  {
   "cell_type": "markdown",
   "id": "64c269cc",
   "metadata": {},
   "source": [
    "# Combine covariance matrices for different data types and materials"
   ]
  },
  {
   "cell_type": "code",
   "execution_count": null,
   "id": "a900a391",
   "metadata": {},
   "outputs": [],
   "source": [
    "import numpy as np"
   ]
  },
  {
   "cell_type": "code",
   "execution_count": null,
   "id": "a77456dd",
   "metadata": {},
   "outputs": [],
   "source": [
    "import sandy"
   ]
  },
  {
   "cell_type": "code",
   "execution_count": null,
   "id": "694825f8",
   "metadata": {},
   "outputs": [],
   "source": [
    "import logging\n",
    "logging.getLogger().setLevel(logging.WARN)"
   ]
  },
  {
   "cell_type": "code",
   "execution_count": null,
   "id": "5f57f574",
   "metadata": {},
   "outputs": [],
   "source": [
    "import matplotlib.pyplot as plt\n",
    "import seaborn as sns"
   ]
  },
  {
   "cell_type": "markdown",
   "id": "17fb9117",
   "metadata": {},
   "source": [
    "## Load data from Pu239 (xs and nubar)"
   ]
  },
  {
   "cell_type": "code",
   "execution_count": null,
   "id": "128444fb",
   "metadata": {},
   "outputs": [],
   "source": [
    "e6 = sandy.get_endf6_file(\"jeff_33\", \"xs\", 942390)\n",
    "err = e6.get_errorr(errorr_kws=dict(ek=[1e-2, 1e1, 1e7]), err=1)\n",
    "err_pu9 = err['errorr33'].add_sections(err['errorr31'].data)"
   ]
  },
  {
   "cell_type": "markdown",
   "id": "58ea2326",
   "metadata": {},
   "source": [
    "## Load data from Pu241 (xs and nubar)"
   ]
  },
  {
   "cell_type": "code",
   "execution_count": null,
   "id": "00176e19",
   "metadata": {},
   "outputs": [],
   "source": [
    "e6 = sandy.get_endf6_file(\"jeff_33\", \"xs\", 942410)\n",
    "err = e6.get_errorr(errorr_kws=dict(ek=[1e-2, 1e1, 1e7]), err=1)\n",
    "err_pu0 = err['errorr33'].add_sections(err['errorr31'].data)"
   ]
  },
  {
   "cell_type": "markdown",
   "id": "a93fb596",
   "metadata": {},
   "source": [
    "## Merge Pu239 and Pu241 xs and nubar covariance matrices"
   ]
  },
  {
   "cell_type": "code",
   "execution_count": null,
   "id": "b6f01353",
   "metadata": {},
   "outputs": [],
   "source": [
    "err = err_pu9.add_sections(err_pu0.data)\n",
    "cov = err.get_cov()"
   ]
  },
  {
   "cell_type": "code",
   "execution_count": null,
   "id": "789dba5c",
   "metadata": {},
   "outputs": [],
   "source": [
    "err"
   ]
  },
  {
   "cell_type": "code",
   "execution_count": null,
   "id": "5fbf130e",
   "metadata": {},
   "outputs": [],
   "source": [
    "fig, ax = plt.subplots(figsize=(4, 4), dpi=100)\n",
    "ax.spy(cov.data)\n",
    "fig.tight_layout()"
   ]
  },
  {
   "cell_type": "code",
   "execution_count": null,
   "id": "2b762a02",
   "metadata": {},
   "outputs": [],
   "source": [
    "fig, ax = plt.subplots(figsize=(10, 10), dpi=100)\n",
    "ax.set_aspect(\"equal\")\n",
    "sns.heatmap(cov.get_corr().data, cmap=\"bwr\", vmin=-1, vmax=1)\n",
    "\n",
    "lbl = [f\"{mat}-{mt}\" for i, (mat, mt) in cov.data.index.to_frame()[[\"MAT\", \"MT\"]].drop_duplicates().reset_index(drop=True).iterrows()]\n",
    "ne = cov.data.index.size / len(lbl)\n",
    "ticks = np.arange(ne, cov.data.index.size + ne, ne)\n",
    "ax.set_xticks(ticks - ne/2)\n",
    "ax.set_xticklabels(lbl, size=9)\n",
    "ax.set_yticks(ticks - ne/2)\n",
    "ax.set_yticklabels(lbl, size=9)\n",
    "\n",
    "for x in np.arange(ne, cov.data.index.size, ne):\n",
    "    ax.axvline(x, color=\"k\", lw=0.5)\n",
    "    ax.axhline(x, color=\"k\", lw=0.5)\n",
    "ax.set(\n",
    "    xlabel=\"MAT-MT\",\n",
    "    ylabel=\"MAT-MT\",\n",
    ")\n",
    "\n",
    "fig.tight_layout()"
   ]
  }
 ],
 "metadata": {
  "kernelspec": {
   "display_name": "Python [conda env:sandy-v1.0] *",
   "language": "python",
   "name": "conda-env-sandy-v1.0-py"
  },
  "language_info": {
   "codemirror_mode": {
    "name": "ipython",
    "version": 3
   },
   "file_extension": ".py",
   "mimetype": "text/x-python",
   "name": "python",
   "nbconvert_exporter": "python",
   "pygments_lexer": "ipython3",
   "version": "3.11.3"
  }
 },
 "nbformat": 4,
 "nbformat_minor": 5
}
