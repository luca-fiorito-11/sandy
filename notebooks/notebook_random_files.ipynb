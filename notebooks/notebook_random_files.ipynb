{
 "cells": [
  {
   "cell_type": "markdown",
   "id": "b9fd7e0d",
   "metadata": {},
   "source": [
    "# Produce random files for given nuclide and library"
   ]
  },
  {
   "cell_type": "code",
   "execution_count": 5,
   "id": "5d3b107b",
   "metadata": {},
   "outputs": [],
   "source": [
    "import sandy"
   ]
  },
  {
   "cell_type": "markdown",
   "id": "1ccf3b7a",
   "metadata": {},
   "source": [
    "In this examples we'll produce random ACE files for the JEFF-3.3 Pu-238 evaluation.\n",
    "This sequence can we further extended for other nuclides, individually or together in a loop."
   ]
  },
  {
   "cell_type": "code",
   "execution_count": 2,
   "id": "b3edf647",
   "metadata": {},
   "outputs": [],
   "source": [
    "lib_name = \"jeff_33\"\n",
    "nucl = 942390\n",
    "filename = f\"{nucl}.{lib_name}\""
   ]
  },
  {
   "cell_type": "code",
   "execution_count": 3,
   "id": "fe3e9a70",
   "metadata": {},
   "outputs": [],
   "source": [
    "endf6 = sandy.get_endf6_file(lib_name, 'xs', nucl)\n",
    "endf6.to_file(filename)"
   ]
  },
  {
   "cell_type": "code",
   "execution_count": 4,
   "id": "f7bbc4cb",
   "metadata": {},
   "outputs": [],
   "source": [
    "nsmp = 2  # number of samples\n",
    "processes = 1  # change if you want to run in parallel (better on Linux)"
   ]
  },
  {
   "cell_type": "code",
   "execution_count": 6,
   "id": "359426ec",
   "metadata": {
    "scrolled": false
   },
   "outputs": [
    {
     "name": "stderr",
     "output_type": "stream",
     "text": [
      "INFO:  Zero or no temperature was requested, NJOY processing will stop after RECONR.\n",
      "    If you want to process 0K cross sections use `temperature=0.1`.\n",
      "    \n"
     ]
    },
    {
     "name": "stdout",
     "output_type": "stream",
     "text": [
      "moder\n",
      "20 -21 /\n",
      "reconr\n",
      "-21 -22 /\n",
      "'sandy runs njoy'/\n",
      "9437 0 0 /\n",
      "1.0 0. /\n",
      "0/\n",
      "moder\n",
      "-22 30 /\n",
      "errorr\n",
      "-21 -22 0 33 0 /\n",
      "9437 2 2 0 1 /\n",
      "0 0.0 /\n",
      "0 33 1/\n",
      "stop\n"
     ]
    },
    {
     "name": "stderr",
     "output_type": "stream",
     "text": [
      "INFO:  Zero or no temperature was requested, NJOY processing will stop after RECONR.\n",
      "    If you want to process 0K cross sections use `temperature=0.1`.\n",
      "    \n"
     ]
    },
    {
     "name": "stdout",
     "output_type": "stream",
     "text": [
      "moder\n",
      "20 -21 /\n",
      "reconr\n",
      "-21 -22 /\n",
      "'sandy runs njoy'/\n",
      "9437 0 0 /\n",
      "1.0 0. /\n",
      "0/\n",
      "moder\n",
      "-22 30 /\n",
      "stop\n"
     ]
    },
    {
     "name": "stderr",
     "output_type": "stream",
     "text": [
      "C:\\Users\\lfiorito\\Desktop\\sandy\\sandy\\core\\samples.py:140: PerformanceWarning: DataFrame is highly fragmented.  This is usually the result of calling `frame.insert` many times, which has poor performance.  Consider joining all columns at once using pd.concat(axis=1) instead. To get a de-fragmented frame, use `newframe = frame.copy()`\n",
      "  s[daughters] = np.tile(s[(mat, k)].values, (daughters.size, 1)).T\n"
     ]
    },
    {
     "name": "stdout",
     "output_type": "stream",
     "text": [
      "Processing xs sample 0...\n",
      "moder\n",
      "20 -21 /\n",
      "moder\n",
      "99 -22 /\n",
      "broadr\n",
      "-21 -22 -23 /\n",
      "9437 1 0 0 0. /\n",
      "1.0 /\n",
      "300.0 /\n",
      "0 /\n",
      "moder\n",
      "-23 30 /\n",
      "acer\n",
      "-21 -23 0 50 70 /\n",
      "1 0 1 .03 0 /\n",
      "'sandy runs acer'/\n",
      "9437 300.0 /\n",
      "1 1 /\n",
      "/\n",
      "stop\n",
      "writing to file '94239_0.03c'\n",
      "writing to file '94239_0.03c.xsd'\n"
     ]
    },
    {
     "name": "stderr",
     "output_type": "stream",
     "text": [
      "C:\\Users\\lfiorito\\Desktop\\sandy\\sandy\\core\\samples.py:140: PerformanceWarning: DataFrame is highly fragmented.  This is usually the result of calling `frame.insert` many times, which has poor performance.  Consider joining all columns at once using pd.concat(axis=1) instead. To get a de-fragmented frame, use `newframe = frame.copy()`\n",
      "  s[daughters] = np.tile(s[(mat, k)].values, (daughters.size, 1)).T\n"
     ]
    },
    {
     "name": "stdout",
     "output_type": "stream",
     "text": [
      "Processing xs sample 1...\n",
      "moder\n",
      "20 -21 /\n",
      "moder\n",
      "99 -22 /\n",
      "broadr\n",
      "-21 -22 -23 /\n",
      "9437 1 0 0 0. /\n",
      "1.0 /\n",
      "300.0 /\n",
      "0 /\n",
      "moder\n",
      "-23 30 /\n",
      "acer\n",
      "-21 -23 0 50 70 /\n",
      "1 0 1 .03 0 /\n",
      "'sandy runs acer'/\n",
      "9437 300.0 /\n",
      "1 1 /\n",
      "/\n",
      "stop\n"
     ]
    },
    {
     "name": "stderr",
     "output_type": "stream",
     "text": [
      "INFO:  Total running time: 94.99 sec\n"
     ]
    },
    {
     "name": "stdout",
     "output_type": "stream",
     "text": [
      "writing to file '94239_1.03c'\n",
      "writing to file '94239_1.03c.xsd'\n"
     ]
    }
   ],
   "source": [
    "sandy.sampling.run(f\"{filename}  --processes {processes}  --samples {nsmp}  --mf 33  --temperatures 300  --acer  --debug\")"
   ]
  },
  {
   "cell_type": "markdown",
   "id": "da14f42f",
   "metadata": {},
   "source": [
    "This is equivalent to the command line entry\n",
    "```bash\n",
    "python -m sandy.sampling  942390.jeff_33  --processes 1  --samples 2  --temperatures 300  --acer  --debug\n",
    "```"
   ]
  },
  {
   "cell_type": "markdown",
   "id": "557e07f9",
   "metadata": {},
   "source": [
    "> Notice that option `--debug` should be removed for production."
   ]
  },
  {
   "cell_type": "markdown",
   "id": "835a8077",
   "metadata": {},
   "source": [
    "If you need more control over your pipeline you can generate samples using the python API.\n",
    "\n",
    "Some of the reasons identified to do this are:\n",
    "- have access to the perturbation coefficients\n",
    "- change the parameter `err` (used for by the NJOY modules RECONR and BROADR) to make the code run faster\n",
    "- remove some NJOY modules such as PURR\n",
    "- apply perturbations to already Doppler-broadenened cross sections (more details below)"
   ]
  },
  {
   "cell_type": "markdown",
   "id": "1d901f05",
   "metadata": {},
   "source": [
    "This is equivalent to what was previously run."
   ]
  },
  {
   "cell_type": "code",
   "execution_count": 8,
   "id": "c92b642b",
   "metadata": {},
   "outputs": [
    {
     "name": "stderr",
     "output_type": "stream",
     "text": [
      "INFO:  Zero or no temperature was requested, NJOY processing will stop after RECONR.\n",
      "    If you want to process 0K cross sections use `temperature=0.1`.\n",
      "    \n"
     ]
    },
    {
     "name": "stdout",
     "output_type": "stream",
     "text": [
      "moder\n",
      "20 -21 /\n",
      "reconr\n",
      "-21 -22 /\n",
      "'sandy runs njoy'/\n",
      "9437 0 0 /\n",
      "1.0 0. /\n",
      "0/\n",
      "moder\n",
      "-22 30 /\n",
      "errorr\n",
      "-21 -22 0 33 0 /\n",
      "9437 2 2 0 1 /\n",
      "0 0.0 /\n",
      "0 33 1/\n",
      "stop\n"
     ]
    }
   ],
   "source": [
    "# this generates samples for cross sections and nubar\n",
    "smps = endf6.get_perturbations(\n",
    "    nsmp,\n",
    "    njoy_kws=dict(\n",
    "        err=1,   # very fast calculation, for testing\n",
    "        chi=False,\n",
    "        mubar=False,\n",
    "        xs=True,\n",
    "        nubar=False,\n",
    "        verbose=True,\n",
    "    ),\n",
    ")"
   ]
  },
  {
   "cell_type": "code",
   "execution_count": 10,
   "id": "2bbd5244",
   "metadata": {},
   "outputs": [
    {
     "name": "stderr",
     "output_type": "stream",
     "text": [
      "INFO:  Zero or no temperature was requested, NJOY processing will stop after RECONR.\n",
      "    If you want to process 0K cross sections use `temperature=0.1`.\n",
      "    \n",
      "C:\\Users\\lfiorito\\Desktop\\sandy\\sandy\\core\\samples.py:140: PerformanceWarning: DataFrame is highly fragmented.  This is usually the result of calling `frame.insert` many times, which has poor performance.  Consider joining all columns at once using pd.concat(axis=1) instead. To get a de-fragmented frame, use `newframe = frame.copy()`\n",
      "  s[daughters] = np.tile(s[(mat, k)].values, (daughters.size, 1)).T\n"
     ]
    },
    {
     "name": "stdout",
     "output_type": "stream",
     "text": [
      "moder\n",
      "20 -21 /\n",
      "moder\n",
      "99 -22 /\n",
      "broadr\n",
      "-21 -22 -23 /\n",
      "9437 1 0 0 0. /\n",
      "1.0 /\n",
      "300.0 /\n",
      "0 /\n",
      "moder\n",
      "-23 30 /\n",
      "acer\n",
      "-21 -23 0 50 70 /\n",
      "1 0 1 .03 0 /\n",
      "'sandy runs acer'/\n",
      "9437 300.0 /\n",
      "1 1 /\n",
      "/\n",
      "stop\n"
     ]
    },
    {
     "name": "stderr",
     "output_type": "stream",
     "text": [
      "C:\\Users\\lfiorito\\Desktop\\sandy\\sandy\\core\\samples.py:140: PerformanceWarning: DataFrame is highly fragmented.  This is usually the result of calling `frame.insert` many times, which has poor performance.  Consider joining all columns at once using pd.concat(axis=1) instead. To get a de-fragmented frame, use `newframe = frame.copy()`\n",
      "  s[daughters] = np.tile(s[(mat, k)].values, (daughters.size, 1)).T\n"
     ]
    },
    {
     "name": "stdout",
     "output_type": "stream",
     "text": [
      "moder\n",
      "20 -21 /\n",
      "moder\n",
      "99 -22 /\n",
      "broadr\n",
      "-21 -22 -23 /\n",
      "9437 1 0 0 0. /\n",
      "1.0 /\n",
      "300.0 /\n",
      "0 /\n",
      "moder\n",
      "-23 30 /\n",
      "acer\n",
      "-21 -23 0 50 70 /\n",
      "1 0 1 .03 0 /\n",
      "'sandy runs acer'/\n",
      "9437 300.0 /\n",
      "1 1 /\n",
      "/\n",
      "stop\n"
     ]
    }
   ],
   "source": [
    "# This part applies the perturbations (samples) to the best-estimates and writes perturbed output files samples for cross sections and nubar\n",
    "outs = endf6.apply_perturbations(\n",
    "    smps,\n",
    "    processes=processes,\n",
    "    njoy_kws=dict(err=1),   # very fast calculation, for testing\n",
    "    to_ace=True,   # produce ACE files\n",
    "    to_file=True,\n",
    "    ace_kws=dict(err=1, temperature=300, verbose=True, purr=False, heatr=False, thermr=False, gaspr=False)\n",
    "    verbose=True,\n",
    ")"
   ]
  }
 ],
 "metadata": {
  "kernelspec": {
   "display_name": "Python [conda env:sandy-v1.0] *",
   "language": "python",
   "name": "conda-env-sandy-v1.0-py"
  },
  "language_info": {
   "codemirror_mode": {
    "name": "ipython",
    "version": 3
   },
   "file_extension": ".py",
   "mimetype": "text/x-python",
   "name": "python",
   "nbconvert_exporter": "python",
   "pygments_lexer": "ipython3",
   "version": "3.11.3"
  }
 },
 "nbformat": 4,
 "nbformat_minor": 5
}
