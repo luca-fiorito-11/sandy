{
 "cells": [
  {
   "cell_type": "markdown",
   "metadata": {},
   "source": [
    "# Processing perturbation coefficients using `sandy`"
   ]
  },
  {
   "cell_type": "markdown",
   "metadata": {},
   "source": [
    "Let's start by importing the python packages `sandy` and `pandas` for data processing."
   ]
  },
  {
   "cell_type": "code",
   "execution_count": 6,
   "metadata": {},
   "outputs": [],
   "source": [
    "import sandy\n",
    "import pandas as pd"
   ]
  },
  {
   "cell_type": "markdown",
   "metadata": {},
   "source": [
    "Then, we import some more packages for plotting purposes."
   ]
  },
  {
   "cell_type": "code",
   "execution_count": 7,
   "metadata": {},
   "outputs": [],
   "source": [
    "import matplotlib.pyplot as plt\n",
    "import seaborn as sns\n",
    "# %matplotlib notebook   # uncomment this if you are in a jupyter notebook"
   ]
  },
  {
   "cell_type": "markdown",
   "metadata": {},
   "source": [
    "We define a multigroup perturbation as a series of tabulated pairs `(energy value, perturbation coefficient)`, \n",
    "where the energy values are the right bounds of the energy bins that define the perturbation coefficient as a \n",
    "step function."
   ]
  },
  {
   "cell_type": "code",
   "execution_count": 8,
   "metadata": {},
   "outputs": [
    {
     "data": {
      "text/plain": [
       "ENERGY\n",
       "(0.0, 1e-05]                1.0\n",
       "(1e-05, 0.0001]             1.4\n",
       "(0.0001, 0.001]             1.3\n",
       "(0.001, 0.01]               1.2\n",
       "(0.01, 0.1]                 1.1\n",
       "(0.1, 1.0]                  0.6\n",
       "(1.0, 100000.0]             1.8\n",
       "(100000.0, 1000000.0]       1.9\n",
       "(1000000.0, 10000000.0]     1.9\n",
       "(10000000.0, 20000000.0]    1.6\n",
       "dtype: float64"
      ]
     },
     "execution_count": 8,
     "metadata": {},
     "output_type": "execute_result"
    }
   ],
   "source": [
    "grid   = [1e-5, 1e-4, 1e-3, 1e-2, 1e-1, 1e0, 1e5, 1e6, 1e7, 2e7] # right bounds of each energy interval\n",
    "values = [   1,  1.4,  1.3,  1.2,  1.1, 0.6, 1.8, 1.9, 1.9, 1.6]\n",
    "series = pd.Series(values, index=grid)\n",
    "pert = sandy.Pert(series)\n",
    "pert"
   ]
  },
  {
   "cell_type": "markdown",
   "metadata": {},
   "source": [
    "The `pert` variable is a `sandy.Pert` instance and it contains perturbation coefficients \n",
    "into a `pandas.Series` with a `pandas.IntervalIndex` that defines the energy bins."
   ]
  },
  {
   "cell_type": "markdown",
   "metadata": {},
   "source": [
    "For plotting and analysis purposes we are often interested in tabulated values that are not indexed by energy bins, \n",
    "but by scalar energy values.\n",
    "By calling attribute `.right` the instance returns a `pandas.Series` with perturbation coefficients as `.values` and the \n",
    "right bounds of the energy bins as `.index`.\n",
    "\n",
    "Try also `pert.left` and `pert.mid`."
   ]
  },
  {
   "cell_type": "code",
   "execution_count": 9,
   "metadata": {},
   "outputs": [
    {
     "data": {
      "text/plain": [
       "1.000000e-05    1.0\n",
       "1.000000e-04    1.4\n",
       "1.000000e-03    1.3\n",
       "1.000000e-02    1.2\n",
       "1.000000e-01    1.1\n",
       "1.000000e+00    0.6\n",
       "1.000000e+05    1.8\n",
       "1.000000e+06    1.9\n",
       "1.000000e+07    1.9\n",
       "2.000000e+07    1.6\n",
       "dtype: float64"
      ]
     },
     "execution_count": 9,
     "metadata": {},
     "output_type": "execute_result"
    }
   ],
   "source": [
    "pert.right"
   ]
  },
  {
   "cell_type": "markdown",
   "metadata": {},
   "source": [
    "We can resort to the outputs produced by attributes `.right` and `.left` to plot the perturbation coefficients.\n",
    "*Notice that for a correct rendering of the output of `.left` 'steps-post' should be assigned to \n",
    "the drawstyle argument*."
   ]
  },
  {
   "cell_type": "code",
   "execution_count": 10,
   "metadata": {},
   "outputs": [
    {
     "data": {
      "image/png": "[encoded data removed]",
      "text/plain": [
       "<Figure size 432x288 with 1 Axes>"
      ]
     },
     "metadata": {
      "needs_background": "light"
     },
     "output_type": "display_data"
    }
   ],
   "source": [
    "pert.right.plot(logx=True, drawstyle=\"steps\")\n",
    "plt.show()"
   ]
  },
  {
   "cell_type": "markdown",
   "metadata": {},
   "source": [
    "Perturbation objects can also be printed to a `.csv` or text file with columns divided by a specific separator."
   ]
  },
  {
   "cell_type": "code",
   "execution_count": 11,
   "metadata": {},
   "outputs": [
    {
     "name": "stdout",
     "output_type": "stream",
     "text": [
      "1e-05,1.0\n",
      "0.0001,1.4\n",
      "0.001,1.3\n",
      "0.01,1.2\n",
      "0.1,1.1\n",
      "1.0,0.6\n",
      "100000.0,1.8\n",
      "1000000.0,1.9\n",
      "10000000.0,1.9\n",
      "20000000.0,1.6\n",
      "\n"
     ]
    }
   ],
   "source": [
    "pert.right.to_csv(\"pert.csv\", sep=\",\", header=False)\n",
    "with open(\"pert.csv\") as f:\n",
    "    text = f.read()\n",
    "print(text)"
   ]
  },
  {
   "cell_type": "markdown",
   "metadata": {},
   "source": [
    "Perturbations could even be imported into `sandy` directly from a text file.  "
   ]
  },
  {
   "cell_type": "code",
   "execution_count": 12,
   "metadata": {},
   "outputs": [
    {
     "data": {
      "text/plain": [
       "ENERGY\n",
       "(0.0, 1e-05]                1.0\n",
       "(1e-05, 0.0001]             1.4\n",
       "(0.0001, 0.001]             1.3\n",
       "(0.001, 0.01]               1.2\n",
       "(0.01, 0.1]                 1.1\n",
       "(0.1, 1.0]                  0.6\n",
       "(1.0, 100000.0]             1.8\n",
       "(100000.0, 1000000.0]       1.9\n",
       "(1000000.0, 10000000.0]     1.9\n",
       "(10000000.0, 20000000.0]    1.6\n",
       "dtype: float64"
      ]
     },
     "execution_count": 12,
     "metadata": {},
     "output_type": "execute_result"
    }
   ],
   "source": [
    "sandy.Pert.from_file(\"pert.csv\", sep=\",\")"
   ]
  },
  {
   "cell_type": "markdown",
   "metadata": {},
   "source": [
    "Eventually, a common request is to reshape the perturbation coefficients according the energy structure \n",
    "of, say, a cross section to directly implement a vector-vector multiplication.\n",
    "This can be done using method `.reshape` to which the new energy grid is provided."
   ]
  },
  {
   "cell_type": "code",
   "execution_count": 13,
   "metadata": {},
   "outputs": [
    {
     "data": {
      "text/plain": [
       "ENERGY\n",
       "(0.0, 1e-05]                1.0\n",
       "(1e-05, 0.0001]             1.4\n",
       "(0.0001, 0.001]             1.3\n",
       "(0.001, 0.01]               1.2\n",
       "(0.01, 0.1]                 1.1\n",
       "(0.1, 1.0]                  0.6\n",
       "(1.0, 100000.0]             1.8\n",
       "(100000.0, 1000000.0]       1.9\n",
       "(1000000.0, 2000000.0]      1.9\n",
       "(2000000.0, 5000000.0]      1.9\n",
       "(5000000.0, 10000000.0]     1.9\n",
       "(10000000.0, 20000000.0]    1.6\n",
       "dtype: float64"
      ]
     },
     "execution_count": 13,
     "metadata": {},
     "output_type": "execute_result"
    }
   ],
   "source": [
    "new_grid = [1e6, 2e6, 5e6, 1e7, 2e7]\n",
    "pert2 = pert.reshape(new_grid)\n",
    "pert2"
   ]
  },
  {
   "cell_type": "markdown",
   "metadata": {},
   "source": [
    "The reshaped `pert2` objects contains the perturbation coefficients defined over a union between \n",
    "the original and the new energy grids."
   ]
  },
  {
   "cell_type": "markdown",
   "metadata": {},
   "source": [
    "Of course the two plots overlap as the information does not change."
   ]
  },
  {
   "cell_type": "code",
   "execution_count": 14,
   "metadata": {},
   "outputs": [
    {
     "data": {
      "image/png": "[encoded data removed]",
      "text/plain": [
       "<Figure size 432x288 with 1 Axes>"
      ]
     },
     "metadata": {
      "needs_background": "light"
     },
     "output_type": "display_data"
    }
   ],
   "source": [
    "pert.right.plot(logx=True, drawstyle=\"steps\", label=\"original\")\n",
    "pert2.right.plot(logx=True, drawstyle=\"steps\", label=\"reshaped\")\n",
    "plt.legend(loc=\"best\")\n",
    "plt.show()"
   ]
  }
 ],
 "metadata": {
  "kernelspec": {
   "display_name": "Python 3",
   "language": "python",
   "name": "python3"
  },
  "language_info": {
   "codemirror_mode": {
    "name": "ipython",
    "version": 3
   },
   "file_extension": ".py",
   "mimetype": "text/x-python",
   "name": "python",
   "nbconvert_exporter": "python",
   "pygments_lexer": "ipython3",
   "version": "3.7.6"
  }
 },
 "nbformat": 4,
 "nbformat_minor": 2
}
