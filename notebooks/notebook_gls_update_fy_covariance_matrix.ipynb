{
 "cells": [
  {
   "cell_type": "markdown",
   "id": "1dee01ec-9f2b-470a-8477-5c5f99f27b7a",
   "metadata": {},
   "source": [
    "# Comparison of the updated FY covariance matrices with the GLS technique"
   ]
  },
  {
   "cell_type": "markdown",
   "id": "57d3ebf1-6b99-46da-b074-b12a189ade3f",
   "metadata": {},
   "source": [
    "In this Notebook we want to update the variance matrices of the independent fission yields using the method of generalised least squares (GLS). It is an adjustment technique that states that the information on some prior system parameters can be improved with the addition of newknowledge for which relationships between data and parameters are established. These relationships, or constraints, must be linearised in the form:"
   ]
  },
  {
   "cell_type": "markdown",
   "id": "eda81053-35b1-48a3-b0d9-54afb9672c0a",
   "metadata": {},
   "source": [
    "$$\n",
    "y - y_a = S \\cdot (\\theta -\\theta_a) \n",
    "$$"
   ]
  },
  {
   "cell_type": "markdown",
   "id": "4bc38eb7-2357-4716-aff7-44f1fc98b42b",
   "metadata": {},
   "source": [
    "where $\\theta$ are the parameters of the system, $\\theta_a$ the prior estimates of $\\theta$, $y$ the responses of the constraining  equation,  $y_a$ the responses of the constraining equation to the prior  estimates $\\theta_a$ and S are the sensitivity coefficients of the response $y – y_a$ to the parameters $\\theta – \\theta_a$. "
   ]
  },
  {
   "cell_type": "markdown",
   "id": "35f609f4-1817-44d2-9332-a5acba960d7e",
   "metadata": {},
   "source": [
    "It is assumed that no correlations existed between the prior and the new information. Then, further information $\\eta$ could be introduced in order to derive refined values for the parameters $\\theta$,  with all the available uncertainty information properly incorporated into the formalism. The updating process is the following:"
   ]
  },
  {
   "cell_type": "markdown",
   "id": "d9479f4d-bb6f-414a-81fc-07683beb889f",
   "metadata": {},
   "source": [
    "$$\n",
    "\\theta - \\theta_a = V_a - S^T \\cdot (S \\cdot V_a \\cdot S^T + V)^{-1} \\cdot (\\eta - y_a)\n",
    "$$"
   ]
  },
  {
   "cell_type": "markdown",
   "id": "39bd8f32-02eb-4e9b-b682-a686dad1f5bb",
   "metadata": {},
   "source": [
    "$$\n",
    "V_s = V_a - V_a \\cdot S^T \\cdot \\left(S\\cdot V_a \\cdot S^T + V \\right)^{-1} \\cdot S \\cdot V_a\n",
    "$$"
   ]
  },
  {
   "cell_type": "markdown",
   "id": "fa8e6c07-6e64-4755-b8de-0b18cf6c6049",
   "metadata": {},
   "source": [
    "where $V_a$ is the covariance matrix of the prior estimates of the  parameters $\\theta$, $V$ is the covariance matrix of the introduced data fitting the constraining system $\\eta$, and $V_s$ is the updated  covariance matrix of the system parameters $\\theta$."
   ]
  },
  {
   "cell_type": "markdown",
   "id": "f25b08d9-1982-4082-acdd-897a0ec7972d",
   "metadata": {},
   "source": [
    "A more complete overview of the the  followed GLS technique is described in https://doi.org/10.1016/j.anucene.2015.10.027"
   ]
  },
  {
   "cell_type": "markdown",
   "id": "fc970628-5f33-4abc-a169-2edc10bc5bdd",
   "metadata": {},
   "source": [
    "To perform this updating process we exploit the relationship between the independent fission yield and the $\\textit{chain ﬁssion yield ch(A)}$, which in matrix form is:"
   ]
  },
  {
   "cell_type": "markdown",
   "id": "8f6dcef6-957e-4081-870e-df34bd5f4b6e",
   "metadata": {},
   "source": [
    "$$\n",
    "D^T \\cdot IFY = Ch \n",
    "$$"
   ]
  },
  {
   "cell_type": "markdown",
   "id": "85bdc2ea-e55f-4628-9fef-1858ea75196d",
   "metadata": {},
   "source": [
    "The design matrix $S$ in this case is $D^T$, while the parameters $\\theta$ are the independent fission yields $IFY$ and the response is the vector with the chain ﬁssion yields $Ch$ "
   ]
  },
  {
   "cell_type": "markdown",
   "id": "fd3a857c-92e0-4f99-b740-44118d8ff2c6",
   "metadata": {},
   "source": [
    "By using evaluated chain ﬁssion yields to modify independent ﬁssion yield data, we assume that we have a deeper knowledge on the ﬁrst. This is a consistent assumption since \n",
    "the chain ﬁssion yield and uncertainties are evaluated mostly directly from the measurements while the independent ﬁssion yields are not."
   ]
  },
  {
   "cell_type": "code",
   "execution_count": 1,
   "id": "9fdd7152-8f38-4361-a54f-00d804128d0d",
   "metadata": {
    "execution": {
     "iopub.execute_input": "2023-08-09T15:04:01.602443Z",
     "iopub.status.busy": "2023-08-09T15:04:01.601443Z",
     "iopub.status.idle": "2023-08-09T15:04:02.906117Z",
     "shell.execute_reply": "2023-08-09T15:04:02.906117Z"
    }
   },
   "outputs": [],
   "source": [
    "import numpy as np\n",
    "import pandas as pd\n",
    "import scipy.sparse as sps"
   ]
  },
  {
   "cell_type": "code",
   "execution_count": 2,
   "id": "03f2e2d0-8091-40a6-9636-03ab21047248",
   "metadata": {
    "execution": {
     "iopub.execute_input": "2023-08-09T15:04:02.911140Z",
     "iopub.status.busy": "2023-08-09T15:04:02.910132Z",
     "iopub.status.idle": "2023-08-09T15:04:04.616514Z",
     "shell.execute_reply": "2023-08-09T15:04:04.616514Z"
    }
   },
   "outputs": [],
   "source": [
    "import matplotlib.pyplot as plt\n",
    "import seaborn as sns\n",
    "sns.set_style(\"whitegrid\")"
   ]
  },
  {
   "cell_type": "code",
   "execution_count": 3,
   "id": "996a10d1-53f9-401c-95a7-6164b4dcea49",
   "metadata": {
    "execution": {
     "iopub.execute_input": "2023-08-09T15:04:04.616514Z",
     "iopub.status.busy": "2023-08-09T15:04:04.616514Z",
     "iopub.status.idle": "2023-08-09T15:04:04.850590Z",
     "shell.execute_reply": "2023-08-09T15:04:04.850590Z"
    }
   },
   "outputs": [],
   "source": [
    "import sandy"
   ]
  },
  {
   "cell_type": "markdown",
   "id": "69d36004-bf07-44bb-b01d-780b328041d3",
   "metadata": {},
   "source": [
    "### Get prior FY covariance matrix: $V_{x_{prior}}$"
   ]
  },
  {
   "cell_type": "code",
   "execution_count": 4,
   "id": "b0a49593-ec2f-4505-a486-83990dec57cc",
   "metadata": {
    "execution": {
     "iopub.execute_input": "2023-08-09T15:04:04.853568Z",
     "iopub.status.busy": "2023-08-09T15:04:04.853568Z",
     "iopub.status.idle": "2023-08-09T15:04:05.019227Z",
     "shell.execute_reply": "2023-08-09T15:04:05.019227Z"
    }
   },
   "outputs": [],
   "source": [
    "e = 0.0253\n",
    "zam = 922350\n",
    "tape = sandy.get_endf6_file('jeff_33','nfpy', zam)"
   ]
  },
  {
   "cell_type": "code",
   "execution_count": 5,
   "id": "ddef9a11-7296-4b09-bb62-e3e41838c08f",
   "metadata": {
    "execution": {
     "iopub.execute_input": "2023-08-09T15:04:05.024788Z",
     "iopub.status.busy": "2023-08-09T15:04:05.023790Z",
     "iopub.status.idle": "2023-08-09T15:04:05.142274Z",
     "shell.execute_reply": "2023-08-09T15:04:05.140731Z"
    }
   },
   "outputs": [],
   "source": [
    "nfpy = sandy.Fy.from_endf6(tape)"
   ]
  },
  {
   "cell_type": "code",
   "execution_count": 6,
   "id": "5bab80ee-097f-4f8a-8621-8348c99d3065",
   "metadata": {
    "execution": {
     "iopub.execute_input": "2023-08-09T15:04:05.142274Z",
     "iopub.status.busy": "2023-08-09T15:04:05.142274Z",
     "iopub.status.idle": "2023-08-09T15:04:05.197384Z",
     "shell.execute_reply": "2023-08-09T15:04:05.197384Z"
    }
   },
   "outputs": [
    {
     "data": {
      "text/html": [
       "<div>\n",
       "<style scoped>\n",
       "    .dataframe tbody tr th:only-of-type {\n",
       "        vertical-align: middle;\n",
       "    }\n",
       "\n",
       "    .dataframe tbody tr th {\n",
       "        vertical-align: top;\n",
       "    }\n",
       "\n",
       "    .dataframe thead th {\n",
       "        text-align: right;\n",
       "    }\n",
       "</style>\n",
       "<table border=\"1\" class=\"dataframe\">\n",
       "  <thead>\n",
       "    <tr style=\"text-align: right;\">\n",
       "      <th>ZAP</th>\n",
       "      <th>10010</th>\n",
       "      <th>10020</th>\n",
       "      <th>10030</th>\n",
       "      <th>20030</th>\n",
       "      <th>20040</th>\n",
       "    </tr>\n",
       "    <tr>\n",
       "      <th>ZAP</th>\n",
       "      <th></th>\n",
       "      <th></th>\n",
       "      <th></th>\n",
       "      <th></th>\n",
       "      <th></th>\n",
       "    </tr>\n",
       "  </thead>\n",
       "  <tbody>\n",
       "    <tr>\n",
       "      <th>10010</th>\n",
       "      <td>8.69247e-12</td>\n",
       "      <td>0.00000e+00</td>\n",
       "      <td>0.00000e+00</td>\n",
       "      <td>0.00000e+00</td>\n",
       "      <td>0.00000e+00</td>\n",
       "    </tr>\n",
       "    <tr>\n",
       "      <th>10020</th>\n",
       "      <td>0.00000e+00</td>\n",
       "      <td>5.94823e-12</td>\n",
       "      <td>0.00000e+00</td>\n",
       "      <td>0.00000e+00</td>\n",
       "      <td>0.00000e+00</td>\n",
       "    </tr>\n",
       "    <tr>\n",
       "      <th>10030</th>\n",
       "      <td>0.00000e+00</td>\n",
       "      <td>0.00000e+00</td>\n",
       "      <td>3.43806e-11</td>\n",
       "      <td>0.00000e+00</td>\n",
       "      <td>0.00000e+00</td>\n",
       "    </tr>\n",
       "    <tr>\n",
       "      <th>20030</th>\n",
       "      <td>0.00000e+00</td>\n",
       "      <td>0.00000e+00</td>\n",
       "      <td>0.00000e+00</td>\n",
       "      <td>0.00000e+00</td>\n",
       "      <td>0.00000e+00</td>\n",
       "    </tr>\n",
       "    <tr>\n",
       "      <th>20040</th>\n",
       "      <td>0.00000e+00</td>\n",
       "      <td>0.00000e+00</td>\n",
       "      <td>0.00000e+00</td>\n",
       "      <td>0.00000e+00</td>\n",
       "      <td>6.61733e-09</td>\n",
       "    </tr>\n",
       "  </tbody>\n",
       "</table>\n",
       "</div>"
      ],
      "text/plain": [
       "ZAP         10010       10020       10030       20030       20040\n",
       "ZAP                                                              \n",
       "10010 8.69247e-12 0.00000e+00 0.00000e+00 0.00000e+00 0.00000e+00\n",
       "10020 0.00000e+00 5.94823e-12 0.00000e+00 0.00000e+00 0.00000e+00\n",
       "10030 0.00000e+00 0.00000e+00 3.43806e-11 0.00000e+00 0.00000e+00\n",
       "20030 0.00000e+00 0.00000e+00 0.00000e+00 0.00000e+00 0.00000e+00\n",
       "20040 0.00000e+00 0.00000e+00 0.00000e+00 0.00000e+00 6.61733e-09"
      ]
     },
     "execution_count": 6,
     "metadata": {},
     "output_type": "execute_result"
    }
   ],
   "source": [
    "fy_stdev = nfpy.data.query(f\"ZAM=={zam} & E=={e} & MT==454\").set_index('ZAP').DFY\n",
    "Vx_prior = sandy.CategoryCov.from_stdev(fy_stdev)\n",
    "Vx_prior.data.head().T.head()"
   ]
  },
  {
   "cell_type": "markdown",
   "id": "7887c944-4cf9-4c00-9164-21ae6afb029f",
   "metadata": {},
   "source": [
    "### Get chain yields extra information"
   ]
  },
  {
   "cell_type": "markdown",
   "id": "2360d11b-5021-45de-a747-5f3daf9be8a5",
   "metadata": {},
   "source": [
    "SANDY is able to retrieve the extra information for the evaluation of $V$ from the IAEA document [Evaluation and Compilation of Fission Product Yields 1993](https://www-nds.iaea.org/endf349/la-ur-94-3106.pdf) (page 18-29)."
   ]
  },
  {
   "cell_type": "code",
   "execution_count": 7,
   "id": "84c0d0ce-3b29-4adb-a242-f708c97aacd0",
   "metadata": {
    "execution": {
     "iopub.execute_input": "2023-08-09T15:04:05.197384Z",
     "iopub.status.busy": "2023-08-09T15:04:05.197384Z",
     "iopub.status.idle": "2023-08-09T15:04:05.355238Z",
     "shell.execute_reply": "2023-08-09T15:04:05.355238Z"
    }
   },
   "outputs": [
    {
     "data": {
      "text/html": [
       "<div>\n",
       "<style scoped>\n",
       "    .dataframe tbody tr th:only-of-type {\n",
       "        vertical-align: middle;\n",
       "    }\n",
       "\n",
       "    .dataframe tbody tr th {\n",
       "        vertical-align: top;\n",
       "    }\n",
       "\n",
       "    .dataframe thead th {\n",
       "        text-align: right;\n",
       "    }\n",
       "</style>\n",
       "<table border=\"1\" class=\"dataframe\">\n",
       "  <thead>\n",
       "    <tr style=\"text-align: right;\">\n",
       "      <th>A</th>\n",
       "      <th>66</th>\n",
       "      <th>67</th>\n",
       "      <th>68</th>\n",
       "      <th>69</th>\n",
       "      <th>70</th>\n",
       "    </tr>\n",
       "    <tr>\n",
       "      <th>A</th>\n",
       "      <th></th>\n",
       "      <th></th>\n",
       "      <th></th>\n",
       "      <th></th>\n",
       "      <th></th>\n",
       "    </tr>\n",
       "  </thead>\n",
       "  <tbody>\n",
       "    <tr>\n",
       "      <th>66</th>\n",
       "      <td>5.33795e-20</td>\n",
       "      <td>0.00000e+00</td>\n",
       "      <td>0.00000e+00</td>\n",
       "      <td>0.00000e+00</td>\n",
       "      <td>0.00000e+00</td>\n",
       "    </tr>\n",
       "    <tr>\n",
       "      <th>67</th>\n",
       "      <td>0.00000e+00</td>\n",
       "      <td>6.89398e-19</td>\n",
       "      <td>0.00000e+00</td>\n",
       "      <td>0.00000e+00</td>\n",
       "      <td>0.00000e+00</td>\n",
       "    </tr>\n",
       "    <tr>\n",
       "      <th>68</th>\n",
       "      <td>0.00000e+00</td>\n",
       "      <td>0.00000e+00</td>\n",
       "      <td>5.24960e-18</td>\n",
       "      <td>0.00000e+00</td>\n",
       "      <td>0.00000e+00</td>\n",
       "    </tr>\n",
       "    <tr>\n",
       "      <th>69</th>\n",
       "      <td>0.00000e+00</td>\n",
       "      <td>0.00000e+00</td>\n",
       "      <td>0.00000e+00</td>\n",
       "      <td>2.52406e-17</td>\n",
       "      <td>0.00000e+00</td>\n",
       "    </tr>\n",
       "    <tr>\n",
       "      <th>70</th>\n",
       "      <td>0.00000e+00</td>\n",
       "      <td>0.00000e+00</td>\n",
       "      <td>0.00000e+00</td>\n",
       "      <td>0.00000e+00</td>\n",
       "      <td>6.93223e-17</td>\n",
       "    </tr>\n",
       "  </tbody>\n",
       "</table>\n",
       "</div>"
      ],
      "text/plain": [
       "A           66          67          68          69          70\n",
       "A                                                             \n",
       "66 5.33795e-20 0.00000e+00 0.00000e+00 0.00000e+00 0.00000e+00\n",
       "67 0.00000e+00 6.89398e-19 0.00000e+00 0.00000e+00 0.00000e+00\n",
       "68 0.00000e+00 0.00000e+00 5.24960e-18 0.00000e+00 0.00000e+00\n",
       "69 0.00000e+00 0.00000e+00 0.00000e+00 2.52406e-17 0.00000e+00\n",
       "70 0.00000e+00 0.00000e+00 0.00000e+00 0.00000e+00 6.93223e-17"
      ]
     },
     "execution_count": 7,
     "metadata": {},
     "output_type": "execute_result"
    }
   ],
   "source": [
    "ch_info = sandy.fy.get_chain_yields()\n",
    "e_ = 'thermal'\n",
    "ch_info_std = ch_info.query(f\"ZAM=={zam} & E =='{e_}'\").set_index(\"A\").DCHY\n",
    "y_extra = ch_info.query(f\"ZAM=={zam} & E =='{e_}'\").set_index(\"A\").CHY\n",
    "Vy_extra = sandy.CategoryCov.from_stdev(ch_info_std).data\n",
    "Vy_extra.head().T.head()"
   ]
  },
  {
   "cell_type": "markdown",
   "id": "7b3dd096-b545-4e6d-b360-ce5e42842f4a",
   "metadata": {},
   "source": [
    "### Get GLS update covariance matrix"
   ]
  },
  {
   "cell_type": "markdown",
   "id": "0ee907af-52ee-4f40-b9a8-363312fed6cf",
   "metadata": {},
   "source": [
    "The chain fission yield may be confused with the $\\textit{mass ﬁssion yield M(A)}$, indeed the two can differ by a few percent. In SANDY is possible to perform the GLS update procedure, adding the above constrain, considering the chain yield or mass yield and the related design matrices. Both options are shown in this notebook."
   ]
  },
  {
   "cell_type": "markdown",
   "id": "1604f844-68ce-4e8e-a90d-7d9d8f1b2e38",
   "metadata": {},
   "source": [
    "- `mass yield` option"
   ]
  },
  {
   "cell_type": "code",
   "execution_count": 8,
   "id": "507b2997-5d80-453a-93d8-5e26f219c6cf",
   "metadata": {
    "execution": {
     "iopub.execute_input": "2023-08-09T15:04:05.361146Z",
     "iopub.status.busy": "2023-08-09T15:04:05.361146Z",
     "iopub.status.idle": "2023-08-09T15:04:06.920581Z",
     "shell.execute_reply": "2023-08-09T15:04:06.920581Z"
    }
   },
   "outputs": [
    {
     "name": "stderr",
     "output_type": "stream",
     "text": [
      "WARNING:  determinant of the matrix (S*Vprior*S^T + Vextra) is 0.0, the inverse becomes unreliable\n",
      "WARNING:  determinant of the matrix (S*Vprior*S^T + Vextra) is 0.0, the inverse becomes unreliable\n"
     ]
    },
    {
     "data": {
      "text/html": [
       "<div>\n",
       "<style scoped>\n",
       "    .dataframe tbody tr th:only-of-type {\n",
       "        vertical-align: middle;\n",
       "    }\n",
       "\n",
       "    .dataframe tbody tr th {\n",
       "        vertical-align: top;\n",
       "    }\n",
       "\n",
       "    .dataframe thead th {\n",
       "        text-align: right;\n",
       "    }\n",
       "</style>\n",
       "<table border=\"1\" class=\"dataframe\">\n",
       "  <thead>\n",
       "    <tr style=\"text-align: right;\">\n",
       "      <th>ZAP</th>\n",
       "      <th>10010</th>\n",
       "      <th>10020</th>\n",
       "      <th>10030</th>\n",
       "      <th>20030</th>\n",
       "      <th>20040</th>\n",
       "    </tr>\n",
       "    <tr>\n",
       "      <th>ZAP</th>\n",
       "      <th></th>\n",
       "      <th></th>\n",
       "      <th></th>\n",
       "      <th></th>\n",
       "      <th></th>\n",
       "    </tr>\n",
       "  </thead>\n",
       "  <tbody>\n",
       "    <tr>\n",
       "      <th>10010</th>\n",
       "      <td>8.69247e-12</td>\n",
       "      <td>0.00000e+00</td>\n",
       "      <td>0.00000e+00</td>\n",
       "      <td>0.00000e+00</td>\n",
       "      <td>0.00000e+00</td>\n",
       "    </tr>\n",
       "    <tr>\n",
       "      <th>10020</th>\n",
       "      <td>0.00000e+00</td>\n",
       "      <td>5.94823e-12</td>\n",
       "      <td>0.00000e+00</td>\n",
       "      <td>0.00000e+00</td>\n",
       "      <td>0.00000e+00</td>\n",
       "    </tr>\n",
       "    <tr>\n",
       "      <th>10030</th>\n",
       "      <td>0.00000e+00</td>\n",
       "      <td>0.00000e+00</td>\n",
       "      <td>3.43806e-11</td>\n",
       "      <td>0.00000e+00</td>\n",
       "      <td>0.00000e+00</td>\n",
       "    </tr>\n",
       "    <tr>\n",
       "      <th>20030</th>\n",
       "      <td>0.00000e+00</td>\n",
       "      <td>0.00000e+00</td>\n",
       "      <td>0.00000e+00</td>\n",
       "      <td>0.00000e+00</td>\n",
       "      <td>0.00000e+00</td>\n",
       "    </tr>\n",
       "    <tr>\n",
       "      <th>20040</th>\n",
       "      <td>0.00000e+00</td>\n",
       "      <td>0.00000e+00</td>\n",
       "      <td>0.00000e+00</td>\n",
       "      <td>0.00000e+00</td>\n",
       "      <td>6.61733e-09</td>\n",
       "    </tr>\n",
       "  </tbody>\n",
       "</table>\n",
       "</div>"
      ],
      "text/plain": [
       "ZAP         10010       10020       10030       20030       20040\n",
       "ZAP                                                              \n",
       "10010 8.69247e-12 0.00000e+00 0.00000e+00 0.00000e+00 0.00000e+00\n",
       "10020 0.00000e+00 5.94823e-12 0.00000e+00 0.00000e+00 0.00000e+00\n",
       "10030 0.00000e+00 0.00000e+00 3.43806e-11 0.00000e+00 0.00000e+00\n",
       "20030 0.00000e+00 0.00000e+00 0.00000e+00 0.00000e+00 0.00000e+00\n",
       "20040 0.00000e+00 0.00000e+00 0.00000e+00 0.00000e+00 6.61733e-09"
      ]
     },
     "execution_count": 8,
     "metadata": {},
     "output_type": "execute_result"
    }
   ],
   "source": [
    "S_my = nfpy.get_mass_yield_sensitivity()\n",
    "cov_massyield = nfpy.gls_update(zam, e, S_my, y_extra, Vy_extra=Vy_extra)[1]\n",
    "cov_massyield.data.head().T.head()"
   ]
  },
  {
   "cell_type": "markdown",
   "id": "4767c5c3-1095-4ed5-9c38-639306abd556",
   "metadata": {},
   "source": [
    "- `chain yield` option"
   ]
  },
  {
   "cell_type": "code",
   "execution_count": 9,
   "id": "16297992-4a08-4a4e-81f9-d5cea698d670",
   "metadata": {
    "execution": {
     "iopub.execute_input": "2023-08-09T15:04:06.923593Z",
     "iopub.status.busy": "2023-08-09T15:04:06.923593Z",
     "iopub.status.idle": "2023-08-09T15:05:30.674186Z",
     "shell.execute_reply": "2023-08-09T15:05:30.674186Z"
    }
   },
   "outputs": [],
   "source": [
    "tape_rdd = sandy.get_endf6_file('jeff_33', 'decay', 'all')\n",
    "rdd = sandy.DecayData.from_endf6(tape_rdd)"
   ]
  },
  {
   "cell_type": "code",
   "execution_count": 10,
   "id": "e7294f8f-c9de-48b4-9635-30141fa10105",
   "metadata": {
    "execution": {
     "iopub.execute_input": "2023-08-09T15:05:30.674186Z",
     "iopub.status.busy": "2023-08-09T15:05:30.674186Z",
     "iopub.status.idle": "2023-08-09T15:05:32.520012Z",
     "shell.execute_reply": "2023-08-09T15:05:32.520012Z"
    }
   },
   "outputs": [
    {
     "name": "stderr",
     "output_type": "stream",
     "text": [
      "WARNING:  determinant of the matrix (S*Vprior*S^T + Vextra) is 0.0, the inverse becomes unreliable\n",
      "WARNING:  determinant of the matrix (S*Vprior*S^T + Vextra) is 0.0, the inverse becomes unreliable\n"
     ]
    },
    {
     "data": {
      "text/html": [
       "<div>\n",
       "<style scoped>\n",
       "    .dataframe tbody tr th:only-of-type {\n",
       "        vertical-align: middle;\n",
       "    }\n",
       "\n",
       "    .dataframe tbody tr th {\n",
       "        vertical-align: top;\n",
       "    }\n",
       "\n",
       "    .dataframe thead th {\n",
       "        text-align: right;\n",
       "    }\n",
       "</style>\n",
       "<table border=\"1\" class=\"dataframe\">\n",
       "  <thead>\n",
       "    <tr style=\"text-align: right;\">\n",
       "      <th>ZAP</th>\n",
       "      <th>10010</th>\n",
       "      <th>10020</th>\n",
       "      <th>10030</th>\n",
       "      <th>20030</th>\n",
       "      <th>20040</th>\n",
       "    </tr>\n",
       "    <tr>\n",
       "      <th>ZAP</th>\n",
       "      <th></th>\n",
       "      <th></th>\n",
       "      <th></th>\n",
       "      <th></th>\n",
       "      <th></th>\n",
       "    </tr>\n",
       "  </thead>\n",
       "  <tbody>\n",
       "    <tr>\n",
       "      <th>10010</th>\n",
       "      <td>8.69247e-12</td>\n",
       "      <td>0.00000e+00</td>\n",
       "      <td>0.00000e+00</td>\n",
       "      <td>0.00000e+00</td>\n",
       "      <td>0.00000e+00</td>\n",
       "    </tr>\n",
       "    <tr>\n",
       "      <th>10020</th>\n",
       "      <td>0.00000e+00</td>\n",
       "      <td>5.94823e-12</td>\n",
       "      <td>0.00000e+00</td>\n",
       "      <td>0.00000e+00</td>\n",
       "      <td>0.00000e+00</td>\n",
       "    </tr>\n",
       "    <tr>\n",
       "      <th>10030</th>\n",
       "      <td>0.00000e+00</td>\n",
       "      <td>0.00000e+00</td>\n",
       "      <td>3.43806e-11</td>\n",
       "      <td>0.00000e+00</td>\n",
       "      <td>0.00000e+00</td>\n",
       "    </tr>\n",
       "    <tr>\n",
       "      <th>20030</th>\n",
       "      <td>0.00000e+00</td>\n",
       "      <td>0.00000e+00</td>\n",
       "      <td>0.00000e+00</td>\n",
       "      <td>0.00000e+00</td>\n",
       "      <td>0.00000e+00</td>\n",
       "    </tr>\n",
       "    <tr>\n",
       "      <th>20040</th>\n",
       "      <td>0.00000e+00</td>\n",
       "      <td>0.00000e+00</td>\n",
       "      <td>0.00000e+00</td>\n",
       "      <td>0.00000e+00</td>\n",
       "      <td>6.61733e-09</td>\n",
       "    </tr>\n",
       "  </tbody>\n",
       "</table>\n",
       "</div>"
      ],
      "text/plain": [
       "ZAP         10010       10020       10030       20030       20040\n",
       "ZAP                                                              \n",
       "10010 8.69247e-12 0.00000e+00 0.00000e+00 0.00000e+00 0.00000e+00\n",
       "10020 0.00000e+00 5.94823e-12 0.00000e+00 0.00000e+00 0.00000e+00\n",
       "10030 0.00000e+00 0.00000e+00 3.43806e-11 0.00000e+00 0.00000e+00\n",
       "20030 0.00000e+00 0.00000e+00 0.00000e+00 0.00000e+00 0.00000e+00\n",
       "20040 0.00000e+00 0.00000e+00 0.00000e+00 0.00000e+00 6.61733e-09"
      ]
     },
     "execution_count": 10,
     "metadata": {},
     "output_type": "execute_result"
    }
   ],
   "source": [
    "S_cy = rdd.get_chain_yield_sensitivity()\n",
    "cov_chainyield = nfpy.gls_update(zam, e, S_cy, y_extra, Vy_extra=Vy_extra)[1]\n",
    "cov_chainyield.data.head().T.head()"
   ]
  },
  {
   "cell_type": "code",
   "execution_count": 11,
   "id": "8cac251f-36e8-45f9-bc2d-f9f75093f11b",
   "metadata": {
    "execution": {
     "iopub.execute_input": "2023-08-09T15:05:32.520012Z",
     "iopub.status.busy": "2023-08-09T15:05:32.520012Z",
     "iopub.status.idle": "2023-08-09T15:05:32.526412Z",
     "shell.execute_reply": "2023-08-09T15:05:32.526412Z"
    }
   },
   "outputs": [],
   "source": [
    "index_my = cov_massyield.data.index.values\n",
    "index_my.sort()\n",
    "index_cy = cov_chainyield.data.index.values\n",
    "index_cy.sort()"
   ]
  },
  {
   "cell_type": "code",
   "execution_count": 12,
   "id": "be1427fe-b926-43f3-8483-bbcbd3e73a2e",
   "metadata": {
    "execution": {
     "iopub.execute_input": "2023-08-09T15:05:32.526412Z",
     "iopub.status.busy": "2023-08-09T15:05:32.526412Z",
     "iopub.status.idle": "2023-08-09T15:05:32.543138Z",
     "shell.execute_reply": "2023-08-09T15:05:32.543138Z"
    }
   },
   "outputs": [],
   "source": [
    "cov_massyield = cov_massyield.data.reindex(index=index_my, columns=index_my)\n",
    "cov_chainyield = cov_chainyield.data.reindex(index=index_cy, columns=index_cy)"
   ]
  },
  {
   "cell_type": "code",
   "execution_count": 13,
   "id": "a0f07142-617a-4417-a374-eacddd944031",
   "metadata": {
    "execution": {
     "iopub.execute_input": "2023-08-09T15:05:32.543138Z",
     "iopub.status.busy": "2023-08-09T15:05:32.543138Z",
     "iopub.status.idle": "2023-08-09T15:05:32.553643Z",
     "shell.execute_reply": "2023-08-09T15:05:32.553643Z"
    }
   },
   "outputs": [],
   "source": [
    "zap = cov_massyield.index\n",
    "nuclide = pd.Series(zap.values, index = zap, name=\"ZAP\").to_frame()\n",
    "nuclide['nuclide'] = nuclide.ZAP.apply(sandy.zam.zam2latex)\n",
    "nuclide_index = nuclide.nuclide.values"
   ]
  },
  {
   "cell_type": "code",
   "execution_count": 14,
   "id": "92e07777-8275-430f-815d-633b49708560",
   "metadata": {
    "execution": {
     "iopub.execute_input": "2023-08-09T15:05:32.553643Z",
     "iopub.status.busy": "2023-08-09T15:05:32.553643Z",
     "iopub.status.idle": "2023-08-09T15:05:33.241861Z",
     "shell.execute_reply": "2023-08-09T15:05:33.241861Z"
    }
   },
   "outputs": [
    {
     "data": {
      "image/png": "[encoded data removed]",
      "text/plain": [
       "<Figure size 1200x500 with 2 Axes>"
      ]
     },
     "metadata": {},
     "output_type": "display_data"
    }
   ],
   "source": [
    "%%capture --no-display\n",
    "fig, axes = plt.subplots(ncols=2, figsize=(12, 5), dpi=100)\n",
    "ax1, ax2 = axes\n",
    "\n",
    "ax1.spy(cov_massyield)\n",
    "ax1.set_title('updated FY covariance matrix with `mass yield`')\n",
    "ax1.set_ylabel(\"FY index\")\n",
    "ax1.set_xlabel(\"FY index\")\n",
    "\n",
    "ax2.spy(cov_chainyield)\n",
    "ax2.set_title('updated FY covariance matrix with `chain yield`')\n",
    "ax2.set_ylabel(\"FY index\")\n",
    "ax2.set_xlabel(\"FY index\")\n",
    "\n",
    "fig.tight_layout()"
   ]
  },
  {
   "cell_type": "markdown",
   "id": "f7ebb07a-67ff-433d-92c6-3881548067e3",
   "metadata": {},
   "source": [
    "\"FY Index\" is an index assigned to each fission product and is sorted by atomic number, mass number, and isomeric number in ascending order. Thus, for the 984 fission products, FY Index 0 has the lightest Z and A while FY Index 983 has the heaviest Z and A"
   ]
  }
 ],
 "metadata": {
  "kernelspec": {
   "display_name": "Python [conda env:sandy-v1.0] *",
   "language": "python",
   "name": "conda-env-sandy-v1.0-py"
  },
  "language_info": {
   "codemirror_mode": {
    "name": "ipython",
    "version": 3
   },
   "file_extension": ".py",
   "mimetype": "text/x-python",
   "name": "python",
   "nbconvert_exporter": "python",
   "pygments_lexer": "ipython3",
   "version": "3.11.3"
  }
 },
 "nbformat": 4,
 "nbformat_minor": 5
}
