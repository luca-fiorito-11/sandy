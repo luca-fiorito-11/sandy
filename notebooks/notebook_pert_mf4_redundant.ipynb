{
 "cells": [
  {
   "cell_type": "markdown",
   "id": "716ac0f4",
   "metadata": {},
   "source": [
    "# Apply perturbations to redundant cross section and consistently to partial components"
   ]
  },
  {
   "cell_type": "code",
   "execution_count": null,
   "id": "74eeb6e0",
   "metadata": {},
   "outputs": [],
   "source": [
    "import sandy"
   ]
  },
  {
   "cell_type": "code",
   "execution_count": null,
   "id": "e242b637",
   "metadata": {},
   "outputs": [],
   "source": [
    "import matplotlib.pyplot as plt"
   ]
  },
  {
   "cell_type": "markdown",
   "id": "c54fd477",
   "metadata": {},
   "source": [
    "## Extract random perturbations for MT=4"
   ]
  },
  {
   "cell_type": "code",
   "execution_count": null,
   "id": "d92fdce8",
   "metadata": {},
   "outputs": [],
   "source": [
    "tape = sandy.get_endf6_file(\"jeff_33\", \"xs\", 260560)\n",
    "xs = sandy.Xs.from_endf6(tape.get_pendf(err=1))\n",
    "smps = tape.get_perturbations(5, njoy_kws=dict(err=1, chi=False, mubar=False, nubar=False, errorr33_kws=dict(mt=[4])))"
   ]
  },
  {
   "cell_type": "code",
   "execution_count": null,
   "id": "e712aab4",
   "metadata": {},
   "outputs": [],
   "source": [
    "ss = dict(smps[33].iterate_xs_samples())"
   ]
  },
  {
   "cell_type": "markdown",
   "id": "b7da00b4",
   "metadata": {},
   "source": [
    "## Show that MT=4 cross sections are perturbed"
   ]
  },
  {
   "cell_type": "code",
   "execution_count": null,
   "id": "ad285302",
   "metadata": {},
   "outputs": [],
   "source": [
    "fig, ax = plt.subplots(figsize=(8, 5), dpi=100)\n",
    "\n",
    "xsp = {}  # perturbed cross sections\n",
    "mt = 4\n",
    "\n",
    "xs.data[2631, mt].plot(ax=ax, color=\"dodgerblue\", label=\"original\")\n",
    "xsp[0] = xs._perturb(ss[0])\n",
    "xsp[0].data[2631, mt].plot(logy=False, ax=ax, ls=\"-.\", color=\"tomato\", lw=.7, alpha=.8, label=\"SMP 0\")\n",
    "xsp[1] = xs._perturb(ss[1])\n",
    "xsp[1].data[2631, mt].plot(logy=False, ax=ax, ls=\"dotted\", color=\"cyan\", lw=.7, alpha=.8, label=\"SMP 1\")\n",
    "xsp[2] = xs._perturb(ss[2])\n",
    "xsp[2].data[2631, mt].plot(logy=False, ax=ax, ls=\"--\", color=\"orange\", lw=.7, alpha=.8, label=\"SMP 2\")\n",
    "ax.set(\n",
    "    xlim=(0, 2e7),\n",
    "    ylim=(0, None),\n",
    "    xlabel=\"energy / $eV$\",\n",
    "    ylabel=\"cross section / $b$\",\n",
    ")\n",
    "ax.legend(loc=1, title=\"cross section\")\n",
    "\n",
    "ax2 = ax.twinx()\n",
    "(xsp[0].data[2631, mt] / xs.data[2631, mt] - 1).multiply(100).plot(ax=ax2, color=\"k\", ls=\"-.\", label=\"SMP 0\")\n",
    "(xsp[1].data[2631, mt] / xs.data[2631, mt] - 1).multiply(100).plot(ax=ax2, color=\"k\", ls=\"dotted\", label=\"SMP 1\")\n",
    "(xsp[2].data[2631, mt] / xs.data[2631, mt] - 1).multiply(100).plot(ax=ax2, color=\"k\", ls=\"--\", label=\"SMP 2\")\n",
    "ax2.set(\n",
    "    ylabel=\"relative perturbation / $\\%$\",\n",
    "    ylim=(-10, 10),\n",
    ")\n",
    "ax2.legend(loc=4, title=\"relative perturbation\")\n",
    "\n",
    "fig.tight_layout()"
   ]
  },
  {
   "cell_type": "markdown",
   "id": "1fa97a60",
   "metadata": {},
   "source": [
    "## Show that MT=51, MT=52 and MT=91 cross sections are analogously perturbed"
   ]
  },
  {
   "cell_type": "code",
   "execution_count": null,
   "id": "37bba0bd",
   "metadata": {},
   "outputs": [],
   "source": [
    "fig, ax = plt.subplots(figsize=(8, 5), dpi=100)\n",
    "\n",
    "xsp = {}  # perturbed cross sections\n",
    "mt = 51\n",
    "\n",
    "xs.data[2631, mt].plot(ax=ax, color=\"dodgerblue\", label=\"original\")\n",
    "xsp[0] = xs._perturb(ss[0])\n",
    "xsp[0].data[2631, mt].plot(logy=False, ax=ax, ls=\"-.\", color=\"tomato\", lw=.7, alpha=.8, label=\"SMP 0\")\n",
    "xsp[1] = xs._perturb(ss[1])\n",
    "xsp[1].data[2631, mt].plot(logy=False, ax=ax, ls=\"dotted\", color=\"cyan\", lw=.7, alpha=.8, label=\"SMP 1\")\n",
    "xsp[2] = xs._perturb(ss[2])\n",
    "xsp[2].data[2631, mt].plot(logy=False, ax=ax, ls=\"--\", color=\"orange\", lw=.7, alpha=.8, label=\"SMP 2\")\n",
    "ax.set(\n",
    "    xlim=(0, 2e7),\n",
    "    ylim=(0, None),\n",
    "    xlabel=\"energy / $eV$\",\n",
    "    ylabel=\"cross section / $b$\",\n",
    ")\n",
    "ax.legend(loc=1, title=\"cross section\")\n",
    "\n",
    "ax2 = ax.twinx()\n",
    "(xsp[0].data[2631, mt] / xs.data[2631, mt] - 1).multiply(100).plot(ax=ax2, color=\"k\", ls=\"-.\", label=\"SMP 0\")\n",
    "(xsp[1].data[2631, mt] / xs.data[2631, mt] - 1).multiply(100).plot(ax=ax2, color=\"k\", ls=\"dotted\", label=\"SMP 1\")\n",
    "(xsp[2].data[2631, mt] / xs.data[2631, mt] - 1).multiply(100).plot(ax=ax2, color=\"k\", ls=\"--\", label=\"SMP 2\")\n",
    "ax2.set(\n",
    "    ylabel=\"relative perturbation / $\\%$\",\n",
    "    ylim=(-10, 10),\n",
    ")\n",
    "ax2.legend(loc=4, title=\"relative perturbation\")\n",
    "\n",
    "fig.tight_layout()"
   ]
  },
  {
   "cell_type": "code",
   "execution_count": null,
   "id": "f35333aa",
   "metadata": {},
   "outputs": [],
   "source": [
    "fig, ax = plt.subplots(figsize=(8, 5), dpi=100)\n",
    "\n",
    "xsp = {}  # perturbed cross sections\n",
    "mt = 52\n",
    "\n",
    "xs.data[2631, mt].plot(ax=ax, color=\"dodgerblue\", label=\"original\")\n",
    "xsp[0] = xs._perturb(ss[0])\n",
    "xsp[0].data[2631, mt].plot(logy=False, ax=ax, ls=\"-.\", color=\"tomato\", lw=.7, alpha=.8, label=\"SMP 0\")\n",
    "xsp[1] = xs._perturb(ss[1])\n",
    "xsp[1].data[2631, mt].plot(logy=False, ax=ax, ls=\"dotted\", color=\"cyan\", lw=.7, alpha=.8, label=\"SMP 1\")\n",
    "xsp[2] = xs._perturb(ss[2])\n",
    "xsp[2].data[2631, mt].plot(logy=False, ax=ax, ls=\"--\", color=\"orange\", lw=.7, alpha=.8, label=\"SMP 2\")\n",
    "ax.set(\n",
    "    xlim=(0, 2e7),\n",
    "    ylim=(0, None),\n",
    "    xlabel=\"energy / $eV$\",\n",
    "    ylabel=\"cross section / $b$\",\n",
    ")\n",
    "ax.legend(loc=1, title=\"cross section\")\n",
    "\n",
    "ax2 = ax.twinx()\n",
    "(xsp[0].data[2631, mt] / xs.data[2631, mt] - 1).multiply(100).plot(ax=ax2, color=\"k\", ls=\"-.\", label=\"SMP 0\")\n",
    "(xsp[1].data[2631, mt] / xs.data[2631, mt] - 1).multiply(100).plot(ax=ax2, color=\"k\", ls=\"dotted\", label=\"SMP 1\")\n",
    "(xsp[2].data[2631, mt] / xs.data[2631, mt] - 1).multiply(100).plot(ax=ax2, color=\"k\", ls=\"--\", label=\"SMP 2\")\n",
    "ax2.set(\n",
    "    ylabel=\"relative perturbation / $\\%$\",\n",
    "    ylim=(-10, 10),\n",
    ")\n",
    "ax2.legend(loc=4, title=\"relative perturbation\")\n",
    "\n",
    "fig.tight_layout()"
   ]
  },
  {
   "cell_type": "code",
   "execution_count": null,
   "id": "e434e503",
   "metadata": {},
   "outputs": [],
   "source": [
    "fig, ax = plt.subplots(figsize=(8, 5), dpi=100)\n",
    "\n",
    "xsp = {}  # perturbed cross sections\n",
    "mt = 91\n",
    "\n",
    "xs.data[2631, mt].plot(ax=ax, color=\"dodgerblue\", label=\"original\")\n",
    "xsp[0] = xs._perturb(ss[0])\n",
    "xsp[0].data[2631, mt].plot(logy=False, ax=ax, ls=\"-.\", color=\"tomato\", lw=.7, alpha=.8, label=\"SMP 0\")\n",
    "xsp[1] = xs._perturb(ss[1])\n",
    "xsp[1].data[2631, mt].plot(logy=False, ax=ax, ls=\"dotted\", color=\"cyan\", lw=.7, alpha=.8, label=\"SMP 1\")\n",
    "xsp[2] = xs._perturb(ss[2])\n",
    "xsp[2].data[2631, mt].plot(logy=False, ax=ax, ls=\"--\", color=\"orange\", lw=.7, alpha=.8, label=\"SMP 2\")\n",
    "ax.set(\n",
    "    xlim=(0, 2e7),\n",
    "    ylim=(0, None),\n",
    "    xlabel=\"energy / $eV$\",\n",
    "    ylabel=\"cross section / $b$\",\n",
    ")\n",
    "ax.legend(loc=1, title=\"cross section\")\n",
    "\n",
    "ax2 = ax.twinx()\n",
    "(xsp[0].data[2631, mt] / xs.data[2631, mt] - 1).multiply(100).plot(ax=ax2, color=\"k\", ls=\"-.\", label=\"SMP 0\")\n",
    "(xsp[1].data[2631, mt] / xs.data[2631, mt] - 1).multiply(100).plot(ax=ax2, color=\"k\", ls=\"dotted\", label=\"SMP 1\")\n",
    "(xsp[2].data[2631, mt] / xs.data[2631, mt] - 1).multiply(100).plot(ax=ax2, color=\"k\", ls=\"--\", label=\"SMP 2\")\n",
    "ax2.set(\n",
    "    ylabel=\"relative perturbation / $\\%$\",\n",
    "    ylim=(-10, 10),\n",
    ")\n",
    "ax2.legend(loc=4, title=\"relative perturbation\")\n",
    "\n",
    "fig.tight_layout()"
   ]
  }
 ],
 "metadata": {
  "kernelspec": {
   "display_name": "Python [conda env:sandy-v1.0] *",
   "language": "python",
   "name": "conda-env-sandy-v1.0-py"
  },
  "language_info": {
   "codemirror_mode": {
    "name": "ipython",
    "version": 3
   },
   "file_extension": ".py",
   "mimetype": "text/x-python",
   "name": "python",
   "nbconvert_exporter": "python",
   "pygments_lexer": "ipython3",
   "version": "3.11.3"
  }
 },
 "nbformat": 4,
 "nbformat_minor": 5
}
