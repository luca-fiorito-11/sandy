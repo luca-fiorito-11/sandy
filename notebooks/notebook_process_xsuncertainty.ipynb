{
 "cells": [
  {
   "cell_type": "markdown",
   "id": "7b7fc24e",
   "metadata": {},
   "source": [
    "# Process one-group actinide cross section uncertainties for different libraries"
   ]
  },
  {
   "cell_type": "code",
   "execution_count": null,
   "id": "1d4dc5a2",
   "metadata": {
    "execution": {
     "iopub.execute_input": "2023-08-09T15:18:36.492193Z",
     "iopub.status.busy": "2023-08-09T15:18:36.492193Z",
     "iopub.status.idle": "2023-08-09T15:18:38.562086Z",
     "shell.execute_reply": "2023-08-09T15:18:38.562086Z"
    }
   },
   "outputs": [],
   "source": [
    "import sandy"
   ]
  },
  {
   "cell_type": "code",
   "execution_count": null,
   "id": "24407ba1",
   "metadata": {
    "execution": {
     "iopub.execute_input": "2023-08-09T15:18:38.562086Z",
     "iopub.status.busy": "2023-08-09T15:18:38.562086Z",
     "iopub.status.idle": "2023-08-09T15:18:39.991801Z",
     "shell.execute_reply": "2023-08-09T15:18:39.991801Z"
    }
   },
   "outputs": [],
   "source": [
    "import matplotlib.pyplot as plt\n",
    "import seaborn as sns\n",
    "sns.set_style(\"whitegrid\")"
   ]
  },
  {
   "cell_type": "code",
   "execution_count": null,
   "id": "1ffa6daa",
   "metadata": {
    "execution": {
     "iopub.execute_input": "2023-08-09T15:18:39.991801Z",
     "iopub.status.busy": "2023-08-09T15:18:39.991801Z",
     "iopub.status.idle": "2023-08-09T15:18:39.999333Z",
     "shell.execute_reply": "2023-08-09T15:18:39.999333Z"
    }
   },
   "outputs": [],
   "source": [
    "import pandas as pd"
   ]
  },
  {
   "cell_type": "code",
   "execution_count": null,
   "id": "949fd176",
   "metadata": {
    "execution": {
     "iopub.execute_input": "2023-08-09T15:18:39.999333Z",
     "iopub.status.busy": "2023-08-09T15:18:39.999333Z",
     "iopub.status.idle": "2023-08-09T15:18:40.008165Z",
     "shell.execute_reply": "2023-08-09T15:18:40.008165Z"
    }
   },
   "outputs": [],
   "source": [
    "import logging\n",
    "logging.getLogger().setLevel(logging.WARN)"
   ]
  },
  {
   "cell_type": "code",
   "execution_count": null,
   "id": "e89b0b75",
   "metadata": {
    "execution": {
     "iopub.execute_input": "2023-08-09T15:18:40.008165Z",
     "iopub.status.busy": "2023-08-09T15:18:40.008165Z",
     "iopub.status.idle": "2023-08-09T15:18:40.016735Z",
     "shell.execute_reply": "2023-08-09T15:18:40.016735Z"
    }
   },
   "outputs": [],
   "source": [
    "nuclides = [922350, 922360, 922380, 932370, 932380, 942380, 942390, 942400, 942410, 942420, 952410, 952421, 952430, 962440]\n",
    "libs = [\"jeff_33\", \"jendl_40u\", \"endfb_80\"]"
   ]
  },
  {
   "cell_type": "code",
   "execution_count": null,
   "id": "f4c5729c",
   "metadata": {
    "execution": {
     "iopub.execute_input": "2023-08-09T15:18:40.016735Z",
     "iopub.status.busy": "2023-08-09T15:18:40.016735Z",
     "iopub.status.idle": "2023-08-09T15:18:40.025782Z",
     "shell.execute_reply": "2023-08-09T15:18:40.025782Z"
    }
   },
   "outputs": [],
   "source": [
    "# Options\n",
    "iwt = 5  # PWR spectrum\n",
    "ek = [1e-5, 2e7]  # 1 group\n",
    "mt = [18, 102]  # two reactions: fission and capture"
   ]
  },
  {
   "cell_type": "code",
   "execution_count": null,
   "id": "da1268ac",
   "metadata": {
    "execution": {
     "iopub.execute_input": "2023-08-09T15:18:40.025782Z",
     "iopub.status.busy": "2023-08-09T15:18:40.025782Z",
     "iopub.status.idle": "2023-08-09T15:28:19.361148Z",
     "shell.execute_reply": "2023-08-09T15:28:19.361148Z"
    }
   },
   "outputs": [],
   "source": [
    "stds = []\n",
    "for lib in libs:\n",
    "    for zam in nuclides:\n",
    "        nucl = sandy.zam.zam2nuclide(zam)\n",
    "        print(f\"processing nuclide {nucl} for library {lib.upper()}...\")\n",
    "        err = sandy.get_endf6_file(lib, \"xs\", zam).get_errorr(\n",
    "            err=0.1, verbose=False, dryrun=False,\n",
    "            xs=True, chi=False, nubar=False, mubar=False,\n",
    "            errorr33_kws=dict(\n",
    "                irespr=0,\n",
    "                iwt=iwt,\n",
    "                ek=ek,\n",
    "                mt=mt,\n",
    "            ),\n",
    "        )\n",
    "        if \"errorr33\" in err:\n",
    "            std = err[\"errorr33\"].get_cov().get_std().multiply(100).reset_index().assign(NUCL=nucl, LIB=lib)\n",
    "            stds.append(std)\n",
    "df = pd.concat(stds, ignore_index=True)"
   ]
  },
  {
   "cell_type": "code",
   "execution_count": null,
   "id": "e4a8ff1e",
   "metadata": {
    "execution": {
     "iopub.execute_input": "2023-08-09T15:28:19.361148Z",
     "iopub.status.busy": "2023-08-09T15:28:19.361148Z",
     "iopub.status.idle": "2023-08-09T15:28:19.376687Z",
     "shell.execute_reply": "2023-08-09T15:28:19.376687Z"
    }
   },
   "outputs": [],
   "source": [
    "print(df.query(\"MT in @mt\").to_string())"
   ]
  }
 ],
 "metadata": {
  "kernelspec": {
   "display_name": "Python [conda env:sandy-v1.0] *",
   "language": "python",
   "name": "conda-env-sandy-v1.0-py"
  },
  "language_info": {
   "codemirror_mode": {
    "name": "ipython",
    "version": 3
   },
   "file_extension": ".py",
   "mimetype": "text/x-python",
   "name": "python",
   "nbconvert_exporter": "python",
   "pygments_lexer": "ipython3",
   "version": "3.11.3"
  }
 },
 "nbformat": 4,
 "nbformat_minor": 5
}
