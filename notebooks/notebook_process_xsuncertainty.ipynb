{
 "cells": [
  {
   "cell_type": "markdown",
   "id": "7b7fc24e",
   "metadata": {},
   "source": [
    "# Process one-group actinide cross section uncertainties for different libraries"
   ]
  },
  {
   "cell_type": "code",
   "execution_count": 1,
   "id": "1d4dc5a2",
   "metadata": {},
   "outputs": [],
   "source": [
    "import sandy"
   ]
  },
  {
   "cell_type": "code",
   "execution_count": 2,
   "id": "24407ba1",
   "metadata": {},
   "outputs": [],
   "source": [
    "import matplotlib.pyplot as plt\n",
    "import seaborn as sns\n",
    "sns.set_style(\"whitegrid\")"
   ]
  },
  {
   "cell_type": "code",
   "execution_count": 3,
   "id": "1ffa6daa",
   "metadata": {},
   "outputs": [],
   "source": [
    "import pandas as pd"
   ]
  },
  {
   "cell_type": "code",
   "execution_count": 4,
   "id": "949fd176",
   "metadata": {},
   "outputs": [],
   "source": [
    "import logging\n",
    "logging.getLogger().setLevel(logging.WARN)"
   ]
  },
  {
   "cell_type": "code",
   "execution_count": 5,
   "id": "e89b0b75",
   "metadata": {},
   "outputs": [],
   "source": [
    "nuclides = [922350, 922360, 922380, 932370, 932380, 942380, 942390, 942400, 942410, 942420, 952410, 952421, 952430, 962440]\n",
    "libs = [\"jeff_33\", \"jendl_40u\", \"endfb_80\"]"
   ]
  },
  {
   "cell_type": "code",
   "execution_count": 6,
   "id": "f4c5729c",
   "metadata": {},
   "outputs": [],
   "source": [
    "# Options\n",
    "iwt = 5  # PWR spectrum\n",
    "ek = [1e-5, 2e7]  # 1 group\n",
    "mt = [18, 102]  # two reactions: fission and capture"
   ]
  },
  {
   "cell_type": "code",
   "execution_count": 8,
   "id": "da1268ac",
   "metadata": {},
   "outputs": [
    {
     "name": "stdout",
     "output_type": "stream",
     "text": [
      "processing nuclide U235 for library JEFF_33...\n",
      "processing nuclide U236 for library JEFF_33...\n",
      "processing nuclide U238 for library JEFF_33...\n",
      "processing nuclide Np237 for library JEFF_33...\n",
      "processing nuclide Np238 for library JEFF_33...\n",
      "processing nuclide Pu238 for library JEFF_33...\n",
      "processing nuclide Pu239 for library JEFF_33...\n",
      "processing nuclide Pu240 for library JEFF_33...\n",
      "processing nuclide Pu241 for library JEFF_33...\n",
      "processing nuclide Pu242 for library JEFF_33...\n",
      "processing nuclide Am241 for library JEFF_33...\n",
      "processing nuclide Am242m for library JEFF_33...\n",
      "processing nuclide Am243 for library JEFF_33...\n",
      "processing nuclide Cm244 for library JEFF_33...\n",
      "processing nuclide U235 for library JENDL_40U...\n",
      "processing nuclide U236 for library JENDL_40U...\n",
      "processing nuclide U238 for library JENDL_40U...\n",
      "processing nuclide Np237 for library JENDL_40U...\n",
      "processing nuclide Np238 for library JENDL_40U...\n",
      "processing nuclide Pu238 for library JENDL_40U...\n",
      "processing nuclide Pu239 for library JENDL_40U...\n",
      "processing nuclide Pu240 for library JENDL_40U...\n",
      "processing nuclide Pu241 for library JENDL_40U...\n",
      "processing nuclide Pu242 for library JENDL_40U...\n",
      "processing nuclide Am241 for library JENDL_40U...\n",
      "processing nuclide Am242m for library JENDL_40U...\n",
      "processing nuclide Am243 for library JENDL_40U...\n",
      "processing nuclide Cm244 for library JENDL_40U...\n",
      "processing nuclide U235 for library ENDFB_80...\n",
      "processing nuclide U236 for library ENDFB_80...\n",
      "processing nuclide U238 for library ENDFB_80...\n",
      "processing nuclide Np237 for library ENDFB_80...\n",
      "processing nuclide Np238 for library ENDFB_80...\n",
      "processing nuclide Pu238 for library ENDFB_80...\n",
      "processing nuclide Pu239 for library ENDFB_80...\n",
      "processing nuclide Pu240 for library ENDFB_80...\n",
      "processing nuclide Pu241 for library ENDFB_80...\n",
      "processing nuclide Pu242 for library ENDFB_80...\n",
      "processing nuclide Am241 for library ENDFB_80...\n",
      "processing nuclide Am242m for library ENDFB_80...\n",
      "processing nuclide Am243 for library ENDFB_80...\n",
      "processing nuclide Cm244 for library ENDFB_80...\n"
     ]
    }
   ],
   "source": [
    "stds = []\n",
    "for lib in libs:\n",
    "    for zam in nuclides:\n",
    "        nucl = sandy.zam.zam2nuclide(zam)\n",
    "        print(f\"processing nuclide {nucl} for library {lib.upper()}...\")\n",
    "        err = sandy.get_endf6_file(lib, \"xs\", zam).get_errorr(\n",
    "            err=0.1, verbose=False, dryrun=False,\n",
    "            xs=True, chi=False, nubar=False, mubar=False,\n",
    "            errorr33_kws=dict(\n",
    "                irespr=0,\n",
    "                iwt=iwt,\n",
    "                ek=ek,\n",
    "                mt=mt,\n",
    "            ),\n",
    "        )\n",
    "        if \"errorr33\" in err:\n",
    "            std = err[\"errorr33\"].get_cov().get_std().multiply(100).reset_index().assign(NUCL=nucl, LIB=lib)\n",
    "            stds.append(std)\n",
    "df = pd.concat(stds, ignore_index=True)"
   ]
  },
  {
   "cell_type": "code",
   "execution_count": 21,
   "id": "e4a8ff1e",
   "metadata": {
    "scrolled": false
   },
   "outputs": [
    {
     "name": "stdout",
     "output_type": "stream",
     "text": [
      "      MAT   MT                    E         STD    NUCL        LIB\n",
      "0    9228   18  (1e-05, 20000000.0] 6.31499e-01    U235    jeff_33\n",
      "1    9228  102  (1e-05, 20000000.0] 1.70583e+00    U235    jeff_33\n",
      "2    9237   18  (1e-05, 20000000.0] 2.63840e+00    U238    jeff_33\n",
      "3    9237  102  (1e-05, 20000000.0] 1.10201e+00    U238    jeff_33\n",
      "4    9346   18  (1e-05, 20000000.0] 3.30412e+00   Np237    jeff_33\n",
      "5    9346  102  (1e-05, 20000000.0] 4.58509e+00   Np237    jeff_33\n",
      "6    9434   18  (1e-05, 20000000.0] 4.27258e+00   Pu238    jeff_33\n",
      "7    9434  102  (1e-05, 20000000.0] 9.82995e+00   Pu238    jeff_33\n",
      "8    9437   18  (1e-05, 20000000.0] 1.22453e+00   Pu239    jeff_33\n",
      "9    9437  102  (1e-05, 20000000.0] 2.26990e+00   Pu239    jeff_33\n",
      "10   9440   18  (1e-05, 20000000.0] 2.71615e+00   Pu240    jeff_33\n",
      "11   9440  102  (1e-05, 20000000.0] 2.23112e+00   Pu240    jeff_33\n",
      "12   9443   18  (1e-05, 20000000.0] 1.93646e+00   Pu241    jeff_33\n",
      "13   9443  102  (1e-05, 20000000.0] 9.90368e+00   Pu241    jeff_33\n",
      "14   9549   18  (1e-05, 20000000.0] 3.22485e+00   Am243    jeff_33\n",
      "15   9549  102  (1e-05, 20000000.0] 4.54314e+00   Am243    jeff_33\n",
      "16   9637   18  (1e-05, 20000000.0] 4.24128e+00   Cm244    jeff_33\n",
      "17   9637  102  (1e-05, 20000000.0] 8.28482e-01   Cm244    jeff_33\n",
      "18   9228   18  (1e-05, 20000000.0] 3.21651e-01    U235  jendl_40u\n",
      "19   9228  102  (1e-05, 20000000.0] 1.12350e+00    U235  jendl_40u\n",
      "20   9231   18  (1e-05, 20000000.0] 2.89702e+00    U236  jendl_40u\n",
      "21   9231  102  (1e-05, 20000000.0] 5.96311e-01    U236  jendl_40u\n",
      "22   9237   18  (1e-05, 20000000.0] 1.08953e+00    U238  jendl_40u\n",
      "23   9237  102  (1e-05, 20000000.0] 1.00551e+00    U238  jendl_40u\n",
      "24   9346   18  (1e-05, 20000000.0] 1.68214e+00   Np237  jendl_40u\n",
      "25   9346  102  (1e-05, 20000000.0] 2.88723e+00   Np237  jendl_40u\n",
      "26   9349   18  (1e-05, 20000000.0] 1.15949e+00   Np238  jendl_40u\n",
      "27   9349  102  (1e-05, 20000000.0] 2.04442e+00   Np238  jendl_40u\n",
      "28   9434   18  (1e-05, 20000000.0] 4.27258e+00   Pu238  jendl_40u\n",
      "29   9434  102  (1e-05, 20000000.0] 9.82995e+00   Pu238  jendl_40u\n",
      "30   9437   18  (1e-05, 20000000.0] 7.77481e-01   Pu239  jendl_40u\n",
      "31   9437  102  (1e-05, 20000000.0] 1.16230e+00   Pu239  jendl_40u\n",
      "32   9440   18  (1e-05, 20000000.0] 1.68120e+00   Pu240  jendl_40u\n",
      "33   9440  102  (1e-05, 20000000.0] 4.99531e+00   Pu240  jendl_40u\n",
      "34   9443   18  (1e-05, 20000000.0] 1.93646e+00   Pu241  jendl_40u\n",
      "35   9443  102  (1e-05, 20000000.0] 9.90368e+00   Pu241  jendl_40u\n",
      "36   9446   18  (1e-05, 20000000.0] 3.33694e+00   Pu242  jendl_40u\n",
      "37   9446  102  (1e-05, 20000000.0] 4.78231e-01   Pu242  jendl_40u\n",
      "38   9543   18  (1e-05, 20000000.0] 2.13200e+00   Am241  jendl_40u\n",
      "39   9543  102  (1e-05, 20000000.0] 6.78023e+00   Am241  jendl_40u\n",
      "40   9547   18  (1e-05, 20000000.0] 1.96915e+00  Am242m  jendl_40u\n",
      "41   9547  102  (1e-05, 20000000.0] 4.44133e-01  Am242m  jendl_40u\n",
      "42   9549   18  (1e-05, 20000000.0] 3.22485e+00   Am243  jendl_40u\n",
      "43   9549  102  (1e-05, 20000000.0] 4.54314e+00   Am243  jendl_40u\n",
      "44   9637   18  (1e-05, 20000000.0] 7.73771e+00   Cm244  jendl_40u\n",
      "45   9637  102  (1e-05, 20000000.0] 9.03750e+00   Cm244  jendl_40u\n",
      "46   9228   18  (1e-05, 20000000.0] 4.35675e-01    U235   endfb_80\n",
      "86   9228  102  (1e-05, 20000000.0] 3.38610e-01    U235   endfb_80\n",
      "87   9231   18  (1e-05, 20000000.0] 1.28951e+01    U236   endfb_80\n",
      "88   9231  102  (1e-05, 20000000.0] 3.75737e+00    U236   endfb_80\n",
      "89   9237   18  (1e-05, 20000000.0] 1.26157e+00    U238   endfb_80\n",
      "129  9237  102  (1e-05, 20000000.0] 1.10164e+00    U238   endfb_80\n",
      "130  9346   18  (1e-05, 20000000.0] 3.30412e+00   Np237   endfb_80\n",
      "131  9346  102  (1e-05, 20000000.0] 4.58509e+00   Np237   endfb_80\n",
      "132  9349   18  (1e-05, 20000000.0] 1.15951e+00   Np238   endfb_80\n",
      "133  9349  102  (1e-05, 20000000.0] 2.04454e+00   Np238   endfb_80\n",
      "134  9434   18  (1e-05, 20000000.0] 2.44878e+00   Pu238   endfb_80\n",
      "135  9434  102  (1e-05, 20000000.0] 9.81194e+00   Pu238   endfb_80\n",
      "136  9437   18  (1e-05, 20000000.0] 3.50412e-02   Pu239   endfb_80\n",
      "137  9437  102  (1e-05, 20000000.0] 2.62891e-02   Pu239   endfb_80\n",
      "138  9440   18  (1e-05, 20000000.0] 1.00442e+00   Pu240   endfb_80\n",
      "139  9440  102  (1e-05, 20000000.0] 2.89058e-01   Pu240   endfb_80\n",
      "140  9443   18  (1e-05, 20000000.0] 1.45826e+00   Pu241   endfb_80\n",
      "141  9443  102  (1e-05, 20000000.0] 2.05908e+00   Pu241   endfb_80\n",
      "142  9446   18  (1e-05, 20000000.0] 3.33665e+00   Pu242   endfb_80\n",
      "143  9446  102  (1e-05, 20000000.0] 1.12029e+01   Pu242   endfb_80\n",
      "144  9543   18  (1e-05, 20000000.0] 1.71103e+00   Am241   endfb_80\n",
      "145  9543  102  (1e-05, 20000000.0] 4.91597e+00   Am241   endfb_80\n",
      "146  9547   18  (1e-05, 20000000.0] 4.74396e+00  Am242m   endfb_80\n",
      "147  9547  102  (1e-05, 20000000.0] 2.40269e+01  Am242m   endfb_80\n",
      "148  9549   18  (1e-05, 20000000.0] 1.71315e+01   Am243   endfb_80\n",
      "149  9549  102  (1e-05, 20000000.0] 3.50199e+00   Am243   endfb_80\n",
      "150  9637   18  (1e-05, 20000000.0] 7.73771e+00   Cm244   endfb_80\n",
      "151  9637  102  (1e-05, 20000000.0] 9.03750e+00   Cm244   endfb_80\n"
     ]
    }
   ],
   "source": [
    "print(df.query(\"MT in @mt\").to_string())"
   ]
  }
 ],
 "metadata": {
  "kernelspec": {
   "display_name": "Python [conda env:sandy-v1.0] *",
   "language": "python",
   "name": "conda-env-sandy-v1.0-py"
  },
  "language_info": {
   "codemirror_mode": {
    "name": "ipython",
    "version": 3
   },
   "file_extension": ".py",
   "mimetype": "text/x-python",
   "name": "python",
   "nbconvert_exporter": "python",
   "pygments_lexer": "ipython3",
   "version": "3.11.3"
  }
 },
 "nbformat": 4,
 "nbformat_minor": 5
}
