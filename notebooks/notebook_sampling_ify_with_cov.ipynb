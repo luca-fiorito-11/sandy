{
 "cells": [
  {
   "cell_type": "markdown",
   "id": "2e8a7f97-24b4-455e-b768-57cdee820012",
   "metadata": {},
   "source": [
    "# Create perturbed FY files with ad-hoc covariance matrix (all energies)"
   ]
  },
  {
   "cell_type": "markdown",
   "id": "0d8161e9-50c6-4ef3-ac54-01f296e41f7f",
   "metadata": {},
   "source": [
    "This notebook follows the procedure to generate ad-hoc covariance matrices for independent fission yields from chain yield evaluations, as described in:\n",
    "- [Fiorito et al., Generation of fission yield covariances to correct discrepancies in the nuclear data libraries, Annals of Nuclear Energy, Vol. 88, 2016](https://doi.org/10.1016/j.anucene.2015.10.027)\n",
    "- [Fission yield covariance generation and uncertainty propagation through fission pulse decay heat calculation, Annals of Nuclear Energy, Vol. 69, 2014](https://doi.org/10.1016/j.anucene.2014.01.038)"
   ]
  },
  {
   "cell_type": "code",
   "execution_count": 4,
   "id": "06dad8ae-478b-44fe-a0cc-8cd37bd4acc3",
   "metadata": {},
   "outputs": [],
   "source": [
    "import sandy\n",
    "import pandas as pd\n",
    "from os.path import join\n",
    "import numpy as np\n",
    "import random, sys"
   ]
  },
  {
   "cell_type": "markdown",
   "id": "db66e7a6-e7a9-46a2-abea-6cfc699122b3",
   "metadata": {},
   "source": [
    "## Extract FYs and covariance data for U235 fission"
   ]
  },
  {
   "cell_type": "code",
   "execution_count": 5,
   "id": "3096afe7-8921-4dfe-94b4-1e3443954424",
   "metadata": {},
   "outputs": [],
   "source": [
    "za = 92235\n",
    "tape = sandy.get_endf6_file(\"jeff_33\", \"nfpy\", za * 10)\n",
    "fy = sandy.Fy.from_endf6(tape)"
   ]
  },
  {
   "cell_type": "code",
   "execution_count": 7,
   "id": "133e6d50-19b1-41bf-99a0-36d22e21e392",
   "metadata": {},
   "outputs": [],
   "source": [
    "energies = fy.data.E.unique()"
   ]
  },
  {
   "cell_type": "markdown",
   "id": "891967d7-eb66-424f-a8a4-14f625f133cf",
   "metadata": {},
   "source": [
    "## Generate perturbation coefficients for all energies and write them to file"
   ]
  },
  {
   "cell_type": "markdown",
   "id": "c47c053d-6022-4cf2-a9c9-d347adc3a9dd",
   "metadata": {},
   "source": [
    "Use normalization to chain yields as a constraint to create a covariance matrix. "
   ]
  },
  {
   "cell_type": "code",
   "execution_count": 9,
   "id": "be23c97c-a32d-4343-b152-8adbe98beed5",
   "metadata": {},
   "outputs": [],
   "source": [
    "tape_rdd = sandy.get_endf6_file(\"jeff_33\", \"decay\", \"all\")\n",
    "rdd = sandy.DecayData.from_endf6(tape_rdd)  # this can take a while"
   ]
  },
  {
   "cell_type": "code",
   "execution_count": 10,
   "id": "31935394-ef64-4a24-a4d0-9051a09755e1",
   "metadata": {},
   "outputs": [
    {
     "data": {
      "text/plain": [
       "{(902270, 'thermal'),\n",
       " (902290, 'thermal'),\n",
       " (902320, 'fast'),\n",
       " (902320, 'high energy'),\n",
       " (912310, 'fast'),\n",
       " (922320, 'thermal'),\n",
       " (922330, 'fast'),\n",
       " (922330, 'high energy'),\n",
       " (922330, 'thermal'),\n",
       " (922340, 'fast'),\n",
       " (922340, 'high energy'),\n",
       " (922350, 'fast'),\n",
       " (922350, 'high energy'),\n",
       " (922350, 'thermal'),\n",
       " (922360, 'fast'),\n",
       " (922360, 'high energy'),\n",
       " (922370, 'fast'),\n",
       " (922380, 'fast'),\n",
       " (922380, 'high energy'),\n",
       " (922380, 'spontaneous fission'),\n",
       " (932370, 'fast'),\n",
       " (932370, 'high energy'),\n",
       " (932370, 'thermal'),\n",
       " (932380, 'fast'),\n",
       " (942380, 'fast'),\n",
       " (942390, 'fast'),\n",
       " (942390, 'high energy'),\n",
       " (942390, 'thermal'),\n",
       " (942400, 'fast'),\n",
       " (942400, 'high energy'),\n",
       " (942400, 'thermal'),\n",
       " (942410, 'fast'),\n",
       " (942410, 'thermal'),\n",
       " (942420, 'fast'),\n",
       " (942420, 'high energy'),\n",
       " (942420, 'thermal'),\n",
       " (952410, 'fast'),\n",
       " (952410, 'high energy'),\n",
       " (952410, 'thermal'),\n",
       " (952421, 'thermal'),\n",
       " (952430, 'fast'),\n",
       " (962420, 'fast'),\n",
       " (962430, 'fast'),\n",
       " (962430, 'thermal'),\n",
       " (962440, 'fast'),\n",
       " (962440, 'spontaneous fission'),\n",
       " (962450, 'thermal'),\n",
       " (962460, 'fast'),\n",
       " (962460, 'spontaneous fission'),\n",
       " (962480, 'fast'),\n",
       " (962480, 'spontaneous fission'),\n",
       " (982490, 'thermal'),\n",
       " (982500, 'spontaneous fission'),\n",
       " (982510, 'thermal'),\n",
       " (982520, 'spontaneous fission'),\n",
       " (992530, 'spontaneous fission'),\n",
       " (992540, 'thermal'),\n",
       " (1002540, 'spontaneous fission'),\n",
       " (1002550, 'thermal'),\n",
       " (1002560, 'spontaneous fission')}"
      ]
     },
     "execution_count": 10,
     "metadata": {},
     "output_type": "execute_result"
    }
   ],
   "source": [
    "s = rdd.get_chain_yield_sensitivity()\n",
    "chfy = sandy.fy.get_chain_yields()\n",
    "set([(row.ZAM, row.E) for i, row in chfy.iterrows()])"
   ]
  },
  {
   "cell_type": "markdown",
   "id": "628a6721-634c-45ab-9832-dbf733e19c6c",
   "metadata": {},
   "source": [
    "Choose among the above fissioning systems for which chain yields are available from [England & Rider, 1993](https://www-nds.iaea.org/endf349/la-ur-94-3106.pdf)."
   ]
  },
  {
   "cell_type": "code",
   "execution_count": 11,
   "id": "8c40f3f4-65bc-4f32-9934-991c841fd612",
   "metadata": {},
   "outputs": [
    {
     "name": "stderr",
     "output_type": "stream",
     "text": [
      "WARNING:  determinant of the matrix (S*Vprior*S^T + Vextra) is 0.0, the inverse becomes unreliable\n",
      "WARNING:  determinant of the matrix (S*Vprior*S^T + Vextra) is 0.0, the inverse becomes unreliable\n",
      "WARNING:  Large condition number of covariance matrix: 2.66e+13\n"
     ]
    },
    {
     "name": "stdout",
     "output_type": "stream",
     "text": [
      "sampling IFY for energy 2.530e-02 eV...\n"
     ]
    },
    {
     "name": "stderr",
     "output_type": "stream",
     "text": [
      "WARNING:  determinant of the matrix (S*Vprior*S^T + Vextra) is 0.0, the inverse becomes unreliable\n",
      "WARNING:  determinant of the matrix (S*Vprior*S^T + Vextra) is 0.0, the inverse becomes unreliable\n",
      "WARNING:  Large condition number of covariance matrix: 2.48e+13\n"
     ]
    },
    {
     "name": "stdout",
     "output_type": "stream",
     "text": [
      "sampling IFY for energy 4.000e+05 eV...\n"
     ]
    },
    {
     "name": "stderr",
     "output_type": "stream",
     "text": [
      "WARNING:  Large condition number of covariance matrix: 1.28e+11\n"
     ]
    },
    {
     "name": "stdout",
     "output_type": "stream",
     "text": [
      "sampling IFY for energy 1.400e+07 eV...\n"
     ]
    }
   ],
   "source": [
    "nsmp = 10  # sample size\n",
    "smp = {}\n",
    "for e, etext in zip(energies, [\"thermal\", \"fast\", \"high_energy\"]):  # change this for the nuclide you choose\n",
    "    y_extra = chfy.query(f\"E=='{etext}' & ZAM=={za*10}\").set_index(\"A\").CHY\n",
    "\n",
    "    std_extra_info = chfy.query(f\"E=='{etext}'\").set_index(\"A\").DCHY\n",
    "    Vy_extra = sandy.CategoryCov.from_stdev(std_extra_info).data\n",
    "\n",
    "    fy_post, cov_post = fy.gls_update(za*10, e, s, y_extra, Vy_extra)\n",
    "    \n",
    "    idx = fy_post.data.query(f\"E=={e} & MT==454\").index\n",
    "    ify = fy_post.data.loc[idx]\n",
    "\n",
    "    seed = random.randrange(2**32 - 1)    # create a seed, need to change it for the different energies\n",
    "    print(f\"sampling IFY for energy {e:.3e} eV...\")\n",
    "    smp[e] = cov_post.sampling(nsmp, seed=seed)   # sample from posterior covariance matrix"
   ]
  },
  {
   "cell_type": "code",
   "execution_count": 12,
   "id": "79089390-38a3-42ab-9005-35e1761a0305",
   "metadata": {},
   "outputs": [],
   "source": [
    "with pd.ExcelWriter(f'PERT_{za}_MF8_MT454_COV.xlsx') as writer:\n",
    "    for e, s in smp.items():\n",
    "        s.data.to_excel(writer, sheet_name=f'{e:.3e}')"
   ]
  },
  {
   "cell_type": "markdown",
   "id": "c9d980cd-c181-465a-a499-acfaf0777027",
   "metadata": {},
   "source": [
    "## Read coefficients from perturbation file and generate random FY ENDF-6 files"
   ]
  },
  {
   "cell_type": "markdown",
   "id": "57c30635-895e-4ded-8b0d-ae9933f6cbf6",
   "metadata": {},
   "source": [
    "Skip the part above if you already have the file of perturbations."
   ]
  },
  {
   "cell_type": "code",
   "execution_count": 13,
   "id": "e2eec6f2-8129-4395-a921-fdb13ca043ed",
   "metadata": {},
   "outputs": [],
   "source": [
    "smp = pd.read_excel(f'PERT_{za}_MF8_MT454_COV.xlsx', sheet_name=None, index_col=0)"
   ]
  },
  {
   "cell_type": "code",
   "execution_count": 14,
   "id": "1e104351-9068-4d8b-adbb-9fefa18407b9",
   "metadata": {},
   "outputs": [],
   "source": [
    "za = 92235\n",
    "tape = sandy.get_endf6_file(\"jeff_33\", \"nfpy\", za * 10)\n",
    "nfpy = sandy.Fy.from_endf6(tape)"
   ]
  },
  {
   "cell_type": "code",
   "execution_count": 15,
   "id": "181943ff-d4b9-4ba1-9fa3-94c67092f68c",
   "metadata": {},
   "outputs": [
    {
     "name": "stdout",
     "output_type": "stream",
     "text": [
      "writing file 'u235_fy_cov_0.jeff33'...\n",
      "writing file 'u235_fy_cov_1.jeff33'...\n",
      "writing file 'u235_fy_cov_2.jeff33'...\n",
      "writing file 'u235_fy_cov_3.jeff33'...\n",
      "writing file 'u235_fy_cov_4.jeff33'...\n",
      "writing file 'u235_fy_cov_5.jeff33'...\n",
      "writing file 'u235_fy_cov_6.jeff33'...\n",
      "writing file 'u235_fy_cov_7.jeff33'...\n",
      "writing file 'u235_fy_cov_8.jeff33'...\n",
      "writing file 'u235_fy_cov_9.jeff33'...\n"
     ]
    }
   ],
   "source": [
    "smp_min = 0   # write ENDF-6 file only in the sample range [smp_min, smp_max]\n",
    "smp_max = 9\n",
    "file_template = \"u235_fy_cov_{}.jeff33\"\n",
    "for ismp in range(smp_min, smp_max+1):\n",
    "    file = file_template.format(ismp)\n",
    "    f = sandy.Fy(nfpy.data.copy())\n",
    "    for e, s in smp.items():\n",
    "        idx_ify = nfpy.data.query(f\"E=={float(e)} & MT==454\").index\n",
    "        idx_cfy = nfpy.data.query(f\"E=={float(e)} & MT==459\").index\n",
    "        f.data.loc[idx_ify, \"DFY\"] = f.data.loc[idx_ify, \"FY\"]            # just for me, i copy the original IFYs where uncertainties should be, so i can compare them to the perturbed ones (anyways I don't use uncertainties)\n",
    "        f.data.loc[idx_cfy, \"DFY\"] = f.data.loc[idx_cfy, \"FY\"]            # same but for CFYs\n",
    "        f.data.loc[idx_ify, \"FY\"] *= s[ismp].values                # IMPORTANT, this does not update the CFYs, which in random ENDF-6 file are inconsistent with the perturbed IFYs\n",
    "        #f = f.apply_qmatrix(922350, e, rdd, keep_fy_index=True)      # Run this if you want to update the CFYs (slower), or else comment it out\n",
    "    print(f\"writing file '{file}'...\")\n",
    "    f.to_endf6(tape).to_file(file)"
   ]
  }
 ],
 "metadata": {
  "kernelspec": {
   "display_name": "sandy-devel",
   "language": "python",
   "name": "sandy-devel"
  },
  "language_info": {
   "codemirror_mode": {
    "name": "ipython",
    "version": 3
   },
   "file_extension": ".py",
   "mimetype": "text/x-python",
   "name": "python",
   "nbconvert_exporter": "python",
   "pygments_lexer": "ipython3",
   "version": "3.12.0"
  }
 },
 "nbformat": 4,
 "nbformat_minor": 5
}
