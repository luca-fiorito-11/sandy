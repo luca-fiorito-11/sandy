{
 "cells": [
  {
   "cell_type": "markdown",
   "id": "3c4a85fa",
   "metadata": {},
   "source": [
    "# Extract L-matrix from xs covariance matrix "
   ]
  },
  {
   "cell_type": "code",
   "execution_count": null,
   "id": "9e2c4eef",
   "metadata": {},
   "outputs": [],
   "source": [
    "import sandy"
   ]
  },
  {
   "cell_type": "code",
   "execution_count": null,
   "id": "02407c34",
   "metadata": {},
   "outputs": [],
   "source": [
    "import matplotlib.pyplot as plt\n",
    "import seaborn as sns\n",
    "sns.set_style(\"whitegrid\")"
   ]
  },
  {
   "cell_type": "code",
   "execution_count": null,
   "id": "843f4c88",
   "metadata": {},
   "outputs": [],
   "source": [
    "err = 1  # xs reconstruction tolerance, very poor for fast results\n",
    "mt = [2, 4, 18, 102]  # considered reactions\n",
    "\n",
    "# ERRORR parameters\n",
    "ek_errorr = [2e-5, 5.4e-1, 2.26033e1, 2.03468e3, 6.73795e4, 4.97871e5, 2.23130e6, 1.96403e7]  # energy groups in eV\n",
    "iwt_errorr = 2  # constant"
   ]
  },
  {
   "cell_type": "markdown",
   "id": "3f659825",
   "metadata": {},
   "source": [
    "## Plot L-matrix for correlated reactions (Pu-239)"
   ]
  },
  {
   "cell_type": "code",
   "execution_count": null,
   "id": "b0089402",
   "metadata": {},
   "outputs": [],
   "source": [
    "tape = sandy.get_endf6_file(\"jeff_33\", \"xs\", 942390)\n",
    "errorr = tape.get_errorr(\n",
    "    err=err, mt=mt,\n",
    "    ek_errorr=ek_errorr, iwt_errorr=iwt_errorr,\n",
    "    mubar=False, chi=False, nubar=False,  # keep only xs\n",
    ")\n",
    "C = errorr.get_cov()"
   ]
  },
  {
   "cell_type": "code",
   "execution_count": null,
   "id": "9dbb47dc",
   "metadata": {},
   "outputs": [],
   "source": [
    "tolerance = 0  # truncate eigenvalues < 0 if any is found\n",
    "L = C.get_L(tolerance=tolerance)"
   ]
  },
  {
   "cell_type": "code",
   "execution_count": null,
   "id": "03e8a2ee",
   "metadata": {},
   "outputs": [],
   "source": [
    "fig, axs = plt.subplots(1, 2, figsize=(10, 6), dpi=100)\n",
    "\n",
    "ax = axs[0]\n",
    "ax.set_aspect(\"equal\")\n",
    "sns.heatmap(C.get_corr().data, vmin=-1, vmax=1, cmap=\"bwr\", ax=ax)\n",
    "ax.axhline(7, color='k')\n",
    "ax.axvline(7, color='k')\n",
    "ax.axhline(7 * 2, color='k')\n",
    "ax.axvline(7 * 2, color='k')\n",
    "ax.axhline(7 * 3, color='k')\n",
    "ax.axvline(7 * 3, color='k')\n",
    "\n",
    "ax = axs[1]\n",
    "ax.set_aspect(\"equal\")\n",
    "ax.spy(L)\n",
    "\n",
    "fig.tight_layout();"
   ]
  },
  {
   "cell_type": "markdown",
   "id": "f4b723d1",
   "metadata": {},
   "source": [
    "## Plot L-matrix for uncorrelated reactions (Pu-241)"
   ]
  },
  {
   "cell_type": "code",
   "execution_count": null,
   "id": "8fc60a94",
   "metadata": {},
   "outputs": [],
   "source": [
    "tape = sandy.get_endf6_file(\"jeff_33\", \"xs\", 942410)\n",
    "errorr = tape.get_errorr(\n",
    "    err=err, mt=mt,\n",
    "    ek_errorr=ek_errorr, iwt_errorr=iwt_errorr,\n",
    "    mubar=False, chi=False, nubar=False,  # keep only xs\n",
    ")\n",
    "C = errorr.get_cov()"
   ]
  },
  {
   "cell_type": "code",
   "execution_count": null,
   "id": "df2bb958",
   "metadata": {},
   "outputs": [],
   "source": [
    "tolerance = 0  # truncate eigenvalues < 0 if any is found\n",
    "L = C.get_L(tolerance=tolerance)"
   ]
  },
  {
   "cell_type": "code",
   "execution_count": null,
   "id": "d61d8a9b",
   "metadata": {},
   "outputs": [],
   "source": [
    "fig, axs = plt.subplots(1, 2, figsize=(10, 6), dpi=100)\n",
    "\n",
    "ax = axs[0]\n",
    "ax.set_aspect(\"equal\")\n",
    "sns.heatmap(C.get_corr().data, vmin=-1, vmax=1, cmap=\"bwr\", ax=ax)\n",
    "ax.axhline(7, color='k')\n",
    "ax.axvline(7, color='k')\n",
    "ax.axhline(7 * 2, color='k')\n",
    "ax.axvline(7 * 2, color='k')\n",
    "ax.axhline(7 * 3, color='k')\n",
    "ax.axvline(7 * 3, color='k')\n",
    "\n",
    "ax = axs[1]\n",
    "ax.set_aspect(\"equal\")\n",
    "ax.spy(L)\n",
    "\n",
    "fig.tight_layout();"
   ]
  }
 ],
 "metadata": {
  "kernelspec": {
   "display_name": "Python3 (sandy-devel)",
   "language": "python",
   "name": "sandy-devel"
  },
  "language_info": {
   "codemirror_mode": {
    "name": "ipython",
    "version": 3
   },
   "file_extension": ".py",
   "mimetype": "text/x-python",
   "name": "python",
   "nbconvert_exporter": "python",
   "pygments_lexer": "ipython3",
   "version": "3.7.10"
  }
 },
 "nbformat": 4,
 "nbformat_minor": 5
}
