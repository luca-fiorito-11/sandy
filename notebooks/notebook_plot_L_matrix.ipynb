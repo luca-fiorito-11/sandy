{
 "cells": [
  {
   "cell_type": "markdown",
   "id": "3c4a85fa",
   "metadata": {},
   "source": [
    "# Extract L-matrix from xs covariance matrix "
   ]
  },
  {
   "cell_type": "code",
   "execution_count": null,
   "id": "9e2c4eef",
   "metadata": {
    "execution": {
     "iopub.execute_input": "2023-08-09T15:17:02.801331Z",
     "iopub.status.busy": "2023-08-09T15:17:02.801331Z",
     "iopub.status.idle": "2023-08-09T15:17:05.066920Z",
     "shell.execute_reply": "2023-08-09T15:17:05.066920Z"
    }
   },
   "outputs": [],
   "source": [
    "import sandy"
   ]
  },
  {
   "cell_type": "code",
   "execution_count": null,
   "id": "02407c34",
   "metadata": {
    "execution": {
     "iopub.execute_input": "2023-08-09T15:17:05.066920Z",
     "iopub.status.busy": "2023-08-09T15:17:05.066920Z",
     "iopub.status.idle": "2023-08-09T15:17:06.739115Z",
     "shell.execute_reply": "2023-08-09T15:17:06.739115Z"
    }
   },
   "outputs": [],
   "source": [
    "import matplotlib.pyplot as plt\n",
    "import seaborn as sns\n",
    "sns.set_style(\"whitegrid\")"
   ]
  },
  {
   "cell_type": "code",
   "execution_count": null,
   "id": "843f4c88",
   "metadata": {
    "execution": {
     "iopub.execute_input": "2023-08-09T15:17:06.739115Z",
     "iopub.status.busy": "2023-08-09T15:17:06.739115Z",
     "iopub.status.idle": "2023-08-09T15:17:06.747441Z",
     "shell.execute_reply": "2023-08-09T15:17:06.747441Z"
    }
   },
   "outputs": [],
   "source": [
    "err = 1  # xs reconstruction tolerance, very poor for fast results\n",
    "mt = [2, 4, 18, 102]  # considered reactions\n",
    "\n",
    "# ERRORR parameters\n",
    "ek = [2e-5, 5.4e-1, 2.26033e1, 2.03468e3, 6.73795e4, 4.97871e5, 2.23130e6, 1.96403e7]  # energy groups in eV\n",
    "iwt = 2  # constant"
   ]
  },
  {
   "cell_type": "markdown",
   "id": "3f659825",
   "metadata": {},
   "source": [
    "## Plot L-matrix for correlated reactions (Pu-239)"
   ]
  },
  {
   "cell_type": "code",
   "execution_count": null,
   "id": "b0089402",
   "metadata": {
    "execution": {
     "iopub.execute_input": "2023-08-09T15:17:06.751577Z",
     "iopub.status.busy": "2023-08-09T15:17:06.750445Z",
     "iopub.status.idle": "2023-08-09T15:17:19.593317Z",
     "shell.execute_reply": "2023-08-09T15:17:19.593317Z"
    }
   },
   "outputs": [],
   "source": [
    "tape = sandy.get_endf6_file(\"jeff_33\", \"xs\", 942390)\n",
    "errorr = tape.get_errorr(\n",
    "    err=err,\n",
    "    errorr33_kws=dict(\n",
    "        ek=ek,\n",
    "        iwt=iwt,\n",
    "        mt=mt,\n",
    "    ),\n",
    "    mubar=False, chi=False, nubar=False,  # keep only xs\n",
    ")\n",
    "C = errorr[\"errorr33\"].get_cov()"
   ]
  },
  {
   "cell_type": "code",
   "execution_count": null,
   "id": "9dbb47dc",
   "metadata": {
    "execution": {
     "iopub.execute_input": "2023-08-09T15:17:19.593317Z",
     "iopub.status.busy": "2023-08-09T15:17:19.593317Z",
     "iopub.status.idle": "2023-08-09T15:17:19.602436Z",
     "shell.execute_reply": "2023-08-09T15:17:19.602436Z"
    }
   },
   "outputs": [],
   "source": [
    "tolerance = 0  # truncate eigenvalues < 0 if any is found\n",
    "L = C.get_L(tolerance=tolerance)"
   ]
  },
  {
   "cell_type": "code",
   "execution_count": null,
   "id": "03e8a2ee",
   "metadata": {
    "execution": {
     "iopub.execute_input": "2023-08-09T15:17:19.602436Z",
     "iopub.status.busy": "2023-08-09T15:17:19.602436Z",
     "iopub.status.idle": "2023-08-09T15:17:21.226492Z",
     "shell.execute_reply": "2023-08-09T15:17:21.226492Z"
    }
   },
   "outputs": [],
   "source": [
    "fig, axs = plt.subplots(1, 2, figsize=(10, 6), dpi=100)\n",
    "\n",
    "ax = axs[0]\n",
    "ax.set_aspect(\"equal\")\n",
    "sns.heatmap(C.get_corr().data, vmin=-1, vmax=1, cmap=\"bwr\", ax=ax)\n",
    "ax.axhline(7, color='k')\n",
    "ax.axvline(7, color='k')\n",
    "ax.axhline(7 * 2, color='k')\n",
    "ax.axvline(7 * 2, color='k')\n",
    "ax.axhline(7 * 3, color='k')\n",
    "ax.axvline(7 * 3, color='k')\n",
    "\n",
    "ax = axs[1]\n",
    "ax.set_aspect(\"equal\")\n",
    "ax.spy(L)\n",
    "\n",
    "fig.tight_layout();"
   ]
  },
  {
   "cell_type": "markdown",
   "id": "f4b723d1",
   "metadata": {},
   "source": [
    "## Plot L-matrix for uncorrelated reactions (Pu-241)"
   ]
  },
  {
   "cell_type": "code",
   "execution_count": null,
   "id": "8fc60a94",
   "metadata": {
    "execution": {
     "iopub.execute_input": "2023-08-09T15:17:21.226492Z",
     "iopub.status.busy": "2023-08-09T15:17:21.226492Z",
     "iopub.status.idle": "2023-08-09T15:17:23.789021Z",
     "shell.execute_reply": "2023-08-09T15:17:23.789021Z"
    }
   },
   "outputs": [],
   "source": [
    "tape = sandy.get_endf6_file(\"jeff_33\", \"xs\", 942410)\n",
    "errorr = tape.get_errorr(\n",
    "    err=err,\n",
    "    errorr33_kws=dict(\n",
    "        ek=ek,\n",
    "        iwt=iwt,\n",
    "        mt=mt,\n",
    "    ),\n",
    "    mubar=False, chi=False, nubar=False,  # keep only xs\n",
    ")\n",
    "C = errorr[\"errorr33\"].get_cov()"
   ]
  },
  {
   "cell_type": "code",
   "execution_count": null,
   "id": "df2bb958",
   "metadata": {
    "execution": {
     "iopub.execute_input": "2023-08-09T15:17:23.789021Z",
     "iopub.status.busy": "2023-08-09T15:17:23.789021Z",
     "iopub.status.idle": "2023-08-09T15:17:23.802307Z",
     "shell.execute_reply": "2023-08-09T15:17:23.802307Z"
    }
   },
   "outputs": [],
   "source": [
    "tolerance = 0  # truncate eigenvalues < 0 if any is found\n",
    "L = C.get_L(tolerance=tolerance)"
   ]
  },
  {
   "cell_type": "code",
   "execution_count": null,
   "id": "d61d8a9b",
   "metadata": {
    "execution": {
     "iopub.execute_input": "2023-08-09T15:17:23.802307Z",
     "iopub.status.busy": "2023-08-09T15:17:23.802307Z",
     "iopub.status.idle": "2023-08-09T15:17:25.338209Z",
     "shell.execute_reply": "2023-08-09T15:17:25.338209Z"
    }
   },
   "outputs": [],
   "source": [
    "fig, axs = plt.subplots(1, 2, figsize=(10, 6), dpi=100)\n",
    "\n",
    "ax = axs[0]\n",
    "ax.set_aspect(\"equal\")\n",
    "sns.heatmap(C.get_corr().data, vmin=-1, vmax=1, cmap=\"bwr\", ax=ax)\n",
    "ax.axhline(7, color='k')\n",
    "ax.axvline(7, color='k')\n",
    "ax.axhline(7 * 2, color='k')\n",
    "ax.axvline(7 * 2, color='k')\n",
    "ax.axhline(7 * 3, color='k')\n",
    "ax.axvline(7 * 3, color='k')\n",
    "\n",
    "ax = axs[1]\n",
    "ax.set_aspect(\"equal\")\n",
    "ax.spy(L)\n",
    "\n",
    "fig.tight_layout();"
   ]
  }
 ],
 "metadata": {
  "kernelspec": {
   "display_name": "Python [conda env:sandy-v1.0] *",
   "language": "python",
   "name": "conda-env-sandy-v1.0-py"
  },
  "language_info": {
   "codemirror_mode": {
    "name": "ipython",
    "version": 3
   },
   "file_extension": ".py",
   "mimetype": "text/x-python",
   "name": "python",
   "nbconvert_exporter": "python",
   "pygments_lexer": "ipython3",
   "version": "3.11.3"
  }
 },
 "nbformat": 4,
 "nbformat_minor": 5
}
