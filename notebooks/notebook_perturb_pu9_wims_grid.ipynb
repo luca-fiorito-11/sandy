{
 "cells": [
  {
   "cell_type": "markdown",
   "metadata": {},
   "source": [
    "# How to apply a custom perturbation to a given cross section"
   ]
  },
  {
   "cell_type": "code",
   "execution_count": null,
   "metadata": {},
   "outputs": [],
   "source": [
    "import os\n",
    "\n",
    "import numpy as np\n",
    "import pandas as pd"
   ]
  },
  {
   "cell_type": "code",
   "execution_count": null,
   "metadata": {},
   "outputs": [],
   "source": [
    "import sandy"
   ]
  },
  {
   "cell_type": "code",
   "execution_count": null,
   "metadata": {},
   "outputs": [],
   "source": [
    "import matplotlib.pyplot as plt\n",
    "import seaborn as sns\n",
    "\n",
    "sns.set_style(\"whitegrid\")"
   ]
  },
  {
   "cell_type": "markdown",
   "metadata": {},
   "source": [
    "In this notebook we apply a constant relative perturbation, say 5%, to an energy-dependent cross section.\n",
    "The perturbation is applied over an energy bin of choice, e.g. between 10 eV and 100 eV."
   ]
  },
  {
   "cell_type": "markdown",
   "metadata": {},
   "source": [
    "As an example we use the JEFF-3.3 evaluation for Pu-239  downloaded from the [OECD/NEA website](https://www.oecd-nea.org/dbdata/jeff/jeff33/index.html) and processed with NJOY-2016 into PENDF format using the following input file:"
   ]
  },
  {
   "cell_type": "code",
   "execution_count": null,
   "metadata": {},
   "outputs": [],
   "source": [
    "tape = sandy.get_endf6_file(\"jeff_33\", \"xs\", 942390).get_pendf(\n",
    "    temperature=900,\n",
    "    purr=False,\n",
    "    heatr=False,\n",
    "    gaspr=False,\n",
    "    verbose=True,\n",
    ")"
   ]
  },
  {
   "cell_type": "code",
   "execution_count": null,
   "metadata": {},
   "outputs": [],
   "source": [
    "xs = sandy.Xs.from_endf6(tape)"
   ]
  },
  {
   "cell_type": "markdown",
   "metadata": {},
   "source": [
    "Now, we apply perturbations according to the WIMS-69 energy grid, available on the [Serpent Wiki](http://serpent.vtt.fi/mediawiki/index.php/EPRI-CPM_69_group_structure).\n",
    "Still, any other energy grids would work just fine."
   ]
  },
  {
   "cell_type": "code",
   "execution_count": null,
   "metadata": {},
   "outputs": [],
   "source": [
    "egrid = sandy.energy_grids.WIMS69\n",
    "egrid"
   ]
  },
  {
   "cell_type": "markdown",
   "metadata": {},
   "source": [
    "The energy grid was converted in eV to be consistent with the cross section data."
   ]
  },
  {
   "cell_type": "markdown",
   "metadata": {},
   "source": [
    "### Use a `sandy.Pert` object"
   ]
  },
  {
   "cell_type": "markdown",
   "metadata": {},
   "source": [
    "SANDY uses a dedicated class to store (relative) perturbation coefficients."
   ]
  },
  {
   "cell_type": "code",
   "execution_count": null,
   "metadata": {},
   "outputs": [],
   "source": [
    "sandy.Pert([1, 1.05], index=[10, 100])"
   ]
  },
  {
   "cell_type": "markdown",
   "metadata": {},
   "source": [
    "In this example the `Pert` instance defines a multiplicative perturbation factor 1 (0%) for all xs values between 0 and 10 eV, and 1.05 (5%) for all xs between 10 and 100 eV."
   ]
  },
  {
   "cell_type": "markdown",
   "metadata": {},
   "source": [
    "### Apply perturbations to cross sections"
   ]
  },
  {
   "cell_type": "markdown",
   "metadata": {},
   "source": [
    "Below we apply perturbations to the fission cross section (MT=18) of Pu-239 (MAT=9437).\n",
    "For each energy bin in the WIMS grid, we increase all xs points in that energy range by 30%.\n",
    "The process is repreated iteratively and 69 perturbed xs objects are created."
   ]
  },
  {
   "cell_type": "code",
   "execution_count": null,
   "metadata": {},
   "outputs": [],
   "source": [
    "mat = 9437\n",
    "mt = 18\n",
    "pert_coeff = 30 / 100  # large perturbationfor better visualization"
   ]
  },
  {
   "cell_type": "code",
   "execution_count": null,
   "metadata": {},
   "outputs": [],
   "source": [
    "perturbed_xs = []\n",
    "for i in range(1, egrid.size):\n",
    "    e_start = egrid[i-1]\n",
    "    e_stop = egrid[i]\n",
    "    index = egrid[i-1: i+1]\n",
    "    pert = sandy.Pert([1, 1 + pert_coeff], index=index)\n",
    "    print(f\"perturbed xs in energy bin #{i} [{e_start:.5e}, {e_stop:.5e}]\")\n",
    "    xspert = xs.custom_perturbation(mat, mt, pert)\n",
    "    perturbed_xs.append(xspert)"
   ]
  },
  {
   "cell_type": "markdown",
   "metadata": {},
   "source": [
    "### Plot the results"
   ]
  },
  {
   "cell_type": "markdown",
   "metadata": {},
   "source": [
    "Entire energy range"
   ]
  },
  {
   "cell_type": "code",
   "execution_count": null,
   "metadata": {},
   "outputs": [],
   "source": [
    "fig, ax = plt.subplots(figsize=(7, 3.5), dpi=100)\n",
    "ax = xs.data[(mat,mt)].plot(logx=True, logy=True, color=\"dodgerblue\", linewidth=2, ax=ax)\n",
    "for xspert in perturbed_xs:\n",
    "    ax = xspert.data[(mat,mt)].plot(logx=True, logy=True, alpha=0.8, linewidth=0.9, ax=ax)\n",
    "\n",
    "ax.set_ylabel(\"cross section / b\")\n",
    "ax.set_xlabel(\"energy / eV\")\n",
    "ax.set_xlim([1e-5, 2e7])\n",
    "ax.set_ylim([1e-1, 1e4])\n",
    "fig.tight_layout();"
   ]
  },
  {
   "cell_type": "markdown",
   "metadata": {},
   "source": [
    "Thermal part"
   ]
  },
  {
   "cell_type": "code",
   "execution_count": null,
   "metadata": {},
   "outputs": [],
   "source": [
    "fig, ax = plt.subplots(figsize=(7, 3.5), dpi=100)\n",
    "ax = xs.data[(mat,mt)].plot(logx=True, logy=True, color=\"dodgerblue\", linewidth=2, ax=ax)\n",
    "for xspert in perturbed_xs:\n",
    "    ax = xspert.data[(mat,mt)].plot(logx=True, logy=True, alpha=0.8, linewidth=0.9, ax=ax)\n",
    "\n",
    "ax.set_ylabel(\"cross section / b\")\n",
    "ax.set_xlabel(\"energy / eV\")\n",
    "ax.set_xlim([1e-4, 1])\n",
    "ax.set_ylim([1e1, 1e4])\n",
    "fig.tight_layout();"
   ]
  },
  {
   "cell_type": "markdown",
   "metadata": {},
   "source": [
    "Fast part"
   ]
  },
  {
   "cell_type": "code",
   "execution_count": null,
   "metadata": {},
   "outputs": [],
   "source": [
    "fig, ax = plt.subplots(figsize=(7, 3.5), dpi=100)\n",
    "ax = xs.data[(mat,mt)].plot(logx=True, logy=False, color=\"dodgerblue\", linewidth=2, ax=ax)\n",
    "for xspert in perturbed_xs:\n",
    "    ax = xspert.data[(mat,mt)].plot(logx=True, logy=False, alpha=0.8, linewidth=0.9, ax=ax)\n",
    "\n",
    "ax.set_ylabel(\"cross section / b\")\n",
    "ax.set_xlabel(\"energy / eV\")\n",
    "ax.set_xlim([1e3, 1e6])\n",
    "ax.set_ylim([1e0, 1e1])\n",
    "fig.tight_layout();"
   ]
  },
  {
   "cell_type": "markdown",
   "metadata": {},
   "source": [
    "### Write perturbed xs to file "
   ]
  },
  {
   "cell_type": "markdown",
   "metadata": {},
   "source": [
    "Finally, we can write each perturbed cross section into a copy of the original PENDF file for further use."
   ]
  },
  {
   "cell_type": "code",
   "execution_count": null,
   "metadata": {},
   "outputs": [],
   "source": [
    "ipert = 0\n",
    "perturbed_xs[ipert].to_endf6(tape).to_file(f\"copy_pert{ipert}.pendf\")"
   ]
  }
 ],
 "metadata": {
  "kernelspec": {
   "display_name": "Python3 (sandy-devel)",
   "language": "python",
   "name": "sandy-devel"
  },
  "language_info": {
   "codemirror_mode": {
    "name": "ipython",
    "version": 3
   },
   "file_extension": ".py",
   "mimetype": "text/x-python",
   "name": "python",
   "nbconvert_exporter": "python",
   "pygments_lexer": "ipython3",
   "version": "3.7.10"
  }
 },
 "nbformat": 4,
 "nbformat_minor": 4
}
