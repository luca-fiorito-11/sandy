{
 "cells": [
  {
   "cell_type": "markdown",
   "id": "a6070d6d",
   "metadata": {},
   "source": [
    "# Check lognormal sampling as a function of uncertainty magnitude"
   ]
  },
  {
   "cell_type": "code",
   "execution_count": null,
   "id": "537c844f",
   "metadata": {},
   "outputs": [],
   "source": [
    "import sandy"
   ]
  },
  {
   "cell_type": "code",
   "execution_count": null,
   "id": "1a31ac55",
   "metadata": {},
   "outputs": [],
   "source": [
    "import matplotlib.pyplot as plt\n",
    "import seaborn as sns"
   ]
  },
  {
   "cell_type": "code",
   "execution_count": null,
   "id": "32f55653",
   "metadata": {},
   "outputs": [],
   "source": [
    "import pandas as pd\n",
    "import numpy as np"
   ]
  },
  {
   "cell_type": "code",
   "execution_count": null,
   "id": "f12461aa",
   "metadata": {},
   "outputs": [],
   "source": [
    "nsmp = 1e5"
   ]
  },
  {
   "cell_type": "markdown",
   "id": "ea8a38cc",
   "metadata": {},
   "source": [
    "Two parameters, the first with an uncertainty larger than the second.\n",
    "\n",
    "We parametrically change the uncertainty:\n",
    "- up to 200% for the first term\n",
    "- the second term follow the first in relative terms"
   ]
  },
  {
   "cell_type": "code",
   "execution_count": null,
   "id": "6d78f01e",
   "metadata": {},
   "outputs": [],
   "source": [
    "nrm_m = {}\n",
    "nrm_c = {}\n",
    "ss0 = {}\n",
    "ss1 = {}\n",
    "for j in np.arange(1, 21) / 10:\n",
    "    c = np.array([[1, 0],[0, 0.1]]) * j\n",
    "    s = sandy.CategoryCov(c).sampling(nsmp, pdf=\"lognormal\")\n",
    "    ss0[j] = s.data.iloc[0].values\n",
    "    ss1[j] = s.data.iloc[1].values\n",
    "    nrm_m[j] = np.linalg.norm(s.get_mean().values - np.array([1, 1])) / np.linalg.norm(np.array([1, 1])) * 100\n",
    "    nrm_c[j] = np.linalg.norm(s.get_cov().values - c) / np.linalg.norm(c) * 100"
   ]
  },
  {
   "cell_type": "markdown",
   "id": "70a4ae69",
   "metadata": {},
   "source": [
    "Plotting the lognormally-distributed samples as a function of the uncertainty scale."
   ]
  },
  {
   "cell_type": "code",
   "execution_count": null,
   "id": "f79e78a0",
   "metadata": {},
   "outputs": [],
   "source": [
    "fig, axs = plt.subplots(1, 2, figsize=(8, 5), dpi=100, sharex=True)\n",
    "\n",
    "ax = axs[0]\n",
    "sns.histplot(pd.DataFrame(ss0).iloc[:, ::2], ax=ax, bins=1000)\n",
    "\n",
    "ax = axs[1]\n",
    "sns.histplot(pd.DataFrame(ss1).iloc[:, ::2], ax=ax, bins=1000)\n",
    "ax.set(xscale=\"log\")\n",
    "\n",
    "fig.tight_layout()"
   ]
  },
  {
   "cell_type": "markdown",
   "id": "bd1cc5fe",
   "metadata": {},
   "source": [
    "Plotting the 2-norm of th e sample mean and covariance matrix with respect to the original data, as a function of the uncertainty scale."
   ]
  },
  {
   "cell_type": "code",
   "execution_count": null,
   "id": "9d7e03d5",
   "metadata": {},
   "outputs": [],
   "source": [
    "fig, ax = plt.subplots(figsize=(8, 5), dpi=100)\n",
    "pd.DataFrame({\"mean\": nrm_m, \"cov\": nrm_c}).plot(ax=ax)\n",
    "ax2 = ax.twinx()\n",
    "pd.Series(pd.DataFrame(ss0).mean()).plot(ax=ax2, color=\"k\")\n",
    "pd.Series(pd.DataFrame(ss1).mean()).plot(ax=ax2, color=\"k\", ls=\"--\")\n",
    "ax.set(ylabel=\"2-norm / %\", xlabel=\"uncertainty scale\")\n",
    "ax2.set(ylabel=\"mean convergence\")\n",
    "fig.tight_layout()"
   ]
  }
 ],
 "metadata": {
  "kernelspec": {
   "display_name": "Python [conda env:sandy-v1.0] *",
   "language": "python",
   "name": "conda-env-sandy-v1.0-py"
  },
  "language_info": {
   "codemirror_mode": {
    "name": "ipython",
    "version": 3
   },
   "file_extension": ".py",
   "mimetype": "text/x-python",
   "name": "python",
   "nbconvert_exporter": "python",
   "pygments_lexer": "ipython3",
   "version": "3.11.3"
  }
 },
 "nbformat": 4,
 "nbformat_minor": 5
}
