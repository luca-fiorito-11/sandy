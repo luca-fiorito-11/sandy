{
 "cells": [
  {
   "cell_type": "markdown",
   "id": "88c48db4",
   "metadata": {},
   "source": [
    "# Checking FYs for JEFF-4.0"
   ]
  },
  {
   "cell_type": "code",
   "execution_count": null,
   "id": "1e516fe1",
   "metadata": {
    "execution": {
     "iopub.execute_input": "2023-08-09T15:03:48.235523Z",
     "iopub.status.busy": "2023-08-09T15:03:48.235523Z",
     "iopub.status.idle": "2023-08-09T15:03:50.212237Z",
     "shell.execute_reply": "2023-08-09T15:03:50.212237Z"
    }
   },
   "outputs": [],
   "source": [
    "import sandy"
   ]
  },
  {
   "cell_type": "code",
   "execution_count": null,
   "id": "32b98f35",
   "metadata": {
    "execution": {
     "iopub.execute_input": "2023-08-09T15:03:50.215252Z",
     "iopub.status.busy": "2023-08-09T15:03:50.215252Z",
     "iopub.status.idle": "2023-08-09T15:03:51.423637Z",
     "shell.execute_reply": "2023-08-09T15:03:51.423637Z"
    }
   },
   "outputs": [],
   "source": [
    "import matplotlib.pyplot as plt\n",
    "import seaborn as sns\n",
    "sns.set_style(\"ticks\")"
   ]
  },
  {
   "cell_type": "code",
   "execution_count": null,
   "id": "338794b8",
   "metadata": {
    "execution": {
     "iopub.execute_input": "2023-08-09T15:03:51.423637Z",
     "iopub.status.busy": "2023-08-09T15:03:51.423637Z",
     "iopub.status.idle": "2023-08-09T15:03:51.431326Z",
     "shell.execute_reply": "2023-08-09T15:03:51.431326Z"
    }
   },
   "outputs": [],
   "source": [
    "import pandas as pd\n",
    "import numpy as np"
   ]
  },
  {
   "cell_type": "code",
   "execution_count": null,
   "id": "abb6e9ab",
   "metadata": {
    "execution": {
     "iopub.execute_input": "2023-08-09T15:03:51.431326Z",
     "iopub.status.busy": "2023-08-09T15:03:51.431326Z",
     "iopub.status.idle": "2023-08-09T15:03:51.453662Z",
     "shell.execute_reply": "2023-08-09T15:03:51.453662Z"
    }
   },
   "outputs": [],
   "source": [
    "df = pd.read_csv(\"FY_JEFF4_somenuclides.csv\", index_col=0)\n",
    "dferr = pd.read_csv(\"DFY_JEFF4_somenuclides.csv\", index_col=0)"
   ]
  },
  {
   "cell_type": "code",
   "execution_count": null,
   "id": "f76bd98e",
   "metadata": {
    "execution": {
     "iopub.execute_input": "2023-08-09T15:03:51.453662Z",
     "iopub.status.busy": "2023-08-09T15:03:51.453662Z",
     "iopub.status.idle": "2023-08-09T15:03:51.460973Z",
     "shell.execute_reply": "2023-08-09T15:03:51.460973Z"
    }
   },
   "outputs": [],
   "source": [
    "nuclides = [380900, 551370, 601430, 601450, 601440,  601450,  601460,  601470,  601480,  601500]"
   ]
  },
  {
   "cell_type": "code",
   "execution_count": null,
   "id": "84bf27f2",
   "metadata": {
    "execution": {
     "iopub.execute_input": "2023-08-09T15:03:51.460973Z",
     "iopub.status.busy": "2023-08-09T15:03:51.460973Z",
     "iopub.status.idle": "2023-08-09T15:03:51.809787Z",
     "shell.execute_reply": "2023-08-09T15:03:51.809787Z"
    }
   },
   "outputs": [],
   "source": [
    "fy = sandy.get_endf6_file(\"jeff_33\", \"nfpy\", 922350)\n",
    "d = sandy.Fy.from_endf6(fy).data.query(\"MT==459 & E==2.53e-2\")\n",
    "d_33 = d[d.ZAP.isin(nuclides)].assign(LIB=\"JEFF-3.3\")"
   ]
  },
  {
   "cell_type": "code",
   "execution_count": null,
   "id": "13e4d1c4",
   "metadata": {
    "execution": {
     "iopub.execute_input": "2023-08-09T15:03:51.809787Z",
     "iopub.status.busy": "2023-08-09T15:03:51.809787Z",
     "iopub.status.idle": "2023-08-09T15:03:52.293459Z",
     "shell.execute_reply": "2023-08-09T15:03:52.292550Z"
    }
   },
   "outputs": [],
   "source": [
    "fy = sandy.get_endf6_file(\"jeff_311\", \"nfpy\", 922350)\n",
    "d = sandy.Fy.from_endf6(fy).data.query(\"MT==459 & E==2.53e-2\")\n",
    "d_311 = d[d.ZAP.isin(nuclides)].assign(LIB=\"JEFF-3.1.1\")"
   ]
  },
  {
   "cell_type": "code",
   "execution_count": null,
   "id": "a7840782",
   "metadata": {
    "execution": {
     "iopub.execute_input": "2023-08-09T15:03:52.293459Z",
     "iopub.status.busy": "2023-08-09T15:03:52.293459Z",
     "iopub.status.idle": "2023-08-09T15:03:52.303949Z",
     "shell.execute_reply": "2023-08-09T15:03:52.303949Z"
    }
   },
   "outputs": [],
   "source": [
    "data = pd.concat([\n",
    "    d_311,\n",
    "    d_33,\n",
    "], ignore_index=True)"
   ]
  },
  {
   "cell_type": "code",
   "execution_count": null,
   "id": "b037aec7",
   "metadata": {
    "execution": {
     "iopub.execute_input": "2023-08-09T15:03:52.303949Z",
     "iopub.status.busy": "2023-08-09T15:03:52.303949Z",
     "iopub.status.idle": "2023-08-09T15:03:52.360905Z",
     "shell.execute_reply": "2023-08-09T15:03:52.360905Z"
    }
   },
   "outputs": [],
   "source": [
    "vals = data.query(\"ZAM==922350\").pivot_table(index=\"LIB\", columns=\"ZAP\", values=\"FY\")\n",
    "vals.columns = pd.Index(map(sandy.zam.zam2nuclide, vals.columns), name=\"ZAP\")\n",
    "vals = pd.concat([df, vals])\n",
    "vals"
   ]
  },
  {
   "cell_type": "code",
   "execution_count": null,
   "id": "1e563113",
   "metadata": {
    "execution": {
     "iopub.execute_input": "2023-08-09T15:03:52.360905Z",
     "iopub.status.busy": "2023-08-09T15:03:52.360905Z",
     "iopub.status.idle": "2023-08-09T15:03:52.402411Z",
     "shell.execute_reply": "2023-08-09T15:03:52.402411Z"
    }
   },
   "outputs": [],
   "source": [
    "err = data.query(\"ZAM==922350\").pivot_table(index=\"LIB\", columns=\"ZAP\", values=\"DFY\")\n",
    "err.columns = pd.Index(map(sandy.zam.zam2nuclide, err.columns), name=\"ZAP\")\n",
    "err = pd.concat([dferr, err])\n",
    "err"
   ]
  },
  {
   "cell_type": "code",
   "execution_count": null,
   "id": "0180b4bf",
   "metadata": {
    "execution": {
     "iopub.execute_input": "2023-08-09T15:03:52.402411Z",
     "iopub.status.busy": "2023-08-09T15:03:52.402411Z",
     "iopub.status.idle": "2023-08-09T15:03:53.663511Z",
     "shell.execute_reply": "2023-08-09T15:03:53.661494Z"
    }
   },
   "outputs": [],
   "source": [
    "%%capture --no-display\n",
    "fig, ax = plt.subplots(figsize=(10, 4.8), dpi=300)\n",
    "\n",
    "vals2 = (vals/vals.iloc[-1] - 1)*100 \n",
    "err2 = err/vals.iloc[-1]*100\n",
    "err2 = err/vals*100\n",
    "step = 1 / (vals2.T.columns.size + 1)\n",
    "for i, LIB in enumerate(vals2.T.columns):\n",
    "    x = np.arange(vals2.T[LIB].shape[0])\n",
    "    ax.bar(data=vals2.T[LIB].reset_index(), x=x+i*step, height=LIB, yerr=err2.T[LIB], capsize=2, width=step)\n",
    "ax.legend(labels=vals2.T.columns)\n",
    "ticks = ax.get_xticks()\n",
    "ax.set_xticklabels(vals2.columns.values)\n",
    "ax.set_xticks(np.arange(len(vals2.columns)) + step)\n",
    "ax.set(\n",
    "    ylabel=\"CFY deviation from JEFF-3.3 $\\\\pm 1\\\\sigma$\",\n",
    ")\n",
    "fig.tight_layout()"
   ]
  },
  {
   "cell_type": "code",
   "execution_count": null,
   "id": "2cab4fd9",
   "metadata": {
    "execution": {
     "iopub.execute_input": "2023-08-09T15:03:53.666506Z",
     "iopub.status.busy": "2023-08-09T15:03:53.666506Z",
     "iopub.status.idle": "2023-08-09T15:03:54.322595Z",
     "shell.execute_reply": "2023-08-09T15:03:54.322595Z"
    }
   },
   "outputs": [],
   "source": [
    "%%capture --no-display\n",
    "fig, ax = plt.subplots(figsize=(10, 4.8), dpi=100)\n",
    "\n",
    "vals2 = (vals/vals.iloc[-2] - 1)*100 \n",
    "err2 = err/vals*100\n",
    "step = 1 / (vals2.T.columns.size + 1)\n",
    "for i, LIB in enumerate(vals2.T.columns):\n",
    "    x = np.arange(vals2.T[LIB].shape[0])\n",
    "    ax.bar(data=vals2.T[LIB].reset_index(), x=x+i*step, height=LIB, yerr=err2.T[LIB], capsize=2, width=step)\n",
    "ax.legend(labels=vals2.T.columns)\n",
    "ticks = ax.get_xticks()\n",
    "ax.set_xticklabels(vals2.columns.values)\n",
    "ax.set_xticks(np.arange(len(vals2.columns)) + step)\n",
    "ax.set(\n",
    "    ylabel=\"CFY deviation from JEFF-3.1.1 $\\\\pm 1\\\\sigma$\",\n",
    ")\n",
    "fig.tight_layout();"
   ]
  },
  {
   "cell_type": "code",
   "execution_count": null,
   "id": "25fbcca7",
   "metadata": {
    "execution": {
     "iopub.execute_input": "2023-08-09T15:03:54.322595Z",
     "iopub.status.busy": "2023-08-09T15:03:54.322595Z",
     "iopub.status.idle": "2023-08-09T15:03:55.785987Z",
     "shell.execute_reply": "2023-08-09T15:03:55.785987Z"
    }
   },
   "outputs": [],
   "source": [
    "%%capture --no-display\n",
    "fig, axs = plt.subplots(1, 3, figsize=(10, 4.8), dpi=300, gridspec_kw={'width_ratios': [4, 1, 1]})\n",
    "\n",
    "ax = axs[0]\n",
    "vals2 = vals.iloc[:, :4]\n",
    "err2 = err.iloc[:, :4]\n",
    "step = 1 / (vals2.T.columns.size + 1)\n",
    "for i, LIB in enumerate(vals2.T.columns):\n",
    "    x = np.arange(vals2.T[LIB].shape[0])\n",
    "    ax.bar(data=vals2.T[LIB].reset_index(), x=x+i*step, height=LIB, yerr=err2.T[LIB], capsize=2, width=step)\n",
    "ax.legend(labels=vals2.T.columns, ncol=2)\n",
    "ticks = ax.get_xticks()\n",
    "ax.set_xticklabels(vals2.columns.values)\n",
    "ax.set_xticks(np.arange(len(vals2.columns)) + step)\n",
    "ax.set(\n",
    "    ylabel=\"cumulative fission yield $\\\\pm 1\\\\sigma$\",\n",
    "    ylim=(.05, None),\n",
    ")\n",
    "\n",
    "ax = axs[1]\n",
    "vals2 = vals.iloc[:, 4:5]\n",
    "err2 = err.iloc[:, 4:5]\n",
    "step = 1 / (vals2.T.columns.size + 1)\n",
    "for i, LIB in enumerate(vals2.T.columns):\n",
    "    x = np.arange(vals2.T[LIB].shape[0])\n",
    "    ax.bar(data=vals2.T[LIB].reset_index(), x=x+i*step, height=LIB, yerr=err2.T[LIB], capsize=2, width=step)\n",
    "ax.legend(labels=vals2.T.columns)\n",
    "ticks = ax.get_xticks()\n",
    "ax.set_xticklabels(vals2.columns.values)\n",
    "ax.set_xticks(np.arange(len(vals2.columns)) + step)\n",
    "ax.get_legend().remove()\n",
    "ax.set(\n",
    "    ylabel=None,\n",
    "    ylim=(.038, 0.042),\n",
    ")\n",
    "\n",
    "ax = axs[2]\n",
    "vals2 = vals.iloc[:, 7:8]\n",
    "err2 = err.iloc[:, 7:8]\n",
    "step = 1 / (vals2.T.columns.size + 1)\n",
    "for i, LIB in enumerate(vals2.T.columns):\n",
    "    x = np.arange(vals2.T[LIB].shape[0])\n",
    "    ax.bar(data=vals2.T[LIB].reset_index(), x=x+i*step, height=LIB, yerr=err2.T[LIB], capsize=2, width=step)\n",
    "ax.legend(labels=vals2.T.columns)\n",
    "ticks = ax.get_xticks()\n",
    "ax.set_xticklabels(vals2.columns.values)\n",
    "ax.set_xticks(np.arange(len(vals2.columns)) + step)\n",
    "ax.get_legend().remove()\n",
    "ax.set(\n",
    "    ylabel=None,\n",
    "    ylim=(.016, 0.0175),\n",
    ")\n",
    "\n",
    "fig.tight_layout();"
   ]
  }
 ],
 "metadata": {
  "kernelspec": {
   "display_name": "Python [conda env:sandy-v1.0] *",
   "language": "python",
   "name": "conda-env-sandy-v1.0-py"
  },
  "language_info": {
   "codemirror_mode": {
    "name": "ipython",
    "version": 3
   },
   "file_extension": ".py",
   "mimetype": "text/x-python",
   "name": "python",
   "nbconvert_exporter": "python",
   "pygments_lexer": "ipython3",
   "version": "3.11.3"
  }
 },
 "nbformat": 4,
 "nbformat_minor": 5
}
