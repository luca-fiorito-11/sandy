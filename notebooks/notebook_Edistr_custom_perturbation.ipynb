{
 "cells": [
  {
   "cell_type": "code",
   "execution_count": null,
   "metadata": {},
   "outputs": [],
   "source": [
    "import sandy"
   ]
  },
  {
   "cell_type": "code",
   "execution_count": null,
   "metadata": {},
   "outputs": [],
   "source": [
    "import pandas as pd\n",
    "import numpy as np\n",
    "import matplotlib.pyplot as plt"
   ]
  },
  {
   "cell_type": "code",
   "execution_count": null,
   "metadata": {},
   "outputs": [],
   "source": [
    "%load_ext autoreload\n",
    "%autoreload 2"
   ]
  },
  {
   "cell_type": "code",
   "execution_count": null,
   "metadata": {},
   "outputs": [],
   "source": [
    "col = columns = pd.MultiIndex.from_product([[9237], [18], [0], [1.00000e-05], [2.00000e-05]], names=['MAT', 'MT', 'K', 'ELO', 'EHI'])\n",
    "pert = pd.DataFrame([1.3, 1.5, 1.2, 1.1, 1, 0.7, 1.6, 0.5, 1.8, 1.5, 0.6, 1.5, 0.8], \n",
    "                    index=sandy.energy_grids.CASMO12,\n",
    "                    columns=col)\n",
    "pert = sandy.Pert(pert)\n",
    "pert"
   ]
  },
  {
   "cell_type": "markdown",
   "metadata": {},
   "source": [
    "Custom perturbation of U-238:"
   ]
  },
  {
   "cell_type": "code",
   "execution_count": null,
   "metadata": {},
   "outputs": [],
   "source": [
    "extra_points = np.logspace(-5, 7, 49)"
   ]
  },
  {
   "cell_type": "code",
   "execution_count": null,
   "metadata": {},
   "outputs": [],
   "source": [
    "edistr = sandy.Edistr.from_endf6(sandy.get_endf6_file(\"jeff_33\", \"xs\", 922380)).reshape(extra_points)"
   ]
  },
  {
   "cell_type": "code",
   "execution_count": null,
   "metadata": {},
   "outputs": [],
   "source": [
    "edistr_pert = edistr.custom_perturbation(pert)"
   ]
  },
  {
   "cell_type": "code",
   "execution_count": null,
   "metadata": {},
   "outputs": [],
   "source": [
    "mask = (9237 == edistr.data.MAT) & \\\n",
    "       (18 == edistr.data.MT) & \\\n",
    "       (0 == edistr.data.K) & \\\n",
    "       (1.00000e-05 == edistr.data.EIN)"
   ]
  },
  {
   "cell_type": "code",
   "execution_count": null,
   "metadata": {},
   "outputs": [],
   "source": [
    "fig, ax = plt.subplots(figsize=(7, 3.5), dpi=100)\n",
    "edistr.data[mask][['EOUT', \"VALUE\"]].set_index('EOUT').plot(logx=True, logy=True, alpha=0.8, linewidth=0.9, ax=ax)\n",
    "edistr_pert.data[mask][['EOUT', \"VALUE\"]].set_index('EOUT').plot(logx=True, logy=True, alpha=0.8, linewidth=0.9, ax=ax)\n",
    "ax.set_ylabel(\"Legendre polynomial coefficients for P=1\")\n",
    "ax.set_xlabel(\"energy / eV\")\n",
    "fig.tight_layout()"
   ]
  }
 ],
 "metadata": {
  "interpreter": {
   "hash": "d167b81dab4cfdd7e83bd7f0413ce20e956b35802f4873808516fc813094dcfb"
  },
  "kernelspec": {
   "display_name": "Python 3.7.10 ('sandy-devel')",
   "language": "python",
   "name": "python3"
  },
  "language_info": {
   "codemirror_mode": {
    "name": "ipython",
    "version": 3
   },
   "file_extension": ".py",
   "mimetype": "text/x-python",
   "name": "python",
   "nbconvert_exporter": "python",
   "pygments_lexer": "ipython3",
   "version": "3.7.10"
  },
  "orig_nbformat": 4
 },
 "nbformat": 4,
 "nbformat_minor": 2
}
