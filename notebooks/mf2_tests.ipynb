{
 "cells": [
  {
   "cell_type": "markdown",
   "id": "204b07f5",
   "metadata": {},
   "source": [
    "# MF2 TESTING"
   ]
  },
  {
   "cell_type": "code",
   "execution_count": null,
   "id": "7d4d7a5e",
   "metadata": {},
   "outputs": [],
   "source": [
    "import sandy\n",
    "import pandas as pd\n",
    "import io\n",
    "pd.options.display.max_rows = 20"
   ]
  },
  {
   "cell_type": "markdown",
   "id": "53659ff1",
   "metadata": {},
   "source": [
    "## LRU=0  (thorium 233 in jeff 3.3)"
   ]
  },
  {
   "cell_type": "code",
   "execution_count": null,
   "id": "4677c362",
   "metadata": {},
   "outputs": [],
   "source": [
    "tape = sandy.get_endf6_file(\"jeff_33\", \"xs\", 902330)"
   ]
  },
  {
   "cell_type": "code",
   "execution_count": null,
   "id": "9dc26a88",
   "metadata": {
    "scrolled": true
   },
   "outputs": [],
   "source": [
    "dic = sandy.read_mf2(tape,tape.mat[0])"
   ]
  },
  {
   "cell_type": "code",
   "execution_count": null,
   "id": "ba139f7b",
   "metadata": {},
   "outputs": [],
   "source": [
    "print (dic)"
   ]
  },
  {
   "cell_type": "code",
   "execution_count": null,
   "id": "c1cebefb",
   "metadata": {},
   "outputs": [],
   "source": [
    "tab = sandy.write_mf2(dic)"
   ]
  },
  {
   "cell_type": "code",
   "execution_count": null,
   "id": "e8bec9b1",
   "metadata": {},
   "outputs": [],
   "source": [
    "print (tab)"
   ]
  },
  {
   "cell_type": "markdown",
   "id": "14012fad",
   "metadata": {},
   "source": [
    "## LRU = 1 "
   ]
  },
  {
   "cell_type": "markdown",
   "id": "2445c7b0",
   "metadata": {},
   "source": [
    "### LRF = 1 or LRF = 2 ( thorium 230 in jeff 3.3)"
   ]
  },
  {
   "cell_type": "code",
   "execution_count": null,
   "id": "25e730a9",
   "metadata": {},
   "outputs": [],
   "source": [
    "tape = sandy.get_endf6_file(\"jeff_33\", \"xs\", 902300)"
   ]
  },
  {
   "cell_type": "code",
   "execution_count": null,
   "id": "59bab380",
   "metadata": {},
   "outputs": [],
   "source": [
    "dic = sandy.read_mf2(tape,tape.mat[0])"
   ]
  },
  {
   "cell_type": "code",
   "execution_count": null,
   "id": "11607807",
   "metadata": {},
   "outputs": [],
   "source": [
    "dic['NIS'][90230]['NER'][(1e-05, 251.0)][\"L\"]"
   ]
  },
  {
   "cell_type": "code",
   "execution_count": null,
   "id": "c7852f44",
   "metadata": {},
   "outputs": [],
   "source": [
    "tab = sandy.write_mf2(dic)"
   ]
  },
  {
   "cell_type": "code",
   "execution_count": null,
   "id": "ac19a831",
   "metadata": {},
   "outputs": [],
   "source": [
    "print (tab)"
   ]
  },
  {
   "cell_type": "markdown",
   "id": "ea1a1ca2",
   "metadata": {},
   "source": [
    "### LRF = 3  (Chlorine 37 in ENDF/B-VIII.0)"
   ]
  },
  {
   "cell_type": "code",
   "execution_count": null,
   "id": "a3f66420",
   "metadata": {},
   "outputs": [],
   "source": [
    "tape = sandy.get_endf6_file(\"endfb_80\", \"xs\", 170370)"
   ]
  },
  {
   "cell_type": "code",
   "execution_count": null,
   "id": "ceea39d7",
   "metadata": {},
   "outputs": [],
   "source": [
    "dic = sandy.read_mf2(tape,tape.mat[0])"
   ]
  },
  {
   "cell_type": "code",
   "execution_count": null,
   "id": "91bf9bcd",
   "metadata": {},
   "outputs": [],
   "source": [
    "print (dic)"
   ]
  },
  {
   "cell_type": "code",
   "execution_count": null,
   "id": "d94a0e31",
   "metadata": {},
   "outputs": [],
   "source": [
    "tab = sandy.write_mf2(dic)"
   ]
  },
  {
   "cell_type": "code",
   "execution_count": null,
   "id": "cf2021f3",
   "metadata": {},
   "outputs": [],
   "source": [
    "print (tab)"
   ]
  },
  {
   "cell_type": "markdown",
   "id": "8ba1ef4a",
   "metadata": {},
   "source": [
    "### LRF = 7  (iron 54 in ENDF/B-VIII.0)"
   ]
  },
  {
   "cell_type": "code",
   "execution_count": null,
   "id": "18077612",
   "metadata": {},
   "outputs": [],
   "source": [
    "tape = sandy.get_endf6_file(\"endfb_80\", \"xs\", 260540)"
   ]
  },
  {
   "cell_type": "code",
   "execution_count": null,
   "id": "cc84e572",
   "metadata": {},
   "outputs": [],
   "source": [
    "dic = sandy.read_mf2(tape,tape.mat[0])"
   ]
  },
  {
   "cell_type": "code",
   "execution_count": null,
   "id": "559f3264",
   "metadata": {},
   "outputs": [],
   "source": [
    "print (dic)"
   ]
  },
  {
   "cell_type": "code",
   "execution_count": null,
   "id": "33d4fb8b",
   "metadata": {},
   "outputs": [],
   "source": [
    "tab2 = sandy.write_mf2(dic)"
   ]
  },
  {
   "cell_type": "code",
   "execution_count": null,
   "id": "272b7df7",
   "metadata": {},
   "outputs": [],
   "source": [
    "print (tab)"
   ]
  },
  {
   "cell_type": "markdown",
   "id": "693f2f37",
   "metadata": {},
   "source": [
    "## LRU = 2"
   ]
  },
  {
   "cell_type": "markdown",
   "id": "c8828f94",
   "metadata": {},
   "source": [
    "### LFW = 0 and LRF = 1  (Iron 58 in ENDF/B-VIII.0)"
   ]
  },
  {
   "cell_type": "markdown",
   "id": "4e24ceb0",
   "metadata": {},
   "source": [
    "In this part we only find isotopes that have multiple ranges of energy. Since the non resolved resonance parameters exist only for high energies. for this exemple LRU = 2 LRF = 1 is tested with LRU = 1 LRF = 3 in the lower energy ranges. "
   ]
  },
  {
   "cell_type": "code",
   "execution_count": null,
   "id": "9a0a26a6",
   "metadata": {},
   "outputs": [],
   "source": [
    "tape = sandy.get_endf6_file(\"endfb_80\", \"xs\", 260580)"
   ]
  },
  {
   "cell_type": "code",
   "execution_count": null,
   "id": "6e77b52b",
   "metadata": {},
   "outputs": [],
   "source": [
    "dic = sandy.read_mf2(tape,tape.mat[0])"
   ]
  },
  {
   "cell_type": "code",
   "execution_count": null,
   "id": "9ebf5a65",
   "metadata": {},
   "outputs": [],
   "source": [
    "print (dic['NIS'][26058]['NER'][(350000.0, 3000000.0)][\"L\"][3])"
   ]
  },
  {
   "cell_type": "code",
   "execution_count": null,
   "id": "3d122ea0",
   "metadata": {},
   "outputs": [],
   "source": [
    "tab = sandy.write_mf2(dic)"
   ]
  },
  {
   "cell_type": "code",
   "execution_count": null,
   "id": "732d4be9",
   "metadata": {},
   "outputs": [],
   "source": [
    "print (tab)"
   ]
  },
  {
   "cell_type": "markdown",
   "id": "0872d69c",
   "metadata": {},
   "source": [
    "### LRF = 2  (uranium 235 in Jeff 3.3)"
   ]
  },
  {
   "cell_type": "markdown",
   "id": "58c82419",
   "metadata": {},
   "source": [
    "here LRU = 2 LRF = 2 is tested with LRU = 1 LRF = 3 in the reading part we can choose to print only the  LRU = 2 LRF = 2 part by printing the dictionary that corespond to the high energy range. "
   ]
  },
  {
   "cell_type": "code",
   "execution_count": null,
   "id": "304ea8d1",
   "metadata": {},
   "outputs": [],
   "source": [
    "tape = sandy.get_endf6_file(\"jeff_33\", \"xs\", 922350)"
   ]
  },
  {
   "cell_type": "code",
   "execution_count": null,
   "id": "ff8aff4c",
   "metadata": {},
   "outputs": [],
   "source": [
    "dic = sandy.read_mf2(tape,tape.mat[0])"
   ]
  },
  {
   "cell_type": "code",
   "execution_count": null,
   "id": "c9900932",
   "metadata": {
    "scrolled": true
   },
   "outputs": [],
   "source": [
    "print (dic[\"NIS\"][92235][\"NER\"][(2250.0, 46200.0)]['L'][0][\"J\"][3.0]['RES_PAR'][0])"
   ]
  },
  {
   "cell_type": "code",
   "execution_count": null,
   "id": "4b61e5db",
   "metadata": {},
   "outputs": [],
   "source": [
    "tab = sandy.write_mf2(dic)"
   ]
  },
  {
   "cell_type": "code",
   "execution_count": null,
   "id": "e4e3d8d2",
   "metadata": {},
   "outputs": [],
   "source": [
    "print (tab)"
   ]
  },
  {
   "cell_type": "markdown",
   "id": "4f1ec508",
   "metadata": {},
   "source": [
    "# Another  test"
   ]
  },
  {
   "cell_type": "code",
   "execution_count": null,
   "id": "d96f190f",
   "metadata": {},
   "outputs": [],
   "source": [
    "def get_df_from_text(text, delimiter=\"?\"):\n",
    "    \"\"\"\n",
    "    Get the dataframe of a `endf6` file in a text. \n",
    "    Parameters\n",
    "    ----------\n",
    "    text : `str`\n",
    "        Text with the data in `endf6` format.\n",
    "    delimiter : `str`, optional\n",
    "        Delimeter of the different lines. The default is \"?\".\n",
    "    Returns\n",
    "    -------\n",
    "    `pd.DataFrame`\n",
    "        Dataframe with the information of the text introduced as input.\n",
    "    Examples\n",
    "    -------\n",
    "    XS:\n",
    "        >>> endf6 = sandy.get_endf6_file(\"jeff_33\", 'xs', 922350)\n",
    "        >>> mt = 2\n",
    "        >>> mat = 9228\n",
    "        Obtain section information and replace blanks with zeros:\n",
    "        >>> section = endf6._get_section_df(mat, 3, mt).apply(pd.to_numeric, errors='coerce').fillna(0)\n",
    "        Get the same section using read and write functions:\n",
    "        >>> read_xs = sandy.sections.mf3.read_mf3(endf6, mat, mt)\n",
    "        >>> write_xs = sandy.sections.mf3.write_mf3(read_xs)\n",
    "        >>> written_section = get_df_from_text(write_xs)\n",
    "        Check the dataframes:\n",
    "        >>> assert section.equals(written_section)\n",
    "    \"\"\"\n",
    "    def foo(x):\n",
    "        return sandy.shared.add_delimiter_every_n_characters(\n",
    "            x[:66],\n",
    "            11,\n",
    "            delimiter=delimiter,\n",
    "        )\n",
    "    newtext = \"\\n\".join(map(foo, text.splitlines())).replace('\"', '*')\n",
    "    df = pd.read_csv(\n",
    "        io.StringIO(sandy.shared.add_exp_in_endf6_text(newtext)),\n",
    "        delimiter=delimiter,\n",
    "        na_filter=True,\n",
    "        names=[\"C1\", \"C2\", \"L1\", \"L2\", \"N1\", \"N2\"],\n",
    "    )\n",
    "    df = df.apply(pd.to_numeric, errors='coerce')\n",
    "    return df.fillna(0)"
   ]
  },
  {
   "cell_type": "code",
   "execution_count": null,
   "id": "ee24b1c6",
   "metadata": {},
   "outputs": [],
   "source": [
    "tape = sandy.get_endf6_file(\"jeff_33\", \"xs\", 922350) #test LRU1,3 et LRU2,2"
   ]
  },
  {
   "cell_type": "code",
   "execution_count": null,
   "id": "3c6de836",
   "metadata": {},
   "outputs": [],
   "source": [
    "section = tape._get_section_df(tape.mat[0], 2, 151).apply(pd.to_numeric, errors='coerce').fillna(0)"
   ]
  },
  {
   "cell_type": "code",
   "execution_count": null,
   "id": "d3a0b888",
   "metadata": {},
   "outputs": [],
   "source": [
    "read_xs = sandy.read_mf2(tape, tape.mat[0])"
   ]
  },
  {
   "cell_type": "code",
   "execution_count": null,
   "id": "71c052aa",
   "metadata": {},
   "outputs": [],
   "source": [
    "write_xs = sandy.write_mf2(read_xs)"
   ]
  },
  {
   "cell_type": "code",
   "execution_count": null,
   "id": "5deb21db",
   "metadata": {},
   "outputs": [],
   "source": [
    "written_section = get_df_from_text(write_xs)"
   ]
  },
  {
   "cell_type": "code",
   "execution_count": null,
   "id": "e1172fd3",
   "metadata": {},
   "outputs": [],
   "source": [
    "err = section == written_section"
   ]
  },
  {
   "cell_type": "code",
   "execution_count": null,
   "id": "26918969",
   "metadata": {
    "scrolled": false
   },
   "outputs": [],
   "source": [
    "err"
   ]
  },
  {
   "cell_type": "code",
   "execution_count": null,
   "id": "7b7673c5",
   "metadata": {},
   "outputs": [],
   "source": [
    "assert section.equals(written_section)"
   ]
  }
 ],
 "metadata": {
  "kernelspec": {
   "display_name": "Python 3 (ipykernel)",
   "language": "python",
   "name": "python3"
  },
  "language_info": {
   "codemirror_mode": {
    "name": "ipython",
    "version": 3
   },
   "file_extension": ".py",
   "mimetype": "text/x-python",
   "name": "python",
   "nbconvert_exporter": "python",
   "pygments_lexer": "ipython3",
   "version": "3.7.12"
  }
 },
 "nbformat": 4,
 "nbformat_minor": 5
}
