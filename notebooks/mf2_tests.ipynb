{
 "cells": [
  {
   "cell_type": "markdown",
   "id": "204b07f5",
   "metadata": {},
   "source": [
    "# MF2 TESTING"
   ]
  },
  {
   "cell_type": "code",
   "execution_count": null,
   "id": "7d4d7a5e",
   "metadata": {},
   "outputs": [],
   "source": [
    "import sandy\n",
    "import pandas as pd\n",
    "import io\n",
    "pd.options.display.max_rows = 20"
   ]
  },
  {
   "cell_type": "markdown",
   "id": "53659ff1",
   "metadata": {},
   "source": [
    "## LRU=0  (thorium 233 in jeff 3.3)"
   ]
  },
  {
   "cell_type": "code",
   "execution_count": null,
   "id": "4677c362",
   "metadata": {},
   "outputs": [],
   "source": [
    "tape = sandy.get_endf6_file(\"jeff_33\", \"xs\", 902330)"
   ]
  },
  {
   "cell_type": "code",
   "execution_count": null,
   "id": "9dc26a88",
   "metadata": {
    "scrolled": true
   },
   "outputs": [],
   "source": [
    "dic = sandy.read_mf2(tape,tape.mat[0])"
   ]
  },
  {
   "cell_type": "code",
   "execution_count": null,
   "id": "ba139f7b",
   "metadata": {},
   "outputs": [],
   "source": [
    "print (dic)"
   ]
  },
  {
   "cell_type": "code",
   "execution_count": null,
   "id": "c1cebefb",
   "metadata": {},
   "outputs": [],
   "source": [
    "tab = sandy.write_mf2(dic)"
   ]
  },
  {
   "cell_type": "code",
   "execution_count": null,
   "id": "e8bec9b1",
   "metadata": {},
   "outputs": [],
   "source": [
    "print (tab)"
   ]
  },
  {
   "cell_type": "markdown",
   "id": "14012fad",
   "metadata": {},
   "source": [
    "## LRU = 1 "
   ]
  },
  {
   "cell_type": "markdown",
   "id": "2445c7b0",
   "metadata": {},
   "source": [
    "### LRF = 1 or LRF = 2 ( thorium 230 in jeff 3.3)"
   ]
  },
  {
   "cell_type": "code",
   "execution_count": null,
   "id": "25e730a9",
   "metadata": {},
   "outputs": [],
   "source": [
    "tape = sandy.get_endf6_file(\"jeff_33\", \"xs\", 902300)"
   ]
  },
  {
   "cell_type": "code",
   "execution_count": null,
   "id": "59bab380",
   "metadata": {},
   "outputs": [],
   "source": [
    "dic = sandy.read_mf2(tape,tape.mat[0])"
   ]
  },
  {
   "cell_type": "code",
   "execution_count": null,
   "id": "11607807",
   "metadata": {},
   "outputs": [],
   "source": [
    "dic['NIS'][90230]['NER'][(1e-05, 251.0)][\"L\"]"
   ]
  },
  {
   "cell_type": "code",
   "execution_count": null,
   "id": "c7852f44",
   "metadata": {},
   "outputs": [],
   "source": [
    "tab = sandy.write_mf2(dic)"
   ]
  },
  {
   "cell_type": "code",
   "execution_count": null,
   "id": "ac19a831",
   "metadata": {},
   "outputs": [],
   "source": [
    "print (tab)"
   ]
  },
  {
   "cell_type": "markdown",
   "id": "ea1a1ca2",
   "metadata": {},
   "source": [
    "### LRF = 3  (Chlorine 37 in ENDF/B-VIII.0)"
   ]
  },
  {
   "cell_type": "code",
   "execution_count": null,
   "id": "a3f66420",
   "metadata": {},
   "outputs": [],
   "source": [
    "tape = sandy.get_endf6_file(\"endfb_80\", \"xs\", 170370)"
   ]
  },
  {
   "cell_type": "code",
   "execution_count": null,
   "id": "ceea39d7",
   "metadata": {},
   "outputs": [],
   "source": [
    "dic = sandy.read_mf2(tape,tape.mat[0])"
   ]
  },
  {
   "cell_type": "code",
   "execution_count": null,
   "id": "91bf9bcd",
   "metadata": {},
   "outputs": [],
   "source": [
    "print (dic)"
   ]
  },
  {
   "cell_type": "code",
   "execution_count": null,
   "id": "d94a0e31",
   "metadata": {},
   "outputs": [],
   "source": [
    "tab = sandy.write_mf2(dic)"
   ]
  },
  {
   "cell_type": "code",
   "execution_count": null,
   "id": "cf2021f3",
   "metadata": {},
   "outputs": [],
   "source": [
    "print (tab)"
   ]
  },
  {
   "cell_type": "markdown",
   "id": "8ba1ef4a",
   "metadata": {},
   "source": [
    "### LRF = 7  (iron 54 in ENDF/B-VIII.0)"
   ]
  },
  {
   "cell_type": "code",
   "execution_count": null,
   "id": "18077612",
   "metadata": {},
   "outputs": [],
   "source": [
    "tape = sandy.get_endf6_file(\"endfb_80\", \"xs\", 260540)"
   ]
  },
  {
   "cell_type": "code",
   "execution_count": null,
   "id": "cc84e572",
   "metadata": {},
   "outputs": [],
   "source": [
    "dic = sandy.read_mf2(tape,tape.mat[0])"
   ]
  },
  {
   "cell_type": "code",
   "execution_count": null,
   "id": "559f3264",
   "metadata": {},
   "outputs": [],
   "source": [
    "print (dic)"
   ]
  },
  {
   "cell_type": "code",
   "execution_count": null,
   "id": "33d4fb8b",
   "metadata": {},
   "outputs": [],
   "source": [
    "tab2 = sandy.write_mf2(dic)"
   ]
  },
  {
   "cell_type": "code",
   "execution_count": null,
   "id": "272b7df7",
   "metadata": {},
   "outputs": [],
   "source": [
    "print (tab)"
   ]
  },
  {
   "cell_type": "markdown",
   "id": "693f2f37",
   "metadata": {},
   "source": [
    "## LRU = 2"
   ]
  },
  {
   "cell_type": "markdown",
   "id": "c8828f94",
   "metadata": {},
   "source": [
    "### LFW = 0 and LRF = 1  (Iron 58 in ENDF/B-VIII.0)"
   ]
  },
  {
   "cell_type": "code",
   "execution_count": null,
   "id": "9a0a26a6",
   "metadata": {},
   "outputs": [],
   "source": [
    "tape = sandy.get_endf6_file(\"endfb_80\", \"xs\", 260580)"
   ]
  },
  {
   "cell_type": "code",
   "execution_count": null,
   "id": "6e77b52b",
   "metadata": {},
   "outputs": [],
   "source": [
    "dic = sandy.read_mf2(tape,tape.mat[0])"
   ]
  },
  {
   "cell_type": "code",
   "execution_count": null,
   "id": "9ebf5a65",
   "metadata": {},
   "outputs": [],
   "source": [
    "print (dic['NIS'][26058]['NER'][(350000.0, 3000000.0)][\"L\"][3])"
   ]
  },
  {
   "cell_type": "code",
   "execution_count": null,
   "id": "3d122ea0",
   "metadata": {},
   "outputs": [],
   "source": [
    "tab = sandy.write_mf2(dic)"
   ]
  },
  {
   "cell_type": "code",
   "execution_count": null,
   "id": "732d4be9",
   "metadata": {},
   "outputs": [],
   "source": [
    "print (tab)"
   ]
  },
  {
   "cell_type": "markdown",
   "id": "0872d69c",
   "metadata": {},
   "source": [
    "### LRF = 2  (uranium 235 in Jeff 3.3)"
   ]
  },
  {
   "cell_type": "code",
   "execution_count": null,
   "id": "304ea8d1",
   "metadata": {},
   "outputs": [],
   "source": [
    "tape = sandy.get_endf6_file(\"jeff_33\", \"xs\", 922350)"
   ]
  },
  {
   "cell_type": "code",
   "execution_count": null,
   "id": "ff8aff4c",
   "metadata": {},
   "outputs": [],
   "source": [
    "dic = sandy.read_mf2(tape,tape.mat[0])"
   ]
  },
  {
   "cell_type": "code",
   "execution_count": null,
   "id": "c9900932",
   "metadata": {
    "scrolled": true
   },
   "outputs": [],
   "source": [
    "print (dic[\"NIS\"][92235][\"NER\"][(2250.0, 46200.0)]['L'][0][\"J\"][3.0]['RES_PAR'][0])"
   ]
  },
  {
   "cell_type": "code",
   "execution_count": null,
   "id": "4b61e5db",
   "metadata": {},
   "outputs": [],
   "source": [
    "tab = sandy.write_mf2(dic)"
   ]
  },
  {
   "cell_type": "code",
   "execution_count": null,
   "id": "e4e3d8d2",
   "metadata": {},
   "outputs": [],
   "source": [
    "print (tab)"
   ]
  }
 ],
 "metadata": {
  "kernelspec": {
   "display_name": "Python 3 (ipykernel)",
   "language": "python",
   "name": "python3"
  },
  "language_info": {
   "codemirror_mode": {
    "name": "ipython",
    "version": 3
   },
   "file_extension": ".py",
   "mimetype": "text/x-python",
   "name": "python",
   "nbconvert_exporter": "python",
   "pygments_lexer": "ipython3",
   "version": "3.7.12"
  }
 },
 "nbformat": 4,
 "nbformat_minor": 5
}
