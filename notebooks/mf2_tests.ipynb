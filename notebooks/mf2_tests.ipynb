{
 "cells": [
  {
   "cell_type": "markdown",
   "id": "204b07f5",
   "metadata": {},
   "source": [
    "# MF2 TESTING"
   ]
  },
  {
   "cell_type": "code",
   "execution_count": null,
   "id": "7d4d7a5e",
   "metadata": {
    "execution": {
     "iopub.execute_input": "2023-06-05T10:29:54.640017Z",
     "iopub.status.busy": "2023-06-05T10:29:54.639020Z",
     "iopub.status.idle": "2023-06-05T10:30:04.857580Z",
     "shell.execute_reply": "2023-06-05T10:30:04.856580Z"
    }
   },
   "outputs": [],
   "source": [
    "import sandy\n",
    "import matplotlib.pyplot as plt"
   ]
  },
  {
   "cell_type": "markdown",
   "id": "53659ff1",
   "metadata": {},
   "source": [
    "## LRU=0  (Thorium 233 in jeff 3.3)"
   ]
  },
  {
   "cell_type": "code",
   "execution_count": null,
   "id": "4677c362",
   "metadata": {
    "execution": {
     "iopub.execute_input": "2023-06-05T10:30:04.871580Z",
     "iopub.status.busy": "2023-06-05T10:30:04.867578Z",
     "iopub.status.idle": "2023-06-05T10:30:05.602397Z",
     "shell.execute_reply": "2023-06-05T10:30:05.600385Z"
    }
   },
   "outputs": [],
   "source": [
    "tape = sandy.get_endf6_file(\"jeff_33\", \"xs\", 902330)"
   ]
  },
  {
   "cell_type": "code",
   "execution_count": null,
   "id": "9dc26a88",
   "metadata": {
    "execution": {
     "iopub.execute_input": "2023-06-05T10:30:05.607398Z",
     "iopub.status.busy": "2023-06-05T10:30:05.606396Z",
     "iopub.status.idle": "2023-06-05T10:30:05.625930Z",
     "shell.execute_reply": "2023-06-05T10:30:05.624915Z"
    }
   },
   "outputs": [],
   "source": [
    "dic = sandy.read_mf2(tape,tape.mat[0])\n",
    "print(dic)"
   ]
  },
  {
   "cell_type": "code",
   "execution_count": null,
   "id": "c1cebefb",
   "metadata": {
    "execution": {
     "iopub.execute_input": "2023-06-05T10:30:05.631928Z",
     "iopub.status.busy": "2023-06-05T10:30:05.629926Z",
     "iopub.status.idle": "2023-06-05T10:30:05.639655Z",
     "shell.execute_reply": "2023-06-05T10:30:05.638641Z"
    }
   },
   "outputs": [],
   "source": [
    "tab = sandy.write_mf2(dic)\n",
    "print(tab)"
   ]
  },
  {
   "cell_type": "markdown",
   "id": "14012fad",
   "metadata": {},
   "source": [
    "## LRU = 1 "
   ]
  },
  {
   "cell_type": "markdown",
   "id": "2445c7b0",
   "metadata": {},
   "source": [
    "### LRF = 1 or LRF = 2 (Thorium 230 in jeff 3.3)"
   ]
  },
  {
   "cell_type": "code",
   "execution_count": null,
   "id": "25e730a9",
   "metadata": {
    "execution": {
     "iopub.execute_input": "2023-06-05T10:30:05.645657Z",
     "iopub.status.busy": "2023-06-05T10:30:05.645657Z",
     "iopub.status.idle": "2023-06-05T10:30:05.829926Z",
     "shell.execute_reply": "2023-06-05T10:30:05.828914Z"
    }
   },
   "outputs": [],
   "source": [
    "tape = sandy.get_endf6_file(\"jeff_33\", \"xs\", 902300)"
   ]
  },
  {
   "cell_type": "code",
   "execution_count": null,
   "id": "59bab380",
   "metadata": {
    "execution": {
     "iopub.execute_input": "2023-06-05T10:30:05.835926Z",
     "iopub.status.busy": "2023-06-05T10:30:05.834928Z",
     "iopub.status.idle": "2023-06-05T10:30:05.847473Z",
     "shell.execute_reply": "2023-06-05T10:30:05.846461Z"
    }
   },
   "outputs": [],
   "source": [
    "dic = sandy.read_mf2(tape,tape.mat[0])"
   ]
  },
  {
   "cell_type": "code",
   "execution_count": null,
   "id": "c7852f44",
   "metadata": {
    "execution": {
     "iopub.execute_input": "2023-06-05T10:30:05.852472Z",
     "iopub.status.busy": "2023-06-05T10:30:05.851474Z",
     "iopub.status.idle": "2023-06-05T10:30:05.858997Z",
     "shell.execute_reply": "2023-06-05T10:30:05.857983Z"
    }
   },
   "outputs": [],
   "source": [
    "tab = sandy.write_mf2(dic)"
   ]
  },
  {
   "cell_type": "code",
   "execution_count": null,
   "id": "02254b90",
   "metadata": {
    "execution": {
     "iopub.execute_input": "2023-06-05T10:30:05.864000Z",
     "iopub.status.busy": "2023-06-05T10:30:05.862993Z",
     "iopub.status.idle": "2023-06-05T10:30:06.486128Z",
     "shell.execute_reply": "2023-06-05T10:30:06.485116Z"
    }
   },
   "outputs": [],
   "source": [
    "fig, ax = plt.subplots(figsize=(8, 5),dpi = 100)\n",
    "x = []\n",
    "y = []\n",
    "L = dic['NIS'][90230]['NER'][(1e-05, 251.0)][\"L\"]\n",
    "for i in L.keys():\n",
    "    for j in range(len(L[i][\"RES_PAR\"])):\n",
    "        x.append(L[i][\"RES_PAR\"][j][\"ER\"])\n",
    "        y.append(L[i][\"RES_PAR\"][j][\"GT\"])\n",
    "ax = plt.stem(x, y, linefmt='blue', markerfmt='D')\n",
    "plt.xlabel('Resonance energy (ev)')\n",
    "plt.ylabel('Resonance total width')\n",
    "plt.xlim(0)\n",
    "plt.ylim(0)\n",
    "plt.show()"
   ]
  },
  {
   "cell_type": "markdown",
   "id": "ea1a1ca2",
   "metadata": {},
   "source": [
    "### LRF = 3  (Uranium 238 in Jeff 3.3)"
   ]
  },
  {
   "cell_type": "code",
   "execution_count": null,
   "id": "a3f66420",
   "metadata": {
    "execution": {
     "iopub.execute_input": "2023-06-05T10:30:06.492128Z",
     "iopub.status.busy": "2023-06-05T10:30:06.491134Z",
     "iopub.status.idle": "2023-06-05T10:30:07.195301Z",
     "shell.execute_reply": "2023-06-05T10:30:07.194289Z"
    }
   },
   "outputs": [],
   "source": [
    "tape = sandy.get_endf6_file(\"jeff_33\", \"xs\", 922380)"
   ]
  },
  {
   "cell_type": "code",
   "execution_count": null,
   "id": "ceea39d7",
   "metadata": {
    "execution": {
     "iopub.execute_input": "2023-06-05T10:30:07.200304Z",
     "iopub.status.busy": "2023-06-05T10:30:07.200304Z",
     "iopub.status.idle": "2023-06-05T10:30:07.311834Z",
     "shell.execute_reply": "2023-06-05T10:30:07.311834Z"
    }
   },
   "outputs": [],
   "source": [
    "dic = sandy.read_mf2(tape,tape.mat[0])"
   ]
  },
  {
   "cell_type": "code",
   "execution_count": null,
   "id": "d94a0e31",
   "metadata": {
    "execution": {
     "iopub.execute_input": "2023-06-05T10:30:07.316847Z",
     "iopub.status.busy": "2023-06-05T10:30:07.315847Z",
     "iopub.status.idle": "2023-06-05T10:30:07.407550Z",
     "shell.execute_reply": "2023-06-05T10:30:07.406543Z"
    }
   },
   "outputs": [],
   "source": [
    "tab = sandy.write_mf2(dic)"
   ]
  },
  {
   "cell_type": "code",
   "execution_count": null,
   "id": "b6991e60",
   "metadata": {
    "execution": {
     "iopub.execute_input": "2023-06-05T10:30:07.412555Z",
     "iopub.status.busy": "2023-06-05T10:30:07.412555Z",
     "iopub.status.idle": "2023-06-05T10:30:11.681509Z",
     "shell.execute_reply": "2023-06-05T10:30:11.680495Z"
    }
   },
   "outputs": [],
   "source": [
    "fig, ax = plt.subplots(figsize=(8, 5),dpi = 100)\n",
    "L = dic[\"NIS\"][92238][\"NER\"][(1e-05, 20000.0)][\"L\"]\n",
    "for i in L.keys():\n",
    "    x = []\n",
    "    y = []\n",
    "    for j in range(len(L[i][\"RES_PAR\"])):\n",
    "        x.append(L[i][\"RES_PAR\"][j][\"ER\"])\n",
    "        y.append(L[i][\"RES_PAR\"][j][\"GN\"])\n",
    "    ax = plt.stem(x, y, label= f\"l = {i}\", linefmt='blue', markerfmt='D')\n",
    "plt.xlabel('Resonance energy (ev)')\n",
    "plt.ylabel('Radiation width')\n",
    "plt.title('U238 Resonance parameters')\n",
    "\n",
    "plt.xscale(\"log\")\n",
    "plt.yscale(\"log\")\n",
    "plt.legend()\n",
    "plt.show()"
   ]
  },
  {
   "cell_type": "markdown",
   "id": "8ba1ef4a",
   "metadata": {},
   "source": [
    "### LRF = 7  (Iron 54 in ENDF/B-VIII.0)"
   ]
  },
  {
   "cell_type": "code",
   "execution_count": null,
   "id": "18077612",
   "metadata": {
    "execution": {
     "iopub.execute_input": "2023-06-05T10:30:11.684510Z",
     "iopub.status.busy": "2023-06-05T10:30:11.684510Z",
     "iopub.status.idle": "2023-06-05T10:30:14.245561Z",
     "shell.execute_reply": "2023-06-05T10:30:14.245561Z"
    }
   },
   "outputs": [],
   "source": [
    "tape = sandy.get_endf6_file(\"endfb_80\", \"xs\", 260540)"
   ]
  },
  {
   "cell_type": "code",
   "execution_count": null,
   "id": "cc84e572",
   "metadata": {
    "execution": {
     "iopub.execute_input": "2023-06-05T10:30:14.250573Z",
     "iopub.status.busy": "2023-06-05T10:30:14.250573Z",
     "iopub.status.idle": "2023-06-05T10:30:14.296852Z",
     "shell.execute_reply": "2023-06-05T10:30:14.295855Z"
    }
   },
   "outputs": [],
   "source": [
    "dic = sandy.read_mf2(tape,tape.mat[0])"
   ]
  },
  {
   "cell_type": "code",
   "execution_count": null,
   "id": "fd9908ab",
   "metadata": {
    "execution": {
     "iopub.execute_input": "2023-06-05T10:30:14.301856Z",
     "iopub.status.busy": "2023-06-05T10:30:14.300855Z",
     "iopub.status.idle": "2023-06-05T10:30:14.310466Z",
     "shell.execute_reply": "2023-06-05T10:30:14.308454Z"
    }
   },
   "outputs": [],
   "source": [
    "dic['NIS'][26054]['NER'][(1e-05, 1036000.0)]['J'].keys()"
   ]
  },
  {
   "cell_type": "code",
   "execution_count": null,
   "id": "33d4fb8b",
   "metadata": {
    "execution": {
     "iopub.execute_input": "2023-06-05T10:30:14.314464Z",
     "iopub.status.busy": "2023-06-05T10:30:14.313467Z",
     "iopub.status.idle": "2023-06-05T10:30:14.337370Z",
     "shell.execute_reply": "2023-06-05T10:30:14.337370Z"
    }
   },
   "outputs": [],
   "source": [
    "tab = sandy.write_mf2(dic)"
   ]
  },
  {
   "cell_type": "code",
   "execution_count": null,
   "id": "7970f941",
   "metadata": {
    "execution": {
     "iopub.execute_input": "2023-06-05T10:30:14.344387Z",
     "iopub.status.busy": "2023-06-05T10:30:14.343383Z",
     "iopub.status.idle": "2023-06-05T10:30:15.481139Z",
     "shell.execute_reply": "2023-06-05T10:30:15.480118Z"
    }
   },
   "outputs": [],
   "source": [
    "fig, ax = plt.subplots(figsize=(8, 5), dpi = 100)\n",
    "x = []\n",
    "y1 = []\n",
    "y2 = []\n",
    "J = dic['NIS'][26054]['NER'][(1e-05, 1036000.0)]['J'][(1.5, 0.0)][\"RES_PAR\"]\n",
    "for k in range(len(J)):\n",
    "    y1.append(J[k][\"GAM\"][0])\n",
    "    y2.append(J[k][\"GAM\"][1])\n",
    "    x.append(J[k][\"ER\"])\n",
    "ax = plt.stem(x, y1, markerfmt='D', label = 'GAM 1')\n",
    "ax = plt.stem(x, y2, markerfmt='o', label = 'GAM 2')\n",
    "plt.xlabel('Resonance energy (ev)')\n",
    "plt.ylabel('Channel width in eV')\n",
    "plt.xscale(\"linear\")\n",
    "plt.yscale(\"log\")\n",
    "plt.legend()\n",
    "plt.show()"
   ]
  },
  {
   "cell_type": "markdown",
   "id": "693f2f37",
   "metadata": {},
   "source": [
    "## LRU = 2"
   ]
  },
  {
   "cell_type": "markdown",
   "id": "c8828f94",
   "metadata": {},
   "source": [
    "### LFW = 0 and LRF = 1  (Iron 58 in ENDF/B-VIII.0)"
   ]
  },
  {
   "cell_type": "code",
   "execution_count": null,
   "id": "9a0a26a6",
   "metadata": {
    "execution": {
     "iopub.execute_input": "2023-06-05T10:30:15.486140Z",
     "iopub.status.busy": "2023-06-05T10:30:15.485174Z",
     "iopub.status.idle": "2023-06-05T10:30:16.844972Z",
     "shell.execute_reply": "2023-06-05T10:30:16.843958Z"
    }
   },
   "outputs": [],
   "source": [
    "tape = sandy.get_endf6_file(\"endfb_80\", \"xs\", 260580)"
   ]
  },
  {
   "cell_type": "code",
   "execution_count": null,
   "id": "6e77b52b",
   "metadata": {
    "execution": {
     "iopub.execute_input": "2023-06-05T10:30:16.849969Z",
     "iopub.status.busy": "2023-06-05T10:30:16.849969Z",
     "iopub.status.idle": "2023-06-05T10:30:16.875181Z",
     "shell.execute_reply": "2023-06-05T10:30:16.874171Z"
    }
   },
   "outputs": [],
   "source": [
    "dic = sandy.read_mf2(tape,tape.mat[0])"
   ]
  },
  {
   "cell_type": "code",
   "execution_count": null,
   "id": "3d122ea0",
   "metadata": {
    "execution": {
     "iopub.execute_input": "2023-06-05T10:30:16.879182Z",
     "iopub.status.busy": "2023-06-05T10:30:16.879182Z",
     "iopub.status.idle": "2023-06-05T10:30:16.887097Z",
     "shell.execute_reply": "2023-06-05T10:30:16.887097Z"
    }
   },
   "outputs": [],
   "source": [
    "tab = sandy.write_mf2(dic)"
   ]
  },
  {
   "cell_type": "code",
   "execution_count": null,
   "id": "e09a6e7a",
   "metadata": {
    "execution": {
     "iopub.execute_input": "2023-06-05T10:30:16.892094Z",
     "iopub.status.busy": "2023-06-05T10:30:16.891094Z",
     "iopub.status.idle": "2023-06-05T10:30:17.408385Z",
     "shell.execute_reply": "2023-06-05T10:30:17.408385Z"
    }
   },
   "outputs": [],
   "source": [
    "fig, ax = plt.subplots(figsize=(8, 5), dpi = 100)\n",
    "x = []\n",
    "y = []\n",
    "L = dic['NIS'][26058]['NER'][(350000.0, 3000000.0)][\"L\"]\n",
    "for i in L.keys():\n",
    "    for j in range(len(L[i][\"RES_PAR\"])):\n",
    "        y.append(L[i][\"RES_PAR\"][j][\"D\"])\n",
    "    for k in range(len(L[i][\"RES_PAR\"])):\n",
    "        x.append(i)\n",
    "    ax = plt.scatter(x, y , label = f\"j = {L[i]['RES_PAR'][j]['AJ']}\" )\n",
    "plt.xlabel('Quantique number l')\n",
    "plt.ylabel('Average level spacing for resonances with spin J')\n",
    "plt.xlim(0,3)\n",
    "plt.legend()\n",
    "plt.show()"
   ]
  },
  {
   "cell_type": "markdown",
   "id": "0872d69c",
   "metadata": {},
   "source": [
    "### LRF = 2  (Uranium 238 in Jeff 3.3)"
   ]
  },
  {
   "cell_type": "code",
   "execution_count": null,
   "id": "304ea8d1",
   "metadata": {
    "execution": {
     "iopub.execute_input": "2023-06-05T10:30:17.413398Z",
     "iopub.status.busy": "2023-06-05T10:30:17.412395Z",
     "iopub.status.idle": "2023-06-05T10:30:18.131918Z",
     "shell.execute_reply": "2023-06-05T10:30:18.131918Z"
    }
   },
   "outputs": [],
   "source": [
    "tape = sandy.get_endf6_file(\"jeff_33\", \"xs\", 922350)"
   ]
  },
  {
   "cell_type": "code",
   "execution_count": null,
   "id": "ff8aff4c",
   "metadata": {
    "execution": {
     "iopub.execute_input": "2023-06-05T10:30:18.135931Z",
     "iopub.status.busy": "2023-06-05T10:30:18.135931Z",
     "iopub.status.idle": "2023-06-05T10:30:18.240896Z",
     "shell.execute_reply": "2023-06-05T10:30:18.240896Z"
    }
   },
   "outputs": [],
   "source": [
    "dic = sandy.read_mf2(tape,tape.mat[0])"
   ]
  },
  {
   "cell_type": "code",
   "execution_count": null,
   "id": "4b61e5db",
   "metadata": {
    "execution": {
     "iopub.execute_input": "2023-06-05T10:30:18.244905Z",
     "iopub.status.busy": "2023-06-05T10:30:18.244905Z",
     "iopub.status.idle": "2023-06-05T10:30:18.290159Z",
     "shell.execute_reply": "2023-06-05T10:30:18.290159Z"
    }
   },
   "outputs": [],
   "source": [
    "tab = sandy.write_mf2(dic)"
   ]
  },
  {
   "cell_type": "code",
   "execution_count": null,
   "id": "bb15bc72",
   "metadata": {
    "execution": {
     "iopub.execute_input": "2023-06-05T10:30:18.295161Z",
     "iopub.status.busy": "2023-06-05T10:30:18.295161Z",
     "iopub.status.idle": "2023-06-05T10:30:19.064892Z",
     "shell.execute_reply": "2023-06-05T10:30:19.063868Z"
    }
   },
   "outputs": [],
   "source": [
    "fig, ax = plt.subplots(figsize=(8, 5),dpi = 100)\n",
    "L = dic[\"NIS\"][92235][\"NER\"][(2250.0, 46200.0)][\"L\"]\n",
    "for l in L.keys():\n",
    "    for j in L[l][\"J\"].keys():\n",
    "        x = []\n",
    "        y = []\n",
    "        for k in range(len(L[l][\"J\"][j])):\n",
    "            x.append(L[l][\"J\"][j][\"RES_PAR\"][k][\"ES\"])\n",
    "            y.append(L[l][\"J\"][j][\"RES_PAR\"][k][\"GG\"])\n",
    "        ax = plt.stem(x, y, linefmt='grey', markerfmt='D', label=f\"{l,j}\")\n",
    "        plt.xlabel('Resonance energy (ev)')\n",
    "        plt.ylabel('Average radiation width')\n",
    "        plt.xlim(2200, 7100)\n",
    "        plt.ylim(0.0376, 0.0388)\n",
    "        plt.legend()"
   ]
  }
 ],
 "metadata": {
  "kernelspec": {
   "display_name": "Python 3 (ipykernel)",
   "language": "python",
   "name": "python3"
  },
  "language_info": {
   "codemirror_mode": {
    "name": "ipython",
    "version": 3
   },
   "file_extension": ".py",
   "mimetype": "text/x-python",
   "name": "python",
   "nbconvert_exporter": "python",
   "pygments_lexer": "ipython3",
   "version": "3.11.3"
  }
 },
 "nbformat": 4,
 "nbformat_minor": 5
}
