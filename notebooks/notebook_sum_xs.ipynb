{
 "cells": [
  {
   "cell_type": "markdown",
   "id": "16cd9ee6",
   "metadata": {},
   "source": [
    "# Reconstructing redundant cross sections"
   ]
  },
  {
   "cell_type": "code",
   "execution_count": null,
   "id": "1d5a15db",
   "metadata": {
    "execution": {
     "iopub.execute_input": "2023-08-09T15:31:10.306143Z",
     "iopub.status.busy": "2023-08-09T15:31:10.290819Z",
     "iopub.status.idle": "2023-08-09T15:31:12.358145Z",
     "shell.execute_reply": "2023-08-09T15:31:12.358145Z"
    }
   },
   "outputs": [],
   "source": [
    "import sandy"
   ]
  },
  {
   "cell_type": "code",
   "execution_count": null,
   "id": "569df04d",
   "metadata": {
    "execution": {
     "iopub.execute_input": "2023-08-09T15:31:12.358145Z",
     "iopub.status.busy": "2023-08-09T15:31:12.358145Z",
     "iopub.status.idle": "2023-08-09T15:31:13.469981Z",
     "shell.execute_reply": "2023-08-09T15:31:13.469981Z"
    }
   },
   "outputs": [],
   "source": [
    "import matplotlib.pyplot as plt\n",
    "import seaborn as sns\n",
    "sns.set_style(\"whitegrid\")"
   ]
  },
  {
   "cell_type": "markdown",
   "id": "11c7f67d",
   "metadata": {},
   "source": [
    "Reconstruction rules for redundant cross sections are available in Appendix B of the [ENDF-6 manual](https://www.oecd-nea.org/dbdata/data/manual-endf/endf102.pdf)."
   ]
  },
  {
   "cell_type": "markdown",
   "id": "fb440d35",
   "metadata": {},
   "source": [
    "## H-1 case "
   ]
  },
  {
   "cell_type": "code",
   "execution_count": null,
   "id": "56b7e9ff",
   "metadata": {
    "execution": {
     "iopub.execute_input": "2023-08-09T15:31:13.469981Z",
     "iopub.status.busy": "2023-08-09T15:31:13.469981Z",
     "iopub.status.idle": "2023-08-09T15:31:14.329048Z",
     "shell.execute_reply": "2023-08-09T15:31:14.329048Z"
    }
   },
   "outputs": [],
   "source": [
    "pendf = sandy.get_endf6_file(\"jeff_33\", \"xs\", 10010).get_pendf()\n",
    "xs = sandy.Xs.from_endf6(pendf)"
   ]
  },
  {
   "cell_type": "code",
   "execution_count": null,
   "id": "aa8457bd",
   "metadata": {
    "execution": {
     "iopub.execute_input": "2023-08-09T15:31:14.329048Z",
     "iopub.status.busy": "2023-08-09T15:31:14.329048Z",
     "iopub.status.idle": "2023-08-09T15:31:15.375216Z",
     "shell.execute_reply": "2023-08-09T15:31:15.375216Z"
    }
   },
   "outputs": [],
   "source": [
    "fig, ax = plt.subplots(figsize=(7, 3.5), dpi=100)\n",
    "xs.data.plot(ax=ax, logx=True, logy=True)\n",
    "ax.set_xlim([1e-5, 2e7])\n",
    "ax.set_xlabel(\"neutron energy / $MeV$\")\n",
    "ax.set_ylabel(\"cross section / $b$\")\n",
    "fig.tight_layout()"
   ]
  },
  {
   "cell_type": "code",
   "execution_count": null,
   "id": "3dabca23",
   "metadata": {
    "execution": {
     "iopub.execute_input": "2023-08-09T15:31:15.375216Z",
     "iopub.status.busy": "2023-08-09T15:31:15.375216Z",
     "iopub.status.idle": "2023-08-09T15:31:15.400855Z",
     "shell.execute_reply": "2023-08-09T15:31:15.400855Z"
    }
   },
   "outputs": [],
   "source": [
    "xssum = xs.reconstruct_sums(drop=False)"
   ]
  },
  {
   "cell_type": "code",
   "execution_count": null,
   "id": "bc164523",
   "metadata": {
    "execution": {
     "iopub.execute_input": "2023-08-09T15:31:15.400855Z",
     "iopub.status.busy": "2023-08-09T15:31:15.400855Z",
     "iopub.status.idle": "2023-08-09T15:31:16.466750Z",
     "shell.execute_reply": "2023-08-09T15:31:16.466750Z"
    }
   },
   "outputs": [],
   "source": [
    "fig, axs = plt.subplots(2, 1, figsize=(7, 5), dpi=100, sharex=True, gridspec_kw={'height_ratios': [3, 2]})\n",
    "\n",
    "ax = axs[0]\n",
    "xssum.data.plot(ax=ax, logx=True, logy=True)\n",
    "ax.legend()\n",
    "ax.set_ylabel(\"recontructed cross section / $b$\")\n",
    "\n",
    "ax = axs[1]\n",
    "(xssum.data[(125, 1)] / xs.data[(125, 1)] - 1).multiply(100).plot(ax=ax, logx=True)\n",
    "\n",
    "ax.set_xlim([1e-5, 2e7])\n",
    "ax.set_xlabel(\"neutron energy / $MeV$\")\n",
    "ax.set_ylabel(\"ratio MT=1 / %\")\n",
    "fig.tight_layout()"
   ]
  },
  {
   "cell_type": "markdown",
   "id": "f157d65b",
   "metadata": {},
   "source": [
    "We introduce a 100% perturbation on MT=102 to see if it reflects on the reconstruction of redundant xs. "
   ]
  },
  {
   "cell_type": "code",
   "execution_count": null,
   "id": "e5c12333",
   "metadata": {
    "execution": {
     "iopub.execute_input": "2023-08-09T15:31:16.466750Z",
     "iopub.status.busy": "2023-08-09T15:31:16.466750Z",
     "iopub.status.idle": "2023-08-09T15:31:16.489907Z",
     "shell.execute_reply": "2023-08-09T15:31:16.489907Z"
    }
   },
   "outputs": [],
   "source": [
    "xssum_mod = sandy.Xs(xs.data)\n",
    "xssum_mod.data[(125, 102)] *= 2\n",
    "xssum_mod = xssum_mod.reconstruct_sums(drop=False)"
   ]
  },
  {
   "cell_type": "code",
   "execution_count": null,
   "id": "34d7999a",
   "metadata": {
    "execution": {
     "iopub.execute_input": "2023-08-09T15:31:16.489907Z",
     "iopub.status.busy": "2023-08-09T15:31:16.489907Z",
     "iopub.status.idle": "2023-08-09T15:31:17.662596Z",
     "shell.execute_reply": "2023-08-09T15:31:17.662596Z"
    }
   },
   "outputs": [],
   "source": [
    "fig, axs = plt.subplots(2, 1, figsize=(7, 5), dpi=100, sharex=True, gridspec_kw={'height_ratios': [3, 2]})\n",
    "\n",
    "ax = axs[0]\n",
    "xssum.data[(125, 102)].plot(ax=ax, logx=True, logy=True, color=\"tomato\", linestyle=\"-\", label=\"MT=101 / original\")\n",
    "xssum_mod.data[(125, 102)].plot(ax=ax, logx=True, logy=True, color=\"tomato\", linestyle=\"--\", label=\"MT=101 / modified\")\n",
    "xssum.data[(125, 1)].plot(ax=ax, logx=True, logy=True, color=\"dodgerblue\", linestyle=\"-\", label=\"MT=1 / original\")\n",
    "xssum_mod.data[(125, 1)].plot(ax=ax, logx=True, logy=True, color=\"dodgerblue\", linestyle=\"--\", label=\"MT=1 / modified\")\n",
    "ax.legend()\n",
    "ax.set_ylabel(\"reconstructed cross section / $b$\")\n",
    "\n",
    "ax = axs[1]\n",
    "(xssum_mod.data[(125, 1)] / xssum.data[(125, 1)] - 1).multiply(100).plot(ax=ax, logx=True, label=\"MT=1\", color=\"dodgerblue\")\n",
    "(xssum_mod.data[(125, 101)] / xssum.data[(125, 101)] - 1).multiply(100).plot(ax=ax, logx=True, label=\"MT=101\", color=\"tomato\")\n",
    "ax.set_ylabel(\"ratio / %\")\n",
    "ax.legend()\n",
    "\n",
    "ax.set_xlim([1e-5, 2e7])\n",
    "ax.set_xlabel(\"neutron energy / $MeV$\")\n",
    "fig.tight_layout()"
   ]
  },
  {
   "cell_type": "markdown",
   "id": "872e81d0",
   "metadata": {},
   "source": [
    "# Am-241 case"
   ]
  },
  {
   "cell_type": "markdown",
   "id": "c11dfb76",
   "metadata": {},
   "source": [
    "This is a more complex case also containing neutorn-induced fission and inelastic scattering cross sections."
   ]
  },
  {
   "cell_type": "code",
   "execution_count": null,
   "id": "0bd0ad31",
   "metadata": {
    "execution": {
     "iopub.execute_input": "2023-08-09T15:31:17.662596Z",
     "iopub.status.busy": "2023-08-09T15:31:17.662596Z",
     "iopub.status.idle": "2023-08-09T15:31:24.287234Z",
     "shell.execute_reply": "2023-08-09T15:31:24.287234Z"
    }
   },
   "outputs": [],
   "source": [
    "pendf = sandy.get_endf6_file(\"jeff_33\", \"xs\", 952410).get_pendf(err=0.1)\n",
    "xs = sandy.Xs.from_endf6(pendf)"
   ]
  },
  {
   "cell_type": "code",
   "execution_count": null,
   "id": "bf72bb06",
   "metadata": {
    "execution": {
     "iopub.execute_input": "2023-08-09T15:31:24.287234Z",
     "iopub.status.busy": "2023-08-09T15:31:24.287234Z",
     "iopub.status.idle": "2023-08-09T15:31:24.332550Z",
     "shell.execute_reply": "2023-08-09T15:31:24.332550Z"
    }
   },
   "outputs": [],
   "source": [
    "xssum = xs.reconstruct_sums(drop=False)"
   ]
  },
  {
   "cell_type": "markdown",
   "id": "31f3d450",
   "metadata": {},
   "source": [
    "Numerical fluctuations appear in MT=1 and MT=4 because they were reconstructed.\n",
    "Not in MT=102 and MT=51, which were not changed."
   ]
  },
  {
   "cell_type": "code",
   "execution_count": null,
   "id": "0f22d830",
   "metadata": {
    "execution": {
     "iopub.execute_input": "2023-08-09T15:31:24.332550Z",
     "iopub.status.busy": "2023-08-09T15:31:24.332550Z",
     "iopub.status.idle": "2023-08-09T15:31:25.266016Z",
     "shell.execute_reply": "2023-08-09T15:31:25.266016Z"
    }
   },
   "outputs": [],
   "source": [
    "fig, axs = plt.subplots(2, 1, figsize=(7, 5), dpi=100, sharex=True, gridspec_kw={'height_ratios': [3, 2]})\n",
    "\n",
    "ax = axs[0]\n",
    "xssum.data[[(9543, 1), (9543, 102), (9543, 4), (9543, 51)]].plot(ax=ax, logx=True, logy=True)\n",
    "ax.set_ylabel(\"recontructed cross section / $b$\")\n",
    "\n",
    "ax = axs[1]\n",
    "(xssum.data[(9543, 1)] / xs.data[(9543, 1)] - 1).multiply(100).plot(ax=ax, logx=True)\n",
    "(xssum.data[(9543, 102)] / xs.data[(9543, 102)] - 1).multiply(100).plot(ax=ax, logx=True)\n",
    "(xssum.data[(9543, 4)] / xs.data[(9543, 4)] - 1).multiply(100).plot(ax=ax, logx=True)\n",
    "(xssum.data[(9543, 51)] / xs.data[(9543, 51)] - 1).multiply(100).plot(ax=ax, logx=True)\n",
    "\n",
    "ax.set_xlim([1e-5, 2e7])\n",
    "ax.set_xlabel(\"neutron energy / $MeV$\")\n",
    "ax.set_ylabel(\"ratio MT / %\")\n",
    "fig.tight_layout()"
   ]
  },
  {
   "cell_type": "markdown",
   "id": "81f841ec",
   "metadata": {},
   "source": [
    "Plotting all reconstructed cross sections."
   ]
  },
  {
   "cell_type": "code",
   "execution_count": null,
   "id": "d9d71fa2",
   "metadata": {
    "execution": {
     "iopub.execute_input": "2023-08-09T15:31:25.266016Z",
     "iopub.status.busy": "2023-08-09T15:31:25.266016Z",
     "iopub.status.idle": "2023-08-09T15:31:26.105165Z",
     "shell.execute_reply": "2023-08-09T15:31:26.105165Z"
    }
   },
   "outputs": [],
   "source": [
    "fig, ax = plt.subplots(figsize=(7, 3.5), dpi=100)\n",
    "\n",
    "xssum.data[(9543, 107)].plot(ax=ax, label=\"(n,$\\\\alpha$) MT=107 - Sum of MT=800-849, if present\")\n",
    "xssum.data[(9543, 103)].plot(ax=ax, label=\"(n,p) MT=103 - Sum of MT=600-649, if present\")\n",
    "xssum.data[(9543, 101)].plot(ax=ax, label=\"(n,disap.) MT=101 - Sum of MT=102-117, if present\")\n",
    "xssum.data[(9543, 18)].plot(ax=ax, label=\"(n,fission) MT=18 - Sum of MT=19, MT=20, MT=21, MT=38, if present\")\n",
    "xssum.data[(9543, 27)].plot(ax=ax, label=\"(n,abs.) MT=27 - Sum of MT=18, MT=101, if present\")\n",
    "xssum.data[(9543, 4)].plot(ax=ax, label=\"(n,n) MT=4 - Sum of MT=50-91, if presenbt\")\n",
    "xssum.data[(9543, 3)].plot(ax=ax, label=\"(n,nonelas.) MT=3 - Sum of MT=4-5, MT=11, MT=16-18, MT=22-26, MT=28-37, MT=41-42, MT=44-45, if present\")\n",
    "xssum.data[(9543, 1)].plot(ax=ax, label=\"(n,total) MT=1 - Sum of MT=2-3, if present\")\n",
    "\n",
    "ax.legend(loc='upper center', bbox_to_anchor=(0.5, -0.2), fancybox=True, shadow=True)\n",
    "ax.set_xlim([1e-5, 2e7])\n",
    "ax.set_xlabel(\"neutron energy / $MeV$\")\n",
    "ax.set_ylabel(\"recontructed cross section / $b$\")\n",
    "ax.set_xscale(\"log\")\n",
    "ax.set_yscale(\"log\");"
   ]
  }
 ],
 "metadata": {
  "kernelspec": {
   "display_name": "Python [conda env:sandy-v1.0] *",
   "language": "python",
   "name": "conda-env-sandy-v1.0-py"
  },
  "language_info": {
   "codemirror_mode": {
    "name": "ipython",
    "version": 3
   },
   "file_extension": ".py",
   "mimetype": "text/x-python",
   "name": "python",
   "nbconvert_exporter": "python",
   "pygments_lexer": "ipython3",
   "version": "3.11.3"
  }
 },
 "nbformat": 4,
 "nbformat_minor": 5
}
