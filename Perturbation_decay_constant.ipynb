{
 "cells": [
  {
   "cell_type": "code",
   "execution_count": 3,
   "id": "556cef0b",
   "metadata": {},
   "outputs": [],
   "source": [
    "import io\n",
    "import shutil\n",
    "import os\n",
    "from functools import reduce\n",
    "from tempfile import TemporaryDirectory\n",
    "import logging\n",
    "from urllib.request import urlopen, Request\n",
    "from zipfile import ZipFile\n",
    "import pandas as pd\n",
    "import sandy"
   ]
  },
  {
   "cell_type": "code",
   "execution_count": 4,
   "id": "790ba953",
   "metadata": {},
   "outputs": [],
   "source": [
    "from sandy.libraries import (\n",
    "N_FILES_ENDFB_71_IAEA,\n",
    "N_FILES_JEFF_32_NEA,\n",
    "N_FILES_JEFF_33_IAEA,\n",
    "N_FILES_JEFF_40T0_NEA,\n",
    "N_FILES_ENDFB_80_IAEA,\n",
    "N_FILES_JENDL_40U_IAEA,\n",
    "URL_N_ENDFB_71_IAEA,\n",
    "URL_N_JEFF_32_NEA,\n",
    "URL_N_JEFF_33_IAEA,\n",
    "URL_N_JEFF_40T0_NEA,\n",
    "URL_N_ENDFB_80_IAEA,\n",
    "URL_N_JENDL_40U_IAEA,\n",
    "URL_NFPY_ENDFB_80_IAEA,\n",
    "NFPY_FILES_ENDFB_80_IAEA,\n",
    "URL_NFPY_ENDFB_71_IAEA,\n",
    "NFPY_FILES_ENDFB_71_IAEA,\n",
    "URL_NFPY_JENDL_40U_IAEA,\n",
    "NFPY_FILES_JENDL_40U_IAEA,\n",
    "URL_NFPY_JEFF_33_IAEA,\n",
    "NFPY_FILES_JEFF_33_IAEA,\n",
    "URL_DECAY_ENDFB_71_IAEA,\n",
    "DECAY_FILES_ENDFB_71_IAEA,\n",
    "URL_DECAY_ENDFB_80_IAEA,\n",
    "DECAY_FILES_ENDFB_80_IAEA,\n",
    "URL_DECAY_JEFF_33_IAEA,\n",
    "DECAY_FILES_JEFF_33_IAEA,\n",
    ")\n",
    "\n",
    "__author__ = \"Luca Fiorito\"\n",
    "__all__ = [\n",
    "\"Endf6\",\n",
    "\"get_endf6_file\",\n",
    "]\n",
    "pd.options.display.float_format = '{:.5e}'.format"
   ]
  },
  {
   "cell_type": "code",
   "execution_count": 7,
   "id": "be43835b",
   "metadata": {},
   "outputs": [],
   "source": [
    "# Input for test\n",
    "library = 'jeff_33'\n",
    "zam = 922350\n",
    "input_endf6 = sandy.get_endf6_file(library, 'decay', zam)\n",
    "percentage = 5/100"
   ]
  },
  {
   "cell_type": "code",
   "execution_count": 8,
   "id": "54252816",
   "metadata": {},
   "outputs": [],
   "source": [
    "# Decay Data instance\n",
    "decay_data_instance = sandy.DecayData.from_endf6(input_endf6)"
   ]
  },
  {
   "cell_type": "code",
   "execution_count": 8,
   "id": "ba956843",
   "metadata": {},
   "outputs": [
    {
     "name": "stdout",
     "output_type": "stream",
     "text": [
      "ZAM\n",
      "922350   3.12085e-17\n",
      "Name: lambda, dtype: float64\n"
     ]
    }
   ],
   "source": [
    "# Method proposal - get_decayconstant - restituisce un pd.Series con le decay constants\n",
    "# Input: (self, with_uncertainty=True)\n",
    "decay_constants = {zam: dic['decay_constant'] for zam, dic in decay_data_instance.data.items()} # where decay_data_instance will be self in the method\n",
    "series = pd.Series(decay_constants, name = 'lambda')\n",
    "series.index.name = 'ZAM'\n",
    "with_uncertainty = False\n",
    "if not with_uncertainty: # to take as input, default = True\n",
    "    print(series)\n",
    "    #return series\n",
    "else:\n",
    "    uncertainty = get_decayconstant_uncertainty\n",
    "    a = pd.concat([series, uncertainty], axis=1, keys=['lambda', 'uncertainty'])\n",
    "    #return a"
   ]
  },
  {
   "cell_type": "code",
   "execution_count": 5,
   "id": "3f8f1ed2",
   "metadata": {},
   "outputs": [
    {
     "data": {
      "text/plain": [
       "dict_items([(922350, {'half_life': 2.22102e+16, 'decay_constant': 3.120850692744529e-17, 'stable': False, 'spin': 3.5, 'parity': -1.0, 'decay_energy': {'beta': 50671.7, 'gamma': 163616.0, 'alpha': 4464600.0, 'total': 4678887.7}, 'decay_energy_uncertainties': {'beta': 4291.63, 'gamma': 1708.01, 'alpha': 163255.0, 'total': 163320.33067324167}, 'decay_modes': {'40x0': {'decay_products': {902310: 1.0, 20040: 1.0}, 'branching_ratio': 1.0, 'branching_ratio_uncertainty': 0.0001}, '60x0': {'decay_products': {}, 'branching_ratio': 7.2e-11, 'branching_ratio_uncertainty': 2.1e-11}}})])"
      ]
     },
     "execution_count": 5,
     "metadata": {},
     "output_type": "execute_result"
    }
   ],
   "source": [
    "# print(f'tipo {type(decay_data_instance.data)}\\n\\n variable {decay_data_instance.data}')\n",
    "\n",
    "decay_data_instance.data.items()"
   ]
  },
  {
   "cell_type": "code",
   "execution_count": null,
   "id": "e9541a45",
   "metadata": {},
   "outputs": [],
   "source": [
    "# Method proposal - _get_decayconstant_uncertainty - restituisce un pd.Series con le incertezze\n",
    "# Assuming from_endf6 method to be updated including decay_constant_uncertainty- ###chiedere### \n",
    "# Input: (self)\n",
    "\n",
    "uncertainty = {zam: dic['decay_constant_uncertainty'] for zam, dic in decay_data_instance.data.item()}\n",
    "series = pd.Series(uncertainty, name = 'lambda uncertainty')\n",
    "series.index.name = 'ZAM'\n",
    "\n",
    "#return serie"
   ]
  },
  {
   "cell_type": "code",
   "execution_count": null,
   "id": "d444a842",
   "metadata": {},
   "outputs": [],
   "source": [
    "# Method proposal - custom_perturbation_decayconstant - restituisce un pd.Series con le decayconstants perturbate e relative incertezze\n",
    "# Input: (self, zam, percentage)\n",
    "series = get_decay_constant()\n",
    "series['lambda'][zam] = series['lambda'][zam]*(1+percentage)\n",
    "#return series"
   ]
  },
  {
   "cell_type": "markdown",
   "id": "1ec1e055",
   "metadata": {},
   "source": [
    "# Esempio"
   ]
  },
  {
   "cell_type": "code",
   "execution_count": 14,
   "id": "a9a2ccaa",
   "metadata": {},
   "outputs": [
    {
     "name": "stdout",
     "output_type": "stream",
     "text": [
      "ZAM\n",
      "922350   3.27689e-17\n",
      "Name: lambda, dtype: float64\n"
     ]
    }
   ],
   "source": [
    "series[zam] = series[zam]*(1+percentage)\n",
    "\n",
    "print(series)"
   ]
  },
  {
   "cell_type": "code",
   "execution_count": 11,
   "id": "9653aece",
   "metadata": {},
   "outputs": [
    {
     "name": "stdout",
     "output_type": "stream",
     "text": [
      "ZAM\n",
      "922350   2.22102e+16\n",
      "Name: T1/2, dtype: float64\n"
     ]
    }
   ],
   "source": [
    "halflive=sandy.DecayData.get_halflives(decay_data_instance)\n",
    "\n",
    "print(halflive)"
   ]
  },
  {
   "cell_type": "code",
   "execution_count": null,
   "id": "d625a37c",
   "metadata": {},
   "outputs": [],
   "source": [
    "#Method proposal -to endf6\n"
   ]
  },
  {
   "cell_type": "code",
   "execution_count": null,
   "id": "db07553e",
   "metadata": {},
   "outputs": [],
   "source": []
  }
 ],
 "metadata": {
  "kernelspec": {
   "display_name": "Python3 (sandy-devel)",
   "language": "python",
   "name": "sandy-devel"
  },
  "language_info": {
   "codemirror_mode": {
    "name": "ipython",
    "version": 3
   },
   "file_extension": ".py",
   "mimetype": "text/x-python",
   "name": "python",
   "nbconvert_exporter": "python",
   "pygments_lexer": "ipython3",
   "version": "3.7.12"
  }
 },
 "nbformat": 4,
 "nbformat_minor": 5
}
